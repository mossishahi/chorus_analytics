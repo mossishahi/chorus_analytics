{
 "cells": [
  {
   "cell_type": "markdown",
   "id": "480de09a-b0f0-4d1b-8856-f8c73eb7e4dd",
   "metadata": {},
   "source": [
    "# Chorus Analytics"
   ]
  },
  {
   "cell_type": "code",
   "execution_count": 1,
   "id": "fb042b96-b0ab-4d16-b9bc-414299c516dc",
   "metadata": {
    "tags": []
   },
   "outputs": [
    {
     "data": {
      "text/html": [
       "        <script type=\"text/javascript\">\n",
       "        window.PlotlyConfig = {MathJaxConfig: 'local'};\n",
       "        if (window.MathJax && window.MathJax.Hub && window.MathJax.Hub.Config) {window.MathJax.Hub.Config({SVG: {font: \"STIX-Web\"}});}\n",
       "        if (typeof require !== 'undefined') {\n",
       "        require.undef(\"plotly\");\n",
       "        requirejs.config({\n",
       "            paths: {\n",
       "                'plotly': ['https://cdn.plot.ly/plotly-2.24.1.min']\n",
       "            }\n",
       "        });\n",
       "        require(['plotly'], function(Plotly) {\n",
       "            window._Plotly = Plotly;\n",
       "        });\n",
       "        }\n",
       "        </script>\n",
       "        "
      ]
     },
     "metadata": {},
     "output_type": "display_data"
    }
   ],
   "source": [
    "import plotly\n",
    "import plotly.offline as pyo\n",
    "import plotly.graph_objs as go\n",
    "\n",
    "# Initialize plotly in offline mode\n",
    "plotly.offline.init_notebook_mode(connected=True)\n"
   ]
  },
  {
   "cell_type": "code",
   "execution_count": 2,
   "id": "c433b1ef-2b26-430c-98fd-25b8081e31e4",
   "metadata": {
    "tags": []
   },
   "outputs": [],
   "source": [
    "import pandas as pd\n",
    "import matplotlib.pyplot as plt\n",
    "import seaborn as sns\n",
    "from emojis import emojis\n",
    "import plotly.graph_objects as go\n",
    "import numpy as np\n",
    "import plotly.express as px\n",
    "import plotly.figure_factory as ff"
   ]
  },
  {
   "cell_type": "code",
   "execution_count": 3,
   "id": "81e4f20d-63bf-410d-8a87-3fb4c349d15b",
   "metadata": {
    "tags": []
   },
   "outputs": [],
   "source": [
    "data1 = pd.read_csv(\"../data/logs_05-23_19-11-48.csv\")\n",
    "data2 = pd.read_csv(\"../data/logs_05-23_19-12-15.csv\")\n",
    "data3 = pd.read_csv(\"../data/logs_05-23_19-12-35.csv\")\n",
    "data4 = pd.read_csv(\"../data/logs_05-23_19-13-23.csv\")"
   ]
  },
  {
   "cell_type": "markdown",
   "id": "716fe428-b6ec-4218-b34d-c9389832f8f4",
   "metadata": {},
   "source": [
    "## choose sample dataset"
   ]
  },
  {
   "cell_type": "code",
   "execution_count": 4,
   "id": "5a9f09cc-7bb5-4b23-bbb1-c17db4479340",
   "metadata": {
    "tags": []
   },
   "outputs": [],
   "source": [
    "data = data2"
   ]
  },
  {
   "cell_type": "code",
   "execution_count": 5,
   "id": "2e4d01a5-7afd-4594-9540-d3ea1121899d",
   "metadata": {
    "tags": []
   },
   "outputs": [],
   "source": [
    "data['time_label'] = pd.to_datetime(data.timestamp, unit = 'ms')\n",
    "data.set_index('time_label', inplace=True)"
   ]
  },
  {
   "cell_type": "code",
   "execution_count": 6,
   "id": "318b5438-7761-4da6-987c-26a4813f917e",
   "metadata": {
    "tags": []
   },
   "outputs": [],
   "source": [
    "category_counts = data['reaction'].astype('category').value_counts()\n",
    "# Get the labels and counts for the pie chart\n",
    "labels = category_counts.index.tolist()\n",
    "counts = category_counts.values.tolist()"
   ]
  },
  {
   "cell_type": "markdown",
   "id": "01ab9523-b669-44bd-978a-ede9780023de",
   "metadata": {},
   "source": [
    "# Plots"
   ]
  },
  {
   "cell_type": "markdown",
   "id": "6677febd-63d6-4b16-b8a7-a1cd5a44de1f",
   "metadata": {},
   "source": [
    "## Distribution of Reaction"
   ]
  },
  {
   "cell_type": "code",
   "execution_count": 7,
   "id": "7ae3588e-5885-4f42-933b-cdafb03f2783",
   "metadata": {
    "tags": []
   },
   "outputs": [
    {
     "data": {
      "application/vnd.plotly.v1+json": {
       "config": {
        "plotlyServerURL": "https://plot.ly"
       },
       "data": [
        {
         "labels": [
          "🙂",
          "👍",
          "👏",
          "🙄",
          "🙁",
          "👎",
          "😍",
          "😆"
         ],
         "type": "pie",
         "values": [
          341,
          119,
          76,
          29,
          15,
          14,
          3,
          1
         ]
        }
       ],
       "layout": {
        "template": {
         "data": {
          "bar": [
           {
            "error_x": {
             "color": "#2a3f5f"
            },
            "error_y": {
             "color": "#2a3f5f"
            },
            "marker": {
             "line": {
              "color": "#E5ECF6",
              "width": 0.5
             },
             "pattern": {
              "fillmode": "overlay",
              "size": 10,
              "solidity": 0.2
             }
            },
            "type": "bar"
           }
          ],
          "barpolar": [
           {
            "marker": {
             "line": {
              "color": "#E5ECF6",
              "width": 0.5
             },
             "pattern": {
              "fillmode": "overlay",
              "size": 10,
              "solidity": 0.2
             }
            },
            "type": "barpolar"
           }
          ],
          "carpet": [
           {
            "aaxis": {
             "endlinecolor": "#2a3f5f",
             "gridcolor": "white",
             "linecolor": "white",
             "minorgridcolor": "white",
             "startlinecolor": "#2a3f5f"
            },
            "baxis": {
             "endlinecolor": "#2a3f5f",
             "gridcolor": "white",
             "linecolor": "white",
             "minorgridcolor": "white",
             "startlinecolor": "#2a3f5f"
            },
            "type": "carpet"
           }
          ],
          "choropleth": [
           {
            "colorbar": {
             "outlinewidth": 0,
             "ticks": ""
            },
            "type": "choropleth"
           }
          ],
          "contour": [
           {
            "colorbar": {
             "outlinewidth": 0,
             "ticks": ""
            },
            "colorscale": [
             [
              0,
              "#0d0887"
             ],
             [
              0.1111111111111111,
              "#46039f"
             ],
             [
              0.2222222222222222,
              "#7201a8"
             ],
             [
              0.3333333333333333,
              "#9c179e"
             ],
             [
              0.4444444444444444,
              "#bd3786"
             ],
             [
              0.5555555555555556,
              "#d8576b"
             ],
             [
              0.6666666666666666,
              "#ed7953"
             ],
             [
              0.7777777777777778,
              "#fb9f3a"
             ],
             [
              0.8888888888888888,
              "#fdca26"
             ],
             [
              1,
              "#f0f921"
             ]
            ],
            "type": "contour"
           }
          ],
          "contourcarpet": [
           {
            "colorbar": {
             "outlinewidth": 0,
             "ticks": ""
            },
            "type": "contourcarpet"
           }
          ],
          "heatmap": [
           {
            "colorbar": {
             "outlinewidth": 0,
             "ticks": ""
            },
            "colorscale": [
             [
              0,
              "#0d0887"
             ],
             [
              0.1111111111111111,
              "#46039f"
             ],
             [
              0.2222222222222222,
              "#7201a8"
             ],
             [
              0.3333333333333333,
              "#9c179e"
             ],
             [
              0.4444444444444444,
              "#bd3786"
             ],
             [
              0.5555555555555556,
              "#d8576b"
             ],
             [
              0.6666666666666666,
              "#ed7953"
             ],
             [
              0.7777777777777778,
              "#fb9f3a"
             ],
             [
              0.8888888888888888,
              "#fdca26"
             ],
             [
              1,
              "#f0f921"
             ]
            ],
            "type": "heatmap"
           }
          ],
          "heatmapgl": [
           {
            "colorbar": {
             "outlinewidth": 0,
             "ticks": ""
            },
            "colorscale": [
             [
              0,
              "#0d0887"
             ],
             [
              0.1111111111111111,
              "#46039f"
             ],
             [
              0.2222222222222222,
              "#7201a8"
             ],
             [
              0.3333333333333333,
              "#9c179e"
             ],
             [
              0.4444444444444444,
              "#bd3786"
             ],
             [
              0.5555555555555556,
              "#d8576b"
             ],
             [
              0.6666666666666666,
              "#ed7953"
             ],
             [
              0.7777777777777778,
              "#fb9f3a"
             ],
             [
              0.8888888888888888,
              "#fdca26"
             ],
             [
              1,
              "#f0f921"
             ]
            ],
            "type": "heatmapgl"
           }
          ],
          "histogram": [
           {
            "marker": {
             "pattern": {
              "fillmode": "overlay",
              "size": 10,
              "solidity": 0.2
             }
            },
            "type": "histogram"
           }
          ],
          "histogram2d": [
           {
            "colorbar": {
             "outlinewidth": 0,
             "ticks": ""
            },
            "colorscale": [
             [
              0,
              "#0d0887"
             ],
             [
              0.1111111111111111,
              "#46039f"
             ],
             [
              0.2222222222222222,
              "#7201a8"
             ],
             [
              0.3333333333333333,
              "#9c179e"
             ],
             [
              0.4444444444444444,
              "#bd3786"
             ],
             [
              0.5555555555555556,
              "#d8576b"
             ],
             [
              0.6666666666666666,
              "#ed7953"
             ],
             [
              0.7777777777777778,
              "#fb9f3a"
             ],
             [
              0.8888888888888888,
              "#fdca26"
             ],
             [
              1,
              "#f0f921"
             ]
            ],
            "type": "histogram2d"
           }
          ],
          "histogram2dcontour": [
           {
            "colorbar": {
             "outlinewidth": 0,
             "ticks": ""
            },
            "colorscale": [
             [
              0,
              "#0d0887"
             ],
             [
              0.1111111111111111,
              "#46039f"
             ],
             [
              0.2222222222222222,
              "#7201a8"
             ],
             [
              0.3333333333333333,
              "#9c179e"
             ],
             [
              0.4444444444444444,
              "#bd3786"
             ],
             [
              0.5555555555555556,
              "#d8576b"
             ],
             [
              0.6666666666666666,
              "#ed7953"
             ],
             [
              0.7777777777777778,
              "#fb9f3a"
             ],
             [
              0.8888888888888888,
              "#fdca26"
             ],
             [
              1,
              "#f0f921"
             ]
            ],
            "type": "histogram2dcontour"
           }
          ],
          "mesh3d": [
           {
            "colorbar": {
             "outlinewidth": 0,
             "ticks": ""
            },
            "type": "mesh3d"
           }
          ],
          "parcoords": [
           {
            "line": {
             "colorbar": {
              "outlinewidth": 0,
              "ticks": ""
             }
            },
            "type": "parcoords"
           }
          ],
          "pie": [
           {
            "automargin": true,
            "type": "pie"
           }
          ],
          "scatter": [
           {
            "fillpattern": {
             "fillmode": "overlay",
             "size": 10,
             "solidity": 0.2
            },
            "type": "scatter"
           }
          ],
          "scatter3d": [
           {
            "line": {
             "colorbar": {
              "outlinewidth": 0,
              "ticks": ""
             }
            },
            "marker": {
             "colorbar": {
              "outlinewidth": 0,
              "ticks": ""
             }
            },
            "type": "scatter3d"
           }
          ],
          "scattercarpet": [
           {
            "marker": {
             "colorbar": {
              "outlinewidth": 0,
              "ticks": ""
             }
            },
            "type": "scattercarpet"
           }
          ],
          "scattergeo": [
           {
            "marker": {
             "colorbar": {
              "outlinewidth": 0,
              "ticks": ""
             }
            },
            "type": "scattergeo"
           }
          ],
          "scattergl": [
           {
            "marker": {
             "colorbar": {
              "outlinewidth": 0,
              "ticks": ""
             }
            },
            "type": "scattergl"
           }
          ],
          "scattermapbox": [
           {
            "marker": {
             "colorbar": {
              "outlinewidth": 0,
              "ticks": ""
             }
            },
            "type": "scattermapbox"
           }
          ],
          "scatterpolar": [
           {
            "marker": {
             "colorbar": {
              "outlinewidth": 0,
              "ticks": ""
             }
            },
            "type": "scatterpolar"
           }
          ],
          "scatterpolargl": [
           {
            "marker": {
             "colorbar": {
              "outlinewidth": 0,
              "ticks": ""
             }
            },
            "type": "scatterpolargl"
           }
          ],
          "scatterternary": [
           {
            "marker": {
             "colorbar": {
              "outlinewidth": 0,
              "ticks": ""
             }
            },
            "type": "scatterternary"
           }
          ],
          "surface": [
           {
            "colorbar": {
             "outlinewidth": 0,
             "ticks": ""
            },
            "colorscale": [
             [
              0,
              "#0d0887"
             ],
             [
              0.1111111111111111,
              "#46039f"
             ],
             [
              0.2222222222222222,
              "#7201a8"
             ],
             [
              0.3333333333333333,
              "#9c179e"
             ],
             [
              0.4444444444444444,
              "#bd3786"
             ],
             [
              0.5555555555555556,
              "#d8576b"
             ],
             [
              0.6666666666666666,
              "#ed7953"
             ],
             [
              0.7777777777777778,
              "#fb9f3a"
             ],
             [
              0.8888888888888888,
              "#fdca26"
             ],
             [
              1,
              "#f0f921"
             ]
            ],
            "type": "surface"
           }
          ],
          "table": [
           {
            "cells": {
             "fill": {
              "color": "#EBF0F8"
             },
             "line": {
              "color": "white"
             }
            },
            "header": {
             "fill": {
              "color": "#C8D4E3"
             },
             "line": {
              "color": "white"
             }
            },
            "type": "table"
           }
          ]
         },
         "layout": {
          "annotationdefaults": {
           "arrowcolor": "#2a3f5f",
           "arrowhead": 0,
           "arrowwidth": 1
          },
          "autotypenumbers": "strict",
          "coloraxis": {
           "colorbar": {
            "outlinewidth": 0,
            "ticks": ""
           }
          },
          "colorscale": {
           "diverging": [
            [
             0,
             "#8e0152"
            ],
            [
             0.1,
             "#c51b7d"
            ],
            [
             0.2,
             "#de77ae"
            ],
            [
             0.3,
             "#f1b6da"
            ],
            [
             0.4,
             "#fde0ef"
            ],
            [
             0.5,
             "#f7f7f7"
            ],
            [
             0.6,
             "#e6f5d0"
            ],
            [
             0.7,
             "#b8e186"
            ],
            [
             0.8,
             "#7fbc41"
            ],
            [
             0.9,
             "#4d9221"
            ],
            [
             1,
             "#276419"
            ]
           ],
           "sequential": [
            [
             0,
             "#0d0887"
            ],
            [
             0.1111111111111111,
             "#46039f"
            ],
            [
             0.2222222222222222,
             "#7201a8"
            ],
            [
             0.3333333333333333,
             "#9c179e"
            ],
            [
             0.4444444444444444,
             "#bd3786"
            ],
            [
             0.5555555555555556,
             "#d8576b"
            ],
            [
             0.6666666666666666,
             "#ed7953"
            ],
            [
             0.7777777777777778,
             "#fb9f3a"
            ],
            [
             0.8888888888888888,
             "#fdca26"
            ],
            [
             1,
             "#f0f921"
            ]
           ],
           "sequentialminus": [
            [
             0,
             "#0d0887"
            ],
            [
             0.1111111111111111,
             "#46039f"
            ],
            [
             0.2222222222222222,
             "#7201a8"
            ],
            [
             0.3333333333333333,
             "#9c179e"
            ],
            [
             0.4444444444444444,
             "#bd3786"
            ],
            [
             0.5555555555555556,
             "#d8576b"
            ],
            [
             0.6666666666666666,
             "#ed7953"
            ],
            [
             0.7777777777777778,
             "#fb9f3a"
            ],
            [
             0.8888888888888888,
             "#fdca26"
            ],
            [
             1,
             "#f0f921"
            ]
           ]
          },
          "colorway": [
           "#636efa",
           "#EF553B",
           "#00cc96",
           "#ab63fa",
           "#FFA15A",
           "#19d3f3",
           "#FF6692",
           "#B6E880",
           "#FF97FF",
           "#FECB52"
          ],
          "font": {
           "color": "#2a3f5f"
          },
          "geo": {
           "bgcolor": "white",
           "lakecolor": "white",
           "landcolor": "#E5ECF6",
           "showlakes": true,
           "showland": true,
           "subunitcolor": "white"
          },
          "hoverlabel": {
           "align": "left"
          },
          "hovermode": "closest",
          "mapbox": {
           "style": "light"
          },
          "paper_bgcolor": "white",
          "plot_bgcolor": "#E5ECF6",
          "polar": {
           "angularaxis": {
            "gridcolor": "white",
            "linecolor": "white",
            "ticks": ""
           },
           "bgcolor": "#E5ECF6",
           "radialaxis": {
            "gridcolor": "white",
            "linecolor": "white",
            "ticks": ""
           }
          },
          "scene": {
           "xaxis": {
            "backgroundcolor": "#E5ECF6",
            "gridcolor": "white",
            "gridwidth": 2,
            "linecolor": "white",
            "showbackground": true,
            "ticks": "",
            "zerolinecolor": "white"
           },
           "yaxis": {
            "backgroundcolor": "#E5ECF6",
            "gridcolor": "white",
            "gridwidth": 2,
            "linecolor": "white",
            "showbackground": true,
            "ticks": "",
            "zerolinecolor": "white"
           },
           "zaxis": {
            "backgroundcolor": "#E5ECF6",
            "gridcolor": "white",
            "gridwidth": 2,
            "linecolor": "white",
            "showbackground": true,
            "ticks": "",
            "zerolinecolor": "white"
           }
          },
          "shapedefaults": {
           "line": {
            "color": "#2a3f5f"
           }
          },
          "ternary": {
           "aaxis": {
            "gridcolor": "white",
            "linecolor": "white",
            "ticks": ""
           },
           "baxis": {
            "gridcolor": "white",
            "linecolor": "white",
            "ticks": ""
           },
           "bgcolor": "#E5ECF6",
           "caxis": {
            "gridcolor": "white",
            "linecolor": "white",
            "ticks": ""
           }
          },
          "title": {
           "x": 0.05
          },
          "xaxis": {
           "automargin": true,
           "gridcolor": "white",
           "linecolor": "white",
           "ticks": "",
           "title": {
            "standoff": 15
           },
           "zerolinecolor": "white",
           "zerolinewidth": 2
          },
          "yaxis": {
           "automargin": true,
           "gridcolor": "white",
           "linecolor": "white",
           "ticks": "",
           "title": {
            "standoff": 15
           },
           "zerolinecolor": "white",
           "zerolinewidth": 2
          }
         }
        }
       }
      },
      "text/html": [
       "<div>                            <div id=\"b1a9e000-5726-42cc-af60-6a8f31154103\" class=\"plotly-graph-div\" style=\"height:525px; width:100%;\"></div>            <script type=\"text/javascript\">                require([\"plotly\"], function(Plotly) {                    window.PLOTLYENV=window.PLOTLYENV || {};                                    if (document.getElementById(\"b1a9e000-5726-42cc-af60-6a8f31154103\")) {                    Plotly.newPlot(                        \"b1a9e000-5726-42cc-af60-6a8f31154103\",                        [{\"labels\":[\"\\ud83d\\ude42\",\"\\ud83d\\udc4d\",\"\\ud83d\\udc4f\",\"\\ud83d\\ude44\",\"\\ud83d\\ude41\",\"\\ud83d\\udc4e\",\"\\ud83d\\ude0d\",\"\\ud83d\\ude06\"],\"values\":[341,119,76,29,15,14,3,1],\"type\":\"pie\"}],                        {\"template\":{\"data\":{\"histogram2dcontour\":[{\"type\":\"histogram2dcontour\",\"colorbar\":{\"outlinewidth\":0,\"ticks\":\"\"},\"colorscale\":[[0.0,\"#0d0887\"],[0.1111111111111111,\"#46039f\"],[0.2222222222222222,\"#7201a8\"],[0.3333333333333333,\"#9c179e\"],[0.4444444444444444,\"#bd3786\"],[0.5555555555555556,\"#d8576b\"],[0.6666666666666666,\"#ed7953\"],[0.7777777777777778,\"#fb9f3a\"],[0.8888888888888888,\"#fdca26\"],[1.0,\"#f0f921\"]]}],\"choropleth\":[{\"type\":\"choropleth\",\"colorbar\":{\"outlinewidth\":0,\"ticks\":\"\"}}],\"histogram2d\":[{\"type\":\"histogram2d\",\"colorbar\":{\"outlinewidth\":0,\"ticks\":\"\"},\"colorscale\":[[0.0,\"#0d0887\"],[0.1111111111111111,\"#46039f\"],[0.2222222222222222,\"#7201a8\"],[0.3333333333333333,\"#9c179e\"],[0.4444444444444444,\"#bd3786\"],[0.5555555555555556,\"#d8576b\"],[0.6666666666666666,\"#ed7953\"],[0.7777777777777778,\"#fb9f3a\"],[0.8888888888888888,\"#fdca26\"],[1.0,\"#f0f921\"]]}],\"heatmap\":[{\"type\":\"heatmap\",\"colorbar\":{\"outlinewidth\":0,\"ticks\":\"\"},\"colorscale\":[[0.0,\"#0d0887\"],[0.1111111111111111,\"#46039f\"],[0.2222222222222222,\"#7201a8\"],[0.3333333333333333,\"#9c179e\"],[0.4444444444444444,\"#bd3786\"],[0.5555555555555556,\"#d8576b\"],[0.6666666666666666,\"#ed7953\"],[0.7777777777777778,\"#fb9f3a\"],[0.8888888888888888,\"#fdca26\"],[1.0,\"#f0f921\"]]}],\"heatmapgl\":[{\"type\":\"heatmapgl\",\"colorbar\":{\"outlinewidth\":0,\"ticks\":\"\"},\"colorscale\":[[0.0,\"#0d0887\"],[0.1111111111111111,\"#46039f\"],[0.2222222222222222,\"#7201a8\"],[0.3333333333333333,\"#9c179e\"],[0.4444444444444444,\"#bd3786\"],[0.5555555555555556,\"#d8576b\"],[0.6666666666666666,\"#ed7953\"],[0.7777777777777778,\"#fb9f3a\"],[0.8888888888888888,\"#fdca26\"],[1.0,\"#f0f921\"]]}],\"contourcarpet\":[{\"type\":\"contourcarpet\",\"colorbar\":{\"outlinewidth\":0,\"ticks\":\"\"}}],\"contour\":[{\"type\":\"contour\",\"colorbar\":{\"outlinewidth\":0,\"ticks\":\"\"},\"colorscale\":[[0.0,\"#0d0887\"],[0.1111111111111111,\"#46039f\"],[0.2222222222222222,\"#7201a8\"],[0.3333333333333333,\"#9c179e\"],[0.4444444444444444,\"#bd3786\"],[0.5555555555555556,\"#d8576b\"],[0.6666666666666666,\"#ed7953\"],[0.7777777777777778,\"#fb9f3a\"],[0.8888888888888888,\"#fdca26\"],[1.0,\"#f0f921\"]]}],\"surface\":[{\"type\":\"surface\",\"colorbar\":{\"outlinewidth\":0,\"ticks\":\"\"},\"colorscale\":[[0.0,\"#0d0887\"],[0.1111111111111111,\"#46039f\"],[0.2222222222222222,\"#7201a8\"],[0.3333333333333333,\"#9c179e\"],[0.4444444444444444,\"#bd3786\"],[0.5555555555555556,\"#d8576b\"],[0.6666666666666666,\"#ed7953\"],[0.7777777777777778,\"#fb9f3a\"],[0.8888888888888888,\"#fdca26\"],[1.0,\"#f0f921\"]]}],\"mesh3d\":[{\"type\":\"mesh3d\",\"colorbar\":{\"outlinewidth\":0,\"ticks\":\"\"}}],\"scatter\":[{\"fillpattern\":{\"fillmode\":\"overlay\",\"size\":10,\"solidity\":0.2},\"type\":\"scatter\"}],\"parcoords\":[{\"type\":\"parcoords\",\"line\":{\"colorbar\":{\"outlinewidth\":0,\"ticks\":\"\"}}}],\"scatterpolargl\":[{\"type\":\"scatterpolargl\",\"marker\":{\"colorbar\":{\"outlinewidth\":0,\"ticks\":\"\"}}}],\"bar\":[{\"error_x\":{\"color\":\"#2a3f5f\"},\"error_y\":{\"color\":\"#2a3f5f\"},\"marker\":{\"line\":{\"color\":\"#E5ECF6\",\"width\":0.5},\"pattern\":{\"fillmode\":\"overlay\",\"size\":10,\"solidity\":0.2}},\"type\":\"bar\"}],\"scattergeo\":[{\"type\":\"scattergeo\",\"marker\":{\"colorbar\":{\"outlinewidth\":0,\"ticks\":\"\"}}}],\"scatterpolar\":[{\"type\":\"scatterpolar\",\"marker\":{\"colorbar\":{\"outlinewidth\":0,\"ticks\":\"\"}}}],\"histogram\":[{\"marker\":{\"pattern\":{\"fillmode\":\"overlay\",\"size\":10,\"solidity\":0.2}},\"type\":\"histogram\"}],\"scattergl\":[{\"type\":\"scattergl\",\"marker\":{\"colorbar\":{\"outlinewidth\":0,\"ticks\":\"\"}}}],\"scatter3d\":[{\"type\":\"scatter3d\",\"line\":{\"colorbar\":{\"outlinewidth\":0,\"ticks\":\"\"}},\"marker\":{\"colorbar\":{\"outlinewidth\":0,\"ticks\":\"\"}}}],\"scattermapbox\":[{\"type\":\"scattermapbox\",\"marker\":{\"colorbar\":{\"outlinewidth\":0,\"ticks\":\"\"}}}],\"scatterternary\":[{\"type\":\"scatterternary\",\"marker\":{\"colorbar\":{\"outlinewidth\":0,\"ticks\":\"\"}}}],\"scattercarpet\":[{\"type\":\"scattercarpet\",\"marker\":{\"colorbar\":{\"outlinewidth\":0,\"ticks\":\"\"}}}],\"carpet\":[{\"aaxis\":{\"endlinecolor\":\"#2a3f5f\",\"gridcolor\":\"white\",\"linecolor\":\"white\",\"minorgridcolor\":\"white\",\"startlinecolor\":\"#2a3f5f\"},\"baxis\":{\"endlinecolor\":\"#2a3f5f\",\"gridcolor\":\"white\",\"linecolor\":\"white\",\"minorgridcolor\":\"white\",\"startlinecolor\":\"#2a3f5f\"},\"type\":\"carpet\"}],\"table\":[{\"cells\":{\"fill\":{\"color\":\"#EBF0F8\"},\"line\":{\"color\":\"white\"}},\"header\":{\"fill\":{\"color\":\"#C8D4E3\"},\"line\":{\"color\":\"white\"}},\"type\":\"table\"}],\"barpolar\":[{\"marker\":{\"line\":{\"color\":\"#E5ECF6\",\"width\":0.5},\"pattern\":{\"fillmode\":\"overlay\",\"size\":10,\"solidity\":0.2}},\"type\":\"barpolar\"}],\"pie\":[{\"automargin\":true,\"type\":\"pie\"}]},\"layout\":{\"autotypenumbers\":\"strict\",\"colorway\":[\"#636efa\",\"#EF553B\",\"#00cc96\",\"#ab63fa\",\"#FFA15A\",\"#19d3f3\",\"#FF6692\",\"#B6E880\",\"#FF97FF\",\"#FECB52\"],\"font\":{\"color\":\"#2a3f5f\"},\"hovermode\":\"closest\",\"hoverlabel\":{\"align\":\"left\"},\"paper_bgcolor\":\"white\",\"plot_bgcolor\":\"#E5ECF6\",\"polar\":{\"bgcolor\":\"#E5ECF6\",\"angularaxis\":{\"gridcolor\":\"white\",\"linecolor\":\"white\",\"ticks\":\"\"},\"radialaxis\":{\"gridcolor\":\"white\",\"linecolor\":\"white\",\"ticks\":\"\"}},\"ternary\":{\"bgcolor\":\"#E5ECF6\",\"aaxis\":{\"gridcolor\":\"white\",\"linecolor\":\"white\",\"ticks\":\"\"},\"baxis\":{\"gridcolor\":\"white\",\"linecolor\":\"white\",\"ticks\":\"\"},\"caxis\":{\"gridcolor\":\"white\",\"linecolor\":\"white\",\"ticks\":\"\"}},\"coloraxis\":{\"colorbar\":{\"outlinewidth\":0,\"ticks\":\"\"}},\"colorscale\":{\"sequential\":[[0.0,\"#0d0887\"],[0.1111111111111111,\"#46039f\"],[0.2222222222222222,\"#7201a8\"],[0.3333333333333333,\"#9c179e\"],[0.4444444444444444,\"#bd3786\"],[0.5555555555555556,\"#d8576b\"],[0.6666666666666666,\"#ed7953\"],[0.7777777777777778,\"#fb9f3a\"],[0.8888888888888888,\"#fdca26\"],[1.0,\"#f0f921\"]],\"sequentialminus\":[[0.0,\"#0d0887\"],[0.1111111111111111,\"#46039f\"],[0.2222222222222222,\"#7201a8\"],[0.3333333333333333,\"#9c179e\"],[0.4444444444444444,\"#bd3786\"],[0.5555555555555556,\"#d8576b\"],[0.6666666666666666,\"#ed7953\"],[0.7777777777777778,\"#fb9f3a\"],[0.8888888888888888,\"#fdca26\"],[1.0,\"#f0f921\"]],\"diverging\":[[0,\"#8e0152\"],[0.1,\"#c51b7d\"],[0.2,\"#de77ae\"],[0.3,\"#f1b6da\"],[0.4,\"#fde0ef\"],[0.5,\"#f7f7f7\"],[0.6,\"#e6f5d0\"],[0.7,\"#b8e186\"],[0.8,\"#7fbc41\"],[0.9,\"#4d9221\"],[1,\"#276419\"]]},\"xaxis\":{\"gridcolor\":\"white\",\"linecolor\":\"white\",\"ticks\":\"\",\"title\":{\"standoff\":15},\"zerolinecolor\":\"white\",\"automargin\":true,\"zerolinewidth\":2},\"yaxis\":{\"gridcolor\":\"white\",\"linecolor\":\"white\",\"ticks\":\"\",\"title\":{\"standoff\":15},\"zerolinecolor\":\"white\",\"automargin\":true,\"zerolinewidth\":2},\"scene\":{\"xaxis\":{\"backgroundcolor\":\"#E5ECF6\",\"gridcolor\":\"white\",\"linecolor\":\"white\",\"showbackground\":true,\"ticks\":\"\",\"zerolinecolor\":\"white\",\"gridwidth\":2},\"yaxis\":{\"backgroundcolor\":\"#E5ECF6\",\"gridcolor\":\"white\",\"linecolor\":\"white\",\"showbackground\":true,\"ticks\":\"\",\"zerolinecolor\":\"white\",\"gridwidth\":2},\"zaxis\":{\"backgroundcolor\":\"#E5ECF6\",\"gridcolor\":\"white\",\"linecolor\":\"white\",\"showbackground\":true,\"ticks\":\"\",\"zerolinecolor\":\"white\",\"gridwidth\":2}},\"shapedefaults\":{\"line\":{\"color\":\"#2a3f5f\"}},\"annotationdefaults\":{\"arrowcolor\":\"#2a3f5f\",\"arrowhead\":0,\"arrowwidth\":1},\"geo\":{\"bgcolor\":\"white\",\"landcolor\":\"#E5ECF6\",\"subunitcolor\":\"white\",\"showland\":true,\"showlakes\":true,\"lakecolor\":\"white\"},\"title\":{\"x\":0.05},\"mapbox\":{\"style\":\"light\"}}}},                        {\"responsive\": true}                    ).then(function(){\n",
       "                            \n",
       "var gd = document.getElementById('b1a9e000-5726-42cc-af60-6a8f31154103');\n",
       "var x = new MutationObserver(function (mutations, observer) {{\n",
       "        var display = window.getComputedStyle(gd).display;\n",
       "        if (!display || display === 'none') {{\n",
       "            console.log([gd, 'removed!']);\n",
       "            Plotly.purge(gd);\n",
       "            observer.disconnect();\n",
       "        }}\n",
       "}});\n",
       "\n",
       "// Listen for the removal of the full notebook cells\n",
       "var notebookContainer = gd.closest('#notebook-container');\n",
       "if (notebookContainer) {{\n",
       "    x.observe(notebookContainer, {childList: true});\n",
       "}}\n",
       "\n",
       "// Listen for the clearing of the current output cell\n",
       "var outputEl = gd.closest('.output');\n",
       "if (outputEl) {{\n",
       "    x.observe(outputEl, {childList: true});\n",
       "}}\n",
       "\n",
       "                        })                };                });            </script>        </div>"
      ]
     },
     "metadata": {},
     "output_type": "display_data"
    }
   ],
   "source": [
    "fig = go.Figure(data=[go.Pie(labels=labels, values=counts)])\n",
    "fig.show()\n",
    "fig.write_image(\"pie_chart.png\")"
   ]
  },
  {
   "cell_type": "markdown",
   "id": "48ae9b5b-ae3f-4384-a273-3e9f9d2e3d07",
   "metadata": {},
   "source": [
    "# Distribution of Reaction numbers for all clients"
   ]
  },
  {
   "cell_type": "code",
   "execution_count": 8,
   "id": "d3d0e334-c8a3-4f09-9217-0cfc2fd8852a",
   "metadata": {
    "tags": []
   },
   "outputs": [
    {
     "data": {
      "application/vnd.plotly.v1+json": {
       "config": {
        "plotlyServerURL": "https://plot.ly"
       },
       "data": [
        {
         "type": "box",
         "x": [
          77,
          67,
          64,
          55,
          25,
          24,
          21,
          17,
          14,
          14,
          13,
          12,
          8,
          8,
          6,
          6,
          6,
          6,
          5,
          4,
          4,
          4,
          4,
          3,
          3,
          3,
          3,
          3,
          3,
          3,
          3,
          3,
          3,
          3,
          3,
          3,
          3,
          2,
          2,
          2,
          2,
          2,
          2,
          2,
          2,
          2,
          2,
          2,
          2,
          2,
          2,
          2,
          2,
          2,
          1,
          1,
          1,
          1,
          1,
          1,
          1,
          1,
          1,
          1,
          1,
          1,
          1,
          1,
          1,
          1,
          1,
          1,
          1,
          1,
          1,
          1,
          1,
          1,
          1,
          1,
          1,
          1,
          1,
          1,
          1,
          1,
          1,
          1,
          1,
          1,
          1,
          1,
          1,
          1,
          1,
          1,
          1,
          1,
          1,
          1,
          1,
          1,
          1,
          1,
          1,
          1,
          1,
          1,
          1,
          1,
          1,
          1
         ]
        }
       ],
       "layout": {
        "template": {
         "data": {
          "bar": [
           {
            "error_x": {
             "color": "#2a3f5f"
            },
            "error_y": {
             "color": "#2a3f5f"
            },
            "marker": {
             "line": {
              "color": "#E5ECF6",
              "width": 0.5
             },
             "pattern": {
              "fillmode": "overlay",
              "size": 10,
              "solidity": 0.2
             }
            },
            "type": "bar"
           }
          ],
          "barpolar": [
           {
            "marker": {
             "line": {
              "color": "#E5ECF6",
              "width": 0.5
             },
             "pattern": {
              "fillmode": "overlay",
              "size": 10,
              "solidity": 0.2
             }
            },
            "type": "barpolar"
           }
          ],
          "carpet": [
           {
            "aaxis": {
             "endlinecolor": "#2a3f5f",
             "gridcolor": "white",
             "linecolor": "white",
             "minorgridcolor": "white",
             "startlinecolor": "#2a3f5f"
            },
            "baxis": {
             "endlinecolor": "#2a3f5f",
             "gridcolor": "white",
             "linecolor": "white",
             "minorgridcolor": "white",
             "startlinecolor": "#2a3f5f"
            },
            "type": "carpet"
           }
          ],
          "choropleth": [
           {
            "colorbar": {
             "outlinewidth": 0,
             "ticks": ""
            },
            "type": "choropleth"
           }
          ],
          "contour": [
           {
            "colorbar": {
             "outlinewidth": 0,
             "ticks": ""
            },
            "colorscale": [
             [
              0,
              "#0d0887"
             ],
             [
              0.1111111111111111,
              "#46039f"
             ],
             [
              0.2222222222222222,
              "#7201a8"
             ],
             [
              0.3333333333333333,
              "#9c179e"
             ],
             [
              0.4444444444444444,
              "#bd3786"
             ],
             [
              0.5555555555555556,
              "#d8576b"
             ],
             [
              0.6666666666666666,
              "#ed7953"
             ],
             [
              0.7777777777777778,
              "#fb9f3a"
             ],
             [
              0.8888888888888888,
              "#fdca26"
             ],
             [
              1,
              "#f0f921"
             ]
            ],
            "type": "contour"
           }
          ],
          "contourcarpet": [
           {
            "colorbar": {
             "outlinewidth": 0,
             "ticks": ""
            },
            "type": "contourcarpet"
           }
          ],
          "heatmap": [
           {
            "colorbar": {
             "outlinewidth": 0,
             "ticks": ""
            },
            "colorscale": [
             [
              0,
              "#0d0887"
             ],
             [
              0.1111111111111111,
              "#46039f"
             ],
             [
              0.2222222222222222,
              "#7201a8"
             ],
             [
              0.3333333333333333,
              "#9c179e"
             ],
             [
              0.4444444444444444,
              "#bd3786"
             ],
             [
              0.5555555555555556,
              "#d8576b"
             ],
             [
              0.6666666666666666,
              "#ed7953"
             ],
             [
              0.7777777777777778,
              "#fb9f3a"
             ],
             [
              0.8888888888888888,
              "#fdca26"
             ],
             [
              1,
              "#f0f921"
             ]
            ],
            "type": "heatmap"
           }
          ],
          "heatmapgl": [
           {
            "colorbar": {
             "outlinewidth": 0,
             "ticks": ""
            },
            "colorscale": [
             [
              0,
              "#0d0887"
             ],
             [
              0.1111111111111111,
              "#46039f"
             ],
             [
              0.2222222222222222,
              "#7201a8"
             ],
             [
              0.3333333333333333,
              "#9c179e"
             ],
             [
              0.4444444444444444,
              "#bd3786"
             ],
             [
              0.5555555555555556,
              "#d8576b"
             ],
             [
              0.6666666666666666,
              "#ed7953"
             ],
             [
              0.7777777777777778,
              "#fb9f3a"
             ],
             [
              0.8888888888888888,
              "#fdca26"
             ],
             [
              1,
              "#f0f921"
             ]
            ],
            "type": "heatmapgl"
           }
          ],
          "histogram": [
           {
            "marker": {
             "pattern": {
              "fillmode": "overlay",
              "size": 10,
              "solidity": 0.2
             }
            },
            "type": "histogram"
           }
          ],
          "histogram2d": [
           {
            "colorbar": {
             "outlinewidth": 0,
             "ticks": ""
            },
            "colorscale": [
             [
              0,
              "#0d0887"
             ],
             [
              0.1111111111111111,
              "#46039f"
             ],
             [
              0.2222222222222222,
              "#7201a8"
             ],
             [
              0.3333333333333333,
              "#9c179e"
             ],
             [
              0.4444444444444444,
              "#bd3786"
             ],
             [
              0.5555555555555556,
              "#d8576b"
             ],
             [
              0.6666666666666666,
              "#ed7953"
             ],
             [
              0.7777777777777778,
              "#fb9f3a"
             ],
             [
              0.8888888888888888,
              "#fdca26"
             ],
             [
              1,
              "#f0f921"
             ]
            ],
            "type": "histogram2d"
           }
          ],
          "histogram2dcontour": [
           {
            "colorbar": {
             "outlinewidth": 0,
             "ticks": ""
            },
            "colorscale": [
             [
              0,
              "#0d0887"
             ],
             [
              0.1111111111111111,
              "#46039f"
             ],
             [
              0.2222222222222222,
              "#7201a8"
             ],
             [
              0.3333333333333333,
              "#9c179e"
             ],
             [
              0.4444444444444444,
              "#bd3786"
             ],
             [
              0.5555555555555556,
              "#d8576b"
             ],
             [
              0.6666666666666666,
              "#ed7953"
             ],
             [
              0.7777777777777778,
              "#fb9f3a"
             ],
             [
              0.8888888888888888,
              "#fdca26"
             ],
             [
              1,
              "#f0f921"
             ]
            ],
            "type": "histogram2dcontour"
           }
          ],
          "mesh3d": [
           {
            "colorbar": {
             "outlinewidth": 0,
             "ticks": ""
            },
            "type": "mesh3d"
           }
          ],
          "parcoords": [
           {
            "line": {
             "colorbar": {
              "outlinewidth": 0,
              "ticks": ""
             }
            },
            "type": "parcoords"
           }
          ],
          "pie": [
           {
            "automargin": true,
            "type": "pie"
           }
          ],
          "scatter": [
           {
            "fillpattern": {
             "fillmode": "overlay",
             "size": 10,
             "solidity": 0.2
            },
            "type": "scatter"
           }
          ],
          "scatter3d": [
           {
            "line": {
             "colorbar": {
              "outlinewidth": 0,
              "ticks": ""
             }
            },
            "marker": {
             "colorbar": {
              "outlinewidth": 0,
              "ticks": ""
             }
            },
            "type": "scatter3d"
           }
          ],
          "scattercarpet": [
           {
            "marker": {
             "colorbar": {
              "outlinewidth": 0,
              "ticks": ""
             }
            },
            "type": "scattercarpet"
           }
          ],
          "scattergeo": [
           {
            "marker": {
             "colorbar": {
              "outlinewidth": 0,
              "ticks": ""
             }
            },
            "type": "scattergeo"
           }
          ],
          "scattergl": [
           {
            "marker": {
             "colorbar": {
              "outlinewidth": 0,
              "ticks": ""
             }
            },
            "type": "scattergl"
           }
          ],
          "scattermapbox": [
           {
            "marker": {
             "colorbar": {
              "outlinewidth": 0,
              "ticks": ""
             }
            },
            "type": "scattermapbox"
           }
          ],
          "scatterpolar": [
           {
            "marker": {
             "colorbar": {
              "outlinewidth": 0,
              "ticks": ""
             }
            },
            "type": "scatterpolar"
           }
          ],
          "scatterpolargl": [
           {
            "marker": {
             "colorbar": {
              "outlinewidth": 0,
              "ticks": ""
             }
            },
            "type": "scatterpolargl"
           }
          ],
          "scatterternary": [
           {
            "marker": {
             "colorbar": {
              "outlinewidth": 0,
              "ticks": ""
             }
            },
            "type": "scatterternary"
           }
          ],
          "surface": [
           {
            "colorbar": {
             "outlinewidth": 0,
             "ticks": ""
            },
            "colorscale": [
             [
              0,
              "#0d0887"
             ],
             [
              0.1111111111111111,
              "#46039f"
             ],
             [
              0.2222222222222222,
              "#7201a8"
             ],
             [
              0.3333333333333333,
              "#9c179e"
             ],
             [
              0.4444444444444444,
              "#bd3786"
             ],
             [
              0.5555555555555556,
              "#d8576b"
             ],
             [
              0.6666666666666666,
              "#ed7953"
             ],
             [
              0.7777777777777778,
              "#fb9f3a"
             ],
             [
              0.8888888888888888,
              "#fdca26"
             ],
             [
              1,
              "#f0f921"
             ]
            ],
            "type": "surface"
           }
          ],
          "table": [
           {
            "cells": {
             "fill": {
              "color": "#EBF0F8"
             },
             "line": {
              "color": "white"
             }
            },
            "header": {
             "fill": {
              "color": "#C8D4E3"
             },
             "line": {
              "color": "white"
             }
            },
            "type": "table"
           }
          ]
         },
         "layout": {
          "annotationdefaults": {
           "arrowcolor": "#2a3f5f",
           "arrowhead": 0,
           "arrowwidth": 1
          },
          "autotypenumbers": "strict",
          "coloraxis": {
           "colorbar": {
            "outlinewidth": 0,
            "ticks": ""
           }
          },
          "colorscale": {
           "diverging": [
            [
             0,
             "#8e0152"
            ],
            [
             0.1,
             "#c51b7d"
            ],
            [
             0.2,
             "#de77ae"
            ],
            [
             0.3,
             "#f1b6da"
            ],
            [
             0.4,
             "#fde0ef"
            ],
            [
             0.5,
             "#f7f7f7"
            ],
            [
             0.6,
             "#e6f5d0"
            ],
            [
             0.7,
             "#b8e186"
            ],
            [
             0.8,
             "#7fbc41"
            ],
            [
             0.9,
             "#4d9221"
            ],
            [
             1,
             "#276419"
            ]
           ],
           "sequential": [
            [
             0,
             "#0d0887"
            ],
            [
             0.1111111111111111,
             "#46039f"
            ],
            [
             0.2222222222222222,
             "#7201a8"
            ],
            [
             0.3333333333333333,
             "#9c179e"
            ],
            [
             0.4444444444444444,
             "#bd3786"
            ],
            [
             0.5555555555555556,
             "#d8576b"
            ],
            [
             0.6666666666666666,
             "#ed7953"
            ],
            [
             0.7777777777777778,
             "#fb9f3a"
            ],
            [
             0.8888888888888888,
             "#fdca26"
            ],
            [
             1,
             "#f0f921"
            ]
           ],
           "sequentialminus": [
            [
             0,
             "#0d0887"
            ],
            [
             0.1111111111111111,
             "#46039f"
            ],
            [
             0.2222222222222222,
             "#7201a8"
            ],
            [
             0.3333333333333333,
             "#9c179e"
            ],
            [
             0.4444444444444444,
             "#bd3786"
            ],
            [
             0.5555555555555556,
             "#d8576b"
            ],
            [
             0.6666666666666666,
             "#ed7953"
            ],
            [
             0.7777777777777778,
             "#fb9f3a"
            ],
            [
             0.8888888888888888,
             "#fdca26"
            ],
            [
             1,
             "#f0f921"
            ]
           ]
          },
          "colorway": [
           "#636efa",
           "#EF553B",
           "#00cc96",
           "#ab63fa",
           "#FFA15A",
           "#19d3f3",
           "#FF6692",
           "#B6E880",
           "#FF97FF",
           "#FECB52"
          ],
          "font": {
           "color": "#2a3f5f"
          },
          "geo": {
           "bgcolor": "white",
           "lakecolor": "white",
           "landcolor": "#E5ECF6",
           "showlakes": true,
           "showland": true,
           "subunitcolor": "white"
          },
          "hoverlabel": {
           "align": "left"
          },
          "hovermode": "closest",
          "mapbox": {
           "style": "light"
          },
          "paper_bgcolor": "white",
          "plot_bgcolor": "#E5ECF6",
          "polar": {
           "angularaxis": {
            "gridcolor": "white",
            "linecolor": "white",
            "ticks": ""
           },
           "bgcolor": "#E5ECF6",
           "radialaxis": {
            "gridcolor": "white",
            "linecolor": "white",
            "ticks": ""
           }
          },
          "scene": {
           "xaxis": {
            "backgroundcolor": "#E5ECF6",
            "gridcolor": "white",
            "gridwidth": 2,
            "linecolor": "white",
            "showbackground": true,
            "ticks": "",
            "zerolinecolor": "white"
           },
           "yaxis": {
            "backgroundcolor": "#E5ECF6",
            "gridcolor": "white",
            "gridwidth": 2,
            "linecolor": "white",
            "showbackground": true,
            "ticks": "",
            "zerolinecolor": "white"
           },
           "zaxis": {
            "backgroundcolor": "#E5ECF6",
            "gridcolor": "white",
            "gridwidth": 2,
            "linecolor": "white",
            "showbackground": true,
            "ticks": "",
            "zerolinecolor": "white"
           }
          },
          "shapedefaults": {
           "line": {
            "color": "#2a3f5f"
           }
          },
          "ternary": {
           "aaxis": {
            "gridcolor": "white",
            "linecolor": "white",
            "ticks": ""
           },
           "baxis": {
            "gridcolor": "white",
            "linecolor": "white",
            "ticks": ""
           },
           "bgcolor": "#E5ECF6",
           "caxis": {
            "gridcolor": "white",
            "linecolor": "white",
            "ticks": ""
           }
          },
          "title": {
           "x": 0.05
          },
          "xaxis": {
           "automargin": true,
           "gridcolor": "white",
           "linecolor": "white",
           "ticks": "",
           "title": {
            "standoff": 15
           },
           "zerolinecolor": "white",
           "zerolinewidth": 2
          },
          "yaxis": {
           "automargin": true,
           "gridcolor": "white",
           "linecolor": "white",
           "ticks": "",
           "title": {
            "standoff": 15
           },
           "zerolinecolor": "white",
           "zerolinewidth": 2
          }
         }
        }
       }
      },
      "text/html": [
       "<div>                            <div id=\"0a140c16-14fe-4bbb-9e52-85b8be20b2c3\" class=\"plotly-graph-div\" style=\"height:525px; width:100%;\"></div>            <script type=\"text/javascript\">                require([\"plotly\"], function(Plotly) {                    window.PLOTLYENV=window.PLOTLYENV || {};                                    if (document.getElementById(\"0a140c16-14fe-4bbb-9e52-85b8be20b2c3\")) {                    Plotly.newPlot(                        \"0a140c16-14fe-4bbb-9e52-85b8be20b2c3\",                        [{\"x\":[77,67,64,55,25,24,21,17,14,14,13,12,8,8,6,6,6,6,5,4,4,4,4,3,3,3,3,3,3,3,3,3,3,3,3,3,3,2,2,2,2,2,2,2,2,2,2,2,2,2,2,2,2,2,1,1,1,1,1,1,1,1,1,1,1,1,1,1,1,1,1,1,1,1,1,1,1,1,1,1,1,1,1,1,1,1,1,1,1,1,1,1,1,1,1,1,1,1,1,1,1,1,1,1,1,1,1,1,1,1,1,1],\"type\":\"box\"}],                        {\"template\":{\"data\":{\"histogram2dcontour\":[{\"type\":\"histogram2dcontour\",\"colorbar\":{\"outlinewidth\":0,\"ticks\":\"\"},\"colorscale\":[[0.0,\"#0d0887\"],[0.1111111111111111,\"#46039f\"],[0.2222222222222222,\"#7201a8\"],[0.3333333333333333,\"#9c179e\"],[0.4444444444444444,\"#bd3786\"],[0.5555555555555556,\"#d8576b\"],[0.6666666666666666,\"#ed7953\"],[0.7777777777777778,\"#fb9f3a\"],[0.8888888888888888,\"#fdca26\"],[1.0,\"#f0f921\"]]}],\"choropleth\":[{\"type\":\"choropleth\",\"colorbar\":{\"outlinewidth\":0,\"ticks\":\"\"}}],\"histogram2d\":[{\"type\":\"histogram2d\",\"colorbar\":{\"outlinewidth\":0,\"ticks\":\"\"},\"colorscale\":[[0.0,\"#0d0887\"],[0.1111111111111111,\"#46039f\"],[0.2222222222222222,\"#7201a8\"],[0.3333333333333333,\"#9c179e\"],[0.4444444444444444,\"#bd3786\"],[0.5555555555555556,\"#d8576b\"],[0.6666666666666666,\"#ed7953\"],[0.7777777777777778,\"#fb9f3a\"],[0.8888888888888888,\"#fdca26\"],[1.0,\"#f0f921\"]]}],\"heatmap\":[{\"type\":\"heatmap\",\"colorbar\":{\"outlinewidth\":0,\"ticks\":\"\"},\"colorscale\":[[0.0,\"#0d0887\"],[0.1111111111111111,\"#46039f\"],[0.2222222222222222,\"#7201a8\"],[0.3333333333333333,\"#9c179e\"],[0.4444444444444444,\"#bd3786\"],[0.5555555555555556,\"#d8576b\"],[0.6666666666666666,\"#ed7953\"],[0.7777777777777778,\"#fb9f3a\"],[0.8888888888888888,\"#fdca26\"],[1.0,\"#f0f921\"]]}],\"heatmapgl\":[{\"type\":\"heatmapgl\",\"colorbar\":{\"outlinewidth\":0,\"ticks\":\"\"},\"colorscale\":[[0.0,\"#0d0887\"],[0.1111111111111111,\"#46039f\"],[0.2222222222222222,\"#7201a8\"],[0.3333333333333333,\"#9c179e\"],[0.4444444444444444,\"#bd3786\"],[0.5555555555555556,\"#d8576b\"],[0.6666666666666666,\"#ed7953\"],[0.7777777777777778,\"#fb9f3a\"],[0.8888888888888888,\"#fdca26\"],[1.0,\"#f0f921\"]]}],\"contourcarpet\":[{\"type\":\"contourcarpet\",\"colorbar\":{\"outlinewidth\":0,\"ticks\":\"\"}}],\"contour\":[{\"type\":\"contour\",\"colorbar\":{\"outlinewidth\":0,\"ticks\":\"\"},\"colorscale\":[[0.0,\"#0d0887\"],[0.1111111111111111,\"#46039f\"],[0.2222222222222222,\"#7201a8\"],[0.3333333333333333,\"#9c179e\"],[0.4444444444444444,\"#bd3786\"],[0.5555555555555556,\"#d8576b\"],[0.6666666666666666,\"#ed7953\"],[0.7777777777777778,\"#fb9f3a\"],[0.8888888888888888,\"#fdca26\"],[1.0,\"#f0f921\"]]}],\"surface\":[{\"type\":\"surface\",\"colorbar\":{\"outlinewidth\":0,\"ticks\":\"\"},\"colorscale\":[[0.0,\"#0d0887\"],[0.1111111111111111,\"#46039f\"],[0.2222222222222222,\"#7201a8\"],[0.3333333333333333,\"#9c179e\"],[0.4444444444444444,\"#bd3786\"],[0.5555555555555556,\"#d8576b\"],[0.6666666666666666,\"#ed7953\"],[0.7777777777777778,\"#fb9f3a\"],[0.8888888888888888,\"#fdca26\"],[1.0,\"#f0f921\"]]}],\"mesh3d\":[{\"type\":\"mesh3d\",\"colorbar\":{\"outlinewidth\":0,\"ticks\":\"\"}}],\"scatter\":[{\"fillpattern\":{\"fillmode\":\"overlay\",\"size\":10,\"solidity\":0.2},\"type\":\"scatter\"}],\"parcoords\":[{\"type\":\"parcoords\",\"line\":{\"colorbar\":{\"outlinewidth\":0,\"ticks\":\"\"}}}],\"scatterpolargl\":[{\"type\":\"scatterpolargl\",\"marker\":{\"colorbar\":{\"outlinewidth\":0,\"ticks\":\"\"}}}],\"bar\":[{\"error_x\":{\"color\":\"#2a3f5f\"},\"error_y\":{\"color\":\"#2a3f5f\"},\"marker\":{\"line\":{\"color\":\"#E5ECF6\",\"width\":0.5},\"pattern\":{\"fillmode\":\"overlay\",\"size\":10,\"solidity\":0.2}},\"type\":\"bar\"}],\"scattergeo\":[{\"type\":\"scattergeo\",\"marker\":{\"colorbar\":{\"outlinewidth\":0,\"ticks\":\"\"}}}],\"scatterpolar\":[{\"type\":\"scatterpolar\",\"marker\":{\"colorbar\":{\"outlinewidth\":0,\"ticks\":\"\"}}}],\"histogram\":[{\"marker\":{\"pattern\":{\"fillmode\":\"overlay\",\"size\":10,\"solidity\":0.2}},\"type\":\"histogram\"}],\"scattergl\":[{\"type\":\"scattergl\",\"marker\":{\"colorbar\":{\"outlinewidth\":0,\"ticks\":\"\"}}}],\"scatter3d\":[{\"type\":\"scatter3d\",\"line\":{\"colorbar\":{\"outlinewidth\":0,\"ticks\":\"\"}},\"marker\":{\"colorbar\":{\"outlinewidth\":0,\"ticks\":\"\"}}}],\"scattermapbox\":[{\"type\":\"scattermapbox\",\"marker\":{\"colorbar\":{\"outlinewidth\":0,\"ticks\":\"\"}}}],\"scatterternary\":[{\"type\":\"scatterternary\",\"marker\":{\"colorbar\":{\"outlinewidth\":0,\"ticks\":\"\"}}}],\"scattercarpet\":[{\"type\":\"scattercarpet\",\"marker\":{\"colorbar\":{\"outlinewidth\":0,\"ticks\":\"\"}}}],\"carpet\":[{\"aaxis\":{\"endlinecolor\":\"#2a3f5f\",\"gridcolor\":\"white\",\"linecolor\":\"white\",\"minorgridcolor\":\"white\",\"startlinecolor\":\"#2a3f5f\"},\"baxis\":{\"endlinecolor\":\"#2a3f5f\",\"gridcolor\":\"white\",\"linecolor\":\"white\",\"minorgridcolor\":\"white\",\"startlinecolor\":\"#2a3f5f\"},\"type\":\"carpet\"}],\"table\":[{\"cells\":{\"fill\":{\"color\":\"#EBF0F8\"},\"line\":{\"color\":\"white\"}},\"header\":{\"fill\":{\"color\":\"#C8D4E3\"},\"line\":{\"color\":\"white\"}},\"type\":\"table\"}],\"barpolar\":[{\"marker\":{\"line\":{\"color\":\"#E5ECF6\",\"width\":0.5},\"pattern\":{\"fillmode\":\"overlay\",\"size\":10,\"solidity\":0.2}},\"type\":\"barpolar\"}],\"pie\":[{\"automargin\":true,\"type\":\"pie\"}]},\"layout\":{\"autotypenumbers\":\"strict\",\"colorway\":[\"#636efa\",\"#EF553B\",\"#00cc96\",\"#ab63fa\",\"#FFA15A\",\"#19d3f3\",\"#FF6692\",\"#B6E880\",\"#FF97FF\",\"#FECB52\"],\"font\":{\"color\":\"#2a3f5f\"},\"hovermode\":\"closest\",\"hoverlabel\":{\"align\":\"left\"},\"paper_bgcolor\":\"white\",\"plot_bgcolor\":\"#E5ECF6\",\"polar\":{\"bgcolor\":\"#E5ECF6\",\"angularaxis\":{\"gridcolor\":\"white\",\"linecolor\":\"white\",\"ticks\":\"\"},\"radialaxis\":{\"gridcolor\":\"white\",\"linecolor\":\"white\",\"ticks\":\"\"}},\"ternary\":{\"bgcolor\":\"#E5ECF6\",\"aaxis\":{\"gridcolor\":\"white\",\"linecolor\":\"white\",\"ticks\":\"\"},\"baxis\":{\"gridcolor\":\"white\",\"linecolor\":\"white\",\"ticks\":\"\"},\"caxis\":{\"gridcolor\":\"white\",\"linecolor\":\"white\",\"ticks\":\"\"}},\"coloraxis\":{\"colorbar\":{\"outlinewidth\":0,\"ticks\":\"\"}},\"colorscale\":{\"sequential\":[[0.0,\"#0d0887\"],[0.1111111111111111,\"#46039f\"],[0.2222222222222222,\"#7201a8\"],[0.3333333333333333,\"#9c179e\"],[0.4444444444444444,\"#bd3786\"],[0.5555555555555556,\"#d8576b\"],[0.6666666666666666,\"#ed7953\"],[0.7777777777777778,\"#fb9f3a\"],[0.8888888888888888,\"#fdca26\"],[1.0,\"#f0f921\"]],\"sequentialminus\":[[0.0,\"#0d0887\"],[0.1111111111111111,\"#46039f\"],[0.2222222222222222,\"#7201a8\"],[0.3333333333333333,\"#9c179e\"],[0.4444444444444444,\"#bd3786\"],[0.5555555555555556,\"#d8576b\"],[0.6666666666666666,\"#ed7953\"],[0.7777777777777778,\"#fb9f3a\"],[0.8888888888888888,\"#fdca26\"],[1.0,\"#f0f921\"]],\"diverging\":[[0,\"#8e0152\"],[0.1,\"#c51b7d\"],[0.2,\"#de77ae\"],[0.3,\"#f1b6da\"],[0.4,\"#fde0ef\"],[0.5,\"#f7f7f7\"],[0.6,\"#e6f5d0\"],[0.7,\"#b8e186\"],[0.8,\"#7fbc41\"],[0.9,\"#4d9221\"],[1,\"#276419\"]]},\"xaxis\":{\"gridcolor\":\"white\",\"linecolor\":\"white\",\"ticks\":\"\",\"title\":{\"standoff\":15},\"zerolinecolor\":\"white\",\"automargin\":true,\"zerolinewidth\":2},\"yaxis\":{\"gridcolor\":\"white\",\"linecolor\":\"white\",\"ticks\":\"\",\"title\":{\"standoff\":15},\"zerolinecolor\":\"white\",\"automargin\":true,\"zerolinewidth\":2},\"scene\":{\"xaxis\":{\"backgroundcolor\":\"#E5ECF6\",\"gridcolor\":\"white\",\"linecolor\":\"white\",\"showbackground\":true,\"ticks\":\"\",\"zerolinecolor\":\"white\",\"gridwidth\":2},\"yaxis\":{\"backgroundcolor\":\"#E5ECF6\",\"gridcolor\":\"white\",\"linecolor\":\"white\",\"showbackground\":true,\"ticks\":\"\",\"zerolinecolor\":\"white\",\"gridwidth\":2},\"zaxis\":{\"backgroundcolor\":\"#E5ECF6\",\"gridcolor\":\"white\",\"linecolor\":\"white\",\"showbackground\":true,\"ticks\":\"\",\"zerolinecolor\":\"white\",\"gridwidth\":2}},\"shapedefaults\":{\"line\":{\"color\":\"#2a3f5f\"}},\"annotationdefaults\":{\"arrowcolor\":\"#2a3f5f\",\"arrowhead\":0,\"arrowwidth\":1},\"geo\":{\"bgcolor\":\"white\",\"landcolor\":\"#E5ECF6\",\"subunitcolor\":\"white\",\"showland\":true,\"showlakes\":true,\"lakecolor\":\"white\"},\"title\":{\"x\":0.05},\"mapbox\":{\"style\":\"light\"}}}},                        {\"responsive\": true}                    ).then(function(){\n",
       "                            \n",
       "var gd = document.getElementById('0a140c16-14fe-4bbb-9e52-85b8be20b2c3');\n",
       "var x = new MutationObserver(function (mutations, observer) {{\n",
       "        var display = window.getComputedStyle(gd).display;\n",
       "        if (!display || display === 'none') {{\n",
       "            console.log([gd, 'removed!']);\n",
       "            Plotly.purge(gd);\n",
       "            observer.disconnect();\n",
       "        }}\n",
       "}});\n",
       "\n",
       "// Listen for the removal of the full notebook cells\n",
       "var notebookContainer = gd.closest('#notebook-container');\n",
       "if (notebookContainer) {{\n",
       "    x.observe(notebookContainer, {childList: true});\n",
       "}}\n",
       "\n",
       "// Listen for the clearing of the current output cell\n",
       "var outputEl = gd.closest('.output');\n",
       "if (outputEl) {{\n",
       "    x.observe(outputEl, {childList: true});\n",
       "}}\n",
       "\n",
       "                        })                };                });            </script>        </div>"
      ]
     },
     "metadata": {},
     "output_type": "display_data"
    }
   ],
   "source": [
    "fig = go.Figure(data=[go.Box(x=data.userId.value_counts().values.tolist())])\n",
    "fig.show()"
   ]
  },
  {
   "cell_type": "markdown",
   "id": "78e2d2d0-08a3-4715-8530-f8a0f5952c04",
   "metadata": {
    "tags": []
   },
   "source": [
    "# Change of the Number of Reactions over time"
   ]
  },
  {
   "cell_type": "code",
   "execution_count": 9,
   "id": "07812da3-0508-4b68-98ee-0eac7b7f3f51",
   "metadata": {
    "tags": []
   },
   "outputs": [
    {
     "data": {
      "application/vnd.plotly.v1+json": {
       "config": {
        "plotlyServerURL": "https://plot.ly"
       },
       "data": [
        {
         "mode": "lines",
         "type": "scatter",
         "x": [
          "2023-03-18",
          "2023-05-09"
         ],
         "y": [
          1800,
          9
         ]
        }
       ],
       "layout": {
        "template": {
         "data": {
          "bar": [
           {
            "error_x": {
             "color": "#2a3f5f"
            },
            "error_y": {
             "color": "#2a3f5f"
            },
            "marker": {
             "line": {
              "color": "#E5ECF6",
              "width": 0.5
             },
             "pattern": {
              "fillmode": "overlay",
              "size": 10,
              "solidity": 0.2
             }
            },
            "type": "bar"
           }
          ],
          "barpolar": [
           {
            "marker": {
             "line": {
              "color": "#E5ECF6",
              "width": 0.5
             },
             "pattern": {
              "fillmode": "overlay",
              "size": 10,
              "solidity": 0.2
             }
            },
            "type": "barpolar"
           }
          ],
          "carpet": [
           {
            "aaxis": {
             "endlinecolor": "#2a3f5f",
             "gridcolor": "white",
             "linecolor": "white",
             "minorgridcolor": "white",
             "startlinecolor": "#2a3f5f"
            },
            "baxis": {
             "endlinecolor": "#2a3f5f",
             "gridcolor": "white",
             "linecolor": "white",
             "minorgridcolor": "white",
             "startlinecolor": "#2a3f5f"
            },
            "type": "carpet"
           }
          ],
          "choropleth": [
           {
            "colorbar": {
             "outlinewidth": 0,
             "ticks": ""
            },
            "type": "choropleth"
           }
          ],
          "contour": [
           {
            "colorbar": {
             "outlinewidth": 0,
             "ticks": ""
            },
            "colorscale": [
             [
              0,
              "#0d0887"
             ],
             [
              0.1111111111111111,
              "#46039f"
             ],
             [
              0.2222222222222222,
              "#7201a8"
             ],
             [
              0.3333333333333333,
              "#9c179e"
             ],
             [
              0.4444444444444444,
              "#bd3786"
             ],
             [
              0.5555555555555556,
              "#d8576b"
             ],
             [
              0.6666666666666666,
              "#ed7953"
             ],
             [
              0.7777777777777778,
              "#fb9f3a"
             ],
             [
              0.8888888888888888,
              "#fdca26"
             ],
             [
              1,
              "#f0f921"
             ]
            ],
            "type": "contour"
           }
          ],
          "contourcarpet": [
           {
            "colorbar": {
             "outlinewidth": 0,
             "ticks": ""
            },
            "type": "contourcarpet"
           }
          ],
          "heatmap": [
           {
            "colorbar": {
             "outlinewidth": 0,
             "ticks": ""
            },
            "colorscale": [
             [
              0,
              "#0d0887"
             ],
             [
              0.1111111111111111,
              "#46039f"
             ],
             [
              0.2222222222222222,
              "#7201a8"
             ],
             [
              0.3333333333333333,
              "#9c179e"
             ],
             [
              0.4444444444444444,
              "#bd3786"
             ],
             [
              0.5555555555555556,
              "#d8576b"
             ],
             [
              0.6666666666666666,
              "#ed7953"
             ],
             [
              0.7777777777777778,
              "#fb9f3a"
             ],
             [
              0.8888888888888888,
              "#fdca26"
             ],
             [
              1,
              "#f0f921"
             ]
            ],
            "type": "heatmap"
           }
          ],
          "heatmapgl": [
           {
            "colorbar": {
             "outlinewidth": 0,
             "ticks": ""
            },
            "colorscale": [
             [
              0,
              "#0d0887"
             ],
             [
              0.1111111111111111,
              "#46039f"
             ],
             [
              0.2222222222222222,
              "#7201a8"
             ],
             [
              0.3333333333333333,
              "#9c179e"
             ],
             [
              0.4444444444444444,
              "#bd3786"
             ],
             [
              0.5555555555555556,
              "#d8576b"
             ],
             [
              0.6666666666666666,
              "#ed7953"
             ],
             [
              0.7777777777777778,
              "#fb9f3a"
             ],
             [
              0.8888888888888888,
              "#fdca26"
             ],
             [
              1,
              "#f0f921"
             ]
            ],
            "type": "heatmapgl"
           }
          ],
          "histogram": [
           {
            "marker": {
             "pattern": {
              "fillmode": "overlay",
              "size": 10,
              "solidity": 0.2
             }
            },
            "type": "histogram"
           }
          ],
          "histogram2d": [
           {
            "colorbar": {
             "outlinewidth": 0,
             "ticks": ""
            },
            "colorscale": [
             [
              0,
              "#0d0887"
             ],
             [
              0.1111111111111111,
              "#46039f"
             ],
             [
              0.2222222222222222,
              "#7201a8"
             ],
             [
              0.3333333333333333,
              "#9c179e"
             ],
             [
              0.4444444444444444,
              "#bd3786"
             ],
             [
              0.5555555555555556,
              "#d8576b"
             ],
             [
              0.6666666666666666,
              "#ed7953"
             ],
             [
              0.7777777777777778,
              "#fb9f3a"
             ],
             [
              0.8888888888888888,
              "#fdca26"
             ],
             [
              1,
              "#f0f921"
             ]
            ],
            "type": "histogram2d"
           }
          ],
          "histogram2dcontour": [
           {
            "colorbar": {
             "outlinewidth": 0,
             "ticks": ""
            },
            "colorscale": [
             [
              0,
              "#0d0887"
             ],
             [
              0.1111111111111111,
              "#46039f"
             ],
             [
              0.2222222222222222,
              "#7201a8"
             ],
             [
              0.3333333333333333,
              "#9c179e"
             ],
             [
              0.4444444444444444,
              "#bd3786"
             ],
             [
              0.5555555555555556,
              "#d8576b"
             ],
             [
              0.6666666666666666,
              "#ed7953"
             ],
             [
              0.7777777777777778,
              "#fb9f3a"
             ],
             [
              0.8888888888888888,
              "#fdca26"
             ],
             [
              1,
              "#f0f921"
             ]
            ],
            "type": "histogram2dcontour"
           }
          ],
          "mesh3d": [
           {
            "colorbar": {
             "outlinewidth": 0,
             "ticks": ""
            },
            "type": "mesh3d"
           }
          ],
          "parcoords": [
           {
            "line": {
             "colorbar": {
              "outlinewidth": 0,
              "ticks": ""
             }
            },
            "type": "parcoords"
           }
          ],
          "pie": [
           {
            "automargin": true,
            "type": "pie"
           }
          ],
          "scatter": [
           {
            "fillpattern": {
             "fillmode": "overlay",
             "size": 10,
             "solidity": 0.2
            },
            "type": "scatter"
           }
          ],
          "scatter3d": [
           {
            "line": {
             "colorbar": {
              "outlinewidth": 0,
              "ticks": ""
             }
            },
            "marker": {
             "colorbar": {
              "outlinewidth": 0,
              "ticks": ""
             }
            },
            "type": "scatter3d"
           }
          ],
          "scattercarpet": [
           {
            "marker": {
             "colorbar": {
              "outlinewidth": 0,
              "ticks": ""
             }
            },
            "type": "scattercarpet"
           }
          ],
          "scattergeo": [
           {
            "marker": {
             "colorbar": {
              "outlinewidth": 0,
              "ticks": ""
             }
            },
            "type": "scattergeo"
           }
          ],
          "scattergl": [
           {
            "marker": {
             "colorbar": {
              "outlinewidth": 0,
              "ticks": ""
             }
            },
            "type": "scattergl"
           }
          ],
          "scattermapbox": [
           {
            "marker": {
             "colorbar": {
              "outlinewidth": 0,
              "ticks": ""
             }
            },
            "type": "scattermapbox"
           }
          ],
          "scatterpolar": [
           {
            "marker": {
             "colorbar": {
              "outlinewidth": 0,
              "ticks": ""
             }
            },
            "type": "scatterpolar"
           }
          ],
          "scatterpolargl": [
           {
            "marker": {
             "colorbar": {
              "outlinewidth": 0,
              "ticks": ""
             }
            },
            "type": "scatterpolargl"
           }
          ],
          "scatterternary": [
           {
            "marker": {
             "colorbar": {
              "outlinewidth": 0,
              "ticks": ""
             }
            },
            "type": "scatterternary"
           }
          ],
          "surface": [
           {
            "colorbar": {
             "outlinewidth": 0,
             "ticks": ""
            },
            "colorscale": [
             [
              0,
              "#0d0887"
             ],
             [
              0.1111111111111111,
              "#46039f"
             ],
             [
              0.2222222222222222,
              "#7201a8"
             ],
             [
              0.3333333333333333,
              "#9c179e"
             ],
             [
              0.4444444444444444,
              "#bd3786"
             ],
             [
              0.5555555555555556,
              "#d8576b"
             ],
             [
              0.6666666666666666,
              "#ed7953"
             ],
             [
              0.7777777777777778,
              "#fb9f3a"
             ],
             [
              0.8888888888888888,
              "#fdca26"
             ],
             [
              1,
              "#f0f921"
             ]
            ],
            "type": "surface"
           }
          ],
          "table": [
           {
            "cells": {
             "fill": {
              "color": "#EBF0F8"
             },
             "line": {
              "color": "white"
             }
            },
            "header": {
             "fill": {
              "color": "#C8D4E3"
             },
             "line": {
              "color": "white"
             }
            },
            "type": "table"
           }
          ]
         },
         "layout": {
          "annotationdefaults": {
           "arrowcolor": "#2a3f5f",
           "arrowhead": 0,
           "arrowwidth": 1
          },
          "autotypenumbers": "strict",
          "coloraxis": {
           "colorbar": {
            "outlinewidth": 0,
            "ticks": ""
           }
          },
          "colorscale": {
           "diverging": [
            [
             0,
             "#8e0152"
            ],
            [
             0.1,
             "#c51b7d"
            ],
            [
             0.2,
             "#de77ae"
            ],
            [
             0.3,
             "#f1b6da"
            ],
            [
             0.4,
             "#fde0ef"
            ],
            [
             0.5,
             "#f7f7f7"
            ],
            [
             0.6,
             "#e6f5d0"
            ],
            [
             0.7,
             "#b8e186"
            ],
            [
             0.8,
             "#7fbc41"
            ],
            [
             0.9,
             "#4d9221"
            ],
            [
             1,
             "#276419"
            ]
           ],
           "sequential": [
            [
             0,
             "#0d0887"
            ],
            [
             0.1111111111111111,
             "#46039f"
            ],
            [
             0.2222222222222222,
             "#7201a8"
            ],
            [
             0.3333333333333333,
             "#9c179e"
            ],
            [
             0.4444444444444444,
             "#bd3786"
            ],
            [
             0.5555555555555556,
             "#d8576b"
            ],
            [
             0.6666666666666666,
             "#ed7953"
            ],
            [
             0.7777777777777778,
             "#fb9f3a"
            ],
            [
             0.8888888888888888,
             "#fdca26"
            ],
            [
             1,
             "#f0f921"
            ]
           ],
           "sequentialminus": [
            [
             0,
             "#0d0887"
            ],
            [
             0.1111111111111111,
             "#46039f"
            ],
            [
             0.2222222222222222,
             "#7201a8"
            ],
            [
             0.3333333333333333,
             "#9c179e"
            ],
            [
             0.4444444444444444,
             "#bd3786"
            ],
            [
             0.5555555555555556,
             "#d8576b"
            ],
            [
             0.6666666666666666,
             "#ed7953"
            ],
            [
             0.7777777777777778,
             "#fb9f3a"
            ],
            [
             0.8888888888888888,
             "#fdca26"
            ],
            [
             1,
             "#f0f921"
            ]
           ]
          },
          "colorway": [
           "#636efa",
           "#EF553B",
           "#00cc96",
           "#ab63fa",
           "#FFA15A",
           "#19d3f3",
           "#FF6692",
           "#B6E880",
           "#FF97FF",
           "#FECB52"
          ],
          "font": {
           "color": "#2a3f5f"
          },
          "geo": {
           "bgcolor": "white",
           "lakecolor": "white",
           "landcolor": "#E5ECF6",
           "showlakes": true,
           "showland": true,
           "subunitcolor": "white"
          },
          "hoverlabel": {
           "align": "left"
          },
          "hovermode": "closest",
          "mapbox": {
           "style": "light"
          },
          "paper_bgcolor": "white",
          "plot_bgcolor": "#E5ECF6",
          "polar": {
           "angularaxis": {
            "gridcolor": "white",
            "linecolor": "white",
            "ticks": ""
           },
           "bgcolor": "#E5ECF6",
           "radialaxis": {
            "gridcolor": "white",
            "linecolor": "white",
            "ticks": ""
           }
          },
          "scene": {
           "xaxis": {
            "backgroundcolor": "#E5ECF6",
            "gridcolor": "white",
            "gridwidth": 2,
            "linecolor": "white",
            "showbackground": true,
            "ticks": "",
            "zerolinecolor": "white"
           },
           "yaxis": {
            "backgroundcolor": "#E5ECF6",
            "gridcolor": "white",
            "gridwidth": 2,
            "linecolor": "white",
            "showbackground": true,
            "ticks": "",
            "zerolinecolor": "white"
           },
           "zaxis": {
            "backgroundcolor": "#E5ECF6",
            "gridcolor": "white",
            "gridwidth": 2,
            "linecolor": "white",
            "showbackground": true,
            "ticks": "",
            "zerolinecolor": "white"
           }
          },
          "shapedefaults": {
           "line": {
            "color": "#2a3f5f"
           }
          },
          "ternary": {
           "aaxis": {
            "gridcolor": "white",
            "linecolor": "white",
            "ticks": ""
           },
           "baxis": {
            "gridcolor": "white",
            "linecolor": "white",
            "ticks": ""
           },
           "bgcolor": "#E5ECF6",
           "caxis": {
            "gridcolor": "white",
            "linecolor": "white",
            "ticks": ""
           }
          },
          "title": {
           "x": 0.05
          },
          "xaxis": {
           "automargin": true,
           "gridcolor": "white",
           "linecolor": "white",
           "ticks": "",
           "title": {
            "standoff": 15
           },
           "zerolinecolor": "white",
           "zerolinewidth": 2
          },
          "yaxis": {
           "automargin": true,
           "gridcolor": "white",
           "linecolor": "white",
           "ticks": "",
           "title": {
            "standoff": 15
           },
           "zerolinecolor": "white",
           "zerolinewidth": 2
          }
         }
        },
        "title": {
         "text": "Number of Reactions Over Time (daily)"
        },
        "xaxis": {
         "title": {
          "text": "Date"
         }
        },
        "yaxis": {
         "title": {
          "text": "Number of Reactions"
         }
        }
       }
      },
      "text/html": [
       "<div>                            <div id=\"78008344-3b40-48ae-8d9d-3d521dd50449\" class=\"plotly-graph-div\" style=\"height:525px; width:100%;\"></div>            <script type=\"text/javascript\">                require([\"plotly\"], function(Plotly) {                    window.PLOTLYENV=window.PLOTLYENV || {};                                    if (document.getElementById(\"78008344-3b40-48ae-8d9d-3d521dd50449\")) {                    Plotly.newPlot(                        \"78008344-3b40-48ae-8d9d-3d521dd50449\",                        [{\"mode\":\"lines\",\"x\":[\"2023-03-18\",\"2023-05-09\"],\"y\":[1800,9],\"type\":\"scatter\"}],                        {\"template\":{\"data\":{\"histogram2dcontour\":[{\"type\":\"histogram2dcontour\",\"colorbar\":{\"outlinewidth\":0,\"ticks\":\"\"},\"colorscale\":[[0.0,\"#0d0887\"],[0.1111111111111111,\"#46039f\"],[0.2222222222222222,\"#7201a8\"],[0.3333333333333333,\"#9c179e\"],[0.4444444444444444,\"#bd3786\"],[0.5555555555555556,\"#d8576b\"],[0.6666666666666666,\"#ed7953\"],[0.7777777777777778,\"#fb9f3a\"],[0.8888888888888888,\"#fdca26\"],[1.0,\"#f0f921\"]]}],\"choropleth\":[{\"type\":\"choropleth\",\"colorbar\":{\"outlinewidth\":0,\"ticks\":\"\"}}],\"histogram2d\":[{\"type\":\"histogram2d\",\"colorbar\":{\"outlinewidth\":0,\"ticks\":\"\"},\"colorscale\":[[0.0,\"#0d0887\"],[0.1111111111111111,\"#46039f\"],[0.2222222222222222,\"#7201a8\"],[0.3333333333333333,\"#9c179e\"],[0.4444444444444444,\"#bd3786\"],[0.5555555555555556,\"#d8576b\"],[0.6666666666666666,\"#ed7953\"],[0.7777777777777778,\"#fb9f3a\"],[0.8888888888888888,\"#fdca26\"],[1.0,\"#f0f921\"]]}],\"heatmap\":[{\"type\":\"heatmap\",\"colorbar\":{\"outlinewidth\":0,\"ticks\":\"\"},\"colorscale\":[[0.0,\"#0d0887\"],[0.1111111111111111,\"#46039f\"],[0.2222222222222222,\"#7201a8\"],[0.3333333333333333,\"#9c179e\"],[0.4444444444444444,\"#bd3786\"],[0.5555555555555556,\"#d8576b\"],[0.6666666666666666,\"#ed7953\"],[0.7777777777777778,\"#fb9f3a\"],[0.8888888888888888,\"#fdca26\"],[1.0,\"#f0f921\"]]}],\"heatmapgl\":[{\"type\":\"heatmapgl\",\"colorbar\":{\"outlinewidth\":0,\"ticks\":\"\"},\"colorscale\":[[0.0,\"#0d0887\"],[0.1111111111111111,\"#46039f\"],[0.2222222222222222,\"#7201a8\"],[0.3333333333333333,\"#9c179e\"],[0.4444444444444444,\"#bd3786\"],[0.5555555555555556,\"#d8576b\"],[0.6666666666666666,\"#ed7953\"],[0.7777777777777778,\"#fb9f3a\"],[0.8888888888888888,\"#fdca26\"],[1.0,\"#f0f921\"]]}],\"contourcarpet\":[{\"type\":\"contourcarpet\",\"colorbar\":{\"outlinewidth\":0,\"ticks\":\"\"}}],\"contour\":[{\"type\":\"contour\",\"colorbar\":{\"outlinewidth\":0,\"ticks\":\"\"},\"colorscale\":[[0.0,\"#0d0887\"],[0.1111111111111111,\"#46039f\"],[0.2222222222222222,\"#7201a8\"],[0.3333333333333333,\"#9c179e\"],[0.4444444444444444,\"#bd3786\"],[0.5555555555555556,\"#d8576b\"],[0.6666666666666666,\"#ed7953\"],[0.7777777777777778,\"#fb9f3a\"],[0.8888888888888888,\"#fdca26\"],[1.0,\"#f0f921\"]]}],\"surface\":[{\"type\":\"surface\",\"colorbar\":{\"outlinewidth\":0,\"ticks\":\"\"},\"colorscale\":[[0.0,\"#0d0887\"],[0.1111111111111111,\"#46039f\"],[0.2222222222222222,\"#7201a8\"],[0.3333333333333333,\"#9c179e\"],[0.4444444444444444,\"#bd3786\"],[0.5555555555555556,\"#d8576b\"],[0.6666666666666666,\"#ed7953\"],[0.7777777777777778,\"#fb9f3a\"],[0.8888888888888888,\"#fdca26\"],[1.0,\"#f0f921\"]]}],\"mesh3d\":[{\"type\":\"mesh3d\",\"colorbar\":{\"outlinewidth\":0,\"ticks\":\"\"}}],\"scatter\":[{\"fillpattern\":{\"fillmode\":\"overlay\",\"size\":10,\"solidity\":0.2},\"type\":\"scatter\"}],\"parcoords\":[{\"type\":\"parcoords\",\"line\":{\"colorbar\":{\"outlinewidth\":0,\"ticks\":\"\"}}}],\"scatterpolargl\":[{\"type\":\"scatterpolargl\",\"marker\":{\"colorbar\":{\"outlinewidth\":0,\"ticks\":\"\"}}}],\"bar\":[{\"error_x\":{\"color\":\"#2a3f5f\"},\"error_y\":{\"color\":\"#2a3f5f\"},\"marker\":{\"line\":{\"color\":\"#E5ECF6\",\"width\":0.5},\"pattern\":{\"fillmode\":\"overlay\",\"size\":10,\"solidity\":0.2}},\"type\":\"bar\"}],\"scattergeo\":[{\"type\":\"scattergeo\",\"marker\":{\"colorbar\":{\"outlinewidth\":0,\"ticks\":\"\"}}}],\"scatterpolar\":[{\"type\":\"scatterpolar\",\"marker\":{\"colorbar\":{\"outlinewidth\":0,\"ticks\":\"\"}}}],\"histogram\":[{\"marker\":{\"pattern\":{\"fillmode\":\"overlay\",\"size\":10,\"solidity\":0.2}},\"type\":\"histogram\"}],\"scattergl\":[{\"type\":\"scattergl\",\"marker\":{\"colorbar\":{\"outlinewidth\":0,\"ticks\":\"\"}}}],\"scatter3d\":[{\"type\":\"scatter3d\",\"line\":{\"colorbar\":{\"outlinewidth\":0,\"ticks\":\"\"}},\"marker\":{\"colorbar\":{\"outlinewidth\":0,\"ticks\":\"\"}}}],\"scattermapbox\":[{\"type\":\"scattermapbox\",\"marker\":{\"colorbar\":{\"outlinewidth\":0,\"ticks\":\"\"}}}],\"scatterternary\":[{\"type\":\"scatterternary\",\"marker\":{\"colorbar\":{\"outlinewidth\":0,\"ticks\":\"\"}}}],\"scattercarpet\":[{\"type\":\"scattercarpet\",\"marker\":{\"colorbar\":{\"outlinewidth\":0,\"ticks\":\"\"}}}],\"carpet\":[{\"aaxis\":{\"endlinecolor\":\"#2a3f5f\",\"gridcolor\":\"white\",\"linecolor\":\"white\",\"minorgridcolor\":\"white\",\"startlinecolor\":\"#2a3f5f\"},\"baxis\":{\"endlinecolor\":\"#2a3f5f\",\"gridcolor\":\"white\",\"linecolor\":\"white\",\"minorgridcolor\":\"white\",\"startlinecolor\":\"#2a3f5f\"},\"type\":\"carpet\"}],\"table\":[{\"cells\":{\"fill\":{\"color\":\"#EBF0F8\"},\"line\":{\"color\":\"white\"}},\"header\":{\"fill\":{\"color\":\"#C8D4E3\"},\"line\":{\"color\":\"white\"}},\"type\":\"table\"}],\"barpolar\":[{\"marker\":{\"line\":{\"color\":\"#E5ECF6\",\"width\":0.5},\"pattern\":{\"fillmode\":\"overlay\",\"size\":10,\"solidity\":0.2}},\"type\":\"barpolar\"}],\"pie\":[{\"automargin\":true,\"type\":\"pie\"}]},\"layout\":{\"autotypenumbers\":\"strict\",\"colorway\":[\"#636efa\",\"#EF553B\",\"#00cc96\",\"#ab63fa\",\"#FFA15A\",\"#19d3f3\",\"#FF6692\",\"#B6E880\",\"#FF97FF\",\"#FECB52\"],\"font\":{\"color\":\"#2a3f5f\"},\"hovermode\":\"closest\",\"hoverlabel\":{\"align\":\"left\"},\"paper_bgcolor\":\"white\",\"plot_bgcolor\":\"#E5ECF6\",\"polar\":{\"bgcolor\":\"#E5ECF6\",\"angularaxis\":{\"gridcolor\":\"white\",\"linecolor\":\"white\",\"ticks\":\"\"},\"radialaxis\":{\"gridcolor\":\"white\",\"linecolor\":\"white\",\"ticks\":\"\"}},\"ternary\":{\"bgcolor\":\"#E5ECF6\",\"aaxis\":{\"gridcolor\":\"white\",\"linecolor\":\"white\",\"ticks\":\"\"},\"baxis\":{\"gridcolor\":\"white\",\"linecolor\":\"white\",\"ticks\":\"\"},\"caxis\":{\"gridcolor\":\"white\",\"linecolor\":\"white\",\"ticks\":\"\"}},\"coloraxis\":{\"colorbar\":{\"outlinewidth\":0,\"ticks\":\"\"}},\"colorscale\":{\"sequential\":[[0.0,\"#0d0887\"],[0.1111111111111111,\"#46039f\"],[0.2222222222222222,\"#7201a8\"],[0.3333333333333333,\"#9c179e\"],[0.4444444444444444,\"#bd3786\"],[0.5555555555555556,\"#d8576b\"],[0.6666666666666666,\"#ed7953\"],[0.7777777777777778,\"#fb9f3a\"],[0.8888888888888888,\"#fdca26\"],[1.0,\"#f0f921\"]],\"sequentialminus\":[[0.0,\"#0d0887\"],[0.1111111111111111,\"#46039f\"],[0.2222222222222222,\"#7201a8\"],[0.3333333333333333,\"#9c179e\"],[0.4444444444444444,\"#bd3786\"],[0.5555555555555556,\"#d8576b\"],[0.6666666666666666,\"#ed7953\"],[0.7777777777777778,\"#fb9f3a\"],[0.8888888888888888,\"#fdca26\"],[1.0,\"#f0f921\"]],\"diverging\":[[0,\"#8e0152\"],[0.1,\"#c51b7d\"],[0.2,\"#de77ae\"],[0.3,\"#f1b6da\"],[0.4,\"#fde0ef\"],[0.5,\"#f7f7f7\"],[0.6,\"#e6f5d0\"],[0.7,\"#b8e186\"],[0.8,\"#7fbc41\"],[0.9,\"#4d9221\"],[1,\"#276419\"]]},\"xaxis\":{\"gridcolor\":\"white\",\"linecolor\":\"white\",\"ticks\":\"\",\"title\":{\"standoff\":15},\"zerolinecolor\":\"white\",\"automargin\":true,\"zerolinewidth\":2},\"yaxis\":{\"gridcolor\":\"white\",\"linecolor\":\"white\",\"ticks\":\"\",\"title\":{\"standoff\":15},\"zerolinecolor\":\"white\",\"automargin\":true,\"zerolinewidth\":2},\"scene\":{\"xaxis\":{\"backgroundcolor\":\"#E5ECF6\",\"gridcolor\":\"white\",\"linecolor\":\"white\",\"showbackground\":true,\"ticks\":\"\",\"zerolinecolor\":\"white\",\"gridwidth\":2},\"yaxis\":{\"backgroundcolor\":\"#E5ECF6\",\"gridcolor\":\"white\",\"linecolor\":\"white\",\"showbackground\":true,\"ticks\":\"\",\"zerolinecolor\":\"white\",\"gridwidth\":2},\"zaxis\":{\"backgroundcolor\":\"#E5ECF6\",\"gridcolor\":\"white\",\"linecolor\":\"white\",\"showbackground\":true,\"ticks\":\"\",\"zerolinecolor\":\"white\",\"gridwidth\":2}},\"shapedefaults\":{\"line\":{\"color\":\"#2a3f5f\"}},\"annotationdefaults\":{\"arrowcolor\":\"#2a3f5f\",\"arrowhead\":0,\"arrowwidth\":1},\"geo\":{\"bgcolor\":\"white\",\"landcolor\":\"#E5ECF6\",\"subunitcolor\":\"white\",\"showland\":true,\"showlakes\":true,\"lakecolor\":\"white\"},\"title\":{\"x\":0.05},\"mapbox\":{\"style\":\"light\"}}},\"title\":{\"text\":\"Number of Reactions Over Time (daily)\"},\"xaxis\":{\"title\":{\"text\":\"Date\"}},\"yaxis\":{\"title\":{\"text\":\"Number of Reactions\"}}},                        {\"responsive\": true}                    ).then(function(){\n",
       "                            \n",
       "var gd = document.getElementById('78008344-3b40-48ae-8d9d-3d521dd50449');\n",
       "var x = new MutationObserver(function (mutations, observer) {{\n",
       "        var display = window.getComputedStyle(gd).display;\n",
       "        if (!display || display === 'none') {{\n",
       "            console.log([gd, 'removed!']);\n",
       "            Plotly.purge(gd);\n",
       "            observer.disconnect();\n",
       "        }}\n",
       "}});\n",
       "\n",
       "// Listen for the removal of the full notebook cells\n",
       "var notebookContainer = gd.closest('#notebook-container');\n",
       "if (notebookContainer) {{\n",
       "    x.observe(notebookContainer, {childList: true});\n",
       "}}\n",
       "\n",
       "// Listen for the clearing of the current output cell\n",
       "var outputEl = gd.closest('.output');\n",
       "if (outputEl) {{\n",
       "    x.observe(outputEl, {childList: true});\n",
       "}}\n",
       "\n",
       "                        })                };                });            </script>        </div>"
      ]
     },
     "metadata": {},
     "output_type": "display_data"
    }
   ],
   "source": [
    "data = data3\n",
    "data['timestamp'] = pd.to_datetime(data['timestamp'], unit='ms')\n",
    "data_count = data.groupby(data['timestamp'].dt.date).count()\n",
    "\n",
    "fig = go.Figure()\n",
    "fig.add_trace(go.Scatter(x=data_count.index, y=data_count['reaction'], mode='lines'))\n",
    "\n",
    "fig.update_layout(title_text='Number of Reactions Over Time (daily)',\n",
    "                  xaxis_title='Date',\n",
    "                  yaxis_title='Number of Reactions')\n",
    "\n",
    "fig.show()\n"
   ]
  },
  {
   "cell_type": "markdown",
   "id": "bb959a09-6d4d-4dbd-b5e1-2c0f7d37273c",
   "metadata": {},
   "source": [
    "# Box plot of Reaction Values by assigning a numeric value to the feeling of each of reaction"
   ]
  },
  {
   "cell_type": "code",
   "execution_count": 11,
   "id": "3f91dd1f-041e-4740-88f0-1d72b95780a6",
   "metadata": {
    "tags": []
   },
   "outputs": [
    {
     "data": {
      "application/vnd.plotly.v1+json": {
       "config": {
        "plotlyServerURL": "https://plot.ly"
       },
       "data": [
        {
         "name": "Reactions",
         "orientation": "h",
         "type": "box",
         "x": [
          2,
          2,
          6,
          2,
          0,
          0,
          0,
          0,
          0,
          2,
          6,
          2,
          2,
          2,
          2,
          2,
          2,
          2,
          2,
          2,
          2,
          2,
          2,
          2,
          2,
          2,
          2,
          2,
          2,
          2,
          2,
          2,
          2,
          2,
          2,
          2,
          2,
          2,
          2,
          2,
          2,
          2,
          2,
          2,
          2,
          2,
          2,
          2,
          2,
          2,
          2,
          2,
          2,
          2,
          2,
          2,
          2,
          2,
          2,
          2,
          2,
          2,
          2,
          2,
          2,
          2,
          2,
          2,
          2,
          2,
          2,
          2,
          2,
          2,
          2,
          2,
          2,
          2,
          2,
          2,
          2,
          2,
          2,
          2,
          2,
          2,
          2,
          2,
          2,
          2,
          2,
          2,
          2,
          2,
          2,
          2,
          2,
          2,
          2,
          2,
          2,
          2,
          2,
          2,
          2,
          2,
          2,
          2,
          2,
          2,
          2,
          2,
          6,
          2,
          2,
          2,
          2,
          2,
          2,
          2,
          2,
          2,
          2,
          2,
          2,
          2,
          6,
          2,
          2,
          2,
          2,
          2,
          2,
          2,
          6,
          2,
          2,
          6,
          6,
          2,
          2,
          6,
          2,
          6,
          2,
          2,
          2,
          2,
          2,
          6,
          6,
          2,
          2,
          2,
          2,
          2,
          6,
          6,
          2,
          6,
          6,
          2,
          6,
          2,
          6,
          2,
          6,
          2,
          2,
          6,
          6,
          6,
          6,
          6,
          6,
          6,
          6,
          6,
          6,
          6,
          6,
          6,
          6,
          6,
          6,
          6,
          6,
          6,
          6,
          6,
          6,
          6,
          6,
          6,
          6,
          6,
          6,
          6,
          6,
          6,
          6,
          6,
          6,
          6,
          2,
          6,
          2,
          6,
          6,
          2,
          6,
          6,
          6,
          6,
          2,
          6,
          6,
          6,
          2,
          6,
          2,
          6,
          2,
          6,
          6,
          6,
          2,
          6,
          2,
          6,
          6,
          6,
          6,
          6,
          2,
          6,
          6,
          2,
          6,
          2,
          6,
          6,
          6,
          2,
          6,
          6,
          6,
          2,
          6,
          6,
          2,
          2,
          6,
          6,
          6,
          2,
          6,
          2,
          2,
          6,
          2,
          2,
          6,
          6,
          6,
          2,
          6,
          6,
          6,
          2,
          6,
          6,
          6,
          6,
          6,
          6,
          2,
          6,
          6,
          6,
          6,
          6,
          2,
          2,
          6,
          2,
          6,
          6,
          6,
          6,
          6,
          6,
          2,
          2,
          6,
          6,
          6,
          6,
          2,
          6,
          6,
          6,
          2,
          6,
          6,
          2,
          6,
          6,
          6,
          6,
          2,
          6,
          6,
          2,
          6,
          6,
          2,
          6,
          6,
          2,
          6,
          6,
          6,
          6,
          2,
          2,
          6,
          6,
          6,
          6,
          6,
          2,
          2,
          2,
          6,
          6,
          6,
          6,
          2,
          2,
          6,
          6,
          2,
          6,
          6,
          6,
          2,
          2,
          6,
          2,
          6,
          6,
          6,
          6,
          2,
          2,
          6,
          6,
          2,
          2,
          2,
          6,
          6,
          2,
          6,
          2,
          2,
          6,
          6,
          6,
          6,
          2,
          2,
          6,
          6,
          6,
          2,
          2,
          6,
          2,
          6,
          6,
          6,
          2,
          6,
          2,
          2,
          6,
          6,
          6,
          6,
          2,
          6,
          2,
          2,
          6,
          2,
          6,
          6,
          6,
          2,
          6,
          2,
          6,
          2,
          2,
          6,
          2,
          2,
          2,
          2,
          2,
          6,
          6,
          6,
          2,
          2,
          2,
          6,
          2,
          6,
          6,
          6,
          2,
          6,
          2,
          2,
          6,
          6,
          2,
          6,
          6,
          2,
          2,
          2,
          2,
          6,
          6,
          6,
          2,
          2,
          6,
          2,
          2,
          6,
          2,
          6,
          6,
          2,
          2,
          2,
          6,
          6,
          2,
          2,
          2,
          6,
          6,
          2,
          2,
          2,
          6,
          6,
          6,
          6,
          6,
          2,
          2,
          6,
          6,
          6,
          2,
          2,
          2,
          6,
          6,
          2,
          2,
          6,
          2,
          2,
          6,
          6,
          2,
          6,
          6,
          6,
          6,
          2,
          2,
          6,
          2,
          2,
          6,
          6,
          6,
          2,
          2,
          6,
          2,
          6,
          2,
          2,
          6,
          6,
          6,
          6,
          6,
          6,
          2,
          2,
          6,
          6,
          6,
          2,
          6,
          6,
          6,
          2,
          2,
          6,
          2,
          6,
          6,
          6,
          2,
          2,
          2,
          6,
          2,
          6,
          6,
          6,
          6,
          6,
          2,
          2,
          6,
          2,
          6,
          6,
          2,
          2,
          6,
          6,
          6,
          2,
          6,
          2,
          6,
          2,
          6,
          6,
          2,
          6,
          6,
          6,
          2,
          2,
          6,
          6,
          6,
          6,
          2,
          2,
          2,
          2,
          2,
          6,
          2,
          6,
          6,
          2,
          6,
          2,
          2,
          6,
          2,
          6,
          6,
          2,
          6,
          2,
          6,
          2,
          6,
          6,
          6,
          6,
          6,
          2,
          6,
          2,
          6,
          6,
          2,
          2,
          2,
          2,
          6,
          2,
          6,
          6,
          2,
          6,
          6,
          2,
          6,
          2,
          6,
          2,
          6,
          2,
          6,
          2,
          6,
          6,
          6,
          2,
          6,
          2,
          2,
          2,
          6,
          2,
          2,
          6,
          6,
          6,
          2,
          6,
          6,
          6,
          2,
          6,
          2,
          2,
          6,
          6,
          6,
          2,
          2,
          6,
          2,
          2,
          6,
          6,
          6,
          6,
          6,
          2,
          2,
          2,
          6,
          6,
          2,
          2,
          2,
          6,
          6,
          6,
          2,
          2,
          6,
          2,
          6,
          2,
          6,
          2,
          2,
          6,
          6,
          6,
          6,
          2,
          6,
          6,
          2,
          2,
          2,
          2,
          6,
          6,
          2,
          2,
          2,
          6,
          2,
          6,
          2,
          6,
          6,
          2,
          6,
          6,
          6,
          2,
          2,
          6,
          6,
          2,
          6,
          6,
          2,
          6,
          6,
          2,
          2,
          2,
          6,
          2,
          6,
          6,
          6,
          2,
          2,
          6,
          2,
          2,
          2,
          6,
          2,
          2,
          6,
          6,
          6,
          2,
          6,
          6,
          6,
          6,
          2,
          2,
          6,
          6,
          2,
          2,
          2,
          6,
          2,
          2,
          2,
          6,
          6,
          2,
          6,
          2,
          2,
          2,
          6,
          6,
          2,
          2,
          2,
          6,
          6,
          2,
          6,
          2,
          6,
          6,
          2,
          2,
          6,
          6,
          2,
          2,
          6,
          6,
          6,
          6,
          2,
          2,
          6,
          2,
          2,
          6,
          6,
          6,
          6,
          6,
          2,
          6,
          2,
          6,
          6,
          2,
          6,
          2,
          2,
          2,
          6,
          6,
          2,
          6,
          2,
          2,
          6,
          2,
          2,
          2,
          2,
          6,
          2,
          6,
          6,
          6,
          6,
          2,
          2,
          6,
          6,
          2,
          2,
          6,
          2,
          2,
          6,
          2,
          6,
          2,
          6,
          2,
          2,
          2,
          6,
          6,
          2,
          2,
          6,
          6,
          2,
          6,
          2,
          2,
          2,
          2,
          6,
          2,
          2,
          2,
          6,
          2,
          2,
          2,
          6,
          2,
          2,
          6,
          6,
          2,
          2,
          2,
          6,
          6,
          2,
          2,
          2,
          2,
          2,
          2,
          6,
          2,
          2,
          6,
          2,
          2,
          6,
          6,
          2,
          2,
          2,
          6,
          2,
          6,
          6,
          6,
          6,
          2,
          2,
          2,
          6,
          6,
          6,
          6,
          2,
          2,
          2,
          2,
          2,
          6,
          6,
          2,
          2,
          6,
          2,
          6,
          2,
          2,
          6,
          6,
          6,
          2,
          6,
          6,
          2,
          2,
          2,
          6,
          2,
          6,
          6,
          6,
          2,
          2,
          2,
          6,
          2,
          2,
          6,
          2,
          6,
          6,
          2,
          6,
          2,
          2,
          2,
          2,
          6,
          6,
          2,
          6,
          6,
          6,
          6,
          2,
          6,
          6,
          2,
          6,
          2,
          6,
          2,
          2,
          6,
          6,
          6,
          6,
          6,
          2,
          2,
          2,
          6,
          2,
          6,
          2,
          6,
          2,
          6,
          2,
          6,
          2,
          6,
          6,
          6,
          6,
          2,
          2,
          2,
          2,
          2,
          6,
          2,
          2,
          6,
          2,
          6,
          6,
          6,
          6,
          2,
          2,
          2,
          6,
          6,
          6,
          2,
          6,
          6,
          6,
          6,
          2,
          6,
          2,
          2,
          6,
          6,
          2,
          6,
          6,
          2,
          6,
          2,
          6,
          6,
          6,
          6,
          2,
          6,
          2,
          2,
          2,
          6,
          2,
          2,
          2,
          6,
          6,
          2,
          6,
          6,
          6,
          2,
          6,
          6,
          2,
          6,
          6,
          6,
          2,
          6,
          6,
          6,
          6,
          2,
          6,
          2,
          6,
          6,
          2,
          2,
          6,
          6,
          6,
          2,
          2,
          6,
          6,
          2,
          6,
          2,
          2,
          6,
          6,
          2,
          2,
          2,
          2,
          6,
          6,
          2,
          2,
          6,
          6,
          6,
          2,
          6,
          6,
          2,
          2,
          6,
          2,
          6,
          6,
          6,
          6,
          2,
          6,
          6,
          6,
          6,
          2,
          6,
          2,
          2,
          6,
          6,
          2,
          6,
          2,
          2,
          2,
          6,
          2,
          6,
          2,
          2,
          6,
          6,
          2,
          2,
          6,
          6,
          6,
          2,
          2,
          2,
          2,
          6,
          2,
          6,
          2,
          2,
          2,
          2,
          6,
          2,
          6,
          2,
          2,
          2,
          6,
          6,
          2,
          2,
          2,
          2,
          6,
          2,
          2,
          2,
          2,
          6,
          2,
          2,
          6,
          2,
          2,
          6,
          6,
          6,
          6,
          2,
          2,
          6,
          6,
          6,
          6,
          2,
          2,
          2,
          6,
          6,
          2,
          6,
          2,
          2,
          6,
          2,
          6,
          2,
          6,
          2,
          2,
          6,
          2,
          2,
          6,
          2,
          6,
          6,
          2,
          6,
          6,
          2,
          6,
          2,
          6,
          2,
          6,
          6,
          2,
          6,
          2,
          2,
          6,
          6,
          6,
          2,
          6,
          2,
          6,
          6,
          6,
          2,
          2,
          6,
          6,
          2,
          6,
          2,
          6,
          6,
          6,
          2,
          2,
          6,
          6,
          2,
          2,
          2,
          6,
          6,
          2,
          6,
          6,
          2,
          2,
          6,
          6,
          2,
          6,
          6,
          6,
          2,
          2,
          2,
          2,
          6,
          2,
          2,
          2,
          6,
          2,
          2,
          6,
          6,
          6,
          2,
          6,
          6,
          2,
          2,
          2,
          6,
          2,
          6,
          2,
          2,
          6,
          6,
          2,
          6,
          6,
          6,
          2,
          6,
          6,
          6,
          6,
          2,
          2,
          2,
          2,
          6,
          2,
          6,
          6,
          6,
          2,
          6,
          2,
          2,
          6,
          6,
          2,
          6,
          2,
          6,
          2,
          6,
          2,
          2,
          6,
          2,
          6,
          2,
          6,
          2,
          2,
          2,
          6,
          6,
          2,
          2,
          6,
          2,
          2,
          2,
          6,
          6,
          6,
          2,
          6,
          2,
          6,
          6,
          6,
          2,
          2,
          6,
          6,
          2,
          2,
          2,
          2,
          6,
          2,
          2,
          2,
          6,
          6,
          6,
          6,
          2,
          2,
          6,
          6,
          2,
          2,
          6,
          6,
          2,
          6,
          6,
          6,
          6,
          6,
          6,
          6,
          2,
          6,
          2,
          6,
          6,
          2,
          6,
          6,
          2,
          2,
          6,
          6,
          2,
          2,
          6,
          2,
          2,
          2,
          6,
          6,
          2,
          2,
          6,
          6,
          6,
          2,
          6,
          6,
          2,
          2,
          6,
          2,
          6,
          6,
          6,
          2,
          2,
          2,
          6,
          6,
          6,
          2,
          2,
          6,
          6,
          2,
          2,
          2,
          2,
          6,
          2,
          6,
          2,
          6,
          2,
          6,
          6,
          2,
          6,
          2,
          2,
          6,
          6,
          6,
          2,
          2,
          6,
          2,
          6,
          2,
          2,
          6,
          6,
          6,
          6,
          2,
          2,
          2,
          2,
          2,
          6,
          6,
          6,
          2,
          2,
          6,
          6,
          6,
          6,
          6,
          2,
          6,
          6,
          2,
          6,
          6,
          2,
          2,
          2,
          2,
          2,
          6,
          2,
          6,
          2,
          2,
          6,
          6,
          6,
          6,
          6,
          6,
          2,
          2,
          2,
          6,
          6,
          6,
          6,
          6,
          2,
          6,
          6,
          6,
          6,
          6,
          6,
          6,
          6,
          2,
          2,
          6,
          2,
          2,
          6,
          2,
          6,
          6,
          2,
          6,
          6,
          2,
          2,
          2,
          2,
          2,
          6,
          2,
          2,
          6,
          2,
          2,
          2,
          2,
          6,
          2,
          2,
          6,
          2,
          2,
          6,
          2,
          2,
          6,
          2,
          2,
          2,
          2,
          2,
          2,
          2,
          2,
          2,
          2,
          2,
          2,
          2,
          2,
          2,
          6,
          2,
          2,
          2,
          2,
          6,
          2,
          2,
          2,
          2,
          2,
          2,
          2,
          2,
          2,
          2,
          2,
          2,
          2,
          2,
          2,
          2,
          6,
          2,
          2,
          2,
          2,
          2,
          2,
          2,
          2,
          6,
          2,
          6,
          2,
          2,
          2,
          2,
          6,
          6,
          2,
          2,
          6,
          6,
          2,
          2,
          2,
          6,
          2,
          6,
          2,
          2,
          2,
          2,
          2,
          6,
          2,
          2,
          6,
          6,
          2,
          2,
          6,
          2,
          6,
          6,
          6,
          6,
          6,
          6,
          6,
          6,
          6,
          6,
          6,
          6,
          2,
          6,
          6,
          2,
          6,
          6,
          6,
          2,
          2,
          6,
          6,
          2,
          6,
          2,
          6,
          6,
          2,
          6,
          2,
          2,
          6,
          2,
          6,
          6,
          2,
          6,
          6,
          2,
          6,
          6,
          2,
          6,
          6,
          2,
          6,
          2,
          6,
          6,
          6,
          6,
          6,
          6,
          2,
          6,
          6,
          6,
          6,
          6,
          6,
          6,
          6,
          2,
          6,
          6,
          6,
          6,
          6,
          6,
          6,
          6,
          6,
          6,
          6,
          6,
          6,
          6,
          6,
          6,
          6,
          6,
          6,
          6,
          6,
          2,
          6,
          6,
          6,
          6,
          6,
          6,
          6,
          6,
          6,
          6,
          6,
          6,
          6,
          6,
          6,
          6,
          6,
          6,
          6,
          6,
          6,
          6,
          6,
          6,
          2,
          6,
          6,
          6,
          6,
          2,
          2,
          2,
          6,
          6,
          2,
          6,
          2,
          6,
          2,
          6,
          2,
          6,
          6,
          2,
          2,
          6,
          6,
          6,
          2,
          6,
          6,
          6,
          6,
          2,
          6,
          6,
          2,
          2,
          6,
          6,
          6,
          2,
          6,
          6,
          6,
          6,
          6,
          6,
          6,
          6,
          6,
          6,
          2,
          6,
          6,
          6,
          6,
          6,
          2,
          6,
          6,
          2,
          6,
          6,
          6,
          6,
          6,
          6,
          2,
          2,
          2,
          6,
          2,
          6,
          6,
          6,
          2,
          6,
          2,
          6,
          6,
          2,
          6,
          2,
          6,
          2,
          6,
          2,
          6,
          2,
          6,
          6,
          2,
          2,
          6,
          6,
          2,
          2,
          6,
          2,
          2,
          6,
          6,
          2,
          6,
          6,
          2,
          2,
          6,
          6,
          2,
          6,
          6,
          6,
          6,
          6,
          2,
          2,
          6
         ]
        }
       ],
       "layout": {
        "template": {
         "data": {
          "bar": [
           {
            "error_x": {
             "color": "#2a3f5f"
            },
            "error_y": {
             "color": "#2a3f5f"
            },
            "marker": {
             "line": {
              "color": "#E5ECF6",
              "width": 0.5
             },
             "pattern": {
              "fillmode": "overlay",
              "size": 10,
              "solidity": 0.2
             }
            },
            "type": "bar"
           }
          ],
          "barpolar": [
           {
            "marker": {
             "line": {
              "color": "#E5ECF6",
              "width": 0.5
             },
             "pattern": {
              "fillmode": "overlay",
              "size": 10,
              "solidity": 0.2
             }
            },
            "type": "barpolar"
           }
          ],
          "carpet": [
           {
            "aaxis": {
             "endlinecolor": "#2a3f5f",
             "gridcolor": "white",
             "linecolor": "white",
             "minorgridcolor": "white",
             "startlinecolor": "#2a3f5f"
            },
            "baxis": {
             "endlinecolor": "#2a3f5f",
             "gridcolor": "white",
             "linecolor": "white",
             "minorgridcolor": "white",
             "startlinecolor": "#2a3f5f"
            },
            "type": "carpet"
           }
          ],
          "choropleth": [
           {
            "colorbar": {
             "outlinewidth": 0,
             "ticks": ""
            },
            "type": "choropleth"
           }
          ],
          "contour": [
           {
            "colorbar": {
             "outlinewidth": 0,
             "ticks": ""
            },
            "colorscale": [
             [
              0,
              "#0d0887"
             ],
             [
              0.1111111111111111,
              "#46039f"
             ],
             [
              0.2222222222222222,
              "#7201a8"
             ],
             [
              0.3333333333333333,
              "#9c179e"
             ],
             [
              0.4444444444444444,
              "#bd3786"
             ],
             [
              0.5555555555555556,
              "#d8576b"
             ],
             [
              0.6666666666666666,
              "#ed7953"
             ],
             [
              0.7777777777777778,
              "#fb9f3a"
             ],
             [
              0.8888888888888888,
              "#fdca26"
             ],
             [
              1,
              "#f0f921"
             ]
            ],
            "type": "contour"
           }
          ],
          "contourcarpet": [
           {
            "colorbar": {
             "outlinewidth": 0,
             "ticks": ""
            },
            "type": "contourcarpet"
           }
          ],
          "heatmap": [
           {
            "colorbar": {
             "outlinewidth": 0,
             "ticks": ""
            },
            "colorscale": [
             [
              0,
              "#0d0887"
             ],
             [
              0.1111111111111111,
              "#46039f"
             ],
             [
              0.2222222222222222,
              "#7201a8"
             ],
             [
              0.3333333333333333,
              "#9c179e"
             ],
             [
              0.4444444444444444,
              "#bd3786"
             ],
             [
              0.5555555555555556,
              "#d8576b"
             ],
             [
              0.6666666666666666,
              "#ed7953"
             ],
             [
              0.7777777777777778,
              "#fb9f3a"
             ],
             [
              0.8888888888888888,
              "#fdca26"
             ],
             [
              1,
              "#f0f921"
             ]
            ],
            "type": "heatmap"
           }
          ],
          "heatmapgl": [
           {
            "colorbar": {
             "outlinewidth": 0,
             "ticks": ""
            },
            "colorscale": [
             [
              0,
              "#0d0887"
             ],
             [
              0.1111111111111111,
              "#46039f"
             ],
             [
              0.2222222222222222,
              "#7201a8"
             ],
             [
              0.3333333333333333,
              "#9c179e"
             ],
             [
              0.4444444444444444,
              "#bd3786"
             ],
             [
              0.5555555555555556,
              "#d8576b"
             ],
             [
              0.6666666666666666,
              "#ed7953"
             ],
             [
              0.7777777777777778,
              "#fb9f3a"
             ],
             [
              0.8888888888888888,
              "#fdca26"
             ],
             [
              1,
              "#f0f921"
             ]
            ],
            "type": "heatmapgl"
           }
          ],
          "histogram": [
           {
            "marker": {
             "pattern": {
              "fillmode": "overlay",
              "size": 10,
              "solidity": 0.2
             }
            },
            "type": "histogram"
           }
          ],
          "histogram2d": [
           {
            "colorbar": {
             "outlinewidth": 0,
             "ticks": ""
            },
            "colorscale": [
             [
              0,
              "#0d0887"
             ],
             [
              0.1111111111111111,
              "#46039f"
             ],
             [
              0.2222222222222222,
              "#7201a8"
             ],
             [
              0.3333333333333333,
              "#9c179e"
             ],
             [
              0.4444444444444444,
              "#bd3786"
             ],
             [
              0.5555555555555556,
              "#d8576b"
             ],
             [
              0.6666666666666666,
              "#ed7953"
             ],
             [
              0.7777777777777778,
              "#fb9f3a"
             ],
             [
              0.8888888888888888,
              "#fdca26"
             ],
             [
              1,
              "#f0f921"
             ]
            ],
            "type": "histogram2d"
           }
          ],
          "histogram2dcontour": [
           {
            "colorbar": {
             "outlinewidth": 0,
             "ticks": ""
            },
            "colorscale": [
             [
              0,
              "#0d0887"
             ],
             [
              0.1111111111111111,
              "#46039f"
             ],
             [
              0.2222222222222222,
              "#7201a8"
             ],
             [
              0.3333333333333333,
              "#9c179e"
             ],
             [
              0.4444444444444444,
              "#bd3786"
             ],
             [
              0.5555555555555556,
              "#d8576b"
             ],
             [
              0.6666666666666666,
              "#ed7953"
             ],
             [
              0.7777777777777778,
              "#fb9f3a"
             ],
             [
              0.8888888888888888,
              "#fdca26"
             ],
             [
              1,
              "#f0f921"
             ]
            ],
            "type": "histogram2dcontour"
           }
          ],
          "mesh3d": [
           {
            "colorbar": {
             "outlinewidth": 0,
             "ticks": ""
            },
            "type": "mesh3d"
           }
          ],
          "parcoords": [
           {
            "line": {
             "colorbar": {
              "outlinewidth": 0,
              "ticks": ""
             }
            },
            "type": "parcoords"
           }
          ],
          "pie": [
           {
            "automargin": true,
            "type": "pie"
           }
          ],
          "scatter": [
           {
            "fillpattern": {
             "fillmode": "overlay",
             "size": 10,
             "solidity": 0.2
            },
            "type": "scatter"
           }
          ],
          "scatter3d": [
           {
            "line": {
             "colorbar": {
              "outlinewidth": 0,
              "ticks": ""
             }
            },
            "marker": {
             "colorbar": {
              "outlinewidth": 0,
              "ticks": ""
             }
            },
            "type": "scatter3d"
           }
          ],
          "scattercarpet": [
           {
            "marker": {
             "colorbar": {
              "outlinewidth": 0,
              "ticks": ""
             }
            },
            "type": "scattercarpet"
           }
          ],
          "scattergeo": [
           {
            "marker": {
             "colorbar": {
              "outlinewidth": 0,
              "ticks": ""
             }
            },
            "type": "scattergeo"
           }
          ],
          "scattergl": [
           {
            "marker": {
             "colorbar": {
              "outlinewidth": 0,
              "ticks": ""
             }
            },
            "type": "scattergl"
           }
          ],
          "scattermapbox": [
           {
            "marker": {
             "colorbar": {
              "outlinewidth": 0,
              "ticks": ""
             }
            },
            "type": "scattermapbox"
           }
          ],
          "scatterpolar": [
           {
            "marker": {
             "colorbar": {
              "outlinewidth": 0,
              "ticks": ""
             }
            },
            "type": "scatterpolar"
           }
          ],
          "scatterpolargl": [
           {
            "marker": {
             "colorbar": {
              "outlinewidth": 0,
              "ticks": ""
             }
            },
            "type": "scatterpolargl"
           }
          ],
          "scatterternary": [
           {
            "marker": {
             "colorbar": {
              "outlinewidth": 0,
              "ticks": ""
             }
            },
            "type": "scatterternary"
           }
          ],
          "surface": [
           {
            "colorbar": {
             "outlinewidth": 0,
             "ticks": ""
            },
            "colorscale": [
             [
              0,
              "#0d0887"
             ],
             [
              0.1111111111111111,
              "#46039f"
             ],
             [
              0.2222222222222222,
              "#7201a8"
             ],
             [
              0.3333333333333333,
              "#9c179e"
             ],
             [
              0.4444444444444444,
              "#bd3786"
             ],
             [
              0.5555555555555556,
              "#d8576b"
             ],
             [
              0.6666666666666666,
              "#ed7953"
             ],
             [
              0.7777777777777778,
              "#fb9f3a"
             ],
             [
              0.8888888888888888,
              "#fdca26"
             ],
             [
              1,
              "#f0f921"
             ]
            ],
            "type": "surface"
           }
          ],
          "table": [
           {
            "cells": {
             "fill": {
              "color": "#EBF0F8"
             },
             "line": {
              "color": "white"
             }
            },
            "header": {
             "fill": {
              "color": "#C8D4E3"
             },
             "line": {
              "color": "white"
             }
            },
            "type": "table"
           }
          ]
         },
         "layout": {
          "annotationdefaults": {
           "arrowcolor": "#2a3f5f",
           "arrowhead": 0,
           "arrowwidth": 1
          },
          "autotypenumbers": "strict",
          "coloraxis": {
           "colorbar": {
            "outlinewidth": 0,
            "ticks": ""
           }
          },
          "colorscale": {
           "diverging": [
            [
             0,
             "#8e0152"
            ],
            [
             0.1,
             "#c51b7d"
            ],
            [
             0.2,
             "#de77ae"
            ],
            [
             0.3,
             "#f1b6da"
            ],
            [
             0.4,
             "#fde0ef"
            ],
            [
             0.5,
             "#f7f7f7"
            ],
            [
             0.6,
             "#e6f5d0"
            ],
            [
             0.7,
             "#b8e186"
            ],
            [
             0.8,
             "#7fbc41"
            ],
            [
             0.9,
             "#4d9221"
            ],
            [
             1,
             "#276419"
            ]
           ],
           "sequential": [
            [
             0,
             "#0d0887"
            ],
            [
             0.1111111111111111,
             "#46039f"
            ],
            [
             0.2222222222222222,
             "#7201a8"
            ],
            [
             0.3333333333333333,
             "#9c179e"
            ],
            [
             0.4444444444444444,
             "#bd3786"
            ],
            [
             0.5555555555555556,
             "#d8576b"
            ],
            [
             0.6666666666666666,
             "#ed7953"
            ],
            [
             0.7777777777777778,
             "#fb9f3a"
            ],
            [
             0.8888888888888888,
             "#fdca26"
            ],
            [
             1,
             "#f0f921"
            ]
           ],
           "sequentialminus": [
            [
             0,
             "#0d0887"
            ],
            [
             0.1111111111111111,
             "#46039f"
            ],
            [
             0.2222222222222222,
             "#7201a8"
            ],
            [
             0.3333333333333333,
             "#9c179e"
            ],
            [
             0.4444444444444444,
             "#bd3786"
            ],
            [
             0.5555555555555556,
             "#d8576b"
            ],
            [
             0.6666666666666666,
             "#ed7953"
            ],
            [
             0.7777777777777778,
             "#fb9f3a"
            ],
            [
             0.8888888888888888,
             "#fdca26"
            ],
            [
             1,
             "#f0f921"
            ]
           ]
          },
          "colorway": [
           "#636efa",
           "#EF553B",
           "#00cc96",
           "#ab63fa",
           "#FFA15A",
           "#19d3f3",
           "#FF6692",
           "#B6E880",
           "#FF97FF",
           "#FECB52"
          ],
          "font": {
           "color": "#2a3f5f"
          },
          "geo": {
           "bgcolor": "white",
           "lakecolor": "white",
           "landcolor": "#E5ECF6",
           "showlakes": true,
           "showland": true,
           "subunitcolor": "white"
          },
          "hoverlabel": {
           "align": "left"
          },
          "hovermode": "closest",
          "mapbox": {
           "style": "light"
          },
          "paper_bgcolor": "white",
          "plot_bgcolor": "#E5ECF6",
          "polar": {
           "angularaxis": {
            "gridcolor": "white",
            "linecolor": "white",
            "ticks": ""
           },
           "bgcolor": "#E5ECF6",
           "radialaxis": {
            "gridcolor": "white",
            "linecolor": "white",
            "ticks": ""
           }
          },
          "scene": {
           "xaxis": {
            "backgroundcolor": "#E5ECF6",
            "gridcolor": "white",
            "gridwidth": 2,
            "linecolor": "white",
            "showbackground": true,
            "ticks": "",
            "zerolinecolor": "white"
           },
           "yaxis": {
            "backgroundcolor": "#E5ECF6",
            "gridcolor": "white",
            "gridwidth": 2,
            "linecolor": "white",
            "showbackground": true,
            "ticks": "",
            "zerolinecolor": "white"
           },
           "zaxis": {
            "backgroundcolor": "#E5ECF6",
            "gridcolor": "white",
            "gridwidth": 2,
            "linecolor": "white",
            "showbackground": true,
            "ticks": "",
            "zerolinecolor": "white"
           }
          },
          "shapedefaults": {
           "line": {
            "color": "#2a3f5f"
           }
          },
          "ternary": {
           "aaxis": {
            "gridcolor": "white",
            "linecolor": "white",
            "ticks": ""
           },
           "baxis": {
            "gridcolor": "white",
            "linecolor": "white",
            "ticks": ""
           },
           "bgcolor": "#E5ECF6",
           "caxis": {
            "gridcolor": "white",
            "linecolor": "white",
            "ticks": ""
           }
          },
          "title": {
           "x": 0.05
          },
          "xaxis": {
           "automargin": true,
           "gridcolor": "white",
           "linecolor": "white",
           "ticks": "",
           "title": {
            "standoff": 15
           },
           "zerolinecolor": "white",
           "zerolinewidth": 2
          },
          "yaxis": {
           "automargin": true,
           "gridcolor": "white",
           "linecolor": "white",
           "ticks": "",
           "title": {
            "standoff": 15
           },
           "zerolinecolor": "white",
           "zerolinewidth": 2
          }
         }
        },
        "title": {
         "text": "Distribution of Reactions"
        },
        "xaxis": {
         "title": {
          "text": "Reaction Value"
         }
        }
       }
      },
      "text/html": [
       "<div>                            <div id=\"0bdd9c57-5a69-4262-8124-8360d5c7370a\" class=\"plotly-graph-div\" style=\"height:525px; width:100%;\"></div>            <script type=\"text/javascript\">                require([\"plotly\"], function(Plotly) {                    window.PLOTLYENV=window.PLOTLYENV || {};                                    if (document.getElementById(\"0bdd9c57-5a69-4262-8124-8360d5c7370a\")) {                    Plotly.newPlot(                        \"0bdd9c57-5a69-4262-8124-8360d5c7370a\",                        [{\"name\":\"Reactions\",\"orientation\":\"h\",\"x\":[2.0,2.0,6.0,2.0,0.0,0.0,0.0,0.0,0.0,2.0,6.0,2.0,2.0,2.0,2.0,2.0,2.0,2.0,2.0,2.0,2.0,2.0,2.0,2.0,2.0,2.0,2.0,2.0,2.0,2.0,2.0,2.0,2.0,2.0,2.0,2.0,2.0,2.0,2.0,2.0,2.0,2.0,2.0,2.0,2.0,2.0,2.0,2.0,2.0,2.0,2.0,2.0,2.0,2.0,2.0,2.0,2.0,2.0,2.0,2.0,2.0,2.0,2.0,2.0,2.0,2.0,2.0,2.0,2.0,2.0,2.0,2.0,2.0,2.0,2.0,2.0,2.0,2.0,2.0,2.0,2.0,2.0,2.0,2.0,2.0,2.0,2.0,2.0,2.0,2.0,2.0,2.0,2.0,2.0,2.0,2.0,2.0,2.0,2.0,2.0,2.0,2.0,2.0,2.0,2.0,2.0,2.0,2.0,2.0,2.0,2.0,2.0,6.0,2.0,2.0,2.0,2.0,2.0,2.0,2.0,2.0,2.0,2.0,2.0,2.0,2.0,6.0,2.0,2.0,2.0,2.0,2.0,2.0,2.0,6.0,2.0,2.0,6.0,6.0,2.0,2.0,6.0,2.0,6.0,2.0,2.0,2.0,2.0,2.0,6.0,6.0,2.0,2.0,2.0,2.0,2.0,6.0,6.0,2.0,6.0,6.0,2.0,6.0,2.0,6.0,2.0,6.0,2.0,2.0,6.0,6.0,6.0,6.0,6.0,6.0,6.0,6.0,6.0,6.0,6.0,6.0,6.0,6.0,6.0,6.0,6.0,6.0,6.0,6.0,6.0,6.0,6.0,6.0,6.0,6.0,6.0,6.0,6.0,6.0,6.0,6.0,6.0,6.0,6.0,2.0,6.0,2.0,6.0,6.0,2.0,6.0,6.0,6.0,6.0,2.0,6.0,6.0,6.0,2.0,6.0,2.0,6.0,2.0,6.0,6.0,6.0,2.0,6.0,2.0,6.0,6.0,6.0,6.0,6.0,2.0,6.0,6.0,2.0,6.0,2.0,6.0,6.0,6.0,2.0,6.0,6.0,6.0,2.0,6.0,6.0,2.0,2.0,6.0,6.0,6.0,2.0,6.0,2.0,2.0,6.0,2.0,2.0,6.0,6.0,6.0,2.0,6.0,6.0,6.0,2.0,6.0,6.0,6.0,6.0,6.0,6.0,2.0,6.0,6.0,6.0,6.0,6.0,2.0,2.0,6.0,2.0,6.0,6.0,6.0,6.0,6.0,6.0,2.0,2.0,6.0,6.0,6.0,6.0,2.0,6.0,6.0,6.0,2.0,6.0,6.0,2.0,6.0,6.0,6.0,6.0,2.0,6.0,6.0,2.0,6.0,6.0,2.0,6.0,6.0,2.0,6.0,6.0,6.0,6.0,2.0,2.0,6.0,6.0,6.0,6.0,6.0,2.0,2.0,2.0,6.0,6.0,6.0,6.0,2.0,2.0,6.0,6.0,2.0,6.0,6.0,6.0,2.0,2.0,6.0,2.0,6.0,6.0,6.0,6.0,2.0,2.0,6.0,6.0,2.0,2.0,2.0,6.0,6.0,2.0,6.0,2.0,2.0,6.0,6.0,6.0,6.0,2.0,2.0,6.0,6.0,6.0,2.0,2.0,6.0,2.0,6.0,6.0,6.0,2.0,6.0,2.0,2.0,6.0,6.0,6.0,6.0,2.0,6.0,2.0,2.0,6.0,2.0,6.0,6.0,6.0,2.0,6.0,2.0,6.0,2.0,2.0,6.0,2.0,2.0,2.0,2.0,2.0,6.0,6.0,6.0,2.0,2.0,2.0,6.0,2.0,6.0,6.0,6.0,2.0,6.0,2.0,2.0,6.0,6.0,2.0,6.0,6.0,2.0,2.0,2.0,2.0,6.0,6.0,6.0,2.0,2.0,6.0,2.0,2.0,6.0,2.0,6.0,6.0,2.0,2.0,2.0,6.0,6.0,2.0,2.0,2.0,6.0,6.0,2.0,2.0,2.0,6.0,6.0,6.0,6.0,6.0,2.0,2.0,6.0,6.0,6.0,2.0,2.0,2.0,6.0,6.0,2.0,2.0,6.0,2.0,2.0,6.0,6.0,2.0,6.0,6.0,6.0,6.0,2.0,2.0,6.0,2.0,2.0,6.0,6.0,6.0,2.0,2.0,6.0,2.0,6.0,2.0,2.0,6.0,6.0,6.0,6.0,6.0,6.0,2.0,2.0,6.0,6.0,6.0,2.0,6.0,6.0,6.0,2.0,2.0,6.0,2.0,6.0,6.0,6.0,2.0,2.0,2.0,6.0,2.0,6.0,6.0,6.0,6.0,6.0,2.0,2.0,6.0,2.0,6.0,6.0,2.0,2.0,6.0,6.0,6.0,2.0,6.0,2.0,6.0,2.0,6.0,6.0,2.0,6.0,6.0,6.0,2.0,2.0,6.0,6.0,6.0,6.0,2.0,2.0,2.0,2.0,2.0,6.0,2.0,6.0,6.0,2.0,6.0,2.0,2.0,6.0,2.0,6.0,6.0,2.0,6.0,2.0,6.0,2.0,6.0,6.0,6.0,6.0,6.0,2.0,6.0,2.0,6.0,6.0,2.0,2.0,2.0,2.0,6.0,2.0,6.0,6.0,2.0,6.0,6.0,2.0,6.0,2.0,6.0,2.0,6.0,2.0,6.0,2.0,6.0,6.0,6.0,2.0,6.0,2.0,2.0,2.0,6.0,2.0,2.0,6.0,6.0,6.0,2.0,6.0,6.0,6.0,2.0,6.0,2.0,2.0,6.0,6.0,6.0,2.0,2.0,6.0,2.0,2.0,6.0,6.0,6.0,6.0,6.0,2.0,2.0,2.0,6.0,6.0,2.0,2.0,2.0,6.0,6.0,6.0,2.0,2.0,6.0,2.0,6.0,2.0,6.0,2.0,2.0,6.0,6.0,6.0,6.0,2.0,6.0,6.0,2.0,2.0,2.0,2.0,6.0,6.0,2.0,2.0,2.0,6.0,2.0,6.0,2.0,6.0,6.0,2.0,6.0,6.0,6.0,2.0,2.0,6.0,6.0,2.0,6.0,6.0,2.0,6.0,6.0,2.0,2.0,2.0,6.0,2.0,6.0,6.0,6.0,2.0,2.0,6.0,2.0,2.0,2.0,6.0,2.0,2.0,6.0,6.0,6.0,2.0,6.0,6.0,6.0,6.0,2.0,2.0,6.0,6.0,2.0,2.0,2.0,6.0,2.0,2.0,2.0,6.0,6.0,2.0,6.0,2.0,2.0,2.0,6.0,6.0,2.0,2.0,2.0,6.0,6.0,2.0,6.0,2.0,6.0,6.0,2.0,2.0,6.0,6.0,2.0,2.0,6.0,6.0,6.0,6.0,2.0,2.0,6.0,2.0,2.0,6.0,6.0,6.0,6.0,6.0,2.0,6.0,2.0,6.0,6.0,2.0,6.0,2.0,2.0,2.0,6.0,6.0,2.0,6.0,2.0,2.0,6.0,2.0,2.0,2.0,2.0,6.0,2.0,6.0,6.0,6.0,6.0,2.0,2.0,6.0,6.0,2.0,2.0,6.0,2.0,2.0,6.0,2.0,6.0,2.0,6.0,2.0,2.0,2.0,6.0,6.0,2.0,2.0,6.0,6.0,2.0,6.0,2.0,2.0,2.0,2.0,6.0,2.0,2.0,2.0,6.0,2.0,2.0,2.0,6.0,2.0,2.0,6.0,6.0,2.0,2.0,2.0,6.0,6.0,2.0,2.0,2.0,2.0,2.0,2.0,6.0,2.0,2.0,6.0,2.0,2.0,6.0,6.0,2.0,2.0,2.0,6.0,2.0,6.0,6.0,6.0,6.0,2.0,2.0,2.0,6.0,6.0,6.0,6.0,2.0,2.0,2.0,2.0,2.0,6.0,6.0,2.0,2.0,6.0,2.0,6.0,2.0,2.0,6.0,6.0,6.0,2.0,6.0,6.0,2.0,2.0,2.0,6.0,2.0,6.0,6.0,6.0,2.0,2.0,2.0,6.0,2.0,2.0,6.0,2.0,6.0,6.0,2.0,6.0,2.0,2.0,2.0,2.0,6.0,6.0,2.0,6.0,6.0,6.0,6.0,2.0,6.0,6.0,2.0,6.0,2.0,6.0,2.0,2.0,6.0,6.0,6.0,6.0,6.0,2.0,2.0,2.0,6.0,2.0,6.0,2.0,6.0,2.0,6.0,2.0,6.0,2.0,6.0,6.0,6.0,6.0,2.0,2.0,2.0,2.0,2.0,6.0,2.0,2.0,6.0,2.0,6.0,6.0,6.0,6.0,2.0,2.0,2.0,6.0,6.0,6.0,2.0,6.0,6.0,6.0,6.0,2.0,6.0,2.0,2.0,6.0,6.0,2.0,6.0,6.0,2.0,6.0,2.0,6.0,6.0,6.0,6.0,2.0,6.0,2.0,2.0,2.0,6.0,2.0,2.0,2.0,6.0,6.0,2.0,6.0,6.0,6.0,2.0,6.0,6.0,2.0,6.0,6.0,6.0,2.0,6.0,6.0,6.0,6.0,2.0,6.0,2.0,6.0,6.0,2.0,2.0,6.0,6.0,6.0,2.0,2.0,6.0,6.0,2.0,6.0,2.0,2.0,6.0,6.0,2.0,2.0,2.0,2.0,6.0,6.0,2.0,2.0,6.0,6.0,6.0,2.0,6.0,6.0,2.0,2.0,6.0,2.0,6.0,6.0,6.0,6.0,2.0,6.0,6.0,6.0,6.0,2.0,6.0,2.0,2.0,6.0,6.0,2.0,6.0,2.0,2.0,2.0,6.0,2.0,6.0,2.0,2.0,6.0,6.0,2.0,2.0,6.0,6.0,6.0,2.0,2.0,2.0,2.0,6.0,2.0,6.0,2.0,2.0,2.0,2.0,6.0,2.0,6.0,2.0,2.0,2.0,6.0,6.0,2.0,2.0,2.0,2.0,6.0,2.0,2.0,2.0,2.0,6.0,2.0,2.0,6.0,2.0,2.0,6.0,6.0,6.0,6.0,2.0,2.0,6.0,6.0,6.0,6.0,2.0,2.0,2.0,6.0,6.0,2.0,6.0,2.0,2.0,6.0,2.0,6.0,2.0,6.0,2.0,2.0,6.0,2.0,2.0,6.0,2.0,6.0,6.0,2.0,6.0,6.0,2.0,6.0,2.0,6.0,2.0,6.0,6.0,2.0,6.0,2.0,2.0,6.0,6.0,6.0,2.0,6.0,2.0,6.0,6.0,6.0,2.0,2.0,6.0,6.0,2.0,6.0,2.0,6.0,6.0,6.0,2.0,2.0,6.0,6.0,2.0,2.0,2.0,6.0,6.0,2.0,6.0,6.0,2.0,2.0,6.0,6.0,2.0,6.0,6.0,6.0,2.0,2.0,2.0,2.0,6.0,2.0,2.0,2.0,6.0,2.0,2.0,6.0,6.0,6.0,2.0,6.0,6.0,2.0,2.0,2.0,6.0,2.0,6.0,2.0,2.0,6.0,6.0,2.0,6.0,6.0,6.0,2.0,6.0,6.0,6.0,6.0,2.0,2.0,2.0,2.0,6.0,2.0,6.0,6.0,6.0,2.0,6.0,2.0,2.0,6.0,6.0,2.0,6.0,2.0,6.0,2.0,6.0,2.0,2.0,6.0,2.0,6.0,2.0,6.0,2.0,2.0,2.0,6.0,6.0,2.0,2.0,6.0,2.0,2.0,2.0,6.0,6.0,6.0,2.0,6.0,2.0,6.0,6.0,6.0,2.0,2.0,6.0,6.0,2.0,2.0,2.0,2.0,6.0,2.0,2.0,2.0,6.0,6.0,6.0,6.0,2.0,2.0,6.0,6.0,2.0,2.0,6.0,6.0,2.0,6.0,6.0,6.0,6.0,6.0,6.0,6.0,2.0,6.0,2.0,6.0,6.0,2.0,6.0,6.0,2.0,2.0,6.0,6.0,2.0,2.0,6.0,2.0,2.0,2.0,6.0,6.0,2.0,2.0,6.0,6.0,6.0,2.0,6.0,6.0,2.0,2.0,6.0,2.0,6.0,6.0,6.0,2.0,2.0,2.0,6.0,6.0,6.0,2.0,2.0,6.0,6.0,2.0,2.0,2.0,2.0,6.0,2.0,6.0,2.0,6.0,2.0,6.0,6.0,2.0,6.0,2.0,2.0,6.0,6.0,6.0,2.0,2.0,6.0,2.0,6.0,2.0,2.0,6.0,6.0,6.0,6.0,2.0,2.0,2.0,2.0,2.0,6.0,6.0,6.0,2.0,2.0,6.0,6.0,6.0,6.0,6.0,2.0,6.0,6.0,2.0,6.0,6.0,2.0,2.0,2.0,2.0,2.0,6.0,2.0,6.0,2.0,2.0,6.0,6.0,6.0,6.0,6.0,6.0,2.0,2.0,2.0,6.0,6.0,6.0,6.0,6.0,2.0,6.0,6.0,6.0,6.0,6.0,6.0,6.0,6.0,2.0,2.0,6.0,2.0,2.0,6.0,2.0,6.0,6.0,2.0,6.0,6.0,2.0,2.0,2.0,2.0,2.0,6.0,2.0,2.0,6.0,2.0,2.0,2.0,2.0,6.0,2.0,2.0,6.0,2.0,2.0,6.0,2.0,2.0,6.0,2.0,2.0,2.0,2.0,2.0,2.0,2.0,2.0,2.0,2.0,2.0,2.0,2.0,2.0,2.0,6.0,2.0,2.0,2.0,2.0,6.0,2.0,2.0,2.0,2.0,2.0,2.0,2.0,2.0,2.0,2.0,2.0,2.0,2.0,2.0,2.0,2.0,6.0,2.0,2.0,2.0,2.0,2.0,2.0,2.0,2.0,6.0,2.0,6.0,2.0,2.0,2.0,2.0,6.0,6.0,2.0,2.0,6.0,6.0,2.0,2.0,2.0,6.0,2.0,6.0,2.0,2.0,2.0,2.0,2.0,6.0,2.0,2.0,6.0,6.0,2.0,2.0,6.0,2.0,6.0,6.0,6.0,6.0,6.0,6.0,6.0,6.0,6.0,6.0,6.0,6.0,2.0,6.0,6.0,2.0,6.0,6.0,6.0,2.0,2.0,6.0,6.0,2.0,6.0,2.0,6.0,6.0,2.0,6.0,2.0,2.0,6.0,2.0,6.0,6.0,2.0,6.0,6.0,2.0,6.0,6.0,2.0,6.0,6.0,2.0,6.0,2.0,6.0,6.0,6.0,6.0,6.0,6.0,2.0,6.0,6.0,6.0,6.0,6.0,6.0,6.0,6.0,2.0,6.0,6.0,6.0,6.0,6.0,6.0,6.0,6.0,6.0,6.0,6.0,6.0,6.0,6.0,6.0,6.0,6.0,6.0,6.0,6.0,6.0,2.0,6.0,6.0,6.0,6.0,6.0,6.0,6.0,6.0,6.0,6.0,6.0,6.0,6.0,6.0,6.0,6.0,6.0,6.0,6.0,6.0,6.0,6.0,6.0,6.0,2.0,6.0,6.0,6.0,6.0,2.0,2.0,2.0,6.0,6.0,2.0,6.0,2.0,6.0,2.0,6.0,2.0,6.0,6.0,2.0,2.0,6.0,6.0,6.0,2.0,6.0,6.0,6.0,6.0,2.0,6.0,6.0,2.0,2.0,6.0,6.0,6.0,2.0,6.0,6.0,6.0,6.0,6.0,6.0,6.0,6.0,6.0,6.0,2.0,6.0,6.0,6.0,6.0,6.0,2.0,6.0,6.0,2.0,6.0,6.0,6.0,6.0,6.0,6.0,2.0,2.0,2.0,6.0,2.0,6.0,6.0,6.0,2.0,6.0,2.0,6.0,6.0,2.0,6.0,2.0,6.0,2.0,6.0,2.0,6.0,2.0,6.0,6.0,2.0,2.0,6.0,6.0,2.0,2.0,6.0,2.0,2.0,6.0,6.0,2.0,6.0,6.0,2.0,2.0,6.0,6.0,2.0,6.0,6.0,6.0,6.0,6.0,2.0,2.0,6.0],\"type\":\"box\"}],                        {\"template\":{\"data\":{\"histogram2dcontour\":[{\"type\":\"histogram2dcontour\",\"colorbar\":{\"outlinewidth\":0,\"ticks\":\"\"},\"colorscale\":[[0.0,\"#0d0887\"],[0.1111111111111111,\"#46039f\"],[0.2222222222222222,\"#7201a8\"],[0.3333333333333333,\"#9c179e\"],[0.4444444444444444,\"#bd3786\"],[0.5555555555555556,\"#d8576b\"],[0.6666666666666666,\"#ed7953\"],[0.7777777777777778,\"#fb9f3a\"],[0.8888888888888888,\"#fdca26\"],[1.0,\"#f0f921\"]]}],\"choropleth\":[{\"type\":\"choropleth\",\"colorbar\":{\"outlinewidth\":0,\"ticks\":\"\"}}],\"histogram2d\":[{\"type\":\"histogram2d\",\"colorbar\":{\"outlinewidth\":0,\"ticks\":\"\"},\"colorscale\":[[0.0,\"#0d0887\"],[0.1111111111111111,\"#46039f\"],[0.2222222222222222,\"#7201a8\"],[0.3333333333333333,\"#9c179e\"],[0.4444444444444444,\"#bd3786\"],[0.5555555555555556,\"#d8576b\"],[0.6666666666666666,\"#ed7953\"],[0.7777777777777778,\"#fb9f3a\"],[0.8888888888888888,\"#fdca26\"],[1.0,\"#f0f921\"]]}],\"heatmap\":[{\"type\":\"heatmap\",\"colorbar\":{\"outlinewidth\":0,\"ticks\":\"\"},\"colorscale\":[[0.0,\"#0d0887\"],[0.1111111111111111,\"#46039f\"],[0.2222222222222222,\"#7201a8\"],[0.3333333333333333,\"#9c179e\"],[0.4444444444444444,\"#bd3786\"],[0.5555555555555556,\"#d8576b\"],[0.6666666666666666,\"#ed7953\"],[0.7777777777777778,\"#fb9f3a\"],[0.8888888888888888,\"#fdca26\"],[1.0,\"#f0f921\"]]}],\"heatmapgl\":[{\"type\":\"heatmapgl\",\"colorbar\":{\"outlinewidth\":0,\"ticks\":\"\"},\"colorscale\":[[0.0,\"#0d0887\"],[0.1111111111111111,\"#46039f\"],[0.2222222222222222,\"#7201a8\"],[0.3333333333333333,\"#9c179e\"],[0.4444444444444444,\"#bd3786\"],[0.5555555555555556,\"#d8576b\"],[0.6666666666666666,\"#ed7953\"],[0.7777777777777778,\"#fb9f3a\"],[0.8888888888888888,\"#fdca26\"],[1.0,\"#f0f921\"]]}],\"contourcarpet\":[{\"type\":\"contourcarpet\",\"colorbar\":{\"outlinewidth\":0,\"ticks\":\"\"}}],\"contour\":[{\"type\":\"contour\",\"colorbar\":{\"outlinewidth\":0,\"ticks\":\"\"},\"colorscale\":[[0.0,\"#0d0887\"],[0.1111111111111111,\"#46039f\"],[0.2222222222222222,\"#7201a8\"],[0.3333333333333333,\"#9c179e\"],[0.4444444444444444,\"#bd3786\"],[0.5555555555555556,\"#d8576b\"],[0.6666666666666666,\"#ed7953\"],[0.7777777777777778,\"#fb9f3a\"],[0.8888888888888888,\"#fdca26\"],[1.0,\"#f0f921\"]]}],\"surface\":[{\"type\":\"surface\",\"colorbar\":{\"outlinewidth\":0,\"ticks\":\"\"},\"colorscale\":[[0.0,\"#0d0887\"],[0.1111111111111111,\"#46039f\"],[0.2222222222222222,\"#7201a8\"],[0.3333333333333333,\"#9c179e\"],[0.4444444444444444,\"#bd3786\"],[0.5555555555555556,\"#d8576b\"],[0.6666666666666666,\"#ed7953\"],[0.7777777777777778,\"#fb9f3a\"],[0.8888888888888888,\"#fdca26\"],[1.0,\"#f0f921\"]]}],\"mesh3d\":[{\"type\":\"mesh3d\",\"colorbar\":{\"outlinewidth\":0,\"ticks\":\"\"}}],\"scatter\":[{\"fillpattern\":{\"fillmode\":\"overlay\",\"size\":10,\"solidity\":0.2},\"type\":\"scatter\"}],\"parcoords\":[{\"type\":\"parcoords\",\"line\":{\"colorbar\":{\"outlinewidth\":0,\"ticks\":\"\"}}}],\"scatterpolargl\":[{\"type\":\"scatterpolargl\",\"marker\":{\"colorbar\":{\"outlinewidth\":0,\"ticks\":\"\"}}}],\"bar\":[{\"error_x\":{\"color\":\"#2a3f5f\"},\"error_y\":{\"color\":\"#2a3f5f\"},\"marker\":{\"line\":{\"color\":\"#E5ECF6\",\"width\":0.5},\"pattern\":{\"fillmode\":\"overlay\",\"size\":10,\"solidity\":0.2}},\"type\":\"bar\"}],\"scattergeo\":[{\"type\":\"scattergeo\",\"marker\":{\"colorbar\":{\"outlinewidth\":0,\"ticks\":\"\"}}}],\"scatterpolar\":[{\"type\":\"scatterpolar\",\"marker\":{\"colorbar\":{\"outlinewidth\":0,\"ticks\":\"\"}}}],\"histogram\":[{\"marker\":{\"pattern\":{\"fillmode\":\"overlay\",\"size\":10,\"solidity\":0.2}},\"type\":\"histogram\"}],\"scattergl\":[{\"type\":\"scattergl\",\"marker\":{\"colorbar\":{\"outlinewidth\":0,\"ticks\":\"\"}}}],\"scatter3d\":[{\"type\":\"scatter3d\",\"line\":{\"colorbar\":{\"outlinewidth\":0,\"ticks\":\"\"}},\"marker\":{\"colorbar\":{\"outlinewidth\":0,\"ticks\":\"\"}}}],\"scattermapbox\":[{\"type\":\"scattermapbox\",\"marker\":{\"colorbar\":{\"outlinewidth\":0,\"ticks\":\"\"}}}],\"scatterternary\":[{\"type\":\"scatterternary\",\"marker\":{\"colorbar\":{\"outlinewidth\":0,\"ticks\":\"\"}}}],\"scattercarpet\":[{\"type\":\"scattercarpet\",\"marker\":{\"colorbar\":{\"outlinewidth\":0,\"ticks\":\"\"}}}],\"carpet\":[{\"aaxis\":{\"endlinecolor\":\"#2a3f5f\",\"gridcolor\":\"white\",\"linecolor\":\"white\",\"minorgridcolor\":\"white\",\"startlinecolor\":\"#2a3f5f\"},\"baxis\":{\"endlinecolor\":\"#2a3f5f\",\"gridcolor\":\"white\",\"linecolor\":\"white\",\"minorgridcolor\":\"white\",\"startlinecolor\":\"#2a3f5f\"},\"type\":\"carpet\"}],\"table\":[{\"cells\":{\"fill\":{\"color\":\"#EBF0F8\"},\"line\":{\"color\":\"white\"}},\"header\":{\"fill\":{\"color\":\"#C8D4E3\"},\"line\":{\"color\":\"white\"}},\"type\":\"table\"}],\"barpolar\":[{\"marker\":{\"line\":{\"color\":\"#E5ECF6\",\"width\":0.5},\"pattern\":{\"fillmode\":\"overlay\",\"size\":10,\"solidity\":0.2}},\"type\":\"barpolar\"}],\"pie\":[{\"automargin\":true,\"type\":\"pie\"}]},\"layout\":{\"autotypenumbers\":\"strict\",\"colorway\":[\"#636efa\",\"#EF553B\",\"#00cc96\",\"#ab63fa\",\"#FFA15A\",\"#19d3f3\",\"#FF6692\",\"#B6E880\",\"#FF97FF\",\"#FECB52\"],\"font\":{\"color\":\"#2a3f5f\"},\"hovermode\":\"closest\",\"hoverlabel\":{\"align\":\"left\"},\"paper_bgcolor\":\"white\",\"plot_bgcolor\":\"#E5ECF6\",\"polar\":{\"bgcolor\":\"#E5ECF6\",\"angularaxis\":{\"gridcolor\":\"white\",\"linecolor\":\"white\",\"ticks\":\"\"},\"radialaxis\":{\"gridcolor\":\"white\",\"linecolor\":\"white\",\"ticks\":\"\"}},\"ternary\":{\"bgcolor\":\"#E5ECF6\",\"aaxis\":{\"gridcolor\":\"white\",\"linecolor\":\"white\",\"ticks\":\"\"},\"baxis\":{\"gridcolor\":\"white\",\"linecolor\":\"white\",\"ticks\":\"\"},\"caxis\":{\"gridcolor\":\"white\",\"linecolor\":\"white\",\"ticks\":\"\"}},\"coloraxis\":{\"colorbar\":{\"outlinewidth\":0,\"ticks\":\"\"}},\"colorscale\":{\"sequential\":[[0.0,\"#0d0887\"],[0.1111111111111111,\"#46039f\"],[0.2222222222222222,\"#7201a8\"],[0.3333333333333333,\"#9c179e\"],[0.4444444444444444,\"#bd3786\"],[0.5555555555555556,\"#d8576b\"],[0.6666666666666666,\"#ed7953\"],[0.7777777777777778,\"#fb9f3a\"],[0.8888888888888888,\"#fdca26\"],[1.0,\"#f0f921\"]],\"sequentialminus\":[[0.0,\"#0d0887\"],[0.1111111111111111,\"#46039f\"],[0.2222222222222222,\"#7201a8\"],[0.3333333333333333,\"#9c179e\"],[0.4444444444444444,\"#bd3786\"],[0.5555555555555556,\"#d8576b\"],[0.6666666666666666,\"#ed7953\"],[0.7777777777777778,\"#fb9f3a\"],[0.8888888888888888,\"#fdca26\"],[1.0,\"#f0f921\"]],\"diverging\":[[0,\"#8e0152\"],[0.1,\"#c51b7d\"],[0.2,\"#de77ae\"],[0.3,\"#f1b6da\"],[0.4,\"#fde0ef\"],[0.5,\"#f7f7f7\"],[0.6,\"#e6f5d0\"],[0.7,\"#b8e186\"],[0.8,\"#7fbc41\"],[0.9,\"#4d9221\"],[1,\"#276419\"]]},\"xaxis\":{\"gridcolor\":\"white\",\"linecolor\":\"white\",\"ticks\":\"\",\"title\":{\"standoff\":15},\"zerolinecolor\":\"white\",\"automargin\":true,\"zerolinewidth\":2},\"yaxis\":{\"gridcolor\":\"white\",\"linecolor\":\"white\",\"ticks\":\"\",\"title\":{\"standoff\":15},\"zerolinecolor\":\"white\",\"automargin\":true,\"zerolinewidth\":2},\"scene\":{\"xaxis\":{\"backgroundcolor\":\"#E5ECF6\",\"gridcolor\":\"white\",\"linecolor\":\"white\",\"showbackground\":true,\"ticks\":\"\",\"zerolinecolor\":\"white\",\"gridwidth\":2},\"yaxis\":{\"backgroundcolor\":\"#E5ECF6\",\"gridcolor\":\"white\",\"linecolor\":\"white\",\"showbackground\":true,\"ticks\":\"\",\"zerolinecolor\":\"white\",\"gridwidth\":2},\"zaxis\":{\"backgroundcolor\":\"#E5ECF6\",\"gridcolor\":\"white\",\"linecolor\":\"white\",\"showbackground\":true,\"ticks\":\"\",\"zerolinecolor\":\"white\",\"gridwidth\":2}},\"shapedefaults\":{\"line\":{\"color\":\"#2a3f5f\"}},\"annotationdefaults\":{\"arrowcolor\":\"#2a3f5f\",\"arrowhead\":0,\"arrowwidth\":1},\"geo\":{\"bgcolor\":\"white\",\"landcolor\":\"#E5ECF6\",\"subunitcolor\":\"white\",\"showland\":true,\"showlakes\":true,\"lakecolor\":\"white\"},\"title\":{\"x\":0.05},\"mapbox\":{\"style\":\"light\"}}},\"title\":{\"text\":\"Distribution of Reactions\"},\"xaxis\":{\"title\":{\"text\":\"Reaction Value\"}}},                        {\"responsive\": true}                    ).then(function(){\n",
       "                            \n",
       "var gd = document.getElementById('0bdd9c57-5a69-4262-8124-8360d5c7370a');\n",
       "var x = new MutationObserver(function (mutations, observer) {{\n",
       "        var display = window.getComputedStyle(gd).display;\n",
       "        if (!display || display === 'none') {{\n",
       "            console.log([gd, 'removed!']);\n",
       "            Plotly.purge(gd);\n",
       "            observer.disconnect();\n",
       "        }}\n",
       "}});\n",
       "\n",
       "// Listen for the removal of the full notebook cells\n",
       "var notebookContainer = gd.closest('#notebook-container');\n",
       "if (notebookContainer) {{\n",
       "    x.observe(notebookContainer, {childList: true});\n",
       "}}\n",
       "\n",
       "// Listen for the clearing of the current output cell\n",
       "var outputEl = gd.closest('.output');\n",
       "if (outputEl) {{\n",
       "    x.observe(outputEl, {childList: true});\n",
       "}}\n",
       "\n",
       "                        })                };                });            </script>        </div>"
      ]
     },
     "metadata": {},
     "output_type": "display_data"
    }
   ],
   "source": [
    "emoji_mapping = {\n",
    "    '🙁': 1,\n",
    "    '👎': 2,\n",
    "    '🙄': 3,\n",
    "    '🙂': 4,\n",
    "    '😆': 5,\n",
    "    '👍': 6,\n",
    "    '👏': 7,\n",
    "    '😍': 8,\n",
    "}\n",
    "\n",
    "data['reaction_value'] = data['reaction'].map(emoji_mapping).fillna(0)\n",
    "\n",
    "fig = go.Figure()\n",
    "fig.add_trace(go.Box(x=data['reaction_value'], name='Reactions', orientation='h'))\n",
    "fig.update_layout(\n",
    "    title='Distribution of Reactions',\n",
    "    xaxis=dict(title='Reaction Value')\n",
    ")\n",
    "fig.show()"
   ]
  },
  {
   "cell_type": "markdown",
   "id": "57b8efad-14d8-4b3e-9c1a-559d4619b14a",
   "metadata": {},
   "source": [
    "# Correlation of the feeling of reactions and how many times the client has pressed the button"
   ]
  },
  {
   "cell_type": "code",
   "execution_count": 18,
   "id": "87bc7afa-6599-4386-9d1b-946df93ce50d",
   "metadata": {
    "tags": []
   },
   "outputs": [
    {
     "data": {
      "application/vnd.plotly.v1+json": {
       "config": {
        "plotlyServerURL": "https://plot.ly"
       },
       "data": [
        {
         "autobinx": false,
         "autobiny": false,
         "colorscale": [
          [
           0,
           "#440154"
          ],
          [
           0.1111111111111111,
           "#482878"
          ],
          [
           0.2222222222222222,
           "#3e4989"
          ],
          [
           0.3333333333333333,
           "#31688e"
          ],
          [
           0.4444444444444444,
           "#26828e"
          ],
          [
           0.5555555555555556,
           "#1f9e89"
          ],
          [
           0.6666666666666666,
           "#35b779"
          ],
          [
           0.7777777777777778,
           "#6ece58"
          ],
          [
           0.8888888888888888,
           "#b5de2b"
          ],
          [
           1,
           "#fde725"
          ]
         ],
         "type": "histogram2d",
         "x": [
          4,
          3,
          3,
          2,
          4,
          4,
          7,
          2,
          7,
          4,
          7,
          7,
          8,
          6,
          6,
          7,
          7,
          7,
          6,
          7,
          7,
          7,
          7,
          7,
          7,
          4,
          7,
          7,
          7,
          7,
          6,
          6,
          6,
          7,
          6,
          7,
          7,
          2,
          7,
          4,
          4,
          4,
          4,
          4,
          4,
          4,
          4,
          4,
          4,
          4,
          4,
          4,
          4,
          4,
          4,
          4,
          4,
          4,
          4,
          4,
          4,
          4,
          4,
          4,
          4,
          4,
          4,
          4,
          4,
          4,
          4,
          4,
          4,
          4,
          4,
          4,
          4,
          4,
          4,
          4,
          4,
          4,
          4,
          4,
          4,
          4,
          4,
          4,
          4,
          4,
          4,
          4,
          4,
          4,
          4,
          4,
          4,
          4,
          4,
          4,
          4,
          4,
          4,
          4,
          4,
          4,
          4,
          4,
          4,
          4,
          4,
          4,
          4,
          4,
          4,
          4,
          6,
          6,
          6,
          6,
          1,
          6,
          6,
          6,
          7,
          7,
          7,
          4,
          4,
          4,
          4,
          4,
          7,
          7,
          1,
          6,
          6,
          4,
          4,
          4,
          4,
          4,
          4,
          4,
          6,
          6,
          6,
          6,
          7,
          4,
          4,
          4,
          4,
          4,
          4,
          4,
          4,
          4,
          4,
          4,
          4,
          4,
          4,
          4,
          4,
          4,
          4,
          4,
          4,
          4,
          4,
          4,
          4,
          4,
          4,
          4,
          4,
          4,
          4,
          4,
          4,
          4,
          4,
          4,
          4,
          4,
          4,
          4,
          4,
          4,
          4,
          4,
          4,
          4,
          4,
          4,
          4,
          4,
          4,
          4,
          4,
          4,
          4,
          4,
          4,
          4,
          4,
          4,
          4,
          4,
          4,
          4,
          4,
          6,
          7,
          7,
          7,
          7,
          6,
          6,
          7,
          7,
          7,
          7,
          7,
          7,
          6,
          6,
          6,
          7,
          7,
          7,
          6,
          6,
          6,
          4,
          6,
          6,
          6,
          6,
          6,
          6,
          6,
          6,
          6,
          6,
          3,
          7,
          7,
          7,
          7,
          7,
          4,
          4,
          4,
          6,
          6,
          6,
          6,
          3,
          7,
          6,
          4,
          4,
          4,
          4,
          4,
          4,
          4,
          4,
          4,
          4,
          7,
          7,
          6,
          4,
          4,
          3,
          6,
          4,
          4,
          4,
          4,
          4,
          4,
          4,
          4,
          4,
          4,
          4,
          4,
          4,
          4,
          4,
          4,
          4,
          4,
          4,
          4,
          4,
          4,
          4,
          4,
          4,
          4,
          3,
          4,
          4,
          6,
          4,
          7,
          4,
          4,
          4,
          4,
          4,
          4,
          4,
          4,
          4,
          4,
          4,
          4,
          4,
          4,
          4,
          4,
          4,
          4,
          4,
          4,
          4,
          4,
          4,
          4,
          4,
          4,
          4,
          4,
          4,
          4,
          3,
          6,
          7,
          3,
          7,
          7,
          7,
          6,
          4,
          4,
          6,
          6,
          4,
          7,
          7,
          7,
          7,
          7,
          3,
          3,
          2,
          4,
          1,
          4,
          6,
          7,
          4,
          6,
          2,
          6,
          7,
          6,
          6,
          1,
          4,
          2,
          3,
          6,
          7,
          6,
          1,
          6,
          4,
          4,
          4,
          4,
          4,
          4,
          4,
          4,
          4,
          4,
          4,
          4,
          4,
          4,
          4,
          4,
          4,
          4,
          4,
          4,
          4,
          4,
          4,
          4,
          4,
          4,
          4,
          4,
          4,
          4,
          4,
          4,
          4,
          4,
          4,
          4,
          4,
          4,
          4,
          4,
          4,
          4,
          4,
          4,
          4,
          4,
          4,
          4,
          4,
          4,
          4,
          4,
          4,
          4,
          4,
          4,
          4,
          4,
          4,
          4,
          4,
          4,
          4,
          4,
          4,
          4,
          4,
          4,
          7,
          4,
          4,
          4,
          4,
          4,
          4,
          7,
          7,
          6,
          6,
          6,
          4,
          3,
          3,
          3,
          3,
          3,
          3,
          3,
          4,
          3,
          6,
          6,
          6,
          6,
          6,
          6,
          1,
          6,
          6,
          6,
          6,
          6,
          7,
          4,
          6,
          6,
          1,
          6,
          6,
          6,
          6,
          4,
          6,
          7,
          4,
          6,
          3,
          7,
          6,
          6,
          6,
          6,
          6,
          6,
          6,
          6,
          3,
          6,
          2,
          2,
          3,
          6,
          1,
          2,
          2,
          2,
          4,
          6,
          6,
          6,
          4,
          4,
          4,
          4,
          4,
          4,
          4,
          7,
          7,
          6,
          7,
          4,
          3,
          6,
          6,
          1,
          4,
          7,
          4,
          4,
          6,
          6,
          6,
          7,
          7,
          2,
          6,
          6,
          3,
          1,
          4,
          6,
          4,
          1,
          6,
          3,
          4,
          2,
          6,
          7,
          1,
          6,
          1,
          3,
          4,
          8,
          5,
          8,
          4,
          4,
          6,
          6,
          4,
          4,
          6,
          3,
          6,
          2,
          6,
          6,
          6,
          3,
          6,
          3,
          6,
          6,
          4,
          6,
          1,
          1,
          6,
          4,
          7,
          7,
          6
         ],
         "xbins": {
          "end": 8,
          "size": 1,
          "start": 0
         },
         "y": [
          1.6666666666666667,
          1.6666666666666667,
          1.6666666666666667,
          1,
          1,
          1.6666666666666667,
          1.6666666666666667,
          1,
          1,
          1,
          1,
          1,
          1,
          1,
          1,
          1,
          1,
          1,
          1,
          8.5,
          3,
          3,
          3,
          2,
          2,
          1.5,
          8.5,
          8.5,
          8.5,
          1,
          8.5,
          8.5,
          1,
          1.5,
          1.5,
          1.5,
          1.5,
          1,
          1,
          77,
          77,
          77,
          77,
          77,
          77,
          77,
          77,
          77,
          77,
          77,
          77,
          77,
          77,
          77,
          77,
          77,
          77,
          77,
          77,
          77,
          77,
          77,
          77,
          77,
          77,
          77,
          77,
          77,
          77,
          77,
          77,
          77,
          77,
          77,
          77,
          77,
          77,
          77,
          77,
          77,
          77,
          77,
          77,
          77,
          77,
          77,
          77,
          77,
          77,
          77,
          77,
          77,
          77,
          77,
          77,
          77,
          77,
          77,
          77,
          77,
          77,
          77,
          77,
          77,
          77,
          77,
          77,
          77,
          77,
          77,
          77,
          77,
          77,
          77,
          77,
          77,
          1,
          8.5,
          1,
          1,
          1,
          1,
          8.5,
          8.5,
          7,
          7,
          7,
          7,
          7,
          7,
          7,
          7,
          8.5,
          8.5,
          1,
          2,
          2,
          1.5,
          7,
          7,
          7,
          7,
          7,
          7,
          8.5,
          8.5,
          8.5,
          8.5,
          1,
          64,
          64,
          64,
          64,
          64,
          64,
          64,
          64,
          64,
          64,
          64,
          64,
          64,
          64,
          64,
          64,
          64,
          64,
          64,
          64,
          64,
          64,
          64,
          64,
          64,
          64,
          64,
          64,
          64,
          64,
          64,
          64,
          64,
          64,
          64,
          64,
          64,
          64,
          64,
          64,
          64,
          64,
          64,
          64,
          64,
          64,
          64,
          64,
          64,
          64,
          64,
          64,
          64,
          64,
          64,
          64,
          64,
          64,
          64,
          64,
          64,
          64,
          64,
          64,
          1,
          8.333333333333334,
          8.333333333333334,
          8.333333333333334,
          8.333333333333334,
          8.333333333333334,
          8.333333333333334,
          8.333333333333334,
          8.333333333333334,
          8.333333333333334,
          8.333333333333334,
          8.333333333333334,
          8.333333333333334,
          8.333333333333334,
          8.333333333333334,
          8.333333333333334,
          8.333333333333334,
          8.333333333333334,
          8.333333333333334,
          8.333333333333334,
          8.333333333333334,
          8.333333333333334,
          8.333333333333334,
          8.333333333333334,
          8.333333333333334,
          8.333333333333334,
          3,
          3,
          3,
          8.5,
          8.5,
          2,
          2,
          1,
          4,
          4,
          4,
          1,
          4,
          1,
          1,
          1,
          6,
          6,
          6,
          1,
          4.666666666666667,
          1,
          1,
          6,
          6,
          6,
          6,
          6,
          6,
          6,
          6,
          6,
          1,
          2,
          2,
          4.666666666666667,
          2,
          2,
          1,
          1,
          55,
          55,
          55,
          55,
          55,
          55,
          55,
          55,
          55,
          55,
          55,
          55,
          55,
          55,
          55,
          55,
          55,
          55,
          55,
          55,
          55,
          55,
          55,
          55,
          55,
          55,
          4.666666666666667,
          55,
          2.6666666666666665,
          1,
          55,
          1,
          55,
          55,
          55,
          55,
          55,
          55,
          55,
          55,
          55,
          55,
          55,
          55,
          55,
          55,
          55,
          55,
          55,
          55,
          55,
          55,
          55,
          55,
          55,
          55,
          55,
          55,
          55,
          3,
          3,
          3,
          1,
          1,
          2.6666666666666665,
          4.666666666666667,
          4.666666666666667,
          4.666666666666667,
          4.666666666666667,
          2.6666666666666665,
          1.5,
          1.5,
          1.5,
          1,
          2.6666666666666665,
          4.666666666666667,
          4.666666666666667,
          4.666666666666667,
          4.666666666666667,
          4.666666666666667,
          1,
          1,
          1,
          1,
          1,
          1,
          1,
          1,
          1,
          1,
          1,
          2,
          1.5,
          1.5,
          2,
          1,
          1,
          1,
          1,
          1,
          1,
          2.6666666666666665,
          1.5,
          1,
          67,
          67,
          67,
          67,
          67,
          67,
          67,
          67,
          67,
          67,
          67,
          67,
          67,
          67,
          67,
          67,
          67,
          67,
          67,
          67,
          67,
          67,
          67,
          67,
          67,
          67,
          67,
          67,
          67,
          67,
          67,
          67,
          67,
          67,
          67,
          67,
          67,
          67,
          67,
          67,
          67,
          67,
          67,
          67,
          67,
          67,
          67,
          67,
          67,
          67,
          67,
          67,
          67,
          67,
          67,
          67,
          67,
          67,
          67,
          67,
          67,
          67,
          67,
          67,
          67,
          67,
          67,
          2,
          5.25,
          5.25,
          5.25,
          5.25,
          5.25,
          5.25,
          5.25,
          4.666666666666667,
          5.25,
          4.666666666666667,
          1,
          1,
          2.6666666666666665,
          5.25,
          5.25,
          5.25,
          5.25,
          5.25,
          5.25,
          5.25,
          5.25,
          5.25,
          6,
          6,
          6,
          6,
          6,
          6,
          1,
          2,
          1,
          2,
          1,
          1,
          2.6666666666666665,
          1,
          1.5,
          2,
          1,
          1,
          5.25,
          5.25,
          2,
          5.25,
          1,
          1,
          5.25,
          1,
          1,
          1,
          1,
          8,
          8,
          8,
          8,
          8,
          1,
          1.5,
          1,
          2.6666666666666665,
          2,
          1.5,
          2,
          1.5,
          2,
          2,
          2,
          1.5,
          1.5,
          1,
          1,
          1,
          1,
          4,
          4,
          4,
          4,
          4,
          4,
          1,
          1,
          1,
          1,
          1,
          1,
          8,
          8,
          1,
          1.5,
          1,
          1.5,
          1,
          1,
          2,
          1,
          1.5,
          4,
          4,
          4,
          2,
          4,
          4,
          4,
          4,
          4,
          4,
          8,
          4,
          4,
          4,
          4,
          4,
          4,
          1,
          4,
          4,
          4,
          1,
          1,
          1,
          3.25,
          3.25,
          3.25,
          3.25,
          3.25,
          3.25,
          3.25,
          3.25,
          3.25,
          3.25,
          3.25,
          3,
          3,
          3.25,
          3,
          3.25,
          2,
          1,
          1,
          2,
          1,
          1,
          1,
          1,
          1,
          1,
          1
         ],
         "ybins": {
          "end": 77,
          "size": 3.85,
          "start": 0
         }
        }
       ],
       "layout": {
        "autosize": false,
        "height": 600,
        "template": {
         "data": {
          "bar": [
           {
            "error_x": {
             "color": "#2a3f5f"
            },
            "error_y": {
             "color": "#2a3f5f"
            },
            "marker": {
             "line": {
              "color": "#E5ECF6",
              "width": 0.5
             },
             "pattern": {
              "fillmode": "overlay",
              "size": 10,
              "solidity": 0.2
             }
            },
            "type": "bar"
           }
          ],
          "barpolar": [
           {
            "marker": {
             "line": {
              "color": "#E5ECF6",
              "width": 0.5
             },
             "pattern": {
              "fillmode": "overlay",
              "size": 10,
              "solidity": 0.2
             }
            },
            "type": "barpolar"
           }
          ],
          "carpet": [
           {
            "aaxis": {
             "endlinecolor": "#2a3f5f",
             "gridcolor": "white",
             "linecolor": "white",
             "minorgridcolor": "white",
             "startlinecolor": "#2a3f5f"
            },
            "baxis": {
             "endlinecolor": "#2a3f5f",
             "gridcolor": "white",
             "linecolor": "white",
             "minorgridcolor": "white",
             "startlinecolor": "#2a3f5f"
            },
            "type": "carpet"
           }
          ],
          "choropleth": [
           {
            "colorbar": {
             "outlinewidth": 0,
             "ticks": ""
            },
            "type": "choropleth"
           }
          ],
          "contour": [
           {
            "colorbar": {
             "outlinewidth": 0,
             "ticks": ""
            },
            "colorscale": [
             [
              0,
              "#0d0887"
             ],
             [
              0.1111111111111111,
              "#46039f"
             ],
             [
              0.2222222222222222,
              "#7201a8"
             ],
             [
              0.3333333333333333,
              "#9c179e"
             ],
             [
              0.4444444444444444,
              "#bd3786"
             ],
             [
              0.5555555555555556,
              "#d8576b"
             ],
             [
              0.6666666666666666,
              "#ed7953"
             ],
             [
              0.7777777777777778,
              "#fb9f3a"
             ],
             [
              0.8888888888888888,
              "#fdca26"
             ],
             [
              1,
              "#f0f921"
             ]
            ],
            "type": "contour"
           }
          ],
          "contourcarpet": [
           {
            "colorbar": {
             "outlinewidth": 0,
             "ticks": ""
            },
            "type": "contourcarpet"
           }
          ],
          "heatmap": [
           {
            "colorbar": {
             "outlinewidth": 0,
             "ticks": ""
            },
            "colorscale": [
             [
              0,
              "#0d0887"
             ],
             [
              0.1111111111111111,
              "#46039f"
             ],
             [
              0.2222222222222222,
              "#7201a8"
             ],
             [
              0.3333333333333333,
              "#9c179e"
             ],
             [
              0.4444444444444444,
              "#bd3786"
             ],
             [
              0.5555555555555556,
              "#d8576b"
             ],
             [
              0.6666666666666666,
              "#ed7953"
             ],
             [
              0.7777777777777778,
              "#fb9f3a"
             ],
             [
              0.8888888888888888,
              "#fdca26"
             ],
             [
              1,
              "#f0f921"
             ]
            ],
            "type": "heatmap"
           }
          ],
          "heatmapgl": [
           {
            "colorbar": {
             "outlinewidth": 0,
             "ticks": ""
            },
            "colorscale": [
             [
              0,
              "#0d0887"
             ],
             [
              0.1111111111111111,
              "#46039f"
             ],
             [
              0.2222222222222222,
              "#7201a8"
             ],
             [
              0.3333333333333333,
              "#9c179e"
             ],
             [
              0.4444444444444444,
              "#bd3786"
             ],
             [
              0.5555555555555556,
              "#d8576b"
             ],
             [
              0.6666666666666666,
              "#ed7953"
             ],
             [
              0.7777777777777778,
              "#fb9f3a"
             ],
             [
              0.8888888888888888,
              "#fdca26"
             ],
             [
              1,
              "#f0f921"
             ]
            ],
            "type": "heatmapgl"
           }
          ],
          "histogram": [
           {
            "marker": {
             "pattern": {
              "fillmode": "overlay",
              "size": 10,
              "solidity": 0.2
             }
            },
            "type": "histogram"
           }
          ],
          "histogram2d": [
           {
            "colorbar": {
             "outlinewidth": 0,
             "ticks": ""
            },
            "colorscale": [
             [
              0,
              "#0d0887"
             ],
             [
              0.1111111111111111,
              "#46039f"
             ],
             [
              0.2222222222222222,
              "#7201a8"
             ],
             [
              0.3333333333333333,
              "#9c179e"
             ],
             [
              0.4444444444444444,
              "#bd3786"
             ],
             [
              0.5555555555555556,
              "#d8576b"
             ],
             [
              0.6666666666666666,
              "#ed7953"
             ],
             [
              0.7777777777777778,
              "#fb9f3a"
             ],
             [
              0.8888888888888888,
              "#fdca26"
             ],
             [
              1,
              "#f0f921"
             ]
            ],
            "type": "histogram2d"
           }
          ],
          "histogram2dcontour": [
           {
            "colorbar": {
             "outlinewidth": 0,
             "ticks": ""
            },
            "colorscale": [
             [
              0,
              "#0d0887"
             ],
             [
              0.1111111111111111,
              "#46039f"
             ],
             [
              0.2222222222222222,
              "#7201a8"
             ],
             [
              0.3333333333333333,
              "#9c179e"
             ],
             [
              0.4444444444444444,
              "#bd3786"
             ],
             [
              0.5555555555555556,
              "#d8576b"
             ],
             [
              0.6666666666666666,
              "#ed7953"
             ],
             [
              0.7777777777777778,
              "#fb9f3a"
             ],
             [
              0.8888888888888888,
              "#fdca26"
             ],
             [
              1,
              "#f0f921"
             ]
            ],
            "type": "histogram2dcontour"
           }
          ],
          "mesh3d": [
           {
            "colorbar": {
             "outlinewidth": 0,
             "ticks": ""
            },
            "type": "mesh3d"
           }
          ],
          "parcoords": [
           {
            "line": {
             "colorbar": {
              "outlinewidth": 0,
              "ticks": ""
             }
            },
            "type": "parcoords"
           }
          ],
          "pie": [
           {
            "automargin": true,
            "type": "pie"
           }
          ],
          "scatter": [
           {
            "fillpattern": {
             "fillmode": "overlay",
             "size": 10,
             "solidity": 0.2
            },
            "type": "scatter"
           }
          ],
          "scatter3d": [
           {
            "line": {
             "colorbar": {
              "outlinewidth": 0,
              "ticks": ""
             }
            },
            "marker": {
             "colorbar": {
              "outlinewidth": 0,
              "ticks": ""
             }
            },
            "type": "scatter3d"
           }
          ],
          "scattercarpet": [
           {
            "marker": {
             "colorbar": {
              "outlinewidth": 0,
              "ticks": ""
             }
            },
            "type": "scattercarpet"
           }
          ],
          "scattergeo": [
           {
            "marker": {
             "colorbar": {
              "outlinewidth": 0,
              "ticks": ""
             }
            },
            "type": "scattergeo"
           }
          ],
          "scattergl": [
           {
            "marker": {
             "colorbar": {
              "outlinewidth": 0,
              "ticks": ""
             }
            },
            "type": "scattergl"
           }
          ],
          "scattermapbox": [
           {
            "marker": {
             "colorbar": {
              "outlinewidth": 0,
              "ticks": ""
             }
            },
            "type": "scattermapbox"
           }
          ],
          "scatterpolar": [
           {
            "marker": {
             "colorbar": {
              "outlinewidth": 0,
              "ticks": ""
             }
            },
            "type": "scatterpolar"
           }
          ],
          "scatterpolargl": [
           {
            "marker": {
             "colorbar": {
              "outlinewidth": 0,
              "ticks": ""
             }
            },
            "type": "scatterpolargl"
           }
          ],
          "scatterternary": [
           {
            "marker": {
             "colorbar": {
              "outlinewidth": 0,
              "ticks": ""
             }
            },
            "type": "scatterternary"
           }
          ],
          "surface": [
           {
            "colorbar": {
             "outlinewidth": 0,
             "ticks": ""
            },
            "colorscale": [
             [
              0,
              "#0d0887"
             ],
             [
              0.1111111111111111,
              "#46039f"
             ],
             [
              0.2222222222222222,
              "#7201a8"
             ],
             [
              0.3333333333333333,
              "#9c179e"
             ],
             [
              0.4444444444444444,
              "#bd3786"
             ],
             [
              0.5555555555555556,
              "#d8576b"
             ],
             [
              0.6666666666666666,
              "#ed7953"
             ],
             [
              0.7777777777777778,
              "#fb9f3a"
             ],
             [
              0.8888888888888888,
              "#fdca26"
             ],
             [
              1,
              "#f0f921"
             ]
            ],
            "type": "surface"
           }
          ],
          "table": [
           {
            "cells": {
             "fill": {
              "color": "#EBF0F8"
             },
             "line": {
              "color": "white"
             }
            },
            "header": {
             "fill": {
              "color": "#C8D4E3"
             },
             "line": {
              "color": "white"
             }
            },
            "type": "table"
           }
          ]
         },
         "layout": {
          "annotationdefaults": {
           "arrowcolor": "#2a3f5f",
           "arrowhead": 0,
           "arrowwidth": 1
          },
          "autotypenumbers": "strict",
          "coloraxis": {
           "colorbar": {
            "outlinewidth": 0,
            "ticks": ""
           }
          },
          "colorscale": {
           "diverging": [
            [
             0,
             "#8e0152"
            ],
            [
             0.1,
             "#c51b7d"
            ],
            [
             0.2,
             "#de77ae"
            ],
            [
             0.3,
             "#f1b6da"
            ],
            [
             0.4,
             "#fde0ef"
            ],
            [
             0.5,
             "#f7f7f7"
            ],
            [
             0.6,
             "#e6f5d0"
            ],
            [
             0.7,
             "#b8e186"
            ],
            [
             0.8,
             "#7fbc41"
            ],
            [
             0.9,
             "#4d9221"
            ],
            [
             1,
             "#276419"
            ]
           ],
           "sequential": [
            [
             0,
             "#0d0887"
            ],
            [
             0.1111111111111111,
             "#46039f"
            ],
            [
             0.2222222222222222,
             "#7201a8"
            ],
            [
             0.3333333333333333,
             "#9c179e"
            ],
            [
             0.4444444444444444,
             "#bd3786"
            ],
            [
             0.5555555555555556,
             "#d8576b"
            ],
            [
             0.6666666666666666,
             "#ed7953"
            ],
            [
             0.7777777777777778,
             "#fb9f3a"
            ],
            [
             0.8888888888888888,
             "#fdca26"
            ],
            [
             1,
             "#f0f921"
            ]
           ],
           "sequentialminus": [
            [
             0,
             "#0d0887"
            ],
            [
             0.1111111111111111,
             "#46039f"
            ],
            [
             0.2222222222222222,
             "#7201a8"
            ],
            [
             0.3333333333333333,
             "#9c179e"
            ],
            [
             0.4444444444444444,
             "#bd3786"
            ],
            [
             0.5555555555555556,
             "#d8576b"
            ],
            [
             0.6666666666666666,
             "#ed7953"
            ],
            [
             0.7777777777777778,
             "#fb9f3a"
            ],
            [
             0.8888888888888888,
             "#fdca26"
            ],
            [
             1,
             "#f0f921"
            ]
           ]
          },
          "colorway": [
           "#636efa",
           "#EF553B",
           "#00cc96",
           "#ab63fa",
           "#FFA15A",
           "#19d3f3",
           "#FF6692",
           "#B6E880",
           "#FF97FF",
           "#FECB52"
          ],
          "font": {
           "color": "#2a3f5f"
          },
          "geo": {
           "bgcolor": "white",
           "lakecolor": "white",
           "landcolor": "#E5ECF6",
           "showlakes": true,
           "showland": true,
           "subunitcolor": "white"
          },
          "hoverlabel": {
           "align": "left"
          },
          "hovermode": "closest",
          "mapbox": {
           "style": "light"
          },
          "paper_bgcolor": "white",
          "plot_bgcolor": "#E5ECF6",
          "polar": {
           "angularaxis": {
            "gridcolor": "white",
            "linecolor": "white",
            "ticks": ""
           },
           "bgcolor": "#E5ECF6",
           "radialaxis": {
            "gridcolor": "white",
            "linecolor": "white",
            "ticks": ""
           }
          },
          "scene": {
           "xaxis": {
            "backgroundcolor": "#E5ECF6",
            "gridcolor": "white",
            "gridwidth": 2,
            "linecolor": "white",
            "showbackground": true,
            "ticks": "",
            "zerolinecolor": "white"
           },
           "yaxis": {
            "backgroundcolor": "#E5ECF6",
            "gridcolor": "white",
            "gridwidth": 2,
            "linecolor": "white",
            "showbackground": true,
            "ticks": "",
            "zerolinecolor": "white"
           },
           "zaxis": {
            "backgroundcolor": "#E5ECF6",
            "gridcolor": "white",
            "gridwidth": 2,
            "linecolor": "white",
            "showbackground": true,
            "ticks": "",
            "zerolinecolor": "white"
           }
          },
          "shapedefaults": {
           "line": {
            "color": "#2a3f5f"
           }
          },
          "ternary": {
           "aaxis": {
            "gridcolor": "white",
            "linecolor": "white",
            "ticks": ""
           },
           "baxis": {
            "gridcolor": "white",
            "linecolor": "white",
            "ticks": ""
           },
           "bgcolor": "#E5ECF6",
           "caxis": {
            "gridcolor": "white",
            "linecolor": "white",
            "ticks": ""
           }
          },
          "title": {
           "x": 0.05
          },
          "xaxis": {
           "automargin": true,
           "gridcolor": "white",
           "linecolor": "white",
           "ticks": "",
           "title": {
            "standoff": 15
           },
           "zerolinecolor": "white",
           "zerolinewidth": 2
          },
          "yaxis": {
           "automargin": true,
           "gridcolor": "white",
           "linecolor": "white",
           "ticks": "",
           "title": {
            "standoff": 15
           },
           "zerolinecolor": "white",
           "zerolinewidth": 2
          }
         }
        },
        "title": {
         "text": "Hexbin Plot of Average Button Presses vs Reaction Numeric Value"
        },
        "width": 600,
        "xaxis": {
         "title": {
          "text": "Reaction Numeric Value"
         }
        },
        "yaxis": {
         "title": {
          "text": "Average Button Presses"
         }
        }
       }
      },
      "text/html": [
       "<div>                            <div id=\"94e0d572-cd16-4d35-8ae2-1e34994d5281\" class=\"plotly-graph-div\" style=\"height:600px; width:600px;\"></div>            <script type=\"text/javascript\">                require([\"plotly\"], function(Plotly) {                    window.PLOTLYENV=window.PLOTLYENV || {};                                    if (document.getElementById(\"94e0d572-cd16-4d35-8ae2-1e34994d5281\")) {                    Plotly.newPlot(                        \"94e0d572-cd16-4d35-8ae2-1e34994d5281\",                        [{\"autobinx\":false,\"autobiny\":false,\"colorscale\":[[0.0,\"#440154\"],[0.1111111111111111,\"#482878\"],[0.2222222222222222,\"#3e4989\"],[0.3333333333333333,\"#31688e\"],[0.4444444444444444,\"#26828e\"],[0.5555555555555556,\"#1f9e89\"],[0.6666666666666666,\"#35b779\"],[0.7777777777777778,\"#6ece58\"],[0.8888888888888888,\"#b5de2b\"],[1.0,\"#fde725\"]],\"x\":[4,3,3,2,4,4,7,2,7,4,7,7,8,6,6,7,7,7,6,7,7,7,7,7,7,4,7,7,7,7,6,6,6,7,6,7,7,2,7,4,4,4,4,4,4,4,4,4,4,4,4,4,4,4,4,4,4,4,4,4,4,4,4,4,4,4,4,4,4,4,4,4,4,4,4,4,4,4,4,4,4,4,4,4,4,4,4,4,4,4,4,4,4,4,4,4,4,4,4,4,4,4,4,4,4,4,4,4,4,4,4,4,4,4,4,4,6,6,6,6,1,6,6,6,7,7,7,4,4,4,4,4,7,7,1,6,6,4,4,4,4,4,4,4,6,6,6,6,7,4,4,4,4,4,4,4,4,4,4,4,4,4,4,4,4,4,4,4,4,4,4,4,4,4,4,4,4,4,4,4,4,4,4,4,4,4,4,4,4,4,4,4,4,4,4,4,4,4,4,4,4,4,4,4,4,4,4,4,4,4,4,4,4,6,7,7,7,7,6,6,7,7,7,7,7,7,6,6,6,7,7,7,6,6,6,4,6,6,6,6,6,6,6,6,6,6,3,7,7,7,7,7,4,4,4,6,6,6,6,3,7,6,4,4,4,4,4,4,4,4,4,4,7,7,6,4,4,3,6,4,4,4,4,4,4,4,4,4,4,4,4,4,4,4,4,4,4,4,4,4,4,4,4,4,4,3,4,4,6,4,7,4,4,4,4,4,4,4,4,4,4,4,4,4,4,4,4,4,4,4,4,4,4,4,4,4,4,4,4,4,4,3,6,7,3,7,7,7,6,4,4,6,6,4,7,7,7,7,7,3,3,2,4,1,4,6,7,4,6,2,6,7,6,6,1,4,2,3,6,7,6,1,6,4,4,4,4,4,4,4,4,4,4,4,4,4,4,4,4,4,4,4,4,4,4,4,4,4,4,4,4,4,4,4,4,4,4,4,4,4,4,4,4,4,4,4,4,4,4,4,4,4,4,4,4,4,4,4,4,4,4,4,4,4,4,4,4,4,4,4,4,7,4,4,4,4,4,4,7,7,6,6,6,4,3,3,3,3,3,3,3,4,3,6,6,6,6,6,6,1,6,6,6,6,6,7,4,6,6,1,6,6,6,6,4,6,7,4,6,3,7,6,6,6,6,6,6,6,6,3,6,2,2,3,6,1,2,2,2,4,6,6,6,4,4,4,4,4,4,4,7,7,6,7,4,3,6,6,1,4,7,4,4,6,6,6,7,7,2,6,6,3,1,4,6,4,1,6,3,4,2,6,7,1,6,1,3,4,8,5,8,4,4,6,6,4,4,6,3,6,2,6,6,6,3,6,3,6,6,4,6,1,1,6,4,7,7,6],\"xbins\":{\"end\":8,\"size\":1,\"start\":0},\"y\":[1.6666666666666667,1.6666666666666667,1.6666666666666667,1.0,1.0,1.6666666666666667,1.6666666666666667,1.0,1.0,1.0,1.0,1.0,1.0,1.0,1.0,1.0,1.0,1.0,1.0,8.5,3.0,3.0,3.0,2.0,2.0,1.5,8.5,8.5,8.5,1.0,8.5,8.5,1.0,1.5,1.5,1.5,1.5,1.0,1.0,77.0,77.0,77.0,77.0,77.0,77.0,77.0,77.0,77.0,77.0,77.0,77.0,77.0,77.0,77.0,77.0,77.0,77.0,77.0,77.0,77.0,77.0,77.0,77.0,77.0,77.0,77.0,77.0,77.0,77.0,77.0,77.0,77.0,77.0,77.0,77.0,77.0,77.0,77.0,77.0,77.0,77.0,77.0,77.0,77.0,77.0,77.0,77.0,77.0,77.0,77.0,77.0,77.0,77.0,77.0,77.0,77.0,77.0,77.0,77.0,77.0,77.0,77.0,77.0,77.0,77.0,77.0,77.0,77.0,77.0,77.0,77.0,77.0,77.0,77.0,77.0,77.0,1.0,8.5,1.0,1.0,1.0,1.0,8.5,8.5,7.0,7.0,7.0,7.0,7.0,7.0,7.0,7.0,8.5,8.5,1.0,2.0,2.0,1.5,7.0,7.0,7.0,7.0,7.0,7.0,8.5,8.5,8.5,8.5,1.0,64.0,64.0,64.0,64.0,64.0,64.0,64.0,64.0,64.0,64.0,64.0,64.0,64.0,64.0,64.0,64.0,64.0,64.0,64.0,64.0,64.0,64.0,64.0,64.0,64.0,64.0,64.0,64.0,64.0,64.0,64.0,64.0,64.0,64.0,64.0,64.0,64.0,64.0,64.0,64.0,64.0,64.0,64.0,64.0,64.0,64.0,64.0,64.0,64.0,64.0,64.0,64.0,64.0,64.0,64.0,64.0,64.0,64.0,64.0,64.0,64.0,64.0,64.0,64.0,1.0,8.333333333333334,8.333333333333334,8.333333333333334,8.333333333333334,8.333333333333334,8.333333333333334,8.333333333333334,8.333333333333334,8.333333333333334,8.333333333333334,8.333333333333334,8.333333333333334,8.333333333333334,8.333333333333334,8.333333333333334,8.333333333333334,8.333333333333334,8.333333333333334,8.333333333333334,8.333333333333334,8.333333333333334,8.333333333333334,8.333333333333334,8.333333333333334,8.333333333333334,3.0,3.0,3.0,8.5,8.5,2.0,2.0,1.0,4.0,4.0,4.0,1.0,4.0,1.0,1.0,1.0,6.0,6.0,6.0,1.0,4.666666666666667,1.0,1.0,6.0,6.0,6.0,6.0,6.0,6.0,6.0,6.0,6.0,1.0,2.0,2.0,4.666666666666667,2.0,2.0,1.0,1.0,55.0,55.0,55.0,55.0,55.0,55.0,55.0,55.0,55.0,55.0,55.0,55.0,55.0,55.0,55.0,55.0,55.0,55.0,55.0,55.0,55.0,55.0,55.0,55.0,55.0,55.0,4.666666666666667,55.0,2.6666666666666665,1.0,55.0,1.0,55.0,55.0,55.0,55.0,55.0,55.0,55.0,55.0,55.0,55.0,55.0,55.0,55.0,55.0,55.0,55.0,55.0,55.0,55.0,55.0,55.0,55.0,55.0,55.0,55.0,55.0,55.0,3.0,3.0,3.0,1.0,1.0,2.6666666666666665,4.666666666666667,4.666666666666667,4.666666666666667,4.666666666666667,2.6666666666666665,1.5,1.5,1.5,1.0,2.6666666666666665,4.666666666666667,4.666666666666667,4.666666666666667,4.666666666666667,4.666666666666667,1.0,1.0,1.0,1.0,1.0,1.0,1.0,1.0,1.0,1.0,1.0,2.0,1.5,1.5,2.0,1.0,1.0,1.0,1.0,1.0,1.0,2.6666666666666665,1.5,1.0,67.0,67.0,67.0,67.0,67.0,67.0,67.0,67.0,67.0,67.0,67.0,67.0,67.0,67.0,67.0,67.0,67.0,67.0,67.0,67.0,67.0,67.0,67.0,67.0,67.0,67.0,67.0,67.0,67.0,67.0,67.0,67.0,67.0,67.0,67.0,67.0,67.0,67.0,67.0,67.0,67.0,67.0,67.0,67.0,67.0,67.0,67.0,67.0,67.0,67.0,67.0,67.0,67.0,67.0,67.0,67.0,67.0,67.0,67.0,67.0,67.0,67.0,67.0,67.0,67.0,67.0,67.0,2.0,5.25,5.25,5.25,5.25,5.25,5.25,5.25,4.666666666666667,5.25,4.666666666666667,1.0,1.0,2.6666666666666665,5.25,5.25,5.25,5.25,5.25,5.25,5.25,5.25,5.25,6.0,6.0,6.0,6.0,6.0,6.0,1.0,2.0,1.0,2.0,1.0,1.0,2.6666666666666665,1.0,1.5,2.0,1.0,1.0,5.25,5.25,2.0,5.25,1.0,1.0,5.25,1.0,1.0,1.0,1.0,8.0,8.0,8.0,8.0,8.0,1.0,1.5,1.0,2.6666666666666665,2.0,1.5,2.0,1.5,2.0,2.0,2.0,1.5,1.5,1.0,1.0,1.0,1.0,4.0,4.0,4.0,4.0,4.0,4.0,1.0,1.0,1.0,1.0,1.0,1.0,8.0,8.0,1.0,1.5,1.0,1.5,1.0,1.0,2.0,1.0,1.5,4.0,4.0,4.0,2.0,4.0,4.0,4.0,4.0,4.0,4.0,8.0,4.0,4.0,4.0,4.0,4.0,4.0,1.0,4.0,4.0,4.0,1.0,1.0,1.0,3.25,3.25,3.25,3.25,3.25,3.25,3.25,3.25,3.25,3.25,3.25,3.0,3.0,3.25,3.0,3.25,2.0,1.0,1.0,2.0,1.0,1.0,1.0,1.0,1.0,1.0,1.0],\"ybins\":{\"end\":77.0,\"size\":3.85,\"start\":0},\"type\":\"histogram2d\"}],                        {\"template\":{\"data\":{\"histogram2dcontour\":[{\"type\":\"histogram2dcontour\",\"colorbar\":{\"outlinewidth\":0,\"ticks\":\"\"},\"colorscale\":[[0.0,\"#0d0887\"],[0.1111111111111111,\"#46039f\"],[0.2222222222222222,\"#7201a8\"],[0.3333333333333333,\"#9c179e\"],[0.4444444444444444,\"#bd3786\"],[0.5555555555555556,\"#d8576b\"],[0.6666666666666666,\"#ed7953\"],[0.7777777777777778,\"#fb9f3a\"],[0.8888888888888888,\"#fdca26\"],[1.0,\"#f0f921\"]]}],\"choropleth\":[{\"type\":\"choropleth\",\"colorbar\":{\"outlinewidth\":0,\"ticks\":\"\"}}],\"histogram2d\":[{\"type\":\"histogram2d\",\"colorbar\":{\"outlinewidth\":0,\"ticks\":\"\"},\"colorscale\":[[0.0,\"#0d0887\"],[0.1111111111111111,\"#46039f\"],[0.2222222222222222,\"#7201a8\"],[0.3333333333333333,\"#9c179e\"],[0.4444444444444444,\"#bd3786\"],[0.5555555555555556,\"#d8576b\"],[0.6666666666666666,\"#ed7953\"],[0.7777777777777778,\"#fb9f3a\"],[0.8888888888888888,\"#fdca26\"],[1.0,\"#f0f921\"]]}],\"heatmap\":[{\"type\":\"heatmap\",\"colorbar\":{\"outlinewidth\":0,\"ticks\":\"\"},\"colorscale\":[[0.0,\"#0d0887\"],[0.1111111111111111,\"#46039f\"],[0.2222222222222222,\"#7201a8\"],[0.3333333333333333,\"#9c179e\"],[0.4444444444444444,\"#bd3786\"],[0.5555555555555556,\"#d8576b\"],[0.6666666666666666,\"#ed7953\"],[0.7777777777777778,\"#fb9f3a\"],[0.8888888888888888,\"#fdca26\"],[1.0,\"#f0f921\"]]}],\"heatmapgl\":[{\"type\":\"heatmapgl\",\"colorbar\":{\"outlinewidth\":0,\"ticks\":\"\"},\"colorscale\":[[0.0,\"#0d0887\"],[0.1111111111111111,\"#46039f\"],[0.2222222222222222,\"#7201a8\"],[0.3333333333333333,\"#9c179e\"],[0.4444444444444444,\"#bd3786\"],[0.5555555555555556,\"#d8576b\"],[0.6666666666666666,\"#ed7953\"],[0.7777777777777778,\"#fb9f3a\"],[0.8888888888888888,\"#fdca26\"],[1.0,\"#f0f921\"]]}],\"contourcarpet\":[{\"type\":\"contourcarpet\",\"colorbar\":{\"outlinewidth\":0,\"ticks\":\"\"}}],\"contour\":[{\"type\":\"contour\",\"colorbar\":{\"outlinewidth\":0,\"ticks\":\"\"},\"colorscale\":[[0.0,\"#0d0887\"],[0.1111111111111111,\"#46039f\"],[0.2222222222222222,\"#7201a8\"],[0.3333333333333333,\"#9c179e\"],[0.4444444444444444,\"#bd3786\"],[0.5555555555555556,\"#d8576b\"],[0.6666666666666666,\"#ed7953\"],[0.7777777777777778,\"#fb9f3a\"],[0.8888888888888888,\"#fdca26\"],[1.0,\"#f0f921\"]]}],\"surface\":[{\"type\":\"surface\",\"colorbar\":{\"outlinewidth\":0,\"ticks\":\"\"},\"colorscale\":[[0.0,\"#0d0887\"],[0.1111111111111111,\"#46039f\"],[0.2222222222222222,\"#7201a8\"],[0.3333333333333333,\"#9c179e\"],[0.4444444444444444,\"#bd3786\"],[0.5555555555555556,\"#d8576b\"],[0.6666666666666666,\"#ed7953\"],[0.7777777777777778,\"#fb9f3a\"],[0.8888888888888888,\"#fdca26\"],[1.0,\"#f0f921\"]]}],\"mesh3d\":[{\"type\":\"mesh3d\",\"colorbar\":{\"outlinewidth\":0,\"ticks\":\"\"}}],\"scatter\":[{\"fillpattern\":{\"fillmode\":\"overlay\",\"size\":10,\"solidity\":0.2},\"type\":\"scatter\"}],\"parcoords\":[{\"type\":\"parcoords\",\"line\":{\"colorbar\":{\"outlinewidth\":0,\"ticks\":\"\"}}}],\"scatterpolargl\":[{\"type\":\"scatterpolargl\",\"marker\":{\"colorbar\":{\"outlinewidth\":0,\"ticks\":\"\"}}}],\"bar\":[{\"error_x\":{\"color\":\"#2a3f5f\"},\"error_y\":{\"color\":\"#2a3f5f\"},\"marker\":{\"line\":{\"color\":\"#E5ECF6\",\"width\":0.5},\"pattern\":{\"fillmode\":\"overlay\",\"size\":10,\"solidity\":0.2}},\"type\":\"bar\"}],\"scattergeo\":[{\"type\":\"scattergeo\",\"marker\":{\"colorbar\":{\"outlinewidth\":0,\"ticks\":\"\"}}}],\"scatterpolar\":[{\"type\":\"scatterpolar\",\"marker\":{\"colorbar\":{\"outlinewidth\":0,\"ticks\":\"\"}}}],\"histogram\":[{\"marker\":{\"pattern\":{\"fillmode\":\"overlay\",\"size\":10,\"solidity\":0.2}},\"type\":\"histogram\"}],\"scattergl\":[{\"type\":\"scattergl\",\"marker\":{\"colorbar\":{\"outlinewidth\":0,\"ticks\":\"\"}}}],\"scatter3d\":[{\"type\":\"scatter3d\",\"line\":{\"colorbar\":{\"outlinewidth\":0,\"ticks\":\"\"}},\"marker\":{\"colorbar\":{\"outlinewidth\":0,\"ticks\":\"\"}}}],\"scattermapbox\":[{\"type\":\"scattermapbox\",\"marker\":{\"colorbar\":{\"outlinewidth\":0,\"ticks\":\"\"}}}],\"scatterternary\":[{\"type\":\"scatterternary\",\"marker\":{\"colorbar\":{\"outlinewidth\":0,\"ticks\":\"\"}}}],\"scattercarpet\":[{\"type\":\"scattercarpet\",\"marker\":{\"colorbar\":{\"outlinewidth\":0,\"ticks\":\"\"}}}],\"carpet\":[{\"aaxis\":{\"endlinecolor\":\"#2a3f5f\",\"gridcolor\":\"white\",\"linecolor\":\"white\",\"minorgridcolor\":\"white\",\"startlinecolor\":\"#2a3f5f\"},\"baxis\":{\"endlinecolor\":\"#2a3f5f\",\"gridcolor\":\"white\",\"linecolor\":\"white\",\"minorgridcolor\":\"white\",\"startlinecolor\":\"#2a3f5f\"},\"type\":\"carpet\"}],\"table\":[{\"cells\":{\"fill\":{\"color\":\"#EBF0F8\"},\"line\":{\"color\":\"white\"}},\"header\":{\"fill\":{\"color\":\"#C8D4E3\"},\"line\":{\"color\":\"white\"}},\"type\":\"table\"}],\"barpolar\":[{\"marker\":{\"line\":{\"color\":\"#E5ECF6\",\"width\":0.5},\"pattern\":{\"fillmode\":\"overlay\",\"size\":10,\"solidity\":0.2}},\"type\":\"barpolar\"}],\"pie\":[{\"automargin\":true,\"type\":\"pie\"}]},\"layout\":{\"autotypenumbers\":\"strict\",\"colorway\":[\"#636efa\",\"#EF553B\",\"#00cc96\",\"#ab63fa\",\"#FFA15A\",\"#19d3f3\",\"#FF6692\",\"#B6E880\",\"#FF97FF\",\"#FECB52\"],\"font\":{\"color\":\"#2a3f5f\"},\"hovermode\":\"closest\",\"hoverlabel\":{\"align\":\"left\"},\"paper_bgcolor\":\"white\",\"plot_bgcolor\":\"#E5ECF6\",\"polar\":{\"bgcolor\":\"#E5ECF6\",\"angularaxis\":{\"gridcolor\":\"white\",\"linecolor\":\"white\",\"ticks\":\"\"},\"radialaxis\":{\"gridcolor\":\"white\",\"linecolor\":\"white\",\"ticks\":\"\"}},\"ternary\":{\"bgcolor\":\"#E5ECF6\",\"aaxis\":{\"gridcolor\":\"white\",\"linecolor\":\"white\",\"ticks\":\"\"},\"baxis\":{\"gridcolor\":\"white\",\"linecolor\":\"white\",\"ticks\":\"\"},\"caxis\":{\"gridcolor\":\"white\",\"linecolor\":\"white\",\"ticks\":\"\"}},\"coloraxis\":{\"colorbar\":{\"outlinewidth\":0,\"ticks\":\"\"}},\"colorscale\":{\"sequential\":[[0.0,\"#0d0887\"],[0.1111111111111111,\"#46039f\"],[0.2222222222222222,\"#7201a8\"],[0.3333333333333333,\"#9c179e\"],[0.4444444444444444,\"#bd3786\"],[0.5555555555555556,\"#d8576b\"],[0.6666666666666666,\"#ed7953\"],[0.7777777777777778,\"#fb9f3a\"],[0.8888888888888888,\"#fdca26\"],[1.0,\"#f0f921\"]],\"sequentialminus\":[[0.0,\"#0d0887\"],[0.1111111111111111,\"#46039f\"],[0.2222222222222222,\"#7201a8\"],[0.3333333333333333,\"#9c179e\"],[0.4444444444444444,\"#bd3786\"],[0.5555555555555556,\"#d8576b\"],[0.6666666666666666,\"#ed7953\"],[0.7777777777777778,\"#fb9f3a\"],[0.8888888888888888,\"#fdca26\"],[1.0,\"#f0f921\"]],\"diverging\":[[0,\"#8e0152\"],[0.1,\"#c51b7d\"],[0.2,\"#de77ae\"],[0.3,\"#f1b6da\"],[0.4,\"#fde0ef\"],[0.5,\"#f7f7f7\"],[0.6,\"#e6f5d0\"],[0.7,\"#b8e186\"],[0.8,\"#7fbc41\"],[0.9,\"#4d9221\"],[1,\"#276419\"]]},\"xaxis\":{\"gridcolor\":\"white\",\"linecolor\":\"white\",\"ticks\":\"\",\"title\":{\"standoff\":15},\"zerolinecolor\":\"white\",\"automargin\":true,\"zerolinewidth\":2},\"yaxis\":{\"gridcolor\":\"white\",\"linecolor\":\"white\",\"ticks\":\"\",\"title\":{\"standoff\":15},\"zerolinecolor\":\"white\",\"automargin\":true,\"zerolinewidth\":2},\"scene\":{\"xaxis\":{\"backgroundcolor\":\"#E5ECF6\",\"gridcolor\":\"white\",\"linecolor\":\"white\",\"showbackground\":true,\"ticks\":\"\",\"zerolinecolor\":\"white\",\"gridwidth\":2},\"yaxis\":{\"backgroundcolor\":\"#E5ECF6\",\"gridcolor\":\"white\",\"linecolor\":\"white\",\"showbackground\":true,\"ticks\":\"\",\"zerolinecolor\":\"white\",\"gridwidth\":2},\"zaxis\":{\"backgroundcolor\":\"#E5ECF6\",\"gridcolor\":\"white\",\"linecolor\":\"white\",\"showbackground\":true,\"ticks\":\"\",\"zerolinecolor\":\"white\",\"gridwidth\":2}},\"shapedefaults\":{\"line\":{\"color\":\"#2a3f5f\"}},\"annotationdefaults\":{\"arrowcolor\":\"#2a3f5f\",\"arrowhead\":0,\"arrowwidth\":1},\"geo\":{\"bgcolor\":\"white\",\"landcolor\":\"#E5ECF6\",\"subunitcolor\":\"white\",\"showland\":true,\"showlakes\":true,\"lakecolor\":\"white\"},\"title\":{\"x\":0.05},\"mapbox\":{\"style\":\"light\"}}},\"title\":{\"text\":\"Hexbin Plot of Average Button Presses vs Reaction Numeric Value\"},\"xaxis\":{\"title\":{\"text\":\"Reaction Numeric Value\"}},\"yaxis\":{\"title\":{\"text\":\"Average Button Presses\"}},\"autosize\":false,\"width\":600,\"height\":600},                        {\"responsive\": true}                    ).then(function(){\n",
       "                            \n",
       "var gd = document.getElementById('94e0d572-cd16-4d35-8ae2-1e34994d5281');\n",
       "var x = new MutationObserver(function (mutations, observer) {{\n",
       "        var display = window.getComputedStyle(gd).display;\n",
       "        if (!display || display === 'none') {{\n",
       "            console.log([gd, 'removed!']);\n",
       "            Plotly.purge(gd);\n",
       "            observer.disconnect();\n",
       "        }}\n",
       "}});\n",
       "\n",
       "// Listen for the removal of the full notebook cells\n",
       "var notebookContainer = gd.closest('#notebook-container');\n",
       "if (notebookContainer) {{\n",
       "    x.observe(notebookContainer, {childList: true});\n",
       "}}\n",
       "\n",
       "// Listen for the clearing of the current output cell\n",
       "var outputEl = gd.closest('.output');\n",
       "if (outputEl) {{\n",
       "    x.observe(outputEl, {childList: true});\n",
       "}}\n",
       "\n",
       "                        })                };                });            </script>        </div>"
      ]
     },
     "metadata": {},
     "output_type": "display_data"
    }
   ],
   "source": [
    "\n",
    "emoji_mapping = {\n",
    "    '🙁': 1,\n",
    "    '👎': 2,\n",
    "    '🙄': 3,\n",
    "    '🙂': 4,\n",
    "    '😆': 5,\n",
    "    '👍': 6,\n",
    "    '👏': 7,\n",
    "    '😍': 8,\n",
    "}\n",
    "\n",
    "data['reaction_numeric'] = data['reaction'].map(emoji_mapping)\n",
    "\n",
    "# Calculate the average number of presses per reaction for each user\n",
    "average_presses = data.groupby(['userId', 'reaction_numeric']).size().groupby('userId').mean().reset_index(name='average_presses')\n",
    "\n",
    "# Merge this information back into the dataframe\n",
    "data = pd.merge(data, average_presses, how='left', on='userId')\n",
    "\n",
    "# Create hexbin plot\n",
    "fig = go.Figure(go.Histogram2d(\n",
    "    x=data['reaction_numeric'],\n",
    "    y=data['average_presses'],\n",
    "    autobinx=False,\n",
    "    xbins=dict(start=0, end=8, size=1),  # Adjust size to change the resolution of the hexbins\n",
    "    autobiny=False,\n",
    "    ybins=dict(start=0, end=data['average_presses'].max(), size=data['average_presses'].max()/20),  # Adjust size to change the resolution of the hexbins\n",
    "    colorscale='Viridis'\n",
    "))\n",
    "\n",
    "fig.update_layout(\n",
    "    title='Hexbin Plot of Average Button Presses vs Reaction Numeric Value',\n",
    "    xaxis_title='Reaction Numeric Value',\n",
    "    yaxis_title='Average Button Presses',\n",
    "    autosize=False,\n",
    "    width=600,\n",
    "    height=600,\n",
    ")\n",
    "\n",
    "fig.show()\n"
   ]
  },
  {
   "cell_type": "markdown",
   "id": "3961386f-d8ba-4684-bda2-fe6f353654b8",
   "metadata": {},
   "source": [
    "# Change of Reaction for a specific person"
   ]
  },
  {
   "cell_type": "markdown",
   "id": "cc7445fb-af6d-454a-a611-edae92c9b948",
   "metadata": {
    "tags": []
   },
   "source": [
    "### specify the client by their id"
   ]
  },
  {
   "cell_type": "code",
   "execution_count": 13,
   "id": "ae64bdf4-dc40-42cc-aa2f-98bc4a71dffc",
   "metadata": {
    "tags": []
   },
   "outputs": [],
   "source": [
    "user_id = 'ASWaWCYrTh3RpzUfABFP'"
   ]
  },
  {
   "cell_type": "code",
   "execution_count": 14,
   "id": "e2b01451-a48e-4b66-ac1f-696b2e637df6",
   "metadata": {
    "tags": []
   },
   "outputs": [
    {
     "data": {
      "application/vnd.plotly.v1+json": {
       "config": {
        "plotlyServerURL": "https://plot.ly"
       },
       "data": [
        {
         "hovertemplate": "timestamp=%{x}<br>reaction_value=%{y}<extra></extra>",
         "legendgroup": "",
         "line": {
          "color": "#636efa",
          "dash": "solid"
         },
         "marker": {
          "symbol": "circle"
         },
         "mode": "lines",
         "name": "",
         "orientation": "v",
         "showlegend": false,
         "type": "scatter",
         "x": [
          "1970-01-01T00:28:04.322130",
          "1970-01-01T00:28:04.322128",
          "1970-01-01T00:28:04.322089",
          "1970-01-01T00:28:04.322073",
          "1970-01-01T00:28:04.322019"
         ],
         "xaxis": "x",
         "y": [
          4,
          3,
          3,
          4,
          7
         ],
         "yaxis": "y"
        }
       ],
       "layout": {
        "legend": {
         "tracegroupgap": 0
        },
        "template": {
         "data": {
          "bar": [
           {
            "error_x": {
             "color": "#2a3f5f"
            },
            "error_y": {
             "color": "#2a3f5f"
            },
            "marker": {
             "line": {
              "color": "#E5ECF6",
              "width": 0.5
             },
             "pattern": {
              "fillmode": "overlay",
              "size": 10,
              "solidity": 0.2
             }
            },
            "type": "bar"
           }
          ],
          "barpolar": [
           {
            "marker": {
             "line": {
              "color": "#E5ECF6",
              "width": 0.5
             },
             "pattern": {
              "fillmode": "overlay",
              "size": 10,
              "solidity": 0.2
             }
            },
            "type": "barpolar"
           }
          ],
          "carpet": [
           {
            "aaxis": {
             "endlinecolor": "#2a3f5f",
             "gridcolor": "white",
             "linecolor": "white",
             "minorgridcolor": "white",
             "startlinecolor": "#2a3f5f"
            },
            "baxis": {
             "endlinecolor": "#2a3f5f",
             "gridcolor": "white",
             "linecolor": "white",
             "minorgridcolor": "white",
             "startlinecolor": "#2a3f5f"
            },
            "type": "carpet"
           }
          ],
          "choropleth": [
           {
            "colorbar": {
             "outlinewidth": 0,
             "ticks": ""
            },
            "type": "choropleth"
           }
          ],
          "contour": [
           {
            "colorbar": {
             "outlinewidth": 0,
             "ticks": ""
            },
            "colorscale": [
             [
              0,
              "#0d0887"
             ],
             [
              0.1111111111111111,
              "#46039f"
             ],
             [
              0.2222222222222222,
              "#7201a8"
             ],
             [
              0.3333333333333333,
              "#9c179e"
             ],
             [
              0.4444444444444444,
              "#bd3786"
             ],
             [
              0.5555555555555556,
              "#d8576b"
             ],
             [
              0.6666666666666666,
              "#ed7953"
             ],
             [
              0.7777777777777778,
              "#fb9f3a"
             ],
             [
              0.8888888888888888,
              "#fdca26"
             ],
             [
              1,
              "#f0f921"
             ]
            ],
            "type": "contour"
           }
          ],
          "contourcarpet": [
           {
            "colorbar": {
             "outlinewidth": 0,
             "ticks": ""
            },
            "type": "contourcarpet"
           }
          ],
          "heatmap": [
           {
            "colorbar": {
             "outlinewidth": 0,
             "ticks": ""
            },
            "colorscale": [
             [
              0,
              "#0d0887"
             ],
             [
              0.1111111111111111,
              "#46039f"
             ],
             [
              0.2222222222222222,
              "#7201a8"
             ],
             [
              0.3333333333333333,
              "#9c179e"
             ],
             [
              0.4444444444444444,
              "#bd3786"
             ],
             [
              0.5555555555555556,
              "#d8576b"
             ],
             [
              0.6666666666666666,
              "#ed7953"
             ],
             [
              0.7777777777777778,
              "#fb9f3a"
             ],
             [
              0.8888888888888888,
              "#fdca26"
             ],
             [
              1,
              "#f0f921"
             ]
            ],
            "type": "heatmap"
           }
          ],
          "heatmapgl": [
           {
            "colorbar": {
             "outlinewidth": 0,
             "ticks": ""
            },
            "colorscale": [
             [
              0,
              "#0d0887"
             ],
             [
              0.1111111111111111,
              "#46039f"
             ],
             [
              0.2222222222222222,
              "#7201a8"
             ],
             [
              0.3333333333333333,
              "#9c179e"
             ],
             [
              0.4444444444444444,
              "#bd3786"
             ],
             [
              0.5555555555555556,
              "#d8576b"
             ],
             [
              0.6666666666666666,
              "#ed7953"
             ],
             [
              0.7777777777777778,
              "#fb9f3a"
             ],
             [
              0.8888888888888888,
              "#fdca26"
             ],
             [
              1,
              "#f0f921"
             ]
            ],
            "type": "heatmapgl"
           }
          ],
          "histogram": [
           {
            "marker": {
             "pattern": {
              "fillmode": "overlay",
              "size": 10,
              "solidity": 0.2
             }
            },
            "type": "histogram"
           }
          ],
          "histogram2d": [
           {
            "colorbar": {
             "outlinewidth": 0,
             "ticks": ""
            },
            "colorscale": [
             [
              0,
              "#0d0887"
             ],
             [
              0.1111111111111111,
              "#46039f"
             ],
             [
              0.2222222222222222,
              "#7201a8"
             ],
             [
              0.3333333333333333,
              "#9c179e"
             ],
             [
              0.4444444444444444,
              "#bd3786"
             ],
             [
              0.5555555555555556,
              "#d8576b"
             ],
             [
              0.6666666666666666,
              "#ed7953"
             ],
             [
              0.7777777777777778,
              "#fb9f3a"
             ],
             [
              0.8888888888888888,
              "#fdca26"
             ],
             [
              1,
              "#f0f921"
             ]
            ],
            "type": "histogram2d"
           }
          ],
          "histogram2dcontour": [
           {
            "colorbar": {
             "outlinewidth": 0,
             "ticks": ""
            },
            "colorscale": [
             [
              0,
              "#0d0887"
             ],
             [
              0.1111111111111111,
              "#46039f"
             ],
             [
              0.2222222222222222,
              "#7201a8"
             ],
             [
              0.3333333333333333,
              "#9c179e"
             ],
             [
              0.4444444444444444,
              "#bd3786"
             ],
             [
              0.5555555555555556,
              "#d8576b"
             ],
             [
              0.6666666666666666,
              "#ed7953"
             ],
             [
              0.7777777777777778,
              "#fb9f3a"
             ],
             [
              0.8888888888888888,
              "#fdca26"
             ],
             [
              1,
              "#f0f921"
             ]
            ],
            "type": "histogram2dcontour"
           }
          ],
          "mesh3d": [
           {
            "colorbar": {
             "outlinewidth": 0,
             "ticks": ""
            },
            "type": "mesh3d"
           }
          ],
          "parcoords": [
           {
            "line": {
             "colorbar": {
              "outlinewidth": 0,
              "ticks": ""
             }
            },
            "type": "parcoords"
           }
          ],
          "pie": [
           {
            "automargin": true,
            "type": "pie"
           }
          ],
          "scatter": [
           {
            "fillpattern": {
             "fillmode": "overlay",
             "size": 10,
             "solidity": 0.2
            },
            "type": "scatter"
           }
          ],
          "scatter3d": [
           {
            "line": {
             "colorbar": {
              "outlinewidth": 0,
              "ticks": ""
             }
            },
            "marker": {
             "colorbar": {
              "outlinewidth": 0,
              "ticks": ""
             }
            },
            "type": "scatter3d"
           }
          ],
          "scattercarpet": [
           {
            "marker": {
             "colorbar": {
              "outlinewidth": 0,
              "ticks": ""
             }
            },
            "type": "scattercarpet"
           }
          ],
          "scattergeo": [
           {
            "marker": {
             "colorbar": {
              "outlinewidth": 0,
              "ticks": ""
             }
            },
            "type": "scattergeo"
           }
          ],
          "scattergl": [
           {
            "marker": {
             "colorbar": {
              "outlinewidth": 0,
              "ticks": ""
             }
            },
            "type": "scattergl"
           }
          ],
          "scattermapbox": [
           {
            "marker": {
             "colorbar": {
              "outlinewidth": 0,
              "ticks": ""
             }
            },
            "type": "scattermapbox"
           }
          ],
          "scatterpolar": [
           {
            "marker": {
             "colorbar": {
              "outlinewidth": 0,
              "ticks": ""
             }
            },
            "type": "scatterpolar"
           }
          ],
          "scatterpolargl": [
           {
            "marker": {
             "colorbar": {
              "outlinewidth": 0,
              "ticks": ""
             }
            },
            "type": "scatterpolargl"
           }
          ],
          "scatterternary": [
           {
            "marker": {
             "colorbar": {
              "outlinewidth": 0,
              "ticks": ""
             }
            },
            "type": "scatterternary"
           }
          ],
          "surface": [
           {
            "colorbar": {
             "outlinewidth": 0,
             "ticks": ""
            },
            "colorscale": [
             [
              0,
              "#0d0887"
             ],
             [
              0.1111111111111111,
              "#46039f"
             ],
             [
              0.2222222222222222,
              "#7201a8"
             ],
             [
              0.3333333333333333,
              "#9c179e"
             ],
             [
              0.4444444444444444,
              "#bd3786"
             ],
             [
              0.5555555555555556,
              "#d8576b"
             ],
             [
              0.6666666666666666,
              "#ed7953"
             ],
             [
              0.7777777777777778,
              "#fb9f3a"
             ],
             [
              0.8888888888888888,
              "#fdca26"
             ],
             [
              1,
              "#f0f921"
             ]
            ],
            "type": "surface"
           }
          ],
          "table": [
           {
            "cells": {
             "fill": {
              "color": "#EBF0F8"
             },
             "line": {
              "color": "white"
             }
            },
            "header": {
             "fill": {
              "color": "#C8D4E3"
             },
             "line": {
              "color": "white"
             }
            },
            "type": "table"
           }
          ]
         },
         "layout": {
          "annotationdefaults": {
           "arrowcolor": "#2a3f5f",
           "arrowhead": 0,
           "arrowwidth": 1
          },
          "autotypenumbers": "strict",
          "coloraxis": {
           "colorbar": {
            "outlinewidth": 0,
            "ticks": ""
           }
          },
          "colorscale": {
           "diverging": [
            [
             0,
             "#8e0152"
            ],
            [
             0.1,
             "#c51b7d"
            ],
            [
             0.2,
             "#de77ae"
            ],
            [
             0.3,
             "#f1b6da"
            ],
            [
             0.4,
             "#fde0ef"
            ],
            [
             0.5,
             "#f7f7f7"
            ],
            [
             0.6,
             "#e6f5d0"
            ],
            [
             0.7,
             "#b8e186"
            ],
            [
             0.8,
             "#7fbc41"
            ],
            [
             0.9,
             "#4d9221"
            ],
            [
             1,
             "#276419"
            ]
           ],
           "sequential": [
            [
             0,
             "#0d0887"
            ],
            [
             0.1111111111111111,
             "#46039f"
            ],
            [
             0.2222222222222222,
             "#7201a8"
            ],
            [
             0.3333333333333333,
             "#9c179e"
            ],
            [
             0.4444444444444444,
             "#bd3786"
            ],
            [
             0.5555555555555556,
             "#d8576b"
            ],
            [
             0.6666666666666666,
             "#ed7953"
            ],
            [
             0.7777777777777778,
             "#fb9f3a"
            ],
            [
             0.8888888888888888,
             "#fdca26"
            ],
            [
             1,
             "#f0f921"
            ]
           ],
           "sequentialminus": [
            [
             0,
             "#0d0887"
            ],
            [
             0.1111111111111111,
             "#46039f"
            ],
            [
             0.2222222222222222,
             "#7201a8"
            ],
            [
             0.3333333333333333,
             "#9c179e"
            ],
            [
             0.4444444444444444,
             "#bd3786"
            ],
            [
             0.5555555555555556,
             "#d8576b"
            ],
            [
             0.6666666666666666,
             "#ed7953"
            ],
            [
             0.7777777777777778,
             "#fb9f3a"
            ],
            [
             0.8888888888888888,
             "#fdca26"
            ],
            [
             1,
             "#f0f921"
            ]
           ]
          },
          "colorway": [
           "#636efa",
           "#EF553B",
           "#00cc96",
           "#ab63fa",
           "#FFA15A",
           "#19d3f3",
           "#FF6692",
           "#B6E880",
           "#FF97FF",
           "#FECB52"
          ],
          "font": {
           "color": "#2a3f5f"
          },
          "geo": {
           "bgcolor": "white",
           "lakecolor": "white",
           "landcolor": "#E5ECF6",
           "showlakes": true,
           "showland": true,
           "subunitcolor": "white"
          },
          "hoverlabel": {
           "align": "left"
          },
          "hovermode": "closest",
          "mapbox": {
           "style": "light"
          },
          "paper_bgcolor": "white",
          "plot_bgcolor": "#E5ECF6",
          "polar": {
           "angularaxis": {
            "gridcolor": "white",
            "linecolor": "white",
            "ticks": ""
           },
           "bgcolor": "#E5ECF6",
           "radialaxis": {
            "gridcolor": "white",
            "linecolor": "white",
            "ticks": ""
           }
          },
          "scene": {
           "xaxis": {
            "backgroundcolor": "#E5ECF6",
            "gridcolor": "white",
            "gridwidth": 2,
            "linecolor": "white",
            "showbackground": true,
            "ticks": "",
            "zerolinecolor": "white"
           },
           "yaxis": {
            "backgroundcolor": "#E5ECF6",
            "gridcolor": "white",
            "gridwidth": 2,
            "linecolor": "white",
            "showbackground": true,
            "ticks": "",
            "zerolinecolor": "white"
           },
           "zaxis": {
            "backgroundcolor": "#E5ECF6",
            "gridcolor": "white",
            "gridwidth": 2,
            "linecolor": "white",
            "showbackground": true,
            "ticks": "",
            "zerolinecolor": "white"
           }
          },
          "shapedefaults": {
           "line": {
            "color": "#2a3f5f"
           }
          },
          "ternary": {
           "aaxis": {
            "gridcolor": "white",
            "linecolor": "white",
            "ticks": ""
           },
           "baxis": {
            "gridcolor": "white",
            "linecolor": "white",
            "ticks": ""
           },
           "bgcolor": "#E5ECF6",
           "caxis": {
            "gridcolor": "white",
            "linecolor": "white",
            "ticks": ""
           }
          },
          "title": {
           "x": 0.05
          },
          "xaxis": {
           "automargin": true,
           "gridcolor": "white",
           "linecolor": "white",
           "ticks": "",
           "title": {
            "standoff": 15
           },
           "zerolinecolor": "white",
           "zerolinewidth": 2
          },
          "yaxis": {
           "automargin": true,
           "gridcolor": "white",
           "linecolor": "white",
           "ticks": "",
           "title": {
            "standoff": 15
           },
           "zerolinecolor": "white",
           "zerolinewidth": 2
          }
         }
        },
        "title": {
         "text": "Reaction Change Over Time for User ID: ASWaWCYrTh3RpzUfABFP"
        },
        "xaxis": {
         "anchor": "y",
         "domain": [
          0,
          1
         ],
         "title": {
          "text": "Timestamp"
         }
        },
        "yaxis": {
         "anchor": "x",
         "domain": [
          0,
          1
         ],
         "title": {
          "text": "Reaction Value"
         }
        }
       }
      },
      "text/html": [
       "<div>                            <div id=\"864b074b-77f2-4e71-b595-bd2f9fca4839\" class=\"plotly-graph-div\" style=\"height:525px; width:100%;\"></div>            <script type=\"text/javascript\">                require([\"plotly\"], function(Plotly) {                    window.PLOTLYENV=window.PLOTLYENV || {};                                    if (document.getElementById(\"864b074b-77f2-4e71-b595-bd2f9fca4839\")) {                    Plotly.newPlot(                        \"864b074b-77f2-4e71-b595-bd2f9fca4839\",                        [{\"hovertemplate\":\"timestamp=%{x}\\u003cbr\\u003ereaction_value=%{y}\\u003cextra\\u003e\\u003c\\u002fextra\\u003e\",\"legendgroup\":\"\",\"line\":{\"color\":\"#636efa\",\"dash\":\"solid\"},\"marker\":{\"symbol\":\"circle\"},\"mode\":\"lines\",\"name\":\"\",\"orientation\":\"v\",\"showlegend\":false,\"x\":[\"1970-01-01T00:28:04.322130\",\"1970-01-01T00:28:04.322128\",\"1970-01-01T00:28:04.322089\",\"1970-01-01T00:28:04.322073\",\"1970-01-01T00:28:04.322019\"],\"xaxis\":\"x\",\"y\":[4,3,3,4,7],\"yaxis\":\"y\",\"type\":\"scatter\"}],                        {\"template\":{\"data\":{\"histogram2dcontour\":[{\"type\":\"histogram2dcontour\",\"colorbar\":{\"outlinewidth\":0,\"ticks\":\"\"},\"colorscale\":[[0.0,\"#0d0887\"],[0.1111111111111111,\"#46039f\"],[0.2222222222222222,\"#7201a8\"],[0.3333333333333333,\"#9c179e\"],[0.4444444444444444,\"#bd3786\"],[0.5555555555555556,\"#d8576b\"],[0.6666666666666666,\"#ed7953\"],[0.7777777777777778,\"#fb9f3a\"],[0.8888888888888888,\"#fdca26\"],[1.0,\"#f0f921\"]]}],\"choropleth\":[{\"type\":\"choropleth\",\"colorbar\":{\"outlinewidth\":0,\"ticks\":\"\"}}],\"histogram2d\":[{\"type\":\"histogram2d\",\"colorbar\":{\"outlinewidth\":0,\"ticks\":\"\"},\"colorscale\":[[0.0,\"#0d0887\"],[0.1111111111111111,\"#46039f\"],[0.2222222222222222,\"#7201a8\"],[0.3333333333333333,\"#9c179e\"],[0.4444444444444444,\"#bd3786\"],[0.5555555555555556,\"#d8576b\"],[0.6666666666666666,\"#ed7953\"],[0.7777777777777778,\"#fb9f3a\"],[0.8888888888888888,\"#fdca26\"],[1.0,\"#f0f921\"]]}],\"heatmap\":[{\"type\":\"heatmap\",\"colorbar\":{\"outlinewidth\":0,\"ticks\":\"\"},\"colorscale\":[[0.0,\"#0d0887\"],[0.1111111111111111,\"#46039f\"],[0.2222222222222222,\"#7201a8\"],[0.3333333333333333,\"#9c179e\"],[0.4444444444444444,\"#bd3786\"],[0.5555555555555556,\"#d8576b\"],[0.6666666666666666,\"#ed7953\"],[0.7777777777777778,\"#fb9f3a\"],[0.8888888888888888,\"#fdca26\"],[1.0,\"#f0f921\"]]}],\"heatmapgl\":[{\"type\":\"heatmapgl\",\"colorbar\":{\"outlinewidth\":0,\"ticks\":\"\"},\"colorscale\":[[0.0,\"#0d0887\"],[0.1111111111111111,\"#46039f\"],[0.2222222222222222,\"#7201a8\"],[0.3333333333333333,\"#9c179e\"],[0.4444444444444444,\"#bd3786\"],[0.5555555555555556,\"#d8576b\"],[0.6666666666666666,\"#ed7953\"],[0.7777777777777778,\"#fb9f3a\"],[0.8888888888888888,\"#fdca26\"],[1.0,\"#f0f921\"]]}],\"contourcarpet\":[{\"type\":\"contourcarpet\",\"colorbar\":{\"outlinewidth\":0,\"ticks\":\"\"}}],\"contour\":[{\"type\":\"contour\",\"colorbar\":{\"outlinewidth\":0,\"ticks\":\"\"},\"colorscale\":[[0.0,\"#0d0887\"],[0.1111111111111111,\"#46039f\"],[0.2222222222222222,\"#7201a8\"],[0.3333333333333333,\"#9c179e\"],[0.4444444444444444,\"#bd3786\"],[0.5555555555555556,\"#d8576b\"],[0.6666666666666666,\"#ed7953\"],[0.7777777777777778,\"#fb9f3a\"],[0.8888888888888888,\"#fdca26\"],[1.0,\"#f0f921\"]]}],\"surface\":[{\"type\":\"surface\",\"colorbar\":{\"outlinewidth\":0,\"ticks\":\"\"},\"colorscale\":[[0.0,\"#0d0887\"],[0.1111111111111111,\"#46039f\"],[0.2222222222222222,\"#7201a8\"],[0.3333333333333333,\"#9c179e\"],[0.4444444444444444,\"#bd3786\"],[0.5555555555555556,\"#d8576b\"],[0.6666666666666666,\"#ed7953\"],[0.7777777777777778,\"#fb9f3a\"],[0.8888888888888888,\"#fdca26\"],[1.0,\"#f0f921\"]]}],\"mesh3d\":[{\"type\":\"mesh3d\",\"colorbar\":{\"outlinewidth\":0,\"ticks\":\"\"}}],\"scatter\":[{\"fillpattern\":{\"fillmode\":\"overlay\",\"size\":10,\"solidity\":0.2},\"type\":\"scatter\"}],\"parcoords\":[{\"type\":\"parcoords\",\"line\":{\"colorbar\":{\"outlinewidth\":0,\"ticks\":\"\"}}}],\"scatterpolargl\":[{\"type\":\"scatterpolargl\",\"marker\":{\"colorbar\":{\"outlinewidth\":0,\"ticks\":\"\"}}}],\"bar\":[{\"error_x\":{\"color\":\"#2a3f5f\"},\"error_y\":{\"color\":\"#2a3f5f\"},\"marker\":{\"line\":{\"color\":\"#E5ECF6\",\"width\":0.5},\"pattern\":{\"fillmode\":\"overlay\",\"size\":10,\"solidity\":0.2}},\"type\":\"bar\"}],\"scattergeo\":[{\"type\":\"scattergeo\",\"marker\":{\"colorbar\":{\"outlinewidth\":0,\"ticks\":\"\"}}}],\"scatterpolar\":[{\"type\":\"scatterpolar\",\"marker\":{\"colorbar\":{\"outlinewidth\":0,\"ticks\":\"\"}}}],\"histogram\":[{\"marker\":{\"pattern\":{\"fillmode\":\"overlay\",\"size\":10,\"solidity\":0.2}},\"type\":\"histogram\"}],\"scattergl\":[{\"type\":\"scattergl\",\"marker\":{\"colorbar\":{\"outlinewidth\":0,\"ticks\":\"\"}}}],\"scatter3d\":[{\"type\":\"scatter3d\",\"line\":{\"colorbar\":{\"outlinewidth\":0,\"ticks\":\"\"}},\"marker\":{\"colorbar\":{\"outlinewidth\":0,\"ticks\":\"\"}}}],\"scattermapbox\":[{\"type\":\"scattermapbox\",\"marker\":{\"colorbar\":{\"outlinewidth\":0,\"ticks\":\"\"}}}],\"scatterternary\":[{\"type\":\"scatterternary\",\"marker\":{\"colorbar\":{\"outlinewidth\":0,\"ticks\":\"\"}}}],\"scattercarpet\":[{\"type\":\"scattercarpet\",\"marker\":{\"colorbar\":{\"outlinewidth\":0,\"ticks\":\"\"}}}],\"carpet\":[{\"aaxis\":{\"endlinecolor\":\"#2a3f5f\",\"gridcolor\":\"white\",\"linecolor\":\"white\",\"minorgridcolor\":\"white\",\"startlinecolor\":\"#2a3f5f\"},\"baxis\":{\"endlinecolor\":\"#2a3f5f\",\"gridcolor\":\"white\",\"linecolor\":\"white\",\"minorgridcolor\":\"white\",\"startlinecolor\":\"#2a3f5f\"},\"type\":\"carpet\"}],\"table\":[{\"cells\":{\"fill\":{\"color\":\"#EBF0F8\"},\"line\":{\"color\":\"white\"}},\"header\":{\"fill\":{\"color\":\"#C8D4E3\"},\"line\":{\"color\":\"white\"}},\"type\":\"table\"}],\"barpolar\":[{\"marker\":{\"line\":{\"color\":\"#E5ECF6\",\"width\":0.5},\"pattern\":{\"fillmode\":\"overlay\",\"size\":10,\"solidity\":0.2}},\"type\":\"barpolar\"}],\"pie\":[{\"automargin\":true,\"type\":\"pie\"}]},\"layout\":{\"autotypenumbers\":\"strict\",\"colorway\":[\"#636efa\",\"#EF553B\",\"#00cc96\",\"#ab63fa\",\"#FFA15A\",\"#19d3f3\",\"#FF6692\",\"#B6E880\",\"#FF97FF\",\"#FECB52\"],\"font\":{\"color\":\"#2a3f5f\"},\"hovermode\":\"closest\",\"hoverlabel\":{\"align\":\"left\"},\"paper_bgcolor\":\"white\",\"plot_bgcolor\":\"#E5ECF6\",\"polar\":{\"bgcolor\":\"#E5ECF6\",\"angularaxis\":{\"gridcolor\":\"white\",\"linecolor\":\"white\",\"ticks\":\"\"},\"radialaxis\":{\"gridcolor\":\"white\",\"linecolor\":\"white\",\"ticks\":\"\"}},\"ternary\":{\"bgcolor\":\"#E5ECF6\",\"aaxis\":{\"gridcolor\":\"white\",\"linecolor\":\"white\",\"ticks\":\"\"},\"baxis\":{\"gridcolor\":\"white\",\"linecolor\":\"white\",\"ticks\":\"\"},\"caxis\":{\"gridcolor\":\"white\",\"linecolor\":\"white\",\"ticks\":\"\"}},\"coloraxis\":{\"colorbar\":{\"outlinewidth\":0,\"ticks\":\"\"}},\"colorscale\":{\"sequential\":[[0.0,\"#0d0887\"],[0.1111111111111111,\"#46039f\"],[0.2222222222222222,\"#7201a8\"],[0.3333333333333333,\"#9c179e\"],[0.4444444444444444,\"#bd3786\"],[0.5555555555555556,\"#d8576b\"],[0.6666666666666666,\"#ed7953\"],[0.7777777777777778,\"#fb9f3a\"],[0.8888888888888888,\"#fdca26\"],[1.0,\"#f0f921\"]],\"sequentialminus\":[[0.0,\"#0d0887\"],[0.1111111111111111,\"#46039f\"],[0.2222222222222222,\"#7201a8\"],[0.3333333333333333,\"#9c179e\"],[0.4444444444444444,\"#bd3786\"],[0.5555555555555556,\"#d8576b\"],[0.6666666666666666,\"#ed7953\"],[0.7777777777777778,\"#fb9f3a\"],[0.8888888888888888,\"#fdca26\"],[1.0,\"#f0f921\"]],\"diverging\":[[0,\"#8e0152\"],[0.1,\"#c51b7d\"],[0.2,\"#de77ae\"],[0.3,\"#f1b6da\"],[0.4,\"#fde0ef\"],[0.5,\"#f7f7f7\"],[0.6,\"#e6f5d0\"],[0.7,\"#b8e186\"],[0.8,\"#7fbc41\"],[0.9,\"#4d9221\"],[1,\"#276419\"]]},\"xaxis\":{\"gridcolor\":\"white\",\"linecolor\":\"white\",\"ticks\":\"\",\"title\":{\"standoff\":15},\"zerolinecolor\":\"white\",\"automargin\":true,\"zerolinewidth\":2},\"yaxis\":{\"gridcolor\":\"white\",\"linecolor\":\"white\",\"ticks\":\"\",\"title\":{\"standoff\":15},\"zerolinecolor\":\"white\",\"automargin\":true,\"zerolinewidth\":2},\"scene\":{\"xaxis\":{\"backgroundcolor\":\"#E5ECF6\",\"gridcolor\":\"white\",\"linecolor\":\"white\",\"showbackground\":true,\"ticks\":\"\",\"zerolinecolor\":\"white\",\"gridwidth\":2},\"yaxis\":{\"backgroundcolor\":\"#E5ECF6\",\"gridcolor\":\"white\",\"linecolor\":\"white\",\"showbackground\":true,\"ticks\":\"\",\"zerolinecolor\":\"white\",\"gridwidth\":2},\"zaxis\":{\"backgroundcolor\":\"#E5ECF6\",\"gridcolor\":\"white\",\"linecolor\":\"white\",\"showbackground\":true,\"ticks\":\"\",\"zerolinecolor\":\"white\",\"gridwidth\":2}},\"shapedefaults\":{\"line\":{\"color\":\"#2a3f5f\"}},\"annotationdefaults\":{\"arrowcolor\":\"#2a3f5f\",\"arrowhead\":0,\"arrowwidth\":1},\"geo\":{\"bgcolor\":\"white\",\"landcolor\":\"#E5ECF6\",\"subunitcolor\":\"white\",\"showland\":true,\"showlakes\":true,\"lakecolor\":\"white\"},\"title\":{\"x\":0.05},\"mapbox\":{\"style\":\"light\"}}},\"xaxis\":{\"anchor\":\"y\",\"domain\":[0.0,1.0],\"title\":{\"text\":\"Timestamp\"}},\"yaxis\":{\"anchor\":\"x\",\"domain\":[0.0,1.0],\"title\":{\"text\":\"Reaction Value\"}},\"legend\":{\"tracegroupgap\":0},\"title\":{\"text\":\"Reaction Change Over Time for User ID: ASWaWCYrTh3RpzUfABFP\"}},                        {\"responsive\": true}                    ).then(function(){\n",
       "                            \n",
       "var gd = document.getElementById('864b074b-77f2-4e71-b595-bd2f9fca4839');\n",
       "var x = new MutationObserver(function (mutations, observer) {{\n",
       "        var display = window.getComputedStyle(gd).display;\n",
       "        if (!display || display === 'none') {{\n",
       "            console.log([gd, 'removed!']);\n",
       "            Plotly.purge(gd);\n",
       "            observer.disconnect();\n",
       "        }}\n",
       "}});\n",
       "\n",
       "// Listen for the removal of the full notebook cells\n",
       "var notebookContainer = gd.closest('#notebook-container');\n",
       "if (notebookContainer) {{\n",
       "    x.observe(notebookContainer, {childList: true});\n",
       "}}\n",
       "\n",
       "// Listen for the clearing of the current output cell\n",
       "var outputEl = gd.closest('.output');\n",
       "if (outputEl) {{\n",
       "    x.observe(outputEl, {childList: true});\n",
       "}}\n",
       "\n",
       "                        })                };                });            </script>        </div>"
      ]
     },
     "metadata": {},
     "output_type": "display_data"
    }
   ],
   "source": [
    "data = data2\n",
    "data['timestamp'] = pd.to_datetime(data['timestamp'])\n",
    "# Filter the DataFrame for a specific user ID\n",
    "user_data = data[data['userId'] == user_id]\n",
    "\n",
    "# Apply the mapping function to the reaction column\n",
    "user_data['reaction_value'] = user_data['reaction'].map(emoji_mapping).fillna(0)\n",
    "\n",
    "# Plot the change in reaction over time using Plotly\n",
    "fig = px.line(user_data, x='timestamp', y='reaction_value', title=f'Reaction Change Over Time for User ID: {user_id}')\n",
    "fig.update_xaxes(title_text='Timestamp')\n",
    "fig.update_yaxes(title_text='Reaction Value')\n",
    "fig.show()"
   ]
  },
  {
   "cell_type": "markdown",
   "id": "8657d635-f279-4c26-bcd7-5c4a47cc799d",
   "metadata": {},
   "source": [
    "## Changes of number of Each Reactions over the time"
   ]
  },
  {
   "cell_type": "code",
   "execution_count": 15,
   "id": "bb6a3001-c46f-4819-80fd-473bec2ef13f",
   "metadata": {
    "tags": []
   },
   "outputs": [
    {
     "data": {
      "application/vnd.plotly.v1+json": {
       "config": {
        "plotlyServerURL": "https://plot.ly"
       },
       "data": [
        {
         "mode": "lines",
         "name": "👍",
         "type": "scatter",
         "x": [
          "2023-05-14T00:00:00",
          "2023-05-21T00:00:00"
         ],
         "y": [
          119,
          0
         ]
        },
        {
         "mode": "lines",
         "name": "👎",
         "type": "scatter",
         "x": [
          "2023-05-14T00:00:00",
          "2023-05-21T00:00:00"
         ],
         "y": [
          12,
          2
         ]
        },
        {
         "mode": "lines",
         "name": "👏",
         "type": "scatter",
         "x": [
          "2023-05-14T00:00:00",
          "2023-05-21T00:00:00"
         ],
         "y": [
          74,
          2
         ]
        },
        {
         "mode": "lines",
         "name": "😆",
         "type": "scatter",
         "x": [
          "2023-05-14T00:00:00",
          "2023-05-21T00:00:00"
         ],
         "y": [
          1,
          0
         ]
        },
        {
         "mode": "lines",
         "name": "😍",
         "type": "scatter",
         "x": [
          "2023-05-14T00:00:00",
          "2023-05-21T00:00:00"
         ],
         "y": [
          3,
          0
         ]
        },
        {
         "mode": "lines",
         "name": "🙁",
         "type": "scatter",
         "x": [
          "2023-05-14T00:00:00",
          "2023-05-21T00:00:00"
         ],
         "y": [
          15,
          0
         ]
        },
        {
         "mode": "lines",
         "name": "🙂",
         "type": "scatter",
         "x": [
          "2023-05-14T00:00:00",
          "2023-05-21T00:00:00"
         ],
         "y": [
          338,
          3
         ]
        },
        {
         "mode": "lines",
         "name": "🙄",
         "type": "scatter",
         "x": [
          "2023-05-14T00:00:00",
          "2023-05-21T00:00:00"
         ],
         "y": [
          27,
          2
         ]
        }
       ],
       "layout": {
        "template": {
         "data": {
          "bar": [
           {
            "error_x": {
             "color": "#2a3f5f"
            },
            "error_y": {
             "color": "#2a3f5f"
            },
            "marker": {
             "line": {
              "color": "#E5ECF6",
              "width": 0.5
             },
             "pattern": {
              "fillmode": "overlay",
              "size": 10,
              "solidity": 0.2
             }
            },
            "type": "bar"
           }
          ],
          "barpolar": [
           {
            "marker": {
             "line": {
              "color": "#E5ECF6",
              "width": 0.5
             },
             "pattern": {
              "fillmode": "overlay",
              "size": 10,
              "solidity": 0.2
             }
            },
            "type": "barpolar"
           }
          ],
          "carpet": [
           {
            "aaxis": {
             "endlinecolor": "#2a3f5f",
             "gridcolor": "white",
             "linecolor": "white",
             "minorgridcolor": "white",
             "startlinecolor": "#2a3f5f"
            },
            "baxis": {
             "endlinecolor": "#2a3f5f",
             "gridcolor": "white",
             "linecolor": "white",
             "minorgridcolor": "white",
             "startlinecolor": "#2a3f5f"
            },
            "type": "carpet"
           }
          ],
          "choropleth": [
           {
            "colorbar": {
             "outlinewidth": 0,
             "ticks": ""
            },
            "type": "choropleth"
           }
          ],
          "contour": [
           {
            "colorbar": {
             "outlinewidth": 0,
             "ticks": ""
            },
            "colorscale": [
             [
              0,
              "#0d0887"
             ],
             [
              0.1111111111111111,
              "#46039f"
             ],
             [
              0.2222222222222222,
              "#7201a8"
             ],
             [
              0.3333333333333333,
              "#9c179e"
             ],
             [
              0.4444444444444444,
              "#bd3786"
             ],
             [
              0.5555555555555556,
              "#d8576b"
             ],
             [
              0.6666666666666666,
              "#ed7953"
             ],
             [
              0.7777777777777778,
              "#fb9f3a"
             ],
             [
              0.8888888888888888,
              "#fdca26"
             ],
             [
              1,
              "#f0f921"
             ]
            ],
            "type": "contour"
           }
          ],
          "contourcarpet": [
           {
            "colorbar": {
             "outlinewidth": 0,
             "ticks": ""
            },
            "type": "contourcarpet"
           }
          ],
          "heatmap": [
           {
            "colorbar": {
             "outlinewidth": 0,
             "ticks": ""
            },
            "colorscale": [
             [
              0,
              "#0d0887"
             ],
             [
              0.1111111111111111,
              "#46039f"
             ],
             [
              0.2222222222222222,
              "#7201a8"
             ],
             [
              0.3333333333333333,
              "#9c179e"
             ],
             [
              0.4444444444444444,
              "#bd3786"
             ],
             [
              0.5555555555555556,
              "#d8576b"
             ],
             [
              0.6666666666666666,
              "#ed7953"
             ],
             [
              0.7777777777777778,
              "#fb9f3a"
             ],
             [
              0.8888888888888888,
              "#fdca26"
             ],
             [
              1,
              "#f0f921"
             ]
            ],
            "type": "heatmap"
           }
          ],
          "heatmapgl": [
           {
            "colorbar": {
             "outlinewidth": 0,
             "ticks": ""
            },
            "colorscale": [
             [
              0,
              "#0d0887"
             ],
             [
              0.1111111111111111,
              "#46039f"
             ],
             [
              0.2222222222222222,
              "#7201a8"
             ],
             [
              0.3333333333333333,
              "#9c179e"
             ],
             [
              0.4444444444444444,
              "#bd3786"
             ],
             [
              0.5555555555555556,
              "#d8576b"
             ],
             [
              0.6666666666666666,
              "#ed7953"
             ],
             [
              0.7777777777777778,
              "#fb9f3a"
             ],
             [
              0.8888888888888888,
              "#fdca26"
             ],
             [
              1,
              "#f0f921"
             ]
            ],
            "type": "heatmapgl"
           }
          ],
          "histogram": [
           {
            "marker": {
             "pattern": {
              "fillmode": "overlay",
              "size": 10,
              "solidity": 0.2
             }
            },
            "type": "histogram"
           }
          ],
          "histogram2d": [
           {
            "colorbar": {
             "outlinewidth": 0,
             "ticks": ""
            },
            "colorscale": [
             [
              0,
              "#0d0887"
             ],
             [
              0.1111111111111111,
              "#46039f"
             ],
             [
              0.2222222222222222,
              "#7201a8"
             ],
             [
              0.3333333333333333,
              "#9c179e"
             ],
             [
              0.4444444444444444,
              "#bd3786"
             ],
             [
              0.5555555555555556,
              "#d8576b"
             ],
             [
              0.6666666666666666,
              "#ed7953"
             ],
             [
              0.7777777777777778,
              "#fb9f3a"
             ],
             [
              0.8888888888888888,
              "#fdca26"
             ],
             [
              1,
              "#f0f921"
             ]
            ],
            "type": "histogram2d"
           }
          ],
          "histogram2dcontour": [
           {
            "colorbar": {
             "outlinewidth": 0,
             "ticks": ""
            },
            "colorscale": [
             [
              0,
              "#0d0887"
             ],
             [
              0.1111111111111111,
              "#46039f"
             ],
             [
              0.2222222222222222,
              "#7201a8"
             ],
             [
              0.3333333333333333,
              "#9c179e"
             ],
             [
              0.4444444444444444,
              "#bd3786"
             ],
             [
              0.5555555555555556,
              "#d8576b"
             ],
             [
              0.6666666666666666,
              "#ed7953"
             ],
             [
              0.7777777777777778,
              "#fb9f3a"
             ],
             [
              0.8888888888888888,
              "#fdca26"
             ],
             [
              1,
              "#f0f921"
             ]
            ],
            "type": "histogram2dcontour"
           }
          ],
          "mesh3d": [
           {
            "colorbar": {
             "outlinewidth": 0,
             "ticks": ""
            },
            "type": "mesh3d"
           }
          ],
          "parcoords": [
           {
            "line": {
             "colorbar": {
              "outlinewidth": 0,
              "ticks": ""
             }
            },
            "type": "parcoords"
           }
          ],
          "pie": [
           {
            "automargin": true,
            "type": "pie"
           }
          ],
          "scatter": [
           {
            "fillpattern": {
             "fillmode": "overlay",
             "size": 10,
             "solidity": 0.2
            },
            "type": "scatter"
           }
          ],
          "scatter3d": [
           {
            "line": {
             "colorbar": {
              "outlinewidth": 0,
              "ticks": ""
             }
            },
            "marker": {
             "colorbar": {
              "outlinewidth": 0,
              "ticks": ""
             }
            },
            "type": "scatter3d"
           }
          ],
          "scattercarpet": [
           {
            "marker": {
             "colorbar": {
              "outlinewidth": 0,
              "ticks": ""
             }
            },
            "type": "scattercarpet"
           }
          ],
          "scattergeo": [
           {
            "marker": {
             "colorbar": {
              "outlinewidth": 0,
              "ticks": ""
             }
            },
            "type": "scattergeo"
           }
          ],
          "scattergl": [
           {
            "marker": {
             "colorbar": {
              "outlinewidth": 0,
              "ticks": ""
             }
            },
            "type": "scattergl"
           }
          ],
          "scattermapbox": [
           {
            "marker": {
             "colorbar": {
              "outlinewidth": 0,
              "ticks": ""
             }
            },
            "type": "scattermapbox"
           }
          ],
          "scatterpolar": [
           {
            "marker": {
             "colorbar": {
              "outlinewidth": 0,
              "ticks": ""
             }
            },
            "type": "scatterpolar"
           }
          ],
          "scatterpolargl": [
           {
            "marker": {
             "colorbar": {
              "outlinewidth": 0,
              "ticks": ""
             }
            },
            "type": "scatterpolargl"
           }
          ],
          "scatterternary": [
           {
            "marker": {
             "colorbar": {
              "outlinewidth": 0,
              "ticks": ""
             }
            },
            "type": "scatterternary"
           }
          ],
          "surface": [
           {
            "colorbar": {
             "outlinewidth": 0,
             "ticks": ""
            },
            "colorscale": [
             [
              0,
              "#0d0887"
             ],
             [
              0.1111111111111111,
              "#46039f"
             ],
             [
              0.2222222222222222,
              "#7201a8"
             ],
             [
              0.3333333333333333,
              "#9c179e"
             ],
             [
              0.4444444444444444,
              "#bd3786"
             ],
             [
              0.5555555555555556,
              "#d8576b"
             ],
             [
              0.6666666666666666,
              "#ed7953"
             ],
             [
              0.7777777777777778,
              "#fb9f3a"
             ],
             [
              0.8888888888888888,
              "#fdca26"
             ],
             [
              1,
              "#f0f921"
             ]
            ],
            "type": "surface"
           }
          ],
          "table": [
           {
            "cells": {
             "fill": {
              "color": "#EBF0F8"
             },
             "line": {
              "color": "white"
             }
            },
            "header": {
             "fill": {
              "color": "#C8D4E3"
             },
             "line": {
              "color": "white"
             }
            },
            "type": "table"
           }
          ]
         },
         "layout": {
          "annotationdefaults": {
           "arrowcolor": "#2a3f5f",
           "arrowhead": 0,
           "arrowwidth": 1
          },
          "autotypenumbers": "strict",
          "coloraxis": {
           "colorbar": {
            "outlinewidth": 0,
            "ticks": ""
           }
          },
          "colorscale": {
           "diverging": [
            [
             0,
             "#8e0152"
            ],
            [
             0.1,
             "#c51b7d"
            ],
            [
             0.2,
             "#de77ae"
            ],
            [
             0.3,
             "#f1b6da"
            ],
            [
             0.4,
             "#fde0ef"
            ],
            [
             0.5,
             "#f7f7f7"
            ],
            [
             0.6,
             "#e6f5d0"
            ],
            [
             0.7,
             "#b8e186"
            ],
            [
             0.8,
             "#7fbc41"
            ],
            [
             0.9,
             "#4d9221"
            ],
            [
             1,
             "#276419"
            ]
           ],
           "sequential": [
            [
             0,
             "#0d0887"
            ],
            [
             0.1111111111111111,
             "#46039f"
            ],
            [
             0.2222222222222222,
             "#7201a8"
            ],
            [
             0.3333333333333333,
             "#9c179e"
            ],
            [
             0.4444444444444444,
             "#bd3786"
            ],
            [
             0.5555555555555556,
             "#d8576b"
            ],
            [
             0.6666666666666666,
             "#ed7953"
            ],
            [
             0.7777777777777778,
             "#fb9f3a"
            ],
            [
             0.8888888888888888,
             "#fdca26"
            ],
            [
             1,
             "#f0f921"
            ]
           ],
           "sequentialminus": [
            [
             0,
             "#0d0887"
            ],
            [
             0.1111111111111111,
             "#46039f"
            ],
            [
             0.2222222222222222,
             "#7201a8"
            ],
            [
             0.3333333333333333,
             "#9c179e"
            ],
            [
             0.4444444444444444,
             "#bd3786"
            ],
            [
             0.5555555555555556,
             "#d8576b"
            ],
            [
             0.6666666666666666,
             "#ed7953"
            ],
            [
             0.7777777777777778,
             "#fb9f3a"
            ],
            [
             0.8888888888888888,
             "#fdca26"
            ],
            [
             1,
             "#f0f921"
            ]
           ]
          },
          "colorway": [
           "#636efa",
           "#EF553B",
           "#00cc96",
           "#ab63fa",
           "#FFA15A",
           "#19d3f3",
           "#FF6692",
           "#B6E880",
           "#FF97FF",
           "#FECB52"
          ],
          "font": {
           "color": "#2a3f5f"
          },
          "geo": {
           "bgcolor": "white",
           "lakecolor": "white",
           "landcolor": "#E5ECF6",
           "showlakes": true,
           "showland": true,
           "subunitcolor": "white"
          },
          "hoverlabel": {
           "align": "left"
          },
          "hovermode": "closest",
          "mapbox": {
           "style": "light"
          },
          "paper_bgcolor": "white",
          "plot_bgcolor": "#E5ECF6",
          "polar": {
           "angularaxis": {
            "gridcolor": "white",
            "linecolor": "white",
            "ticks": ""
           },
           "bgcolor": "#E5ECF6",
           "radialaxis": {
            "gridcolor": "white",
            "linecolor": "white",
            "ticks": ""
           }
          },
          "scene": {
           "xaxis": {
            "backgroundcolor": "#E5ECF6",
            "gridcolor": "white",
            "gridwidth": 2,
            "linecolor": "white",
            "showbackground": true,
            "ticks": "",
            "zerolinecolor": "white"
           },
           "yaxis": {
            "backgroundcolor": "#E5ECF6",
            "gridcolor": "white",
            "gridwidth": 2,
            "linecolor": "white",
            "showbackground": true,
            "ticks": "",
            "zerolinecolor": "white"
           },
           "zaxis": {
            "backgroundcolor": "#E5ECF6",
            "gridcolor": "white",
            "gridwidth": 2,
            "linecolor": "white",
            "showbackground": true,
            "ticks": "",
            "zerolinecolor": "white"
           }
          },
          "shapedefaults": {
           "line": {
            "color": "#2a3f5f"
           }
          },
          "ternary": {
           "aaxis": {
            "gridcolor": "white",
            "linecolor": "white",
            "ticks": ""
           },
           "baxis": {
            "gridcolor": "white",
            "linecolor": "white",
            "ticks": ""
           },
           "bgcolor": "#E5ECF6",
           "caxis": {
            "gridcolor": "white",
            "linecolor": "white",
            "ticks": ""
           }
          },
          "title": {
           "x": 0.05
          },
          "xaxis": {
           "automargin": true,
           "gridcolor": "white",
           "linecolor": "white",
           "ticks": "",
           "title": {
            "standoff": 15
           },
           "zerolinecolor": "white",
           "zerolinewidth": 2
          },
          "yaxis": {
           "automargin": true,
           "gridcolor": "white",
           "linecolor": "white",
           "ticks": "",
           "title": {
            "standoff": 15
           },
           "zerolinecolor": "white",
           "zerolinewidth": 2
          }
         }
        },
        "title": {
         "text": "Reaction frequency over time"
        },
        "xaxis": {
         "title": {
          "text": "Time"
         }
        },
        "yaxis": {
         "title": {
          "text": "Frequency"
         }
        }
       }
      },
      "text/html": [
       "<div>                            <div id=\"e73dc367-e810-461d-bbe3-64b64278bc94\" class=\"plotly-graph-div\" style=\"height:525px; width:100%;\"></div>            <script type=\"text/javascript\">                require([\"plotly\"], function(Plotly) {                    window.PLOTLYENV=window.PLOTLYENV || {};                                    if (document.getElementById(\"e73dc367-e810-461d-bbe3-64b64278bc94\")) {                    Plotly.newPlot(                        \"e73dc367-e810-461d-bbe3-64b64278bc94\",                        [{\"mode\":\"lines\",\"name\":\"\\ud83d\\udc4d\",\"x\":[\"2023-05-14T00:00:00\",\"2023-05-21T00:00:00\"],\"y\":[119,0],\"type\":\"scatter\"},{\"mode\":\"lines\",\"name\":\"\\ud83d\\udc4e\",\"x\":[\"2023-05-14T00:00:00\",\"2023-05-21T00:00:00\"],\"y\":[12,2],\"type\":\"scatter\"},{\"mode\":\"lines\",\"name\":\"\\ud83d\\udc4f\",\"x\":[\"2023-05-14T00:00:00\",\"2023-05-21T00:00:00\"],\"y\":[74,2],\"type\":\"scatter\"},{\"mode\":\"lines\",\"name\":\"\\ud83d\\ude06\",\"x\":[\"2023-05-14T00:00:00\",\"2023-05-21T00:00:00\"],\"y\":[1,0],\"type\":\"scatter\"},{\"mode\":\"lines\",\"name\":\"\\ud83d\\ude0d\",\"x\":[\"2023-05-14T00:00:00\",\"2023-05-21T00:00:00\"],\"y\":[3,0],\"type\":\"scatter\"},{\"mode\":\"lines\",\"name\":\"\\ud83d\\ude41\",\"x\":[\"2023-05-14T00:00:00\",\"2023-05-21T00:00:00\"],\"y\":[15,0],\"type\":\"scatter\"},{\"mode\":\"lines\",\"name\":\"\\ud83d\\ude42\",\"x\":[\"2023-05-14T00:00:00\",\"2023-05-21T00:00:00\"],\"y\":[338,3],\"type\":\"scatter\"},{\"mode\":\"lines\",\"name\":\"\\ud83d\\ude44\",\"x\":[\"2023-05-14T00:00:00\",\"2023-05-21T00:00:00\"],\"y\":[27,2],\"type\":\"scatter\"}],                        {\"template\":{\"data\":{\"histogram2dcontour\":[{\"type\":\"histogram2dcontour\",\"colorbar\":{\"outlinewidth\":0,\"ticks\":\"\"},\"colorscale\":[[0.0,\"#0d0887\"],[0.1111111111111111,\"#46039f\"],[0.2222222222222222,\"#7201a8\"],[0.3333333333333333,\"#9c179e\"],[0.4444444444444444,\"#bd3786\"],[0.5555555555555556,\"#d8576b\"],[0.6666666666666666,\"#ed7953\"],[0.7777777777777778,\"#fb9f3a\"],[0.8888888888888888,\"#fdca26\"],[1.0,\"#f0f921\"]]}],\"choropleth\":[{\"type\":\"choropleth\",\"colorbar\":{\"outlinewidth\":0,\"ticks\":\"\"}}],\"histogram2d\":[{\"type\":\"histogram2d\",\"colorbar\":{\"outlinewidth\":0,\"ticks\":\"\"},\"colorscale\":[[0.0,\"#0d0887\"],[0.1111111111111111,\"#46039f\"],[0.2222222222222222,\"#7201a8\"],[0.3333333333333333,\"#9c179e\"],[0.4444444444444444,\"#bd3786\"],[0.5555555555555556,\"#d8576b\"],[0.6666666666666666,\"#ed7953\"],[0.7777777777777778,\"#fb9f3a\"],[0.8888888888888888,\"#fdca26\"],[1.0,\"#f0f921\"]]}],\"heatmap\":[{\"type\":\"heatmap\",\"colorbar\":{\"outlinewidth\":0,\"ticks\":\"\"},\"colorscale\":[[0.0,\"#0d0887\"],[0.1111111111111111,\"#46039f\"],[0.2222222222222222,\"#7201a8\"],[0.3333333333333333,\"#9c179e\"],[0.4444444444444444,\"#bd3786\"],[0.5555555555555556,\"#d8576b\"],[0.6666666666666666,\"#ed7953\"],[0.7777777777777778,\"#fb9f3a\"],[0.8888888888888888,\"#fdca26\"],[1.0,\"#f0f921\"]]}],\"heatmapgl\":[{\"type\":\"heatmapgl\",\"colorbar\":{\"outlinewidth\":0,\"ticks\":\"\"},\"colorscale\":[[0.0,\"#0d0887\"],[0.1111111111111111,\"#46039f\"],[0.2222222222222222,\"#7201a8\"],[0.3333333333333333,\"#9c179e\"],[0.4444444444444444,\"#bd3786\"],[0.5555555555555556,\"#d8576b\"],[0.6666666666666666,\"#ed7953\"],[0.7777777777777778,\"#fb9f3a\"],[0.8888888888888888,\"#fdca26\"],[1.0,\"#f0f921\"]]}],\"contourcarpet\":[{\"type\":\"contourcarpet\",\"colorbar\":{\"outlinewidth\":0,\"ticks\":\"\"}}],\"contour\":[{\"type\":\"contour\",\"colorbar\":{\"outlinewidth\":0,\"ticks\":\"\"},\"colorscale\":[[0.0,\"#0d0887\"],[0.1111111111111111,\"#46039f\"],[0.2222222222222222,\"#7201a8\"],[0.3333333333333333,\"#9c179e\"],[0.4444444444444444,\"#bd3786\"],[0.5555555555555556,\"#d8576b\"],[0.6666666666666666,\"#ed7953\"],[0.7777777777777778,\"#fb9f3a\"],[0.8888888888888888,\"#fdca26\"],[1.0,\"#f0f921\"]]}],\"surface\":[{\"type\":\"surface\",\"colorbar\":{\"outlinewidth\":0,\"ticks\":\"\"},\"colorscale\":[[0.0,\"#0d0887\"],[0.1111111111111111,\"#46039f\"],[0.2222222222222222,\"#7201a8\"],[0.3333333333333333,\"#9c179e\"],[0.4444444444444444,\"#bd3786\"],[0.5555555555555556,\"#d8576b\"],[0.6666666666666666,\"#ed7953\"],[0.7777777777777778,\"#fb9f3a\"],[0.8888888888888888,\"#fdca26\"],[1.0,\"#f0f921\"]]}],\"mesh3d\":[{\"type\":\"mesh3d\",\"colorbar\":{\"outlinewidth\":0,\"ticks\":\"\"}}],\"scatter\":[{\"fillpattern\":{\"fillmode\":\"overlay\",\"size\":10,\"solidity\":0.2},\"type\":\"scatter\"}],\"parcoords\":[{\"type\":\"parcoords\",\"line\":{\"colorbar\":{\"outlinewidth\":0,\"ticks\":\"\"}}}],\"scatterpolargl\":[{\"type\":\"scatterpolargl\",\"marker\":{\"colorbar\":{\"outlinewidth\":0,\"ticks\":\"\"}}}],\"bar\":[{\"error_x\":{\"color\":\"#2a3f5f\"},\"error_y\":{\"color\":\"#2a3f5f\"},\"marker\":{\"line\":{\"color\":\"#E5ECF6\",\"width\":0.5},\"pattern\":{\"fillmode\":\"overlay\",\"size\":10,\"solidity\":0.2}},\"type\":\"bar\"}],\"scattergeo\":[{\"type\":\"scattergeo\",\"marker\":{\"colorbar\":{\"outlinewidth\":0,\"ticks\":\"\"}}}],\"scatterpolar\":[{\"type\":\"scatterpolar\",\"marker\":{\"colorbar\":{\"outlinewidth\":0,\"ticks\":\"\"}}}],\"histogram\":[{\"marker\":{\"pattern\":{\"fillmode\":\"overlay\",\"size\":10,\"solidity\":0.2}},\"type\":\"histogram\"}],\"scattergl\":[{\"type\":\"scattergl\",\"marker\":{\"colorbar\":{\"outlinewidth\":0,\"ticks\":\"\"}}}],\"scatter3d\":[{\"type\":\"scatter3d\",\"line\":{\"colorbar\":{\"outlinewidth\":0,\"ticks\":\"\"}},\"marker\":{\"colorbar\":{\"outlinewidth\":0,\"ticks\":\"\"}}}],\"scattermapbox\":[{\"type\":\"scattermapbox\",\"marker\":{\"colorbar\":{\"outlinewidth\":0,\"ticks\":\"\"}}}],\"scatterternary\":[{\"type\":\"scatterternary\",\"marker\":{\"colorbar\":{\"outlinewidth\":0,\"ticks\":\"\"}}}],\"scattercarpet\":[{\"type\":\"scattercarpet\",\"marker\":{\"colorbar\":{\"outlinewidth\":0,\"ticks\":\"\"}}}],\"carpet\":[{\"aaxis\":{\"endlinecolor\":\"#2a3f5f\",\"gridcolor\":\"white\",\"linecolor\":\"white\",\"minorgridcolor\":\"white\",\"startlinecolor\":\"#2a3f5f\"},\"baxis\":{\"endlinecolor\":\"#2a3f5f\",\"gridcolor\":\"white\",\"linecolor\":\"white\",\"minorgridcolor\":\"white\",\"startlinecolor\":\"#2a3f5f\"},\"type\":\"carpet\"}],\"table\":[{\"cells\":{\"fill\":{\"color\":\"#EBF0F8\"},\"line\":{\"color\":\"white\"}},\"header\":{\"fill\":{\"color\":\"#C8D4E3\"},\"line\":{\"color\":\"white\"}},\"type\":\"table\"}],\"barpolar\":[{\"marker\":{\"line\":{\"color\":\"#E5ECF6\",\"width\":0.5},\"pattern\":{\"fillmode\":\"overlay\",\"size\":10,\"solidity\":0.2}},\"type\":\"barpolar\"}],\"pie\":[{\"automargin\":true,\"type\":\"pie\"}]},\"layout\":{\"autotypenumbers\":\"strict\",\"colorway\":[\"#636efa\",\"#EF553B\",\"#00cc96\",\"#ab63fa\",\"#FFA15A\",\"#19d3f3\",\"#FF6692\",\"#B6E880\",\"#FF97FF\",\"#FECB52\"],\"font\":{\"color\":\"#2a3f5f\"},\"hovermode\":\"closest\",\"hoverlabel\":{\"align\":\"left\"},\"paper_bgcolor\":\"white\",\"plot_bgcolor\":\"#E5ECF6\",\"polar\":{\"bgcolor\":\"#E5ECF6\",\"angularaxis\":{\"gridcolor\":\"white\",\"linecolor\":\"white\",\"ticks\":\"\"},\"radialaxis\":{\"gridcolor\":\"white\",\"linecolor\":\"white\",\"ticks\":\"\"}},\"ternary\":{\"bgcolor\":\"#E5ECF6\",\"aaxis\":{\"gridcolor\":\"white\",\"linecolor\":\"white\",\"ticks\":\"\"},\"baxis\":{\"gridcolor\":\"white\",\"linecolor\":\"white\",\"ticks\":\"\"},\"caxis\":{\"gridcolor\":\"white\",\"linecolor\":\"white\",\"ticks\":\"\"}},\"coloraxis\":{\"colorbar\":{\"outlinewidth\":0,\"ticks\":\"\"}},\"colorscale\":{\"sequential\":[[0.0,\"#0d0887\"],[0.1111111111111111,\"#46039f\"],[0.2222222222222222,\"#7201a8\"],[0.3333333333333333,\"#9c179e\"],[0.4444444444444444,\"#bd3786\"],[0.5555555555555556,\"#d8576b\"],[0.6666666666666666,\"#ed7953\"],[0.7777777777777778,\"#fb9f3a\"],[0.8888888888888888,\"#fdca26\"],[1.0,\"#f0f921\"]],\"sequentialminus\":[[0.0,\"#0d0887\"],[0.1111111111111111,\"#46039f\"],[0.2222222222222222,\"#7201a8\"],[0.3333333333333333,\"#9c179e\"],[0.4444444444444444,\"#bd3786\"],[0.5555555555555556,\"#d8576b\"],[0.6666666666666666,\"#ed7953\"],[0.7777777777777778,\"#fb9f3a\"],[0.8888888888888888,\"#fdca26\"],[1.0,\"#f0f921\"]],\"diverging\":[[0,\"#8e0152\"],[0.1,\"#c51b7d\"],[0.2,\"#de77ae\"],[0.3,\"#f1b6da\"],[0.4,\"#fde0ef\"],[0.5,\"#f7f7f7\"],[0.6,\"#e6f5d0\"],[0.7,\"#b8e186\"],[0.8,\"#7fbc41\"],[0.9,\"#4d9221\"],[1,\"#276419\"]]},\"xaxis\":{\"gridcolor\":\"white\",\"linecolor\":\"white\",\"ticks\":\"\",\"title\":{\"standoff\":15},\"zerolinecolor\":\"white\",\"automargin\":true,\"zerolinewidth\":2},\"yaxis\":{\"gridcolor\":\"white\",\"linecolor\":\"white\",\"ticks\":\"\",\"title\":{\"standoff\":15},\"zerolinecolor\":\"white\",\"automargin\":true,\"zerolinewidth\":2},\"scene\":{\"xaxis\":{\"backgroundcolor\":\"#E5ECF6\",\"gridcolor\":\"white\",\"linecolor\":\"white\",\"showbackground\":true,\"ticks\":\"\",\"zerolinecolor\":\"white\",\"gridwidth\":2},\"yaxis\":{\"backgroundcolor\":\"#E5ECF6\",\"gridcolor\":\"white\",\"linecolor\":\"white\",\"showbackground\":true,\"ticks\":\"\",\"zerolinecolor\":\"white\",\"gridwidth\":2},\"zaxis\":{\"backgroundcolor\":\"#E5ECF6\",\"gridcolor\":\"white\",\"linecolor\":\"white\",\"showbackground\":true,\"ticks\":\"\",\"zerolinecolor\":\"white\",\"gridwidth\":2}},\"shapedefaults\":{\"line\":{\"color\":\"#2a3f5f\"}},\"annotationdefaults\":{\"arrowcolor\":\"#2a3f5f\",\"arrowhead\":0,\"arrowwidth\":1},\"geo\":{\"bgcolor\":\"white\",\"landcolor\":\"#E5ECF6\",\"subunitcolor\":\"white\",\"showland\":true,\"showlakes\":true,\"lakecolor\":\"white\"},\"title\":{\"x\":0.05},\"mapbox\":{\"style\":\"light\"}}},\"title\":{\"text\":\"Reaction frequency over time\"},\"xaxis\":{\"title\":{\"text\":\"Time\"}},\"yaxis\":{\"title\":{\"text\":\"Frequency\"}}},                        {\"responsive\": true}                    ).then(function(){\n",
       "                            \n",
       "var gd = document.getElementById('e73dc367-e810-461d-bbe3-64b64278bc94');\n",
       "var x = new MutationObserver(function (mutations, observer) {{\n",
       "        var display = window.getComputedStyle(gd).display;\n",
       "        if (!display || display === 'none') {{\n",
       "            console.log([gd, 'removed!']);\n",
       "            Plotly.purge(gd);\n",
       "            observer.disconnect();\n",
       "        }}\n",
       "}});\n",
       "\n",
       "// Listen for the removal of the full notebook cells\n",
       "var notebookContainer = gd.closest('#notebook-container');\n",
       "if (notebookContainer) {{\n",
       "    x.observe(notebookContainer, {childList: true});\n",
       "}}\n",
       "\n",
       "// Listen for the clearing of the current output cell\n",
       "var outputEl = gd.closest('.output');\n",
       "if (outputEl) {{\n",
       "    x.observe(outputEl, {childList: true});\n",
       "}}\n",
       "\n",
       "                        })                };                });            </script>        </div>"
      ]
     },
     "metadata": {},
     "output_type": "display_data"
    }
   ],
   "source": [
    "data.index = pd.to_datetime(data.index)\n",
    "\n",
    "# resample the data into weekly bins and then calculate the value counts for each bin\n",
    "weekly_counts = data.resample('W').reaction.value_counts()\n",
    "# unstack the hierarchical index produced by value_counts\n",
    "weekly_counts = weekly_counts.unstack(level=-1, fill_value=0)\n",
    "\n",
    "fig = go.Figure()\n",
    "# Loop through each unique reaction\n",
    "for reaction in weekly_counts.columns:\n",
    "    fig.add_trace(go.Scatter(x=weekly_counts.index, \n",
    "                             y=weekly_counts[reaction], \n",
    "                             mode='lines', \n",
    "                             name=reaction))\n",
    "fig.update_layout(title='Reaction frequency over time',\n",
    "                  xaxis_title='Time',\n",
    "                  yaxis_title='Frequency')\n",
    "\n",
    "fig.show()"
   ]
  },
  {
   "cell_type": "markdown",
   "id": "63ac3c3a-5802-4c05-89df-c7b5d1ae9985",
   "metadata": {},
   "source": [
    "# Distributions of Different Reactions in the hours of day"
   ]
  },
  {
   "cell_type": "code",
   "execution_count": 16,
   "id": "51351ae5-edff-41c1-bcf8-dad180221199",
   "metadata": {
    "tags": []
   },
   "outputs": [
    {
     "data": {
      "application/vnd.plotly.v1+json": {
       "config": {
        "plotlyServerURL": "https://plot.ly"
       },
       "data": [
        {
         "legendgroup": "🙂",
         "marker": {
          "color": "rgb(31, 119, 180)"
         },
         "mode": "lines",
         "name": "🙂",
         "showlegend": true,
         "type": "scatter",
         "x": [
          11,
          11.016,
          11.032,
          11.048,
          11.064,
          11.08,
          11.096,
          11.112,
          11.128,
          11.144,
          11.16,
          11.176,
          11.192,
          11.208,
          11.224,
          11.24,
          11.256,
          11.272,
          11.288,
          11.304,
          11.32,
          11.336,
          11.352,
          11.368,
          11.384,
          11.4,
          11.416,
          11.432,
          11.448,
          11.464,
          11.48,
          11.496,
          11.512,
          11.528,
          11.544,
          11.56,
          11.576,
          11.592,
          11.608,
          11.624,
          11.64,
          11.656,
          11.672,
          11.688,
          11.704,
          11.72,
          11.736,
          11.752,
          11.768,
          11.784,
          11.8,
          11.816,
          11.832,
          11.848,
          11.864,
          11.88,
          11.896,
          11.912,
          11.928,
          11.943999999999999,
          11.96,
          11.975999999999999,
          11.992,
          12.008,
          12.024000000000001,
          12.04,
          12.056000000000001,
          12.072,
          12.088000000000001,
          12.104,
          12.120000000000001,
          12.136,
          12.152,
          12.168,
          12.184,
          12.2,
          12.216,
          12.232,
          12.248,
          12.264,
          12.28,
          12.296,
          12.312,
          12.328,
          12.344,
          12.36,
          12.376,
          12.392,
          12.408,
          12.424,
          12.44,
          12.456,
          12.472,
          12.488,
          12.504,
          12.52,
          12.536,
          12.552,
          12.568,
          12.584,
          12.6,
          12.616,
          12.632,
          12.648,
          12.664,
          12.68,
          12.696,
          12.712,
          12.728,
          12.744,
          12.76,
          12.776,
          12.792,
          12.808,
          12.824,
          12.84,
          12.856,
          12.872,
          12.888,
          12.904,
          12.92,
          12.936,
          12.952,
          12.968,
          12.984,
          13,
          13.016,
          13.032,
          13.048,
          13.064,
          13.08,
          13.096,
          13.112,
          13.128,
          13.144,
          13.16,
          13.176,
          13.192,
          13.208,
          13.224,
          13.24,
          13.256,
          13.272,
          13.288,
          13.304,
          13.32,
          13.336,
          13.352,
          13.368,
          13.384,
          13.4,
          13.416,
          13.432,
          13.448,
          13.464,
          13.48,
          13.496,
          13.512,
          13.528,
          13.544,
          13.56,
          13.576,
          13.592,
          13.608,
          13.624,
          13.64,
          13.656,
          13.672,
          13.688,
          13.704,
          13.72,
          13.736,
          13.751999999999999,
          13.768,
          13.783999999999999,
          13.8,
          13.815999999999999,
          13.832,
          13.847999999999999,
          13.864,
          13.879999999999999,
          13.896,
          13.911999999999999,
          13.928,
          13.943999999999999,
          13.96,
          13.975999999999999,
          13.992,
          14.008,
          14.024000000000001,
          14.04,
          14.056000000000001,
          14.072,
          14.088000000000001,
          14.104,
          14.120000000000001,
          14.136,
          14.152000000000001,
          14.168,
          14.184000000000001,
          14.2,
          14.216000000000001,
          14.232,
          14.248000000000001,
          14.264,
          14.28,
          14.296,
          14.312,
          14.328,
          14.344,
          14.36,
          14.376,
          14.392,
          14.408,
          14.424,
          14.44,
          14.456,
          14.472,
          14.488,
          14.504,
          14.52,
          14.536,
          14.552,
          14.568,
          14.584,
          14.6,
          14.616,
          14.632,
          14.648,
          14.664,
          14.68,
          14.696,
          14.712,
          14.728,
          14.744,
          14.76,
          14.776,
          14.792,
          14.808,
          14.824,
          14.84,
          14.856,
          14.872,
          14.888,
          14.904,
          14.92,
          14.936,
          14.952,
          14.968,
          14.984,
          15,
          15.016,
          15.032,
          15.048,
          15.064,
          15.08,
          15.096,
          15.112,
          15.128,
          15.144,
          15.16,
          15.176,
          15.192,
          15.208,
          15.224,
          15.24,
          15.256,
          15.272,
          15.288,
          15.304,
          15.32,
          15.336,
          15.352,
          15.368,
          15.384,
          15.4,
          15.416,
          15.432,
          15.448,
          15.464,
          15.48,
          15.496,
          15.512,
          15.527999999999999,
          15.544,
          15.559999999999999,
          15.576,
          15.591999999999999,
          15.608,
          15.623999999999999,
          15.64,
          15.655999999999999,
          15.672,
          15.687999999999999,
          15.704,
          15.719999999999999,
          15.736,
          15.751999999999999,
          15.768,
          15.783999999999999,
          15.8,
          15.815999999999999,
          15.832,
          15.847999999999999,
          15.864,
          15.879999999999999,
          15.896,
          15.911999999999999,
          15.928,
          15.943999999999999,
          15.96,
          15.975999999999999,
          15.992,
          16.008,
          16.024,
          16.04,
          16.056,
          16.072,
          16.088,
          16.104,
          16.12,
          16.136,
          16.152,
          16.168,
          16.184,
          16.2,
          16.216,
          16.232,
          16.248,
          16.264,
          16.28,
          16.296,
          16.312,
          16.328,
          16.344,
          16.36,
          16.376,
          16.392,
          16.408,
          16.424,
          16.44,
          16.456,
          16.472,
          16.488,
          16.503999999999998,
          16.52,
          16.536,
          16.552,
          16.567999999999998,
          16.584,
          16.6,
          16.616,
          16.631999999999998,
          16.648,
          16.664,
          16.68,
          16.695999999999998,
          16.712,
          16.728,
          16.744,
          16.759999999999998,
          16.776,
          16.792,
          16.808,
          16.823999999999998,
          16.84,
          16.856,
          16.872,
          16.887999999999998,
          16.904,
          16.92,
          16.936,
          16.951999999999998,
          16.968,
          16.984,
          17,
          17.016,
          17.032,
          17.048000000000002,
          17.064,
          17.08,
          17.096,
          17.112000000000002,
          17.128,
          17.144,
          17.16,
          17.176000000000002,
          17.192,
          17.208,
          17.224,
          17.240000000000002,
          17.256,
          17.272,
          17.288,
          17.304000000000002,
          17.32,
          17.336,
          17.352,
          17.368000000000002,
          17.384,
          17.4,
          17.416,
          17.432000000000002,
          17.448,
          17.464,
          17.48,
          17.496000000000002,
          17.512,
          17.528,
          17.544,
          17.56,
          17.576,
          17.592,
          17.608,
          17.624,
          17.64,
          17.656,
          17.672,
          17.688,
          17.704,
          17.72,
          17.736,
          17.752,
          17.768,
          17.784,
          17.8,
          17.816,
          17.832,
          17.848,
          17.864,
          17.88,
          17.896,
          17.912,
          17.928,
          17.944,
          17.96,
          17.976,
          17.992,
          18.008,
          18.024,
          18.04,
          18.056,
          18.072,
          18.088,
          18.104,
          18.12,
          18.136,
          18.152,
          18.168,
          18.184,
          18.2,
          18.216,
          18.232,
          18.248,
          18.264,
          18.28,
          18.296,
          18.312,
          18.328,
          18.344,
          18.36,
          18.376,
          18.392,
          18.408,
          18.424,
          18.44,
          18.456,
          18.472,
          18.488,
          18.503999999999998,
          18.52,
          18.536,
          18.552,
          18.567999999999998,
          18.584,
          18.6,
          18.616,
          18.631999999999998,
          18.648,
          18.664,
          18.68,
          18.695999999999998,
          18.712,
          18.728,
          18.744,
          18.759999999999998,
          18.776,
          18.792,
          18.808,
          18.823999999999998,
          18.84,
          18.856,
          18.872,
          18.887999999999998,
          18.904,
          18.92,
          18.936,
          18.951999999999998,
          18.968,
          18.984
         ],
         "xaxis": "x",
         "y": [
          0.024339756271262714,
          0.02419038444413872,
          0.02374774661026314,
          0.023027942323580516,
          0.022056721064003165,
          0.020867953544851894,
          0.0195016728191804,
          0.018001843007957017,
          0.016414028510256355,
          0.014783134512976746,
          0.013151371724823628,
          0.0115565675161303,
          0.01003090631615186,
          0.008600139088135984,
          0.007283259805716077,
          0.00609261028096719,
          0.005034346543230196,
          0.004109182004398302,
          0.0033133152733232853,
          0.0026394528944345217,
          0.002077847762884156,
          0.0016172902368139874,
          0.0012460085680134109,
          0.0009524558786929321,
          0.0007259805569796145,
          0.0005573941379350546,
          0.0004394644824099412,
          0.00036737178163343844,
          0.0003391703055462746,
          0.0003562997165444636,
          0.0004241860270586771,
          0.0005529636456932953,
          0.0007583360982214035,
          0.0010625735850128342,
          0.0014956203725501383,
          0.0020962543634755297,
          0.002913206020295212,
          0.004006106125647337,
          0.005446094887405445,
          0.007315893209520907,
          0.00970911630936155,
          0.012728606799178577,
          0.016483585432915955,
          0.021085468542112386,
          0.02664228514235017,
          0.03325174371967923,
          0.04099314418203057,
          0.0499184945257712,
          0.06004335931618494,
          0.07133811860137838,
          0.08372042923311908,
          0.09704973362728199,
          0.11112463488700133,
          0.12568383973743227,
          0.14041115941841176,
          0.1549447629123679,
          0.16889051844341255,
          0.18183887107020374,
          0.19338432748807727,
          0.20314629824112906,
          0.21078982429058982,
          0.21604462260232374,
          0.21872094356629437,
          0.21872094363698188,
          0.21604462285521417,
          0.21078982486939193,
          0.20314629946586973,
          0.19338433001390773,
          0.18183887620102424,
          0.16889052873208477,
          0.15494478328880498,
          0.1404111992784941,
          0.1256839167565566,
          0.1111247818850228,
          0.09705001075334392,
          0.08372094528850631,
          0.07133906782457758,
          0.06004508393635455,
          0.049921589604268304,
          0.040998630777815084,
          0.03326135071000321,
          0.026658901079143052,
          0.021113855274271714,
          0.01653148802991561,
          0.012808453285262325,
          0.009840579947852427,
          0.0075296936413541465,
          0.005789545739754653,
          0.0045510775233406344,
          0.0037673594922614444,
          0.0034186189256462567,
          0.003517799317130312,
          0.004117080104621677,
          0.005315720054901664,
          0.0072694675609968635,
          0.010201600275729202,
          0.014415410385619498,
          0.020307639553861535,
          0.02838199516786815,
          0.03926146342291966,
          0.05369770477177713,
          0.07257541839804528,
          0.09690925457332998,
          0.12783070869720878,
          0.1665625252375893,
          0.21437854538081785,
          0.2725477025882569,
          0.3422620264615172,
          0.4245500318678364,
          0.5201786646529413,
          0.6295489036291438,
          0.7525919802710218,
          0.8886747303590179,
          1.0365235772321524,
          1.194176824029194,
          1.3589741191270166,
          1.527590066904935,
          1.696116022503423,
          1.8601903136386826,
          2.015172792482218,
          2.156355167165919,
          2.2791944940489217,
          2.3795540324141915,
          2.4539338127204955,
          2.4996730574942525,
          2.5151081472225174,
          2.499673057480943,
          2.453933812686251,
          2.379554032339791,
          2.2791944938938857,
          2.1563551668487726,
          2.0151727918422178,
          1.8601903123632988,
          1.6961160199931549,
          1.5275900620244782,
          1.3589741097546597,
          1.194176806250979,
          1.036523543921694,
          0.888674668710011,
          0.7525918675708296,
          0.6295487001235665,
          0.5201783016743021,
          0.4245493923702475,
          0.34226091357765565,
          0.2725457895931106,
          0.2143752972689229,
          0.16655707768807906,
          0.12782168416954587,
          0.09689448728122946,
          0.0725515496114994,
          0.05365959705697624,
          0.03920136700833378,
          0.02828838192095364,
          0.02016360086963435,
          0.014196496115352628,
          0.009872959013315528,
          0.006782137504052475,
          0.004601918653325341,
          0.0030843551175203316,
          0.0020419396508790733,
          0.0013352866914428478,
          0.00086250024856537,
          0.0005502968510911161,
          0.0003468070496036464,
          0.00021588968686770768,
          0.00013274829945367344,
          0.00008062674490584314,
          0.00004837070055392475,
          0.000028664126936135514,
          0.000016778307510733238,
          0.000009700869708268812,
          0.000005540210727083959,
          0.000003125323563990577,
          0.0000017414731357963738,
          9.584989968468826e-7,
          5.21098276050236e-7,
          2.7983414180167854e-7,
          1.4843450035563703e-7,
          7.777179088800132e-8,
          4.024968028530567e-8,
          2.0575758816325843e-8,
          1.0389684903697413e-8,
          5.182054580348503e-9,
          2.553022719530953e-9,
          1.2423972079999302e-9,
          5.971993745707488e-10,
          2.8355108411929733e-10,
          1.3298307478657178e-10,
          6.160479531537518e-11,
          2.8189395181050027e-11,
          1.274119279428776e-11,
          5.6883656743640195e-12,
          2.5085225950010993e-12,
          1.0927016973941322e-12,
          4.701520223867674e-13,
          1.998150011493247e-13,
          8.388242196364111e-14,
          3.4782990930112454e-14,
          1.4246755658177658e-14,
          5.763922312868356e-15,
          2.303421158643693e-15,
          9.09246578273064e-16,
          3.5452191723322153e-16,
          1.365392753364723e-16,
          5.1942779842584166e-17,
          1.9518474573953646e-17,
          7.244687363118822e-18,
          2.6561127984584046e-18,
          9.6189234975501e-19,
          3.4408006945826247e-19,
          1.2157538516750276e-19,
          4.2431157714882403e-20,
          1.462773888019335e-20,
          4.981069566497581e-21,
          1.6754100091374282e-21,
          5.566377993941735e-22,
          1.826742671273175e-22,
          5.921546489676592e-23,
          1.8960334860952478e-23,
          5.9966672867453994e-24,
          1.873384808849606e-24,
          5.780922209035463e-25,
          1.762058597334356e-25,
          5.30513767218596e-26,
          1.5777059408202032e-26,
          4.6345604744866486e-27,
          1.3447579995351052e-27,
          3.8541872447405607e-28,
          1.0911251684024254e-28,
          3.051191231571314e-29,
          8.427861153625131e-30,
          2.2994205428493233e-30,
          6.19687209423389e-31,
          1.6496041778966197e-31,
          4.3375056535608423e-32,
          1.1265577257608603e-32,
          2.890147029234274e-33,
          7.323851234621111e-34,
          1.8332098481571784e-34,
          4.532501323009037e-35,
          1.1069214104615783e-35,
          2.6702303416107735e-36,
          6.36258731765171e-37,
          1.497517391779292e-37,
          3.481473426709152e-38,
          7.994795968804163e-39,
          1.8134466157693847e-39,
          4.063078903609704e-40,
          8.992052369442178e-41,
          1.965692086220485e-41,
          4.244487327421004e-42,
          9.052907516535882e-43,
          1.9072341592186835e-43,
          3.96892634766739e-44,
          8.158215127514473e-45,
          1.656419586303176e-45,
          3.3219925295559232e-46,
          6.580820365597657e-47,
          1.2876994530966752e-47,
          2.488869219426044e-48,
          4.751631278754029e-49,
          8.960587369019566e-50,
          1.6691036824589137e-50,
          3.0710242248733305e-51,
          5.581311472820361e-52,
          1.0019415047028273e-52,
          1.776648712088705e-53,
          3.1118156016025796e-54,
          5.383679934640784e-55,
          9.200209183903045e-56,
          1.552992153848709e-56,
          2.5893688046068355e-57,
          4.264534693493287e-58,
          6.93749179736689e-59,
          1.1147729031630577e-59,
          1.7693893758040373e-60,
          2.7740450976443616e-61,
          4.295925184976077e-62,
          6.571325684550729e-63,
          9.928928082247457e-64,
          1.481851992310286e-64,
          2.184541915873984e-65,
          3.18103923901537e-66,
          4.57541783576079e-67,
          6.5004823838068056e-68,
          9.122492205621719e-69,
          1.2645456344508806e-69,
          1.7314446095786614e-70,
          2.3417244425122196e-71,
          3.12835525724674e-72,
          4.128092622089064e-73,
          5.380664217132329e-74,
          6.927482517638171e-75,
          8.809841130213861e-76,
          1.1066589620877211e-76,
          1.3731330631372859e-77,
          1.6829241162972028e-78,
          2.0373682491271776e-79,
          2.436282377997405e-80,
          2.8776555234541913e-81,
          3.3573999173913655e-82,
          3.8691933860640504e-83,
          4.404441929821322e-84,
          4.9523853532792325e-85,
          5.500359339367187e-86,
          6.034215079019703e-87,
          6.538883487403786e-88,
          6.999056551538568e-89,
          7.399945079839765e-90,
          7.728061704174354e-91,
          7.971972083509873e-92,
          8.12298024857722e-93,
          8.178141679911129e-94,
          8.391466812959592e-95,
          3.418444745857742e-95,
          2.579345546706434e-94,
          2.492997303607308e-93,
          2.3870797599754478e-92,
          2.2577601844775914e-91,
          2.1093172540617676e-90,
          1.9465209932327084e-89,
          1.7743094643119868e-88,
          1.5975436623481353e-87,
          1.420787719297205e-86,
          1.2481268987303334e-85,
          1.0830322314165687e-84,
          9.282759753078086e-84,
          7.858975412894853e-83,
          6.572155642345717e-82,
          5.428787471926503e-81,
          4.429461493991267e-80,
          3.5698676196378323e-79,
          2.8418842355528644e-78,
          2.2346717798832976e-77,
          1.7356981345588236e-76,
          1.3316427813190586e-75,
          1.009146857176362e-74,
          7.553949814555557e-74,
          5.5853051921892096e-73,
          4.0791794659705986e-72,
          2.9427394211682896e-71,
          2.0969298012280035e-70,
          1.4759412373421884e-69,
          1.0261416900049578e-68,
          7.0469094060433165e-68,
          4.780167717129943e-67,
          3.2028800265322437e-66,
          2.119782478887328e-65,
          1.3857823177339005e-64,
          8.948532573046393e-64,
          5.707707663885297e-63,
          3.5960416231066337e-62,
          2.2379005797952676e-61,
          1.375656352739771e-60,
          8.352802595507801e-60,
          5.009652109189398e-59,
          2.9678094141616096e-58,
          1.736670946658305e-57,
          1.0038114843881576e-56,
          5.73112487770553e-56,
          3.2320693700083904e-55,
          1.8004230557485105e-54,
          9.906529757658143e-54,
          5.38420542728686e-53,
          2.8905120545218208e-52,
          1.532784283469046e-51,
          8.028610385247043e-51,
          4.153869203537645e-50,
          2.1228452792245886e-49,
          1.0716104934051307e-48,
          5.343288988075793e-48,
          2.631682299198205e-47,
          1.2802988218279408e-46,
          6.1523682555441526e-46,
          2.920292747269651e-45,
          1.3691894604583914e-44,
          6.340942213613239e-44,
          2.900662054658783e-43,
          1.3106706140679056e-42,
          5.849827792804471e-42,
          2.578966441549245e-41,
          1.1230559440997316e-40,
          4.830701263805032e-40,
          2.0524475218231177e-39,
          8.613646263258938e-39,
          3.5707142272953966e-38,
          1.4620972009709217e-37,
          5.913580155345759e-37,
          2.3625326563294007e-36,
          9.323054933013817e-36,
          3.6340571798737373e-35,
          1.3991953721164092e-34,
          5.321303799665593e-34,
          1.99899099813996e-33,
          7.41748562209587e-33,
          2.7186648882661686e-32,
          9.842552359905827e-32,
          3.519758607749756e-31,
          1.2432862079810134e-30,
          4.337929030758423e-30,
          1.4950195078986782e-29,
          5.089374002645802e-29,
          1.7113347329634774e-28,
          5.6840599914011325e-28,
          1.864813615817887e-27,
          6.0431768027406686e-27,
          1.9344088021762192e-26,
          6.116237051920176e-26,
          1.9101762869921703e-25,
          5.892718294429623e-25,
          1.795605804497084e-24,
          5.404548416572368e-24,
          1.6067966343538345e-23,
          4.718625445223624e-23,
          1.3687470230605273e-22,
          3.921786618306544e-22,
          1.1099357079297349e-21,
          3.1028785475968138e-21,
          8.56810580147765e-21,
          2.336995923586724e-20,
          6.296282120629459e-20,
          1.6755735433091629e-19,
          4.404492752789458e-19,
          1.1436190878490983e-18,
          2.9330534783002155e-18,
          7.43039083433445e-18,
          1.8593297783446174e-17,
          4.595727631670227e-17,
          1.1220319654874934e-16,
          2.7058845794723015e-16,
          6.4456451983652755e-16,
          1.5166194270540856e-15,
          3.5248441851423503e-15,
          8.092008370971253e-15,
          1.8349566691496904e-14,
          4.1100621917057086e-14,
          9.093353284209658e-14,
          1.9872514617862848e-13,
          4.2897766060184493e-13,
          9.146809165138683e-13,
          1.9264495953895096e-12,
          4.007732929032044e-12,
          8.235557159777262e-12,
          1.671630509789848e-11,
          3.351511259257244e-11,
          6.637341553653472e-11,
          1.2983767833969548e-10,
          2.50876744800004e-10,
          4.788209688891529e-10,
          9.026907800054219e-10,
          1.680962180807204e-9,
          3.0919322478931697e-9,
          5.617655276762508e-9,
          1.0081688916098706e-8,
          1.7871647506722435e-8,
          3.129312809119178e-8,
          5.4123572615268664e-8,
          9.246492560043638e-8,
          1.5603451791588693e-7,
          2.6008627388983244e-7,
          4.2822032081830276e-7,
          6.964183447345862e-7,
          0.0000011187324180762855,
          0.0000017751511325520986,
          0.000002782258866339889,
          0.0000043073764240094026,
          0.000006586902099609913,
          0.00000994953263716296,
          0.000014844898881694549,
          0.000021877862916297185,
          0.00003184825488166296,
          0.00004579514875920401,
          0.00006504387377301398,
          0.00009125284490629861,
          0.00012645602260752303,
          0.0001730954743773435,
          0.00023403725681128077,
          0.0003125628621974928,
          0.0004123280134501352,
          0.0005372808957679977,
          0.0006915332169965016,
          0.0008791799664293905,
          0.0011040674631537625,
          0.0013695141689362856,
          0.0016779945215300537,
          0.0020308022584631176,
          0.002427715701841432,
          0.0028666924797098176,
          0.0033436243352313283,
          0.0038521832459709054,
          0.004383787450821575,
          0.00492770987749837,
          0.005471341999977843,
          0.006000613910849212,
          0.006500557393039195,
          0.006955984409189193,
          0.007352240302882396,
          0.007675980749480774,
          0.007915915524789045,
          0.008063461475733292
         ],
         "yaxis": "y"
        },
        {
         "legendgroup": "🙄",
         "marker": {
          "color": "rgb(255, 127, 14)"
         },
         "mode": "lines",
         "name": "🙄",
         "showlegend": true,
         "type": "scatter",
         "x": [
          11,
          11.004,
          11.008,
          11.012,
          11.016,
          11.02,
          11.024,
          11.028,
          11.032,
          11.036,
          11.04,
          11.044,
          11.048,
          11.052,
          11.056,
          11.06,
          11.064,
          11.068,
          11.072,
          11.076,
          11.08,
          11.084,
          11.088,
          11.092,
          11.096,
          11.1,
          11.104,
          11.108,
          11.112,
          11.116,
          11.12,
          11.124,
          11.128,
          11.132,
          11.136,
          11.14,
          11.144,
          11.148,
          11.152,
          11.156,
          11.16,
          11.164,
          11.168,
          11.172,
          11.176,
          11.18,
          11.184,
          11.188,
          11.192,
          11.196,
          11.2,
          11.204,
          11.208,
          11.212,
          11.216,
          11.22,
          11.224,
          11.228,
          11.232,
          11.236,
          11.24,
          11.244,
          11.248,
          11.252,
          11.256,
          11.26,
          11.264,
          11.268,
          11.272,
          11.276,
          11.28,
          11.284,
          11.288,
          11.292,
          11.296,
          11.3,
          11.304,
          11.308,
          11.312,
          11.316,
          11.32,
          11.324,
          11.328,
          11.332,
          11.336,
          11.34,
          11.344,
          11.348,
          11.352,
          11.356,
          11.36,
          11.364,
          11.368,
          11.372,
          11.376,
          11.38,
          11.384,
          11.388,
          11.392,
          11.396,
          11.4,
          11.404,
          11.408,
          11.412,
          11.416,
          11.42,
          11.424,
          11.428,
          11.432,
          11.436,
          11.44,
          11.444,
          11.448,
          11.452,
          11.456,
          11.46,
          11.464,
          11.468,
          11.472,
          11.475999999999999,
          11.48,
          11.484,
          11.488,
          11.492,
          11.496,
          11.5,
          11.504,
          11.508,
          11.512,
          11.516,
          11.52,
          11.524000000000001,
          11.528,
          11.532,
          11.536,
          11.54,
          11.544,
          11.548,
          11.552,
          11.556000000000001,
          11.56,
          11.564,
          11.568,
          11.572,
          11.576,
          11.58,
          11.584,
          11.588,
          11.592,
          11.596,
          11.6,
          11.604,
          11.608,
          11.612,
          11.616,
          11.62,
          11.624,
          11.628,
          11.632,
          11.636,
          11.64,
          11.644,
          11.648,
          11.652,
          11.656,
          11.66,
          11.664,
          11.668,
          11.672,
          11.676,
          11.68,
          11.684,
          11.688,
          11.692,
          11.696,
          11.7,
          11.704,
          11.708,
          11.712,
          11.716,
          11.72,
          11.724,
          11.728,
          11.732,
          11.736,
          11.74,
          11.744,
          11.748,
          11.752,
          11.756,
          11.76,
          11.764,
          11.768,
          11.772,
          11.776,
          11.78,
          11.784,
          11.788,
          11.792,
          11.796,
          11.8,
          11.804,
          11.808,
          11.812,
          11.816,
          11.82,
          11.824,
          11.828,
          11.832,
          11.836,
          11.84,
          11.844,
          11.848,
          11.852,
          11.856,
          11.86,
          11.864,
          11.868,
          11.872,
          11.876,
          11.88,
          11.884,
          11.888,
          11.892,
          11.896,
          11.9,
          11.904,
          11.908,
          11.912,
          11.916,
          11.92,
          11.924,
          11.928,
          11.932,
          11.936,
          11.94,
          11.943999999999999,
          11.948,
          11.952,
          11.956,
          11.96,
          11.964,
          11.968,
          11.972,
          11.975999999999999,
          11.98,
          11.984,
          11.988,
          11.992,
          11.996,
          12,
          12.004,
          12.008,
          12.012,
          12.016,
          12.02,
          12.024000000000001,
          12.028,
          12.032,
          12.036,
          12.04,
          12.044,
          12.048,
          12.052,
          12.056000000000001,
          12.06,
          12.064,
          12.068,
          12.072,
          12.076,
          12.08,
          12.084,
          12.088000000000001,
          12.092,
          12.096,
          12.1,
          12.104,
          12.108,
          12.112,
          12.116,
          12.120000000000001,
          12.124,
          12.128,
          12.132,
          12.136,
          12.14,
          12.144,
          12.148,
          12.152,
          12.156,
          12.16,
          12.164,
          12.168,
          12.172,
          12.176,
          12.18,
          12.184,
          12.188,
          12.192,
          12.196,
          12.2,
          12.204,
          12.208,
          12.212,
          12.216,
          12.22,
          12.224,
          12.228,
          12.232,
          12.236,
          12.24,
          12.244,
          12.248,
          12.252,
          12.256,
          12.26,
          12.264,
          12.268,
          12.272,
          12.276,
          12.28,
          12.284,
          12.288,
          12.292,
          12.296,
          12.3,
          12.304,
          12.308,
          12.312,
          12.316,
          12.32,
          12.324,
          12.328,
          12.332,
          12.336,
          12.34,
          12.344,
          12.348,
          12.352,
          12.356,
          12.36,
          12.364,
          12.368,
          12.372,
          12.376,
          12.379999999999999,
          12.384,
          12.388,
          12.392,
          12.396,
          12.4,
          12.404,
          12.408,
          12.411999999999999,
          12.416,
          12.42,
          12.424,
          12.428,
          12.432,
          12.436,
          12.44,
          12.443999999999999,
          12.448,
          12.452,
          12.456,
          12.46,
          12.464,
          12.468,
          12.472,
          12.475999999999999,
          12.48,
          12.484,
          12.488,
          12.492,
          12.496,
          12.5,
          12.504,
          12.508,
          12.512,
          12.516,
          12.52,
          12.524000000000001,
          12.528,
          12.532,
          12.536,
          12.54,
          12.544,
          12.548,
          12.552,
          12.556000000000001,
          12.56,
          12.564,
          12.568,
          12.572,
          12.576,
          12.58,
          12.584,
          12.588000000000001,
          12.592,
          12.596,
          12.6,
          12.604,
          12.608,
          12.612,
          12.616,
          12.620000000000001,
          12.624,
          12.628,
          12.632,
          12.636,
          12.64,
          12.644,
          12.648,
          12.652,
          12.656,
          12.66,
          12.664,
          12.668,
          12.672,
          12.676,
          12.68,
          12.684,
          12.688,
          12.692,
          12.696,
          12.7,
          12.704,
          12.708,
          12.712,
          12.716,
          12.72,
          12.724,
          12.728,
          12.732,
          12.736,
          12.74,
          12.744,
          12.748,
          12.752,
          12.756,
          12.76,
          12.764,
          12.768,
          12.772,
          12.776,
          12.78,
          12.784,
          12.788,
          12.792,
          12.796,
          12.8,
          12.804,
          12.808,
          12.812,
          12.816,
          12.82,
          12.824,
          12.828,
          12.832,
          12.836,
          12.84,
          12.844,
          12.848,
          12.852,
          12.856,
          12.86,
          12.864,
          12.868,
          12.872,
          12.876,
          12.879999999999999,
          12.884,
          12.888,
          12.892,
          12.896,
          12.9,
          12.904,
          12.908,
          12.911999999999999,
          12.916,
          12.92,
          12.924,
          12.928,
          12.932,
          12.936,
          12.94,
          12.943999999999999,
          12.948,
          12.952,
          12.956,
          12.96,
          12.964,
          12.968,
          12.972,
          12.975999999999999,
          12.98,
          12.984,
          12.988,
          12.992,
          12.996
         ],
         "xaxis": "x",
         "y": [
          0.09616023380702411,
          0.09627415878334732,
          0.09637604127416959,
          0.09646609504758921,
          0.09654454972101982,
          0.09661165087650339,
          0.09666766016756356,
          0.09671285541749963,
          0.09674753070902728,
          0.09677199646517538,
          0.09678657952135433,
          0.09679162318851249,
          0.0967874873073066,
          0.0967745482932059,
          0.09675319917246585,
          0.09672384960889666,
          0.09668692592136821,
          0.09664287109198284,
          0.0965921447648607,
          0.09653522323547796,
          0.09647259943049878,
          0.09640478287805239,
          0.09633229966839776,
          0.09625569240492393,
          0.09617552014543598,
          0.09609235833367502,
          0.09600679872102177,
          0.09591944927833447,
          0.09583093409786599,
          0.0957418932852151,
          0.09565298284125613,
          0.09556487453399493,
          0.09547825576029909,
          0.09539382939744433,
          0.09531231364442594,
          0.0952344418529709,
          0.0951609623481958,
          0.09509263823884949,
          0.09503024721707166,
          0.09497458134760897,
          0.09492644684641595,
          0.09488666384857468,
          0.09485606616545753,
          0.09483550103106436,
          0.09482582883745315,
          0.09482792285918706,
          0.09484266896672185,
          0.09487096532864481,
          0.09491372210268699,
          0.09497186111541953,
          0.09504631553055048,
          0.09513802950573054,
          0.09524795783777919,
          0.09537706559624441,
          0.09552632774520091,
          0.09569672875319925,
          0.09588926219127446,
          0.0961049303189238,
          0.09634474365796658,
          0.09660972055419634,
          0.09690088672674141,
          0.09721927480505078,
          0.09756592385342297,
          0.09794187888300386,
          0.09834819035117888,
          0.09878591364829038,
          0.09925610857162005,
          0.09975983878657642,
          0.10029817127503617,
          0.10087217577079907,
          0.10148292418211763,
          0.10213149000127483,
          0.1028189477011904,
          0.10354637211905453,
          0.10431483782698184,
          0.10512541848970694,
          0.10597918620934596,
          0.10687721085726633,
          0.10782055939311334,
          0.10881029517106725,
          0.1098474772334121,
          0.11093315959151695,
          0.11206839049434826,
          0.11325421168464495,
          0.11449165764291312,
          0.11578175481941506,
          0.11712552085433911,
          0.11852396378637348,
          0.11997808124990926,
          0.12148885966114516,
          0.12305727339335903,
          0.124684283941664,
          0.12637083907756672,
          0.1281178719936973,
          0.12992630043907186,
          0.13179702584531186,
          0.13373093244422748,
          0.13572888637725802,
          0.1377917347972231,
          0.13992030496291866,
          0.14211540332708567,
          0.14437781461834323,
          0.14670830091765794,
          0.1491076007299993,
          0.15157642805182095,
          0.15411547143507512,
          0.15672539304844707,
          0.15940682773657702,
          0.16216038207802005,
          0.16498663344277859,
          0.16788612905018577,
          0.17085938502804804,
          0.17390688547389246,
          0.17702908151926422,
          0.18022639039797936,
          0.18349919451932373,
          0.18684784054716774,
          0.19027263848603848,
          0.1937738607751537,
          0.19735174139150566,
          0.20100647496306862,
          0.20473821589322488,
          0.2085470774975645,
          0.21243313115415902,
          0.21639640546850444,
          0.2204368854542933,
          0.2245545117312121,
          0.22874917974096912,
          0.2330207389827693,
          0.23736899226945338,
          0.2417936950055657,
          0.24629455448855464,
          0.25087122923437144,
          0.25552332832873814,
          0.2602504108052964,
          0.26505198505191824,
          0.26992750824642303,
          0.27487638582292684,
          0.2798979709701038,
          0.28499156416253707,
          0.29015641272641535,
          0.2953917104407673,
          0.30069659717542385,
          0.30607015856688474,
          0.3115114257332408,
          0.31701937502927147,
          0.322592927842862,
          0.32823095043376727,
          0.3339322538158163,
          0.33969559368354707,
          0.34551967038429954,
          0.351403128936666,
          0.3573445590962511,
          0.3633424954695862,
          0.3693954176770705,
          0.37550175056566776,
          0.3816598644721392,
          0.38786807553749003,
          0.3941246460732612,
          0.4004277849802647,
          0.40677564822028506,
          0.4131663393412056,
          0.4195979100560262,
          0.4260683608760529,
          0.43257564179861124,
          0.43911765304947037,
          0.44569224588018685,
          0.45229722342040585,
          0.4589303415851924,
          0.46558931003731663,
          0.4722717932044222,
          0.47897541135085364,
          0.4856977417038812,
          0.4924363196340204,
          0.4991886398890445,
          0.5059521578811617,
          0.5127242910268456,
          0.5195024201386526,
          0.5262838908683658,
          0.5330660152006139,
          0.5398460729961597,
          0.5466213135838746,
          0.5533889574004448,
          0.5601461976766484,
          0.5668902021690936,
          0.5736181149361359,
          0.5803270581567406,
          0.5870141339907751,
          0.5936764264794131,
          0.6003110034840199,
          0.6069149186620044,
          0.6134852134779019,
          0.6200189192480137,
          0.6265130592167708,
          0.632964650663023,
          0.6393707070342655,
          0.6457282401068946,
          0.652034262170411,
          0.6582857882335592,
          0.6644798382501842,
          0.6706134393626972,
          0.6766836281608847,
          0.6826874529538122,
          0.6886219760525035,
          0.6944842760610623,
          0.7002714501738335,
          0.7059806164762479,
          0.7116089162468487,
          0.7171535162580978,
          0.7226116110734352,
          0.7279804253381594,
          0.7332572160615454,
          0.7384392748877396,
          0.7435239303528747,
          0.7485085501259112,
          0.7533905432306447,
          0.7581673622463799,
          0.7628365054847669,
          0.7673955191402896,
          0.7718419994119289,
          0.7761735945935552,
          0.7803880071305817,
          0.7844829956405196,
          0.7884563768950102,
          0.7923060277610274,
          0.7960298870989189,
          0.7996259576150768,
          0.8030923076669579,
          0.8064270730183489,
          0.8096284585427256,
          0.8126947398726873,
          0.8156242649934383,
          0.8184154557784081,
          0.8210668094651351,
          0.8235769000696207,
          0.8259443797374264,
          0.8281679800298698,
          0.8302465131437287,
          0.8321788730629825,
          0.8339640366411697,
          0.8356010646130215,
          0.8370891025341519,
          0.838427381647636,
          0.8396152196764237,
          0.8406520215406084,
          0.8415372799986801,
          0.8422705762119806,
          0.8428515802316744,
          0.8432800514076333,
          0.8435558387187654,
          0.8436788810243743,
          0.843649207236266,
          0.8434669364114056,
          0.8431322777650269,
          0.8426455306042029,
          0.8420070841819829,
          0.8412174174722864,
          0.8402770988658848,
          0.8391867857878328,
          0.8379472242368844,
          0.836559248247467,
          0.8350237792749007,
          0.8333418255046673,
          0.8315144810865821,
          0.8295429252948464,
          0.8274284216150445,
          0.8251723167592107,
          0.8227760396102076,
          0.8202411000967338,
          0.8175690880003359,
          0.8147616716959163,
          0.8118205968272568,
          0.8087476849192138,
          0.8055448319282542,
          0.8022140067330734,
          0.7987572495671622,
          0.7951766703951662,
          0.7914744472349979,
          0.7876528244276978,
          0.7837141108570819,
          0.779660678121287,
          0.7754949586583533,
          0.7712194438279987,
          0.7668366819518504,
          0.7623492763143571,
          0.7577598831266639,
          0.753071209455792,
          0.7482860111214055,
          0.7434070905625777,
          0.738437294676875,
          0.7333795126341874,
          0.7282366736676351,
          0.7230117448440079,
          0.717707728816097,
          0.7123276615593123,
          0.7068746100949865,
          0.7013516702027347,
          0.6957619641242275,
          0.6901086382607536,
          0.6843948608668429,
          0.6786238197423275,
          0.6727987199250602,
          0.6669227813865842,
          0.6609992367329225,
          0.6550313289127236,
          0.6490223089348718,
          0.6429754335976897,
          0.6368939632317557,
          0.6307811594584036,
          0.6246402829658394,
          0.6184745913047939,
          0.6122873367055857,
          0.6060817639184031,
          0.5998611080785505,
          0.5936285925983836,
          0.5873874270875139,
          0.5811408053029314,
          0.5748919031304994,
          0.5686438765993204,
          0.5623998599302992,
          0.5561629636202913,
          0.549936272563044,
          0.5437228442081488,
          0.5375257067590802,
          0.5313478574114394,
          0.5251922606323188,
          0.5190618464817865,
          0.5129595089772321,
          0.5068881045014598,
          0.5008504502551808,
          0.49484932275458465,
          0.48888745637452685,
          0.48296754193791097,
          0.47709222535165574,
          0.47126410628968696,
          0.46548573692320944,
          0.4597596206985978,
          0.4540882111630471,
          0.4484739108381684,
          0.442919070141545,
          0.43742598635638125,
          0.43199690264910645,
          0.4266340071349366,
          0.4213394319911903,
          0.4161152526182418,
          0.4109634868478363,
          0.4058860941984994,
          0.40088497517774335,
          0.39596197063065847,
          0.39111886113454064,
          0.386357366439087,
          0.3816791449516686,
          0.3770857932672039,
          0.372578845742068,
          0.3681597741114668,
          0.36382998714968967,
          0.35959083037260064,
          0.3554435857817334,
          0.3513894716493244,
          0.34742964234357276,
          0.34356518819346066,
          0.3397971353923892,
          0.33612644593990737,
          0.33255401762080405,
          0.32908068402078533,
          0.32570721457801566,
          0.32243431466974787,
          0.3192626257332596,
          0.3161927254203691,
          0.3132251277847359,
          0.31036028350119793,
          0.30759858011638563,
          0.30494034232985734,
          0.3023858323050128,
          0.2999352500090525,
          0.29758873358123494,
          0.29534635972874157,
          0.29320814414942326,
          0.2911740419807397,
          0.28924394827422156,
          0.28741769849476967,
          0.2856950690441663,
          0.2840757778081508,
          0.28255948472643794,
          0.2811457923850947,
          0.27983424663068013,
          0.2786243372055911,
          0.2775154984040636,
          0.27650710974830367,
          0.27559849668424,
          0.274788931296406,
          0.27407763304147525,
          0.27346376950000434,
          0.2729464571459388,
          0.27252476213346566,
          0.2721977011008148,
          0.27196424199061775,
          0.2718233048864591,
          0.2717737628652692,
          0.2718144428652152,
          0.2719441265687704,
          0.2721615513006505,
          0.2724654109403172,
          0.27285435684876463,
          0.2733269988093156,
          0.2738819059821553,
          0.2745176078723506,
          0.275232595311108,
          0.27602532145001984,
          0.2768942027680691,
          0.2778376200911571,
          0.2788539196239223,
          0.2799414139936308,
          0.28109838330590076,
          0.282323076212043,
          0.28361371098778604,
          0.28496847662315355,
          0.2863855339232606,
          0.2878630166197923,
          0.2893990324929071,
          0.2909916645033279,
          0.29263897193434835,
          0.29433899154347987,
          0.29608973872346744,
          0.2978892086723778,
          0.2997353775724483,
          0.3016262037773795,
          0.30355962900773875,
          0.3055335795541278,
          0.30754596748774615,
          0.30959469187795696,
          0.31167764001648096,
          0.31379268864777077,
          0.31593770520515374,
          0.31811054905227,
          0.3203090727293337,
          0.32253112320372973,
          0.32477454312442083,
          0.3270371720796248,
          0.3293168478572068,
          0.33161140770722747,
          0.3339186896059976,
          0.33623653352107913,
          0.33856278267653217,
          0.3408952848177986,
          0.3432318934754946,
          0.3455704692274332,
          0.34790888095815303,
          0.3502450071151963,
          0.35257673696139613,
          0.3549019718223757,
          0.3572186263284711,
          0.35952462965027066,
          0.3618179267269367,
          0.3640964794864553,
          0.3663582680569838,
          0.36860129196840236,
          0.37082357134320043,
          0.37302314807579934,
          0.37519808699941265,
          0.37734647703954394,
          0.3794664323531827,
          0.3815560934528001,
          0.3836136283142031,
          0.3856372334673299,
          0.3876251350690425,
          0.3895755899570055,
          0.3914868866837009,
          0.39335734652967524,
          0.3951853244950897,
          0.39696921026865484,
          0.3987074291730582,
          0.40039844308597417,
          0.4020407513357941,
          0.4036328915711757,
          0.4051734406035853,
          0.4066610152219718,
          0.40809427297876144,
          0.40947191294636703,
          0.41079267644342743,
          0.41205534773002156,
          0.4132587546711246,
          0.4144017693675884,
          0.41548330875397216,
          0.4165023351625612,
          0.41745785685296505,
          0.41834892850667943,
          0.4191746516860758,
          0.41993417525727683,
          0.4206266957764309,
          0.4212514578389388,
          0.4218077543912012,
          0.42229492700452237,
          0.42271236611081797,
          0.42305951119984164,
          0.42333585097765847,
          0.4235409234861637,
          0.4236743161834569,
          0.4237356659849605,
          0.4237246592651802
         ],
         "yaxis": "y"
        },
        {
         "legendgroup": "👎",
         "marker": {
          "color": "rgb(44, 160, 44)"
         },
         "mode": "lines",
         "name": "👎",
         "showlegend": true,
         "type": "scatter",
         "x": [
          11,
          11.004,
          11.008,
          11.012,
          11.016,
          11.02,
          11.024,
          11.028,
          11.032,
          11.036,
          11.04,
          11.044,
          11.048,
          11.052,
          11.056,
          11.06,
          11.064,
          11.068,
          11.072,
          11.076,
          11.08,
          11.084,
          11.088,
          11.092,
          11.096,
          11.1,
          11.104,
          11.108,
          11.112,
          11.116,
          11.12,
          11.124,
          11.128,
          11.132,
          11.136,
          11.14,
          11.144,
          11.148,
          11.152,
          11.156,
          11.16,
          11.164,
          11.168,
          11.172,
          11.176,
          11.18,
          11.184,
          11.188,
          11.192,
          11.196,
          11.2,
          11.204,
          11.208,
          11.212,
          11.216,
          11.22,
          11.224,
          11.228,
          11.232,
          11.236,
          11.24,
          11.244,
          11.248,
          11.252,
          11.256,
          11.26,
          11.264,
          11.268,
          11.272,
          11.276,
          11.28,
          11.284,
          11.288,
          11.292,
          11.296,
          11.3,
          11.304,
          11.308,
          11.312,
          11.316,
          11.32,
          11.324,
          11.328,
          11.332,
          11.336,
          11.34,
          11.344,
          11.348,
          11.352,
          11.356,
          11.36,
          11.364,
          11.368,
          11.372,
          11.376,
          11.38,
          11.384,
          11.388,
          11.392,
          11.396,
          11.4,
          11.404,
          11.408,
          11.412,
          11.416,
          11.42,
          11.424,
          11.428,
          11.432,
          11.436,
          11.44,
          11.444,
          11.448,
          11.452,
          11.456,
          11.46,
          11.464,
          11.468,
          11.472,
          11.475999999999999,
          11.48,
          11.484,
          11.488,
          11.492,
          11.496,
          11.5,
          11.504,
          11.508,
          11.512,
          11.516,
          11.52,
          11.524000000000001,
          11.528,
          11.532,
          11.536,
          11.54,
          11.544,
          11.548,
          11.552,
          11.556000000000001,
          11.56,
          11.564,
          11.568,
          11.572,
          11.576,
          11.58,
          11.584,
          11.588,
          11.592,
          11.596,
          11.6,
          11.604,
          11.608,
          11.612,
          11.616,
          11.62,
          11.624,
          11.628,
          11.632,
          11.636,
          11.64,
          11.644,
          11.648,
          11.652,
          11.656,
          11.66,
          11.664,
          11.668,
          11.672,
          11.676,
          11.68,
          11.684,
          11.688,
          11.692,
          11.696,
          11.7,
          11.704,
          11.708,
          11.712,
          11.716,
          11.72,
          11.724,
          11.728,
          11.732,
          11.736,
          11.74,
          11.744,
          11.748,
          11.752,
          11.756,
          11.76,
          11.764,
          11.768,
          11.772,
          11.776,
          11.78,
          11.784,
          11.788,
          11.792,
          11.796,
          11.8,
          11.804,
          11.808,
          11.812,
          11.816,
          11.82,
          11.824,
          11.828,
          11.832,
          11.836,
          11.84,
          11.844,
          11.848,
          11.852,
          11.856,
          11.86,
          11.864,
          11.868,
          11.872,
          11.876,
          11.88,
          11.884,
          11.888,
          11.892,
          11.896,
          11.9,
          11.904,
          11.908,
          11.912,
          11.916,
          11.92,
          11.924,
          11.928,
          11.932,
          11.936,
          11.94,
          11.943999999999999,
          11.948,
          11.952,
          11.956,
          11.96,
          11.964,
          11.968,
          11.972,
          11.975999999999999,
          11.98,
          11.984,
          11.988,
          11.992,
          11.996,
          12,
          12.004,
          12.008,
          12.012,
          12.016,
          12.02,
          12.024000000000001,
          12.028,
          12.032,
          12.036,
          12.04,
          12.044,
          12.048,
          12.052,
          12.056000000000001,
          12.06,
          12.064,
          12.068,
          12.072,
          12.076,
          12.08,
          12.084,
          12.088000000000001,
          12.092,
          12.096,
          12.1,
          12.104,
          12.108,
          12.112,
          12.116,
          12.120000000000001,
          12.124,
          12.128,
          12.132,
          12.136,
          12.14,
          12.144,
          12.148,
          12.152,
          12.156,
          12.16,
          12.164,
          12.168,
          12.172,
          12.176,
          12.18,
          12.184,
          12.188,
          12.192,
          12.196,
          12.2,
          12.204,
          12.208,
          12.212,
          12.216,
          12.22,
          12.224,
          12.228,
          12.232,
          12.236,
          12.24,
          12.244,
          12.248,
          12.252,
          12.256,
          12.26,
          12.264,
          12.268,
          12.272,
          12.276,
          12.28,
          12.284,
          12.288,
          12.292,
          12.296,
          12.3,
          12.304,
          12.308,
          12.312,
          12.316,
          12.32,
          12.324,
          12.328,
          12.332,
          12.336,
          12.34,
          12.344,
          12.348,
          12.352,
          12.356,
          12.36,
          12.364,
          12.368,
          12.372,
          12.376,
          12.379999999999999,
          12.384,
          12.388,
          12.392,
          12.396,
          12.4,
          12.404,
          12.408,
          12.411999999999999,
          12.416,
          12.42,
          12.424,
          12.428,
          12.432,
          12.436,
          12.44,
          12.443999999999999,
          12.448,
          12.452,
          12.456,
          12.46,
          12.464,
          12.468,
          12.472,
          12.475999999999999,
          12.48,
          12.484,
          12.488,
          12.492,
          12.496,
          12.5,
          12.504,
          12.508,
          12.512,
          12.516,
          12.52,
          12.524000000000001,
          12.528,
          12.532,
          12.536,
          12.54,
          12.544,
          12.548,
          12.552,
          12.556000000000001,
          12.56,
          12.564,
          12.568,
          12.572,
          12.576,
          12.58,
          12.584,
          12.588000000000001,
          12.592,
          12.596,
          12.6,
          12.604,
          12.608,
          12.612,
          12.616,
          12.620000000000001,
          12.624,
          12.628,
          12.632,
          12.636,
          12.64,
          12.644,
          12.648,
          12.652,
          12.656,
          12.66,
          12.664,
          12.668,
          12.672,
          12.676,
          12.68,
          12.684,
          12.688,
          12.692,
          12.696,
          12.7,
          12.704,
          12.708,
          12.712,
          12.716,
          12.72,
          12.724,
          12.728,
          12.732,
          12.736,
          12.74,
          12.744,
          12.748,
          12.752,
          12.756,
          12.76,
          12.764,
          12.768,
          12.772,
          12.776,
          12.78,
          12.784,
          12.788,
          12.792,
          12.796,
          12.8,
          12.804,
          12.808,
          12.812,
          12.816,
          12.82,
          12.824,
          12.828,
          12.832,
          12.836,
          12.84,
          12.844,
          12.848,
          12.852,
          12.856,
          12.86,
          12.864,
          12.868,
          12.872,
          12.876,
          12.879999999999999,
          12.884,
          12.888,
          12.892,
          12.896,
          12.9,
          12.904,
          12.908,
          12.911999999999999,
          12.916,
          12.92,
          12.924,
          12.928,
          12.932,
          12.936,
          12.94,
          12.943999999999999,
          12.948,
          12.952,
          12.956,
          12.96,
          12.964,
          12.968,
          12.972,
          12.975999999999999,
          12.98,
          12.984,
          12.988,
          12.992,
          12.996
         ],
         "xaxis": "x",
         "y": [
          0.16790156004844045,
          0.16848041008314382,
          0.16905708404301079,
          0.16963180612906217,
          0.1702048068041759,
          0.17077632273324175,
          0.17134659671866037,
          0.1719158776311857,
          0.17248442033608544,
          0.17305248561462505,
          0.17362034008085803,
          0.1741882560937282,
          0.1747565116644776,
          0.17532539035937225,
          0.17589518119774436,
          0.17646617854536306,
          0.17703868200315184,
          0.1776129962912616,
          0.17818943112852167,
          0.1787683011072948,
          0.17934992556375443,
          0.1799346284436217,
          0.18052273816338743,
          0.18111458746705972,
          0.18171051327847268,
          0.18231085654920154,
          0.18291596210212713,
          0.1835261784706994,
          0.18414185773395106,
          0.18476335534732174,
          0.18539102996934262,
          0.1860252432842518,
          0.18666635982059981,
          0.18731474676591992,
          0.18797077377752777,
          0.18863481278953073,
          0.18930723781612444,
          0.18998842475125757,
          0.19067875116474753,
          0.1913785960949403,
          0.19208833983799709,
          0.19280836373391474,
          0.1935390499493628,
          0.19428078125744677,
          0.19503394081450062,
          0.1957989119340122,
          0.19657607785778924,
          0.19736582152448529,
          0.19816852533559123,
          0.1989845709190218,
          0.19981433889040504,
          0.2006582086122109,
          0.20151655795083098,
          0.2023897630317575,
          0.2032781979929703,
          0.20418223473668545,
          0.20510224267958665,
          0.20603858850169218,
          0.2069916358939843,
          0.2079617453049563,
          0.20894927368621202,
          0.20995457423727848,
          0.2109779961497659,
          0.2120198843510398,
          0.21308057924754767,
          0.21416041646796796,
          0.21525972660632295,
          0.21637883496522903,
          0.2175180612994302,
          0.21867771955979143,
          0.2198581176379012,
          0.22105955711145292,
          0.22228233299057176,
          0.22352673346525256,
          0.22479303965407227,
          0.2260815253543509,
          0.22739245679392103,
          0.22872609238469105,
          0.23008268247815214,
          0.23146246912301524,
          0.23286568582514047,
          0.2342925573099354,
          0.23574329928738744,
          0.2372181182199081,
          0.2387172110931499,
          0.24024076518998458,
          0.241788957867791,
          0.24336195633924027,
          0.24495991745673498,
          0.24658298750068508,
          0.24823130197177182,
          0.24990498538738057,
          0.2516041510823551,
          0.253328901014258,
          0.25507932557327434,
          0.2568555033969421,
          0.25865750118985553,
          0.2604853735485128,
          0.2623391627914503,
          0.26421889879483035,
          0.266124598833623,
          0.26805626742855204,
          0.27001389619892757,
          0.2719974637215314,
          0.2740069353956857,
          0.27604226331465725,
          0.2781033861435209,
          0.2801902290036289,
          0.28230270336380453,
          0.28444070693841006,
          0.2866041235923862,
          0.28879282325340727,
          0.2910066618312545,
          0.293245481144537,
          0.2955091088548555,
          0.29779735840852656,
          0.3001100289859579,
          0.30244690545879666,
          0.3048077583549132,
          0.30719234383133476,
          0.3096004036552045,
          0.31203166519284414,
          0.31448584140701,
          0.3169626308623952,
          0.3194617177394524,
          0.3219827718566137,
          0.3245254487009354,
          0.3270893894672413,
          0.3296742211058051,
          0.3322795563786049,
          0.33490499392420325,
          0.33755011833126275,
          0.3402145002207284,
          0.3428976963367143,
          0.345599249646074,
          0.34831868944669037,
          0.3510555314844759,
          0.3538092780790745,
          0.3565794182582743,
          0.3593654279010904,
          0.3621667698895079,
          0.3649828942688738,
          0.3678132384168693,
          0.37065722722105365,
          0.3735142732649189,
          0.37638377702240317,
          0.3792651270608181,
          0.38215770025210655,
          0.38506086199237805,
          0.3879739664296261,
          0.3908963566995778,
          0.39382736516954603,
          0.39676631369022086,
          0.39971251385528217,
          0.4026652672687415,
          0.40562386581988474,
          0.4085875919657078,
          0.41155571902070814,
          0.4145275114539303,
          0.41750222519308694,
          0.4204791079356491,
          0.42345739946673316,
          0.42643633198365466,
          0.42941513042696494,
          0.4323930128178236,
          0.43536919060152063,
          0.43834286899700126,
          0.44131324735217436,
          0.4442795195048476,
          0.44724087414908215,
          0.4501964952067871,
          0.45314556220433133,
          0.4560872506539869,
          0.45902073243997327,
          0.4619451762089198,
          0.46485974776448763,
          0.46776361046595694,
          0.47065592563053643,
          0.4735358529391787,
          0.4764025508456489,
          0.4792551769886204,
          0.48209288860654176,
          0.48491484295505954,
          0.4877201977267037,
          0.49050811147262247,
          0.4932777440260865,
          0.4960282569275279,
          0.4987588138508297,
          0.5014685810306247,
          0.5041567276903204,
          0.5068224264706109,
          0.5094648538581772,
          0.5120831906143262,
          0.5146766222032892,
          0.5172443392199204,
          0.5197855378165036,
          0.5222994201284099,
          0.5247851946983184,
          0.5272420768987482,
          0.5296692893525968,
          0.5320660623514353,
          0.5344316342712716,
          0.5367652519855208,
          0.5390661712748948,
          0.5413336572339534,
          0.5435669846740306,
          0.5457654385222908,
          0.5479283142166168,
          0.5500549180960875,
          0.552144567786765,
          0.5541965925825458,
          0.5562103338207979,
          0.5581851452525407,
          0.5601203934069058,
          0.5620154579496314,
          0.5638697320353435,
          0.5656826226533735,
          0.567453550966873,
          0.5691819526449984,
          0.5708672781879149,
          0.572508993244407,
          0.574106578921859,
          0.5756595320883945,
          0.5771673656669547,
          0.5786296089211069,
          0.5800458077323731,
          0.5814155248688917,
          0.5827383402452011,
          0.5840138511729696,
          0.5852416726024803,
          0.5864214373547015,
          0.5875527963437621,
          0.5886354187896763,
          0.5896689924211522,
          0.5906532236683378,
          0.5915878378453554,
          0.5924725793224862,
          0.593307211687876,
          0.5940915178986333,
          0.5948253004212074,
          0.595508381360931,
          0.5961406025806266,
          0.5967218258081823,
          0.5972519327330063,
          0.5977308250912792,
          0.5981584247399364,
          0.5985346737193068,
          0.5988595343043578,
          0.5991329890444937,
          0.5993550407918639,
          0.5995257127181504,
          0.5996450483198076,
          0.5997131114117334,
          0.5997299861093669,
          0.5996957767992048,
          0.5996106080977467,
          0.599474624798882,
          0.5992879918097394,
          0.5990508940750288,
          0.5987635364899169,
          0.5984261438014762,
          0.5980389604987675,
          0.5976022506916135,
          0.5971162979781339,
          0.5965814053011197,
          0.5959978947933323,
          0.5953661076118166,
          0.5946864037613331,
          0.5939591619070135,
          0.593184779176355,
          0.5923636709506783,
          0.5914962706461739,
          0.59058302948468,
          0.5896244162543316,
          0.5886209170602292,
          0.5875730350652935,
          0.5864812902214607,
          0.5853462189913933,
          0.5841683740608873,
          0.582948324042149,
          0.5816866531681428,
          0.5803839609782,
          0.5790408619950842,
          0.5776579853937335,
          0.5762359746618808,
          0.5747754872527748,
          0.5732771942302267,
          0.5717417799062023,
          0.5701699414712034,
          0.5685623886176707,
          0.5669198431566467,
          0.5652430386279506,
          0.5635327199041147,
          0.5617896427883324,
          0.5600145736066837,
          0.5582082887948855,
          0.5563715744798503,
          0.5545052260563038,
          0.5526100477587482,
          0.5506868522290225,
          0.5487364600797614,
          0.5467596994540127,
          0.5447574055813026,
          0.5427304203304215,
          0.5406795917592276,
          0.5386057736617389,
          0.536509825112816,
          0.5343926100107007,
          0.5322549966177235,
          0.5300978570994509,
          0.5279220670625726,
          0.525728505091804,
          0.5235180522861099,
          0.5212915917945279,
          0.5190500083518865,
          0.5167941878146894,
          0.5145250166974804,
          0.5122433817099489,
          0.5099501692950801,
          0.5076462651686141,
          0.5053325538601147,
          0.5030099182559101,
          0.5006792391442048,
          0.4983413947626031,
          0.4959972603483578,
          0.4936477076915852,
          0.4912936046917286,
          0.48893581491752164,
          0.48657519717072917,
          0.4842126050539097,
          0.48184888654246816,
          0.47948488356122426,
          0.4771214315657781,
          0.4747593591288868,
          0.47239948753211114,
          0.4700426303629483,
          0.46768959311769887,
          0.4653411728102811,
          0.46299815758722646,
          0.46066132634904794,
          0.4583314483782245,
          0.4560092829739837,
          0.45369557909409663,
          0.4513910750038667,
          0.4490964979325216,
          0.446812563737176,
          0.44453997657455196,
          0.4422794285806372,
          0.4400315995584214,
          0.4377971566739118,
          0.4355767541605533,
          0.4333710330322105,
          0.4311806208048619,
          0.42900613122713604,
          0.42684816401982034,
          0.42470730462447864,
          0.42258412396127126,
          0.4204791781961179,
          0.41839300851729216,
          0.41632614092154413,
          0.41427908600985536,
          0.41225233879290324,
          0.4102463785063133,
          0.4082616684357814,
          0.4062986557521151,
          0.40435777135626955,
          0.40243942973442726,
          0.400544028823154,
          0.39867194988469057,
          0.39682355739239866,
          0.39499919892639057,
          0.3931992050793693,
          0.39142388937267514,
          0.3896735481825644,
          0.38794846067671085,
          0.3862488887609171,
          0.384575077036038,
          0.38292725276508155,
          0.3813056258504715,
          0.3797103888214387,
          0.37814171683148845,
          0.3765997676659281,
          0.37508468175937393,
          0.37359658222319947,
          0.37213557488285215,
          0.370701748324985,
          0.3692951739543028,
          0.3679159060600719,
          0.3665639818921871,
          0.365239421746705,
          0.36394222906077156,
          0.36267239051679506,
          0.36142987615581046,
          0.3602146394998758,
          0.3590266176834166,
          0.3578657315933721,
          0.35673188601802647,
          0.3556249698043936,
          0.3545448560240097,
          0.3534914021470002,
          0.3524644502242644,
          0.35146382707764406,
          0.3504893444978959,
          0.3495407994503372,
          0.3486179742879766,
          0.34772063697197436,
          0.34684854129927084,
          0.3460014271371819,
          0.3451790206648146,
          0.34438103462109854,
          0.34360716855926193,
          0.3428571091075586,
          0.3421305302360552,
          0.3414270935292941,
          0.3407464484646201,
          0.3400882326959936,
          0.33945207234306585,
          0.338837582285336,
          0.3382443664611668,
          0.33767201817146486,
          0.3371201203878085,
          0.3365882460648133,
          0.3360759584565309,
          0.3355828114366563,
          0.335108349822339,
          0.3346521097013725,
          0.3342136187625577,
          0.33379239662900784,
          0.33338795519418807,
          0.3329997989604686,
          0.33262742537996476,
          0.33227032519745614,
          0.33192798279515373,
          0.331599876539105,
          0.3312854791270095,
          0.3309842579372339,
          0.33069567537879785,
          0.33041918924212066,
          0.33015425305031,
          0.3299003164107717,
          0.3296568253669291,
          0.3294232227498344,
          0.3291989485294651,
          0.32898344016548176,
          0.32877613295724983,
          0.3285764603929085,
          0.32838385449727897,
          0.3281977461784159,
          0.32801756557258555,
          0.32784274238748184,
          0.327672706243473,
          0.32750688701268843,
          0.3273447151557462,
          0.32718562205593366,
          0.3270290403506514,
          0.3268744042599349,
          0.32672114991186973,
          0.3265687156647208,
          0.3264165424255995,
          0.3262640739654947,
          0.3261107572304962,
          0.3259560426490455,
          0.32579938443504897,
          0.3256402408866952,
          0.32547807468081613,
          0.32531235316264595,
          0.3251425486308237,
          0.32496813861749807,
          0.32478860616339233,
          0.3246034400876918,
          0.324412135252624,
          0.32421419282260056,
          0.3240091205178008,
          0.3237964328620684,
          0.32357565142502,
          0.32334630505824113,
          0.3231079301254674,
          0.3228600707266578,
          0.32260227891584736,
          0.3223341149126992,
          0.3220551473076614,
          0.3217649532606491,
          0.3214631186931675,
          0.32114923847381144,
          0.3208229165970632,
          0.3204837663553267,
          0.320131410504146,
          0.319765481420539,
          0.3193856212544134,
          0.31899148207300576,
          0.3185827259983129,
          0.31815902533747364,
          0.3177200627060789,
          0.3172655311443746,
          0.3167951342263452,
          0.31630858616165897,
          0.31580561189046097,
          0.3152859471710125,
          0.31474933866017263,
          0.31419554398672644
         ],
         "yaxis": "y"
        },
        {
         "legendgroup": "👏",
         "marker": {
          "color": "rgb(214, 39, 40)"
         },
         "mode": "lines",
         "name": "👏",
         "showlegend": true,
         "type": "scatter",
         "x": [
          11,
          11.014,
          11.028,
          11.042,
          11.056,
          11.07,
          11.084,
          11.098,
          11.112,
          11.126,
          11.14,
          11.154,
          11.168,
          11.182,
          11.196,
          11.21,
          11.224,
          11.238,
          11.252,
          11.266,
          11.28,
          11.294,
          11.308,
          11.322,
          11.336,
          11.35,
          11.364,
          11.378,
          11.392,
          11.406,
          11.42,
          11.434,
          11.448,
          11.462,
          11.475999999999999,
          11.49,
          11.504,
          11.518,
          11.532,
          11.546,
          11.56,
          11.574,
          11.588,
          11.602,
          11.616,
          11.63,
          11.644,
          11.658,
          11.672,
          11.686,
          11.7,
          11.714,
          11.728,
          11.742,
          11.756,
          11.77,
          11.784,
          11.798,
          11.812,
          11.826,
          11.84,
          11.854,
          11.868,
          11.882,
          11.896,
          11.91,
          11.924,
          11.938,
          11.952,
          11.966,
          11.98,
          11.994,
          12.008,
          12.022,
          12.036,
          12.05,
          12.064,
          12.078,
          12.092,
          12.106,
          12.120000000000001,
          12.134,
          12.148,
          12.161999999999999,
          12.176,
          12.19,
          12.204,
          12.218,
          12.232,
          12.246,
          12.26,
          12.274000000000001,
          12.288,
          12.302,
          12.316,
          12.33,
          12.344,
          12.358,
          12.372,
          12.386,
          12.4,
          12.414,
          12.428,
          12.442,
          12.456,
          12.47,
          12.484,
          12.498,
          12.512,
          12.526,
          12.54,
          12.554,
          12.568,
          12.582,
          12.596,
          12.61,
          12.624,
          12.638,
          12.652,
          12.666,
          12.68,
          12.693999999999999,
          12.708,
          12.722,
          12.736,
          12.75,
          12.764,
          12.778,
          12.792,
          12.806000000000001,
          12.82,
          12.834,
          12.848,
          12.862,
          12.876,
          12.89,
          12.904,
          12.918,
          12.932,
          12.946,
          12.96,
          12.974,
          12.988,
          13.001999999999999,
          13.016,
          13.03,
          13.044,
          13.058,
          13.072,
          13.086,
          13.1,
          13.114,
          13.128,
          13.142,
          13.156,
          13.17,
          13.184000000000001,
          13.198,
          13.212,
          13.225999999999999,
          13.24,
          13.254,
          13.268,
          13.282,
          13.296,
          13.31,
          13.324,
          13.338000000000001,
          13.352,
          13.366,
          13.379999999999999,
          13.394,
          13.408,
          13.422,
          13.436,
          13.45,
          13.464,
          13.478,
          13.492,
          13.506,
          13.52,
          13.533999999999999,
          13.548,
          13.562,
          13.576,
          13.59,
          13.604,
          13.618,
          13.632,
          13.646,
          13.66,
          13.674,
          13.688,
          13.702,
          13.716000000000001,
          13.73,
          13.744,
          13.758,
          13.772,
          13.786,
          13.8,
          13.814,
          13.828,
          13.842,
          13.856,
          13.870000000000001,
          13.884,
          13.898,
          13.911999999999999,
          13.926,
          13.94,
          13.954,
          13.968,
          13.982,
          13.996,
          14.01,
          14.024000000000001,
          14.038,
          14.052,
          14.065999999999999,
          14.08,
          14.094,
          14.108,
          14.122,
          14.136,
          14.15,
          14.164,
          14.178,
          14.192,
          14.206,
          14.22,
          14.234,
          14.248000000000001,
          14.262,
          14.276,
          14.29,
          14.304,
          14.318,
          14.332,
          14.346,
          14.36,
          14.374,
          14.388,
          14.402000000000001,
          14.416,
          14.43,
          14.443999999999999,
          14.458,
          14.472,
          14.486,
          14.5,
          14.514,
          14.528,
          14.542,
          14.556000000000001,
          14.57,
          14.584,
          14.597999999999999,
          14.612,
          14.626,
          14.64,
          14.654,
          14.668,
          14.682,
          14.696,
          14.71,
          14.724,
          14.738,
          14.751999999999999,
          14.766,
          14.78,
          14.794,
          14.808,
          14.822,
          14.836,
          14.85,
          14.864,
          14.878,
          14.892,
          14.906,
          14.92,
          14.934000000000001,
          14.948,
          14.962,
          14.975999999999999,
          14.99,
          15.004,
          15.018,
          15.032,
          15.046,
          15.059999999999999,
          15.074,
          15.088000000000001,
          15.102,
          15.116,
          15.129999999999999,
          15.144,
          15.158000000000001,
          15.172,
          15.186,
          15.2,
          15.214,
          15.228,
          15.242,
          15.256,
          15.27,
          15.283999999999999,
          15.298,
          15.312000000000001,
          15.326,
          15.34,
          15.354,
          15.368,
          15.382,
          15.396,
          15.41,
          15.424,
          15.437999999999999,
          15.452,
          15.466000000000001,
          15.48,
          15.494,
          15.508,
          15.522,
          15.536,
          15.55,
          15.564,
          15.578,
          15.591999999999999,
          15.606,
          15.620000000000001,
          15.634,
          15.648,
          15.661999999999999,
          15.676,
          15.690000000000001,
          15.704,
          15.718,
          15.732,
          15.746,
          15.76,
          15.774000000000001,
          15.788,
          15.802,
          15.815999999999999,
          15.83,
          15.844000000000001,
          15.858,
          15.872,
          15.886,
          15.9,
          15.914,
          15.928,
          15.942,
          15.956,
          15.969999999999999,
          15.984,
          15.998000000000001,
          16.012,
          16.026,
          16.04,
          16.054000000000002,
          16.067999999999998,
          16.082,
          16.096,
          16.11,
          16.124,
          16.137999999999998,
          16.152,
          16.166,
          16.18,
          16.194,
          16.208,
          16.222,
          16.236,
          16.25,
          16.264,
          16.278,
          16.292,
          16.306,
          16.32,
          16.334,
          16.348,
          16.362000000000002,
          16.376,
          16.39,
          16.404,
          16.418,
          16.432000000000002,
          16.445999999999998,
          16.46,
          16.474,
          16.488,
          16.502,
          16.516,
          16.53,
          16.544,
          16.558,
          16.572,
          16.586,
          16.6,
          16.614,
          16.628,
          16.642,
          16.656,
          16.67,
          16.684,
          16.698,
          16.712,
          16.726,
          16.740000000000002,
          16.753999999999998,
          16.768,
          16.782,
          16.796,
          16.81,
          16.823999999999998,
          16.838,
          16.852,
          16.866,
          16.88,
          16.894,
          16.908,
          16.922,
          16.936,
          16.95,
          16.964,
          16.978,
          16.992,
          17.006,
          17.02,
          17.034,
          17.048000000000002,
          17.062,
          17.076,
          17.09,
          17.104,
          17.118000000000002,
          17.131999999999998,
          17.146,
          17.16,
          17.174,
          17.188,
          17.201999999999998,
          17.216,
          17.23,
          17.244,
          17.258,
          17.272,
          17.286,
          17.3,
          17.314,
          17.328,
          17.342,
          17.356,
          17.37,
          17.384,
          17.398,
          17.412,
          17.426000000000002,
          17.44,
          17.454,
          17.468,
          17.482,
          17.496000000000002,
          17.509999999999998,
          17.524,
          17.538,
          17.552,
          17.566,
          17.58,
          17.594,
          17.608,
          17.622,
          17.636,
          17.65,
          17.664,
          17.678,
          17.692,
          17.706,
          17.72,
          17.734,
          17.748,
          17.762,
          17.776,
          17.79,
          17.804000000000002,
          17.817999999999998,
          17.832,
          17.846,
          17.86,
          17.874,
          17.887999999999998,
          17.902,
          17.916,
          17.93,
          17.944,
          17.958,
          17.972,
          17.986
         ],
         "xaxis": "x",
         "y": [
          0.0340280310629678,
          0.034235982955416785,
          0.034413461813484716,
          0.034564000463433185,
          0.03469168490097252,
          0.034801151469285134,
          0.03489757949749639,
          0.03498667928177775,
          0.03507467531833185,
          0.035168284724802164,
          0.03527469081420302,
          0.03540151181332792,
          0.03555676474585705,
          0.03574882452922034,
          0.03598637836388664,
          0.0362783755243752,
          0.03663397269318693,
          0.03706247501228655,
          0.03757327306197646,
          0.03817577601422549,
          0.03887934124688165,
          0.039693200746848296,
          0.04062638467419895,
          0.04168764250530355,
          0.0428853622210858,
          0.044227488056210726,
          0.04572143737583928,
          0.04737401729793478,
          0.04919134173026348,
          0.05117874954122717,
          0.05334072463156038,
          0.05568081871852819,
          0.058201577684372285,
          0.060904472375097066,
          0.06378983476292314,
          0.06685680040450895,
          0.07010325813611794,
          0.07352580794494618,
          0.07711972794180484,
          0.08087895133316436,
          0.08479605424951712,
          0.08886225523137475,
          0.09306742710376789,
          0.09740012188463024,
          0.10184760927226234,
          0.10639592914262083,
          0.11102995835928897,
          0.11573349205888915,
          0.12048933942370472,
          0.12527943379326353,
          0.13008495679952278,
          0.1348864760383019,
          0.13966409561524518,
          0.1443976187303397,
          0.14906672129353613,
          0.15365113539808964,
          0.15813084132038494,
          0.1624862665679533,
          0.16669849036347975,
          0.1707494518340731,
          0.1746221600739756,
          0.1783009041668283,
          0.18177146119193394,
          0.18502130019867702,
          0.18803978011488634,
          0.19081833955861532,
          0.19335067654839916,
          0.19563291615377304,
          0.19766376419480874,
          0.19944464518522498,
          0.20097982281665316,
          0.20227650140004005,
          0.2033449068118518,
          0.2041983456356284,
          0.20485324134125563,
          0.20532914650299117,
          0.20564873022068564,
          0.20583774007493844,
          0.20592493811442458,
          0.20594201054097708,
          0.20592345092412748,
          0.2059064169409915,
          0.20593056079930047,
          0.2060378336610266,
          0.2062722645418035,
          0.20667971431788146,
          0.20730760562863113,
          0.20820462961977373,
          0.20942043063186155,
          0.2110052701014033,
          0.2130096711097098,
          0.2154840451881907,
          0.21847830316934821,
          0.22204145206068118,
          0.22622118011421125,
          0.2310634324670221,
          0.2366119799370185,
          0.2429079837714307,
          0.2499895593610297,
          0.2578913421475982,
          0.2666440591619906,
          0.27627410983085,
          0.2868031598765663,
          0.29824775230170175,
          0.31061893959011083,
          0.3239219413656481,
          0.3381558318197419,
          0.35331326124426465,
          0.36938021598050114,
          0.3863358210121891,
          0.4041521892862008,
          0.4227943216333927,
          0.44222006088188637,
          0.46238010340304303,
          0.4832180709059719,
          0.5046706448006779,
          0.5266677648846348,
          0.5491328934773706,
          0.5719833454377276,
          0.5951306837563201,
          0.6184811796305869,
          0.6419363351118217,
          0.6653934655746816,
          0.6887463384131058,
          0.7118858635260651,
          0.7347008303367113,
          0.7570786853048594,
          0.7789063431596285,
          0.8000710244121981,
          0.8204611111217339,
          0.8399670123940064,
          0.858482030704629,
          0.8759032198668826,
          0.8921322253172468,
          0.9070760973761662,
          0.9206480682613711,
          0.9327682838884707,
          0.9433644818875875,
          0.9523726077916828,
          0.9597373620068359,
          0.9654126709477278,
          0.9693620766024438,
          0.9715590397663539,
          0.9719871532400384,
          0.9706402624042294,
          0.9675224917477266,
          0.9626481771129027,
          0.9560417046181654,
          0.9477372583979491,
          0.937778480448689,
          0.9262180469650623,
          0.9131171665763392,
          0.8985450068319096,
          0.882578056122617,
          0.865299428948085,
          0.8467981230388419,
          0.8271682373079144,
          0.8065081599339614,
          0.7849197360639534,
          0.7625074246679542,
          0.7393774539836115,
          0.71563698475879,
          0.6913932901441661,
          0.6667529606133898,
          0.6418211417071404,
          0.6167008117226884,
          0.5914921057157723,
          0.5662916913624128,
          0.5411922013602568,
          0.5162817261479273,
          0.49164336980328155,
          0.4673548710624105,
          0.44348829049606137,
          0.4201097640030018,
          0.39727932194312693,
          0.3750507724490582,
          0.35347164673275105,
          0.3325832035524555,
          0.3124204894309369,
          0.2930124507238993,
          0.2743820932302517,
          0.256546684715448,
          0.23951799548446293,
          0.2233025719909574,
          0.20790203839999083,
          0.19331342102936305,
          0.1795294906731208,
          0.1665391179542288,
          0.1543276370541418,
          0.14287721341779905,
          0.13216721132540696,
          0.12217455754900279,
          0.11287409766460246,
          0.10423894196150255,
          0.0962407982718734,
          0.08885028942903779,
          0.08203725344523341,
          0.07577102487363661,
          0.07002069617960369,
          0.0647553582883158,
          0.05994431979649945,
          0.05555730463192117,
          0.05156462821359819,
          0.04793735240690565,
          0.04464741978001712,
          0.04166776785134906,
          0.038972424172216025,
          0.03653658321554864,
          0.03433666614160153,
          0.032350364586573956,
          0.03055666967190584,
          0.02893588746262988,
          0.027469642114798406,
          0.02614086794680106,
          0.02493379164963403,
          0.023833905819011448,
          0.022827934949769275,
          0.021903794982297668,
          0.02105054743357113,
          0.02025834908349109,
          0.019518398122170037,
          0.018822877596887774,
          0.018164896929849177,
          0.01753843221061306,
          0.016938265900921835,
          0.016359926525343228,
          0.01579962885912654,
          0.015254215065375068,
          0.014721097177317101,
          0.014198201268269985,
          0.013683913601947538,
          0.013177029009053192,
          0.01267670169260964,
          0.01218239862412536,
          0.01169385565537269,
          0.011211036436153165,
          0.01073409419680373,
          0.010263336425236035,
          0.009799192441871949,
          0.009342183851815527,
          0.00889289783188617,
          0.008451963190624816,
          0.00802002912198828,
          0.0075977465580909145,
          0.007185752012969807,
          0.006784653797870167,
          0.006395020478924074,
          0.006017371440261701,
          0.005652169409500304,
          0.005299814798133974,
          0.004960641706544388,
          0.004634915442083123,
          0.004322831398875378,
          0.004024515149566897,
          0.0037400236020903844,
          0.003469347078559834,
          0.0032124121785007593,
          0.0029690852946729763,
          0.002739176656617157,
          0.0025224447846311266,
          0.002318601245024479,
          0.0021273156060845487,
          0.0019482205030794837,
          0.001780916729704424,
          0.0016249782825208242,
          0.0014799572940328214,
          0.001345388798985562,
          0.0012207952871559544,
          0.0011056910042562247,
          0.000999585970504686,
          0.0009019896938752261,
          0.000812414561963999,
          0.0007303789027701321,
          0.0006554097104458389,
          0.0005870450372171862,
          0.0005248360571989686,
          0.000468348811733434,
          0.0004171656491817757,
          0.0003708863748127081,
          0.0003291291285888958,
          0.0002915310102847349,
          0.00025774847251350876,
          0.00022745750294151632,
          0.00020035361726306533,
          0.00017615168445015087,
          0.00015458560541796744,
          0.00013540786560889388,
          0.0001183889811360828,
          0.00010331685708649786,
          0.00008999607540142436,
          0.0000782471284680612,
          0.00006790561320239235,
          0.000058821399012387135,
          0.00005085778162895481,
          0.00004389063340390647,
          0.000037807559319983855,
          0.00003250706665474041,
          0.000027897755001631063,
          0.000023897532188756004,
          0.00002043286055626402,
          0.000017438037062771968,
          0.000014854509792311144,
          0.000012630232627276465,
          0.000010719059138800136,
          0.000009080176121675498,
          0.000007677576662865625,
          0.000006479572176339205,
          0.0000054583424572002946,
          0.000004589522499123018,
          0.000003851824574865823,
          0.0000032266938938411407,
          0.000002697996017117636,
          0.0000022517341225897173,
          0.0000018757941654216248,
          0.0000015597159655067456,
          0.0000012944882692389715,
          0.0000010723658723610768,
          8.867069494868522e-7,
          7.318288099384913e-7,
          6.02880385109743e-7,
          4.957298463873363e-7,
          4.068658518949495e-7,
          3.333110225175998e-7,
          2.725463507516235e-7,
          2.2244534818512596e-7,
          1.8121683744451102e-7,
          1.473553911313922e-7,
          1.195985127640428e-7,
          9.688974239970608e-8,
          7.834695201410294e-8,
          6.323517258841106e-8,
          5.094336607829469e-8,
          4.096462100928552e-8,
          3.2879310448099076e-8,
          2.6340805706360946e-8,
          2.106338856593872e-8,
          1.6812049340530758e-8,
          1.339389800305993e-8,
          1.0650951227657586e-8,
          8.454089842658748e-9,
          6.69800919241978e-9,
          5.297009581377988e-9,
          4.18149563453003e-9,
          3.2950723519405246e-9,
          2.5921421427790594e-9,
          2.035921460739159e-9,
          1.596808073011464e-9,
          1.2510407056754562e-9,
          9.79602026926983e-10,
          7.673238450529799e-10,
          6.021601819023717e-10,
          4.745996896205288e-10,
          3.7719384802482583e-10,
          3.0418163756596386e-10,
          2.5119504102749145e-10,
          2.1503288745699707e-10,
          1.9349330605060852e-10,
          1.8525748935058663e-10,
          1.8981965092499618e-10,
          2.0746007416136508e-10,
          2.392600535829346e-10,
          2.871593934790237e-10,
          3.5405901499589483e-10,
          4.4397319704234397e-10,
          5.62238105259281e-10,
          7.15785617130484e-10,
          9.134941051699153e-10,
          1.166630875454561e-9,
          1.4894044648283995e-9,
          1.8996490754394966e-9,
          2.419668179231359e-9,
          3.077269879173884e-9,
          3.907033103664547e-9,
          4.951851285937203e-9,
          6.264809008053174e-9,
          7.911457353053302e-9,
          9.972565611252833e-9,
          1.2547440748496175e-8,
          1.5757921905431534e-8,
          1.9753175416394996e-8,
          2.4715436691070763e-8,
          3.086686908502352e-8,
          3.847773690385528e-8,
          4.7876120258325584e-8,
          5.9459433938727644e-8,
          7.370805113138013e-8,
          9.120137597643029e-8,
          1.1263675696748425e-7,
          1.388516862961474e-7,
          1.7084978868652692e-7,
          2.0983116723025137e-7,
          2.572277433347875e-7,
          3.1474430316223753e-7,
          3.844060437728742e-7,
          4.6861349837805616e-7,
          5.702058112658971e-7,
          6.925334285198257e-7,
          8.39541369816625e-7,
          0.0000010158643483263768,
          0.0000012269351087289889,
          0.0000014791074559787423,
          0.0000017797955477225895,
          0.000002137631118873334,
          0.0000025626403950158945,
          0.000003066442528944953,
          0.0000036624714581067254,
          0.000004366223126032877,
          0.00000519553003356082,
          0.000006170865080836261,
          0.000007315676623536515,
          0.000008656756590775248,
          0.000010224643391819694,
          0.000012054061167913672,
          0.000014184396717799357,
          0.00001666021513473358,
          0.000019531814832576673,
          0.000022855822203084344,
          0.000026695825630276136,
          0.00003112304798595903,
          0.00003621705603917394,
          0.000042066504428709645,
          0.00004876991097046219,
          0.00005643645910053653,
          0.00006518682219264507,
          0.00007515400333897443,
          0.0000864841829537621,
          0.00009933756525807132,
          0.0001138892133446608,
          0.00013032986111894708,
          0.0001488666889845176,
          0.0001697240487109463,
          0.00019314412151357169,
          0.00021938749201722544,
          0.0002487336195004608,
          0.0002814811866581161,
          0.0003179483051141869,
          0.0003584725561039424,
          0.0004034108441632743,
          0.00045313904135612103,
          0.0005080513995790123,
          0.0005685597088436443,
          0.0006350921801962352,
          0.0007080920331162103,
          0.0007880157688834896,
          0.0008753311135351964,
          0.000970514616671215,
          0.0010740488955244202,
          0.0011864195173895145,
          0.0013081115176977398,
          0.001439605555715942,
          0.0015813737150076554,
          0.0017338749613826521,
          0.0018975502770217667,
          0.0020728174957343986,
          0.0022600658708022284,
          0.0024596504134978127,
          0.0026718860470349272,
          0.002897041627296324,
          0.0031353338880721095,
          0.0033869213745995196,
          0.00365189843478587,
          0.003930289342488723,
          0.004222042631476178,
          0.00452702572207269,
          0.004845019924874026,
          0.005175715907176218,
          0.005518709707804108,
          0.005873499384741654,
          0.006239482377313956,
          0.0066159536605633704,
          0.007002104763910212,
          0.007397023719166004,
          0.007799695994515438,
          0.008209006461259667,
          0.008623742428995442,
          0.00904259777262546,
          0.009464178161284717,
          0.009887007385108367,
          0.010309534760957955,
          0.010730143582974786,
          0.011147160568399681,
          0.01155886623372334,
          0.011963506121190005,
          0.012359302781230295,
          0.012744468402821221,
          0.013117217971324894,
          0.013475782822294695,
          0.013818424450289867,
          0.014143448424128548,
          0.01444921825440308,
          0.01473416905565386,
          0.014996820844437514,
          0.0152357913157339,
          0.015449807943726286,
          0.01563771925895992,
          0.0157985051621782,
          0.015931286145647344,
          0.016035331305375346,
          0.01611006504211536,
          0.01615507236520205
         ],
         "yaxis": "y"
        },
        {
         "legendgroup": "😍",
         "marker": {
          "color": "rgb(148, 103, 189)"
         },
         "mode": "lines",
         "name": "😍",
         "showlegend": true,
         "type": "scatter",
         "x": [
          12,
          12.004,
          12.008,
          12.012,
          12.016,
          12.02,
          12.024,
          12.028,
          12.032,
          12.036,
          12.04,
          12.044,
          12.048,
          12.052,
          12.056,
          12.06,
          12.064,
          12.068,
          12.072,
          12.076,
          12.08,
          12.084,
          12.088,
          12.092,
          12.096,
          12.1,
          12.104,
          12.108,
          12.112,
          12.116,
          12.12,
          12.124,
          12.128,
          12.132,
          12.136,
          12.14,
          12.144,
          12.148,
          12.152,
          12.156,
          12.16,
          12.164,
          12.168,
          12.172,
          12.176,
          12.18,
          12.184,
          12.188,
          12.192,
          12.196,
          12.2,
          12.204,
          12.208,
          12.212,
          12.216,
          12.22,
          12.224,
          12.228,
          12.232,
          12.236,
          12.24,
          12.244,
          12.248,
          12.252,
          12.256,
          12.26,
          12.264,
          12.268,
          12.272,
          12.276,
          12.28,
          12.284,
          12.288,
          12.292,
          12.296,
          12.3,
          12.304,
          12.308,
          12.312,
          12.316,
          12.32,
          12.324,
          12.328,
          12.332,
          12.336,
          12.34,
          12.344,
          12.348,
          12.352,
          12.356,
          12.36,
          12.364,
          12.368,
          12.372,
          12.376,
          12.38,
          12.384,
          12.388,
          12.392,
          12.396,
          12.4,
          12.404,
          12.408,
          12.412,
          12.416,
          12.42,
          12.424,
          12.428,
          12.432,
          12.436,
          12.44,
          12.444,
          12.448,
          12.452,
          12.456,
          12.46,
          12.464,
          12.468,
          12.472,
          12.475999999999999,
          12.48,
          12.484,
          12.488,
          12.492,
          12.496,
          12.5,
          12.504,
          12.508,
          12.512,
          12.516,
          12.52,
          12.524000000000001,
          12.528,
          12.532,
          12.536,
          12.54,
          12.544,
          12.548,
          12.552,
          12.556000000000001,
          12.56,
          12.564,
          12.568,
          12.572,
          12.576,
          12.58,
          12.584,
          12.588,
          12.592,
          12.596,
          12.6,
          12.604,
          12.608,
          12.612,
          12.616,
          12.62,
          12.624,
          12.628,
          12.632,
          12.636,
          12.64,
          12.644,
          12.648,
          12.652,
          12.656,
          12.66,
          12.664,
          12.668,
          12.672,
          12.676,
          12.68,
          12.684,
          12.688,
          12.692,
          12.696,
          12.7,
          12.704,
          12.708,
          12.712,
          12.716,
          12.72,
          12.724,
          12.728,
          12.732,
          12.736,
          12.74,
          12.744,
          12.748,
          12.752,
          12.756,
          12.76,
          12.764,
          12.768,
          12.772,
          12.776,
          12.78,
          12.784,
          12.788,
          12.792,
          12.796,
          12.8,
          12.804,
          12.808,
          12.812,
          12.816,
          12.82,
          12.824,
          12.828,
          12.832,
          12.836,
          12.84,
          12.844,
          12.848,
          12.852,
          12.856,
          12.86,
          12.864,
          12.868,
          12.872,
          12.876,
          12.88,
          12.884,
          12.888,
          12.892,
          12.896,
          12.9,
          12.904,
          12.908,
          12.912,
          12.916,
          12.92,
          12.924,
          12.928,
          12.932,
          12.936,
          12.94,
          12.943999999999999,
          12.948,
          12.952,
          12.956,
          12.96,
          12.964,
          12.968,
          12.972,
          12.975999999999999,
          12.98,
          12.984,
          12.988,
          12.992,
          12.996,
          13,
          13.004,
          13.008,
          13.012,
          13.016,
          13.02,
          13.024000000000001,
          13.028,
          13.032,
          13.036,
          13.04,
          13.044,
          13.048,
          13.052,
          13.056000000000001,
          13.06,
          13.064,
          13.068,
          13.072,
          13.076,
          13.08,
          13.084,
          13.088000000000001,
          13.092,
          13.096,
          13.1,
          13.104,
          13.108,
          13.112,
          13.116,
          13.120000000000001,
          13.124,
          13.128,
          13.132,
          13.136,
          13.14,
          13.144,
          13.148,
          13.152,
          13.156,
          13.16,
          13.164,
          13.168,
          13.172,
          13.176,
          13.18,
          13.184,
          13.188,
          13.192,
          13.196,
          13.2,
          13.204,
          13.208,
          13.212,
          13.216,
          13.22,
          13.224,
          13.228,
          13.232,
          13.236,
          13.24,
          13.244,
          13.248,
          13.252,
          13.256,
          13.26,
          13.264,
          13.268,
          13.272,
          13.276,
          13.28,
          13.284,
          13.288,
          13.292,
          13.296,
          13.3,
          13.304,
          13.308,
          13.312,
          13.316,
          13.32,
          13.324,
          13.328,
          13.332,
          13.336,
          13.34,
          13.344,
          13.348,
          13.352,
          13.356,
          13.36,
          13.364,
          13.368,
          13.372,
          13.376,
          13.379999999999999,
          13.384,
          13.388,
          13.392,
          13.396,
          13.4,
          13.404,
          13.408,
          13.411999999999999,
          13.416,
          13.42,
          13.424,
          13.428,
          13.432,
          13.436,
          13.44,
          13.443999999999999,
          13.448,
          13.452,
          13.456,
          13.46,
          13.464,
          13.468,
          13.472,
          13.475999999999999,
          13.48,
          13.484,
          13.488,
          13.492,
          13.496,
          13.5,
          13.504,
          13.508,
          13.512,
          13.516,
          13.52,
          13.524000000000001,
          13.528,
          13.532,
          13.536,
          13.54,
          13.544,
          13.548,
          13.552,
          13.556000000000001,
          13.56,
          13.564,
          13.568,
          13.572,
          13.576,
          13.58,
          13.584,
          13.588000000000001,
          13.592,
          13.596,
          13.6,
          13.604,
          13.608,
          13.612,
          13.616,
          13.620000000000001,
          13.624,
          13.628,
          13.632,
          13.636,
          13.64,
          13.644,
          13.648,
          13.652,
          13.656,
          13.66,
          13.664,
          13.668,
          13.672,
          13.676,
          13.68,
          13.684,
          13.688,
          13.692,
          13.696,
          13.7,
          13.704,
          13.708,
          13.712,
          13.716,
          13.72,
          13.724,
          13.728,
          13.732,
          13.736,
          13.74,
          13.744,
          13.748,
          13.752,
          13.756,
          13.76,
          13.764,
          13.768,
          13.772,
          13.776,
          13.78,
          13.784,
          13.788,
          13.792,
          13.796,
          13.8,
          13.804,
          13.808,
          13.812,
          13.816,
          13.82,
          13.824,
          13.828,
          13.832,
          13.836,
          13.84,
          13.844,
          13.848,
          13.852,
          13.856,
          13.86,
          13.864,
          13.868,
          13.872,
          13.876,
          13.879999999999999,
          13.884,
          13.888,
          13.892,
          13.896,
          13.9,
          13.904,
          13.908,
          13.911999999999999,
          13.916,
          13.92,
          13.924,
          13.928,
          13.932,
          13.936,
          13.94,
          13.943999999999999,
          13.948,
          13.952,
          13.956,
          13.96,
          13.964,
          13.968,
          13.972,
          13.975999999999999,
          13.98,
          13.984,
          13.988,
          13.992,
          13.996
         ],
         "xaxis": "x",
         "y": [
          0.30091814743250345,
          0.30104621129210296,
          0.3011698884380094,
          0.3012891833095124,
          0.3014041006276382,
          0.30151464539462747,
          0.3016208228933819,
          0.3017226386868814,
          0.3018200986175704,
          0.3019132088067146,
          0.3020019756537262,
          0.3020864058354606,
          0.3021665063054818,
          0.3022422842932984,
          0.3023137473035694,
          0.30238090311528043,
          0.30244375978088917,
          0.30250232562544305,
          0.30255660924566496,
          0.3026066195090116,
          0.30265236555270014,
          0.3026938567827078,
          0.30273110287274074,
          0.3027641137631738,
          0.3027928996599622,
          0.3028174710335234,
          0.30283783861759056,
          0.3028540134080372,
          0.30286600666167335,
          0.30287382989501344,
          0.30287749488301535,
          0.3028770136577924,
          0.3028723985072961,
          0.30286366197397174,
          0.30285081685338633,
          0.30283387619282864,
          0.30281285328988194,
          0.3027877616909699,
          0.3027586151898748,
          0.30272542782622935,
          0.3026882138839816,
          0.30264698788983313,
          0.30260176461165145,
          0.3025525590568553,
          0.3024993864707751,
          0.3024422623349867,
          0.3023812023656196,
          0.30231622251164086,
          0.30224733895311195,
          0.30217456809942245,
          0.3020979265874979,
          0.30201743127998304,
          0.3019330992634017,
          0.3018449478462915,
          0.3017529945573149,
          0.3016572571433471,
          0.3015577535675401,
          0.30145450200736335,
          0.30134752085262184,
          0.30123682870345136,
          0.3011224443682913,
          0.3010043868618348,
          0.30088267540295777,
          0.30075732941262523,
          0.30062836851177716,
          0.3004958125191922,
          0.3003596814493308,
          0.30021999551015804,
          0.3000767751009459,
          0.2999300408100545,
          0.2997798134126945,
          0.29962611386867033,
          0.2994689633201024,
          0.29930838308913177,
          0.29914439467560566,
          0.2989770197547442,
          0.2988062801747897,
          0.29863219795463736,
          0.2984547952814486,
          0.2982740945082474,
          0.2980901181515,
          0.29790288888867666,
          0.2977124295557981,
          0.29751876314496606,
          0.2973219128018775,
          0.2971219018233232,
          0.29691875365467246,
          0.2967124918873415,
          0.2965031402562487,
          0.29629072263725476,
          0.29607526304458937,
          0.29585678562826434,
          0.2956353146714744,
          0.29541087458798304,
          0.2951834899194983,
          0.29495318533303455,
          0.29471998561826396,
          0.2944839156848546,
          0.2942450005597992,
          0.29400326538473176,
          0.2937587354132347,
          0.29351143600813523,
          0.2932613926387916,
          0.2930086308783705,
          0.2927531764011161,
          0.29249505497960804,
          0.2922342924820128,
          0.29197091486932736,
          0.29170494819261306,
          0.29143641859022473,
          0.29116535228503015,
          0.2908917755816248,
          0.2906157148635402,
          0.29033719659044455,
          0.29005624729533974,
          0.28977289358175234,
          0.28948716212091974,
          0.28919907964897135,
          0.28890867296410655,
          0.28861596892376795,
          0.2883209944418114,
          0.2880237764856744,
          0.2877243420735386,
          0.2874227182714926,
          0.2871189321906932,
          0.2868130109845213,
          0.2865049818457408,
          0.28619487200365457,
          0.2858827087212589,
          0.2855685192924004,
          0.28525233103893066,
          0.284934171307862,
          0.2846140674685254,
          0.2842920469097281,
          0.28396813703691326,
          0.28364236526932163,
          0.2833147590371563,
          0.282985345778749,
          0.28265415293772944,
          0.28232120796019916,
          0.2819865382919081,
          0.2816501713754357,
          0.28131213464737626,
          0.2809724555355294,
          0.28063116145609485,
          0.2802882798108751,
          0.27994383798448014,
          0.27959786334154174,
          0.27925038322393314,
          0.2789014249479952,
          0.2785510158017701,
          0.27819918304224334,
          0.2778459538925925,
          0.2774913555394457,
          0.27713541513014744,
          0.2767781597700336,
          0.2764196165197167,
          0.27605981239238064,
          0.2756987743510836,
          0.2753365293060738,
          0.27497310411211445,
          0.2746085255658206,
          0.27424282040300574,
          0.2738760152960421,
          0.27350813685123115,
          0.2731392116061877,
          0.2727692660272364,
          0.2723983265068197,
          0.2720264193609212,
          0.27165357082650204,
          0.2712798070589497,
          0.27090515412954247,
          0.27052963802292845,
          0.27015328463461885,
          0.2697761197684961,
          0.26939816913433823,
          0.2690194583453582,
          0.2686400129157606,
          0.26825985825831244,
          0.26787901968193223,
          0.26749752238929564,
          0.267115391474459,
          0.2667326519204979,
          0.2663493285971664,
          0.26596544625857255,
          0.26558102954087265,
          0.26519610295998475,
          0.2648106909093194,
          0.2644248176575309,
          0.26403850734628853,
          0.26365178398806477,
          0.26326467146394594,
          0.2628771935214623,
          0.26248937377243853,
          0.2621012356908637,
          0.2617128026107848,
          0.261324097724218,
          0.26093514407908497,
          0.26054596457716794,
          0.26015658197208746,
          0.2597670188673029,
          0.2593772977141354,
          0.2589874408098115,
          0.2585974702955315,
          0.25820740815456045,
          0.25781727621034156,
          0.2574270961246332,
          0.2570368893956705,
          0.2566466773563491,
          0.25625648117243477,
          0.25586632184079583,
          0.25547622018766,
          0.25508619686689643,
          0.2546962723583238,
          0.2543064669660393,
          0.25391680081677703,
          0.2535272938582899,
          0.2531379658577567,
          0.2527488364002147,
          0.25235992488701997,
          0.25197125053433056,
          0.2515828323716186,
          0.2511946892402074,
          0.2508068397918342,
          0.2504193024872408,
          0.2500320955947915,
          0.2496452371891148,
          0.24925874514977497,
          0.2488726371599702,
          0.24848693070525693,
          0.24810164307230165,
          0.2477167913476617,
          0.24733239241659108,
          0.24694846296187653,
          0.2465650194626995,
          0.24618207819352653,
          0.2457996552230276,
          0.24541776641302326,
          0.24503642741745862,
          0.2446556536814058,
          0.24427546044009588,
          0.2438958627179779,
          0.2435168753278062,
          0.2431385128697578,
          0.24276078973057652,
          0.2423837200827465,
          0.24200731788369578,
          0.24163159687502517,
          0.24125657058176891,
          0.2408822523116844,
          0.24050865515456732,
          0.24013579198159923,
          0.23976367544472305,
          0.23939231797604577,
          0.23902173178727343,
          0.23865192886917125,
          0.2382829209910556,
          0.2379147197003147,
          0.23754733632195613,
          0.2371807819581857,
          0.23681506748801495,
          0.23645020356689606,
          0.23608620062638785,
          0.23572306887384947,
          0.23536081829216265,
          0.23499945863948468,
          0.23463899944902855,
          0.23427945002887238,
          0.23392081946179805,
          0.23356311660515877,
          0.23320635009077473,
          0.23285052832485742,
          0.2324956594879638,
          0.2321417515349776,
          0.2317888121951196,
          0.2314368489719875,
          0.23108586914362197,
          0.23073587976260296,
          0.23038688765617443,
          0.23003889942639458,
          0.22969192145031725,
          0.22934595988020062,
          0.22900102064374184,
          0.2286571094443418,
          0.22831423176139728,
          0.2279723928506191,
          0.22763159774438008,
          0.22729185125208856,
          0.22695315796059007,
          0.22661552223459594,
          0.2262789482171401,
          0.2259434398300602,
          0.22560900077450824,
          0.22527563453148675,
          0.22494334436241145,
          0.22461213330970003,
          0.22428200419738875,
          0.22395295963177275,
          0.22362500200207486,
          0.22329813348113844,
          0.22297235602614648,
          0.22264767137936625,
          0.22232408106892043,
          0.22200158640958054,
          0.22168018850358837,
          0.2213598882415012,
          0.22104068630306126,
          0.22072258315808987,
          0.22040557906740685,
          0.22008967408377256,
          0.21977486805285543,
          0.21946116061422233,
          0.21914855120235233,
          0.21883703904767463,
          0.21852662317763002,
          0.21821730241775328,
          0.21790907539278062,
          0.21760194052777893,
          0.21729589604929725,
          0.2169909399865398,
          0.216687070172563,
          0.2163842842454912,
          0.21608257964975772,
          0.21578195363736305,
          0.21548240326915744,
          0.21518392541614237,
          0.21488651676079462,
          0.2145901737984076,
          0.21429489283845649,
          0.21400067000597994,
          0.21370750124298446,
          0.21341538230986615,
          0.21312430878685218,
          0.21283427607546138,
          0.21254527939998458,
          0.21225731380898066,
          0.21197037417679376,
          0.21168445520508677,
          0.21139955142439332,
          0.21111565719568615,
          0.21083276671196435,
          0.2105508739998555,
          0.21026997292123656,
          0.20999005717486982,
          0.20971112029805472,
          0.20943315566829704,
          0.20915615650499236,
          0.2088801158711256,
          0.2086050266749847,
          0.20833088167189057,
          0.20805767346594017,
          0.20778539451176425,
          0.20751403711629993,
          0.20724359344057525,
          0.2069740555015086,
          0.2067054151737212,
          0.20643766419136106,
          0.20617079414994072,
          0.20590479650818794,
          0.20563966258990596,
          0.20537538358584764,
          0.2051119505556008,
          0.20484935442948304,
          0.20458758601044963,
          0.20432663597601053,
          0.20406649488015766,
          0.20380715315530307,
          0.20354860111422607,
          0.20329082895202974,
          0.20303382674810677,
          0.20277758446811442,
          0.20252209196595716,
          0.20226733898577817,
          0.20201331516395865,
          0.2017600100311247,
          0.2015074130141613,
          0.2012555134382341,
          0.20100430052881654,
          0.20075376341372494,
          0.20050389112515948,
          0.20025467260174945,
          0.20000609669060598,
          0.19975815214937986,
          0.19951082764832268,
          0.19926411177235415,
          0.19901799302313405,
          0.1987724598211365,
          0.1985275005077301,
          0.19828310334726024,
          0.19803925652913446,
          0.19779594816991242,
          0.19755316631539616,
          0.19731089894272424,
          0.19706913396246756,
          0.19682785922072676,
          0.19658706250123137,
          0.1963467315274395,
          0.1961068539646389,
          0.19586741742204866,
          0.19562840945492116,
          0.19538981756664336,
          0.1951516292108385,
          0.1949138317934677,
          0.19467641267492924,
          0.19443935917215782,
          0.19420265856072227,
          0.19396629807692128,
          0.19373026491987688,
          0.1934945462536269,
          0.19325912920921295,
          0.19302400088676727,
          0.19278914835759628,
          0.19255455866625915,
          0.19232021883264466,
          0.19208611585404364,
          0.1918522367072164,
          0.19161856835045632,
          0.19138509772564932,
          0.19115181176032658,
          0.19091869736971434,
          0.19068574145877615,
          0.19045293092425022,
          0.19022025265668072,
          0.18998769354244338,
          0.18975524046576264,
          0.189522880310724,
          0.1892905999632786,
          0.18905838631324012,
          0.18882622625627427,
          0.18859410669588114,
          0.1883620145453683,
          0.18812993672981698,
          0.18789786018803845,
          0.1876657718745222,
          0.18743365876137524,
          0.18720150784025227,
          0.1869693061242752,
          0.1867370406499445,
          0.1865046984790398,
          0.1862722667005103,
          0.1860397324323548,
          0.18580708282349157,
          0.18557430505561656,
          0.18534138634505143,
          0.18510831394457972,
          0.18487507514527143,
          0.1846416572782963,
          0.1844080477167257,
          0.18417423387732051,
          0.1839402032223087,
          0.1837059432611496,
          0.18347144155228523,
          0.18323668570487875,
          0.18300166338054047,
          0.18276636229503945,
          0.18253077022000286,
          0.18229487498460056,
          0.18205866447721641,
          0.18182212664710518,
          0.18158524950603624,
          0.18134802112992104,
          0.1811104296604276,
          0.18087246330657983,
          0.18063411034634147,
          0.18039535912818572,
          0.18015619807264868,
          0.17991661567386819,
          0.17967660050110756,
          0.1794361412002616,
          0.17919522649534908,
          0.1789538451899876,
          0.17871198616885356,
          0.1784696383991246,
          0.1782267909319067,
          0.17798343290364338,
          0.1777395535375101,
          0.17749514214479,
          0.1772501881262335,
          0.17700468097340089,
          0.17675861026998763,
          0.17651196569313227,
          0.17626473701470624,
          0.17601691410258763,
          0.1757684869219161,
          0.1755194455363297,
          0.17526978010918537,
          0.17501948090475983,
          0.1747685382894331,
          0.1745169427328545,
          0.1742646848090885,
          0.1740117551977441,
          0.17375814468508527,
          0.17350384416512182,
          0.17324884464068285,
          0.1729931372244714,
          0.17273671314009936,
          0.17247956372310483,
          0.17222168042194969,
          0.1719630547989981,
          0.17170367853147692
         ],
         "yaxis": "y"
        },
        {
         "legendgroup": "👍",
         "marker": {
          "color": "rgb(140, 86, 75)"
         },
         "mode": "lines",
         "name": "👍",
         "showlegend": true,
         "type": "scatter",
         "x": [
          12,
          12.002,
          12.004,
          12.006,
          12.008,
          12.01,
          12.012,
          12.014,
          12.016,
          12.018,
          12.02,
          12.022,
          12.024,
          12.026,
          12.028,
          12.03,
          12.032,
          12.034,
          12.036,
          12.038,
          12.04,
          12.042,
          12.044,
          12.046,
          12.048,
          12.05,
          12.052,
          12.054,
          12.056,
          12.058,
          12.06,
          12.062,
          12.064,
          12.066,
          12.068,
          12.07,
          12.072,
          12.074,
          12.076,
          12.078,
          12.08,
          12.082,
          12.084,
          12.086,
          12.088,
          12.09,
          12.092,
          12.094,
          12.096,
          12.098,
          12.1,
          12.102,
          12.104,
          12.106,
          12.108,
          12.11,
          12.112,
          12.114,
          12.116,
          12.118,
          12.12,
          12.122,
          12.124,
          12.126,
          12.128,
          12.13,
          12.132,
          12.134,
          12.136,
          12.138,
          12.14,
          12.142,
          12.144,
          12.146,
          12.148,
          12.15,
          12.152,
          12.154,
          12.156,
          12.158,
          12.16,
          12.162,
          12.164,
          12.166,
          12.168,
          12.17,
          12.172,
          12.174,
          12.176,
          12.178,
          12.18,
          12.182,
          12.184,
          12.186,
          12.188,
          12.19,
          12.192,
          12.194,
          12.196,
          12.198,
          12.2,
          12.202,
          12.204,
          12.206,
          12.208,
          12.21,
          12.212,
          12.214,
          12.216,
          12.218,
          12.22,
          12.222,
          12.224,
          12.226,
          12.228,
          12.23,
          12.232,
          12.234,
          12.236,
          12.238,
          12.24,
          12.242,
          12.244,
          12.246,
          12.248,
          12.25,
          12.252,
          12.254,
          12.256,
          12.258,
          12.26,
          12.262,
          12.264,
          12.266,
          12.268,
          12.27,
          12.272,
          12.274000000000001,
          12.276,
          12.278,
          12.28,
          12.282,
          12.284,
          12.286,
          12.288,
          12.29,
          12.292,
          12.294,
          12.296,
          12.298,
          12.3,
          12.302,
          12.304,
          12.306,
          12.308,
          12.31,
          12.312,
          12.314,
          12.316,
          12.318,
          12.32,
          12.322,
          12.324,
          12.326,
          12.328,
          12.33,
          12.332,
          12.334,
          12.336,
          12.338,
          12.34,
          12.342,
          12.344,
          12.346,
          12.348,
          12.35,
          12.352,
          12.354,
          12.356,
          12.358,
          12.36,
          12.362,
          12.364,
          12.366,
          12.368,
          12.37,
          12.372,
          12.374,
          12.376,
          12.378,
          12.38,
          12.382,
          12.384,
          12.386,
          12.388,
          12.39,
          12.392,
          12.394,
          12.396,
          12.398,
          12.4,
          12.402,
          12.404,
          12.406,
          12.408,
          12.41,
          12.412,
          12.414,
          12.416,
          12.418,
          12.42,
          12.422,
          12.424,
          12.426,
          12.428,
          12.43,
          12.432,
          12.434,
          12.436,
          12.438,
          12.44,
          12.442,
          12.444,
          12.446,
          12.448,
          12.45,
          12.452,
          12.454,
          12.456,
          12.458,
          12.46,
          12.462,
          12.464,
          12.466,
          12.468,
          12.47,
          12.472,
          12.474,
          12.475999999999999,
          12.478,
          12.48,
          12.482,
          12.484,
          12.486,
          12.488,
          12.49,
          12.492,
          12.494,
          12.496,
          12.498,
          12.5,
          12.502,
          12.504,
          12.506,
          12.508,
          12.51,
          12.512,
          12.514,
          12.516,
          12.518,
          12.52,
          12.522,
          12.524000000000001,
          12.526,
          12.528,
          12.53,
          12.532,
          12.534,
          12.536,
          12.538,
          12.54,
          12.542,
          12.544,
          12.546,
          12.548,
          12.55,
          12.552,
          12.554,
          12.556000000000001,
          12.558,
          12.56,
          12.562,
          12.564,
          12.566,
          12.568,
          12.57,
          12.572,
          12.574,
          12.576,
          12.578,
          12.58,
          12.582,
          12.584,
          12.586,
          12.588,
          12.59,
          12.592,
          12.594,
          12.596,
          12.598,
          12.6,
          12.602,
          12.604,
          12.606,
          12.608,
          12.61,
          12.612,
          12.614,
          12.616,
          12.618,
          12.62,
          12.622,
          12.624,
          12.626,
          12.628,
          12.63,
          12.632,
          12.634,
          12.636,
          12.638,
          12.64,
          12.642,
          12.644,
          12.646,
          12.648,
          12.65,
          12.652,
          12.654,
          12.656,
          12.658,
          12.66,
          12.662,
          12.664,
          12.666,
          12.668,
          12.67,
          12.672,
          12.674,
          12.676,
          12.678,
          12.68,
          12.682,
          12.684,
          12.686,
          12.688,
          12.69,
          12.692,
          12.693999999999999,
          12.696,
          12.698,
          12.7,
          12.702,
          12.704,
          12.706,
          12.708,
          12.71,
          12.712,
          12.714,
          12.716,
          12.718,
          12.72,
          12.722,
          12.724,
          12.725999999999999,
          12.728,
          12.73,
          12.732,
          12.734,
          12.736,
          12.738,
          12.74,
          12.742,
          12.744,
          12.746,
          12.748,
          12.75,
          12.752,
          12.754,
          12.756,
          12.758,
          12.76,
          12.762,
          12.764,
          12.766,
          12.768,
          12.77,
          12.772,
          12.774000000000001,
          12.776,
          12.778,
          12.78,
          12.782,
          12.784,
          12.786,
          12.788,
          12.79,
          12.792,
          12.794,
          12.796,
          12.798,
          12.8,
          12.802,
          12.804,
          12.806000000000001,
          12.808,
          12.81,
          12.812,
          12.814,
          12.816,
          12.818,
          12.82,
          12.822,
          12.824,
          12.826,
          12.828,
          12.83,
          12.832,
          12.834,
          12.836,
          12.838,
          12.84,
          12.842,
          12.844,
          12.846,
          12.848,
          12.85,
          12.852,
          12.854,
          12.856,
          12.858,
          12.86,
          12.862,
          12.864,
          12.866,
          12.868,
          12.87,
          12.872,
          12.874,
          12.876,
          12.878,
          12.88,
          12.882,
          12.884,
          12.886,
          12.888,
          12.89,
          12.892,
          12.894,
          12.896,
          12.898,
          12.9,
          12.902,
          12.904,
          12.906,
          12.908,
          12.91,
          12.912,
          12.914,
          12.916,
          12.918,
          12.92,
          12.922,
          12.924,
          12.926,
          12.928,
          12.93,
          12.932,
          12.934,
          12.936,
          12.938,
          12.94,
          12.942,
          12.943999999999999,
          12.946,
          12.948,
          12.95,
          12.952,
          12.954,
          12.956,
          12.958,
          12.96,
          12.962,
          12.964,
          12.966,
          12.968,
          12.97,
          12.972,
          12.974,
          12.975999999999999,
          12.978,
          12.98,
          12.982,
          12.984,
          12.986,
          12.988,
          12.99,
          12.992,
          12.994,
          12.996,
          12.998
         ],
         "xaxis": "x",
         "y": [
          1.0245614718510958,
          1.0245065780092224,
          1.0243417475454026,
          1.024067033782215,
          1.0236825254173276,
          1.023188346476541,
          1.0225846562479153,
          1.0218716491970576,
          1.0210495548635767,
          1.020118637738862,
          1.0190791971252136,
          1.0179315669764588,
          1.0166761157201893,
          1.0153132460617085,
          1.0138433947698935,
          1.0122670324450989,
          1.0105846632692648,
          1.008796824738469,
          1.0069040873780726,
          1.0049070544406833,
          1.002806361587204,
          1.0006026765511382,
          0.9982966987864774,
          0.9958891590993519,
          0.9933808192637836,
          0.9907724716218339,
          0.9880649386683581,
          0.9852590726207748,
          0.9823557549741221,
          0.9793558960417001,
          0.976260434481728,
          0.9730703368102502,
          0.9697865969007543,
          0.9664102354707724,
          0.9629422995559507,
          0.9593838619718371,
          0.9557360207639155,
          0.9519998986461873,
          0.948176642428731,
          0.9442674224347047,
          0.9402734319071082,
          0.9361958864058563,
          0.9320360231954868,
          0.9277951006239799,
          0.9234743974931797,
          0.9190752124211453,
          0.9145988631970372,
          0.9100466861288472,
          0.9054200353845094,
          0.9007202823268559,
          0.8959488148428443,
          0.8911070366675097,
          0.8861963667032133,
          0.8812182383344741,
          0.8761740987390437,
          0.8710654081955793,
          0.8658936393883535,
          0.8606602767096446,
          0.8553668155600385,
          0.8500147616472963,
          0.8446056302841952,
          0.8391409456857297,
          0.8336222402662908,
          0.8280510539371274,
          0.8224289334046248,
          0.8167574314698876,
          0.8110381063299561,
          0.8052725208812292,
          0.7994622420254521,
          0.7936088399787339,
          0.7877138875840459,
          0.7817789596275655,
          0.7758056321593219,
          0.7697954818186284,
          0.7637500851645173,
          0.757671018011794,
          0.7515598547729729,
          0.7454181678064798,
          0.7392475267716098,
          0.7330494979904495,
          0.7268256438172686,
          0.7205775220156532,
          0.7143066851437745,
          0.7080146799480406,
          0.7017030467656306,
          0.6953733189360253,
          0.6890270222220006,
          0.6826656742403278,
          0.6762907839024028,
          0.669903850865257,
          0.663506364993044,
          0.6570998058293194,
          0.6506856420804791,
          0.6442653311103584,
          0.6378403184464738,
          0.6314120372979768,
          0.6249819080855099,
          0.6185513379833041,
          0.6121217204735725,
          0.6056944349133868,
          0.5992708461143307,
          0.5928523039348641,
          0.5864401428857909,
          0.580035681748768,
          0.5736402232080321,
          0.5672550534955582,
          0.5608814420495647,
          0.5545206411866043,
          0.5481738857872929,
          0.5418423929956335,
          0.5355273619321859,
          0.529229973420922,
          0.5229513897299493,
          0.516692754326106,
          0.5104551916433427,
          0.5042398068650321,
          0.4980476857201103,
          0.4918798942930542,
          0.4857374788477241,
          0.4796214656649299,
          0.473532860893757,
          0.4674726504166237,
          0.46144179972788496,
          0.45544125382604206,
          0.4494719371194036,
          0.4435347533451066,
          0.4376305855014724,
          0.43176029579346603,
          0.42592472559125966,
          0.4201246954017242,
          0.4143610048526939,
          0.4086344326899646,
          0.402945736786725,
          0.3972956541654176,
          0.391684901031769,
          0.38611417282090105,
          0.3805841442552329,
          0.37509546941415134,
          0.36964878181514377,
          0.36424469450620006,
          0.3588838001694177,
          0.35356667123540486,
          0.34829386000847756,
          0.3430658988022995,
          0.3378833000857665,
          0.33274655663900243,
          0.32765614171912627,
          0.3226125092356256,
          0.3176160939351032,
          0.3126673115950975,
          0.3077665592268413,
          0.3029142152866291,
          0.2981106398955368,
          0.29335617506737016,
          0.28865114494439265,
          0.28399585604077987,
          0.2793905974934115,
          0.27483564131975957,
          0.27033124268271036,
          0.26587764016191384,
          0.26147505603150795,
          0.2571236965439486,
          0.2528237522195828,
          0.24857539814186286,
          0.2443787942577733,
          0.24023408568331844,
          0.23614140301378989,
          0.2321008626384879,
          0.22811256705969685,
          0.22417660521566937,
          0.22029305280724792,
          0.21646197262801914,
          0.21268341489759648,
          0.2089574175978594,
          0.20528400681189637,
          0.20166319706531888,
          0.19809499166978226,
          0.194579383068412,
          0.1911163531828867,
          0.18770587376196618,
          0.18434790673117818,
          0.18104240454341886,
          0.17778931053029517,
          0.1745885592538739,
          0.1714400768586582,
          0.16834378142358478,
          0.16529958331372513,
          0.16230738553155566,
          0.15936708406753355,
          0.15647856824972042,
          0.1536417210923305,
          0.15085641964289162,
          0.14812253532785305,
          0.14543993429646862,
          0.14280847776265143,
          0.14022802234472687,
          0.13769842040275843,
          0.13521952037335788,
          0.13279116710173966,
          0.1304132021708274,
          0.1280854642272406,
          0.12580778930402037,
          0.12358001113983047,
          0.12140196149457237,
          0.11927347046113468,
          0.11719436677322102,
          0.11516447810899252,
          0.11318363139046725,
          0.11125165307843025,
          0.10936836946279221,
          0.10753360694817063,
          0.10574719233462994,
          0.10400895309336382,
          0.10231871763726792,
          0.10067631558618757,
          0.09908157802679846,
          0.09753433776691717,
          0.09603442958419742,
          0.0945816904690236,
          0.09317595986155941,
          0.09181707988278877,
          0.09050489555946581,
          0.0892392550428816,
          0.088020009821341,
          0.08684701492623659,
          0.08572012913167414,
          0.08463921514750923,
          0.0836041398057581,
          0.0826147742402706,
          0.08167099405959635,
          0.08077267951298817,
          0.07991971564943864,
          0.07911199246971534,
          0.07834940507131488,
          0.07763185378626827,
          0.07695924431176465,
          0.07633148783351161,
          0.07574850114179738,
          0.07521020674020822,
          0.07471653294694432,
          0.07426741398870333,
          0.07386279008709302,
          0.07350260753752506,
          0.0731868187805763,
          0.07291538246577435,
          0.0726882635077825,
          0.07250543313497167,
          0.07236686893034208,
          0.07227255486479514,
          0.07222248132272513,
          0.07221664511993296,
          0.07225504951384287,
          0.07233770420602502,
          0.07246462533701593,
          0.07263583547343973,
          0.07285136358743667,
          0.07311124502839618,
          0.07341552148701655,
          0.07376424095169491,
          0.07415745765726325,
          0.07459523202609424,
          0.07507763060159899,
          0.07560472597412708,
          0.0761765966993177,
          0.07679332720892168,
          0.07745500771412188,
          0.07816173410139918,
          0.07891360782098679,
          0.07971073576793973,
          0.08055323015588607,
          0.08144120838348982,
          0.08237479289370023,
          0.08335411102581944,
          0.0843792948604628,
          0.08545048105748404,
          0.08656781068690064,
          0.08773142905291041,
          0.08894148551108488,
          0.09019813327877514,
          0.09150152923884641,
          0.09285183373682145,
          0.09424921037147742,
          0.09569382577905955,
          0.09718584941112995,
          0.09872545330619484,
          0.10031281185521224,
          0.10194810156103762,
          0.10363150079199278,
          0.10536318952958469,
          0.1071433491105547,
          0.10897216196336025,
          0.11084981133917043,
          0.11277648103758328,
          0.11475235512712002,
          0.11677761766065327,
          0.11885245238595218,
          0.12097704245140378,
          0.12315157010712784,
          0.12537621640161326,
          0.12765116087399028,
          0.1299765812421796,
          0.1323526530869769,
          0.134779549532342,
          0.13725744092197256,
          0.1397864944923905,
          0.142366874042694,
          0.14499873960117968,
          0.14768224708896424,
          0.1504175479808818,
          0.15320478896374035,
          0.15604411159224169,
          0.15893565194268044,
          0.16187954026465584,
          0.16487590063101612,
          0.16792485058624507,
          0.17102650079343887,
          0.17418095468019282,
          0.17738830808354697,
          0.1806486488942377,
          0.18396205670044538,
          0.18732860243136357,
          0.1907483480006789,
          0.1942213459503549,
          0.19774763909480156,
          0.20132726016580013,
          0.20496023145837725,
          0.20864656447781502,
          0.2123862595881836,
          0.2161793056624974,
          0.2200256797348399,
          0.22392534665472116,
          0.22787825874383216,
          0.23188435545555253,
          0.23594356303745542,
          0.2400557941969737,
          0.2442209477706674,
          0.2484389083971762,
          0.2527095461942257,
          0.2570327164399685,
          0.261408259258826,
          0.26583599931220553,
          0.27031574549431275,
          0.27484729063329955,
          0.2794304111980979,
          0.2840648670110849,
          0.28875040096698995,
          0.29348673875820214,
          0.2982735886067393,
          0.30311064100327856,
          0.3079975684533075,
          0.3129340252308227,
          0.31791964713980886,
          0.3229540512836112,
          0.3280368358427043,
          0.3331675798608886,
          0.33834584304026727,
          0.34357116554525263,
          0.3488430678158534,
          0.3541610503903844,
          0.35952459373801304,
          0.364933158101186,
          0.37038618334833634,
          0.37588308883693544,
          0.3814232732872837,
          0.3870061146670993,
          0.3926309700871918,
          0.39829717570842915,
          0.40400404666023415,
          0.40975087697064533,
          0.4155369395083498,
          0.42136148593672823,
          0.4272237466801244,
          0.4331229309024761,
          0.43905822649860377,
          0.4450288000980792,
          0.4510337970821148,
          0.45707234161327864,
          0.46314353667850744,
          0.4692464641453005,
          0.47538018483131655,
          0.4815437385874224,
          0.4877361443944142,
          0.4939564004733254,
          0.5002034844095927,
          0.5064763532909674,
          0.5127739438593947,
          0.5190951726768505,
          0.5254389363051337,
          0.5318041114997453,
          0.5381895554178144,
          0.5445941058400824,
          0.5510165814070265,
          0.5574557818690162,
          0.5639104883505419,
          0.5703794636285358,
          0.5768614524246065,
          0.5833551817113294,
          0.5898593610323685,
          0.5963726828364122,
          0.6028938228249917,
          0.6094214403137708,
          0.6159541786075377,
          0.6224906653886265,
          0.629029513118558,
          0.6355693194530396,
          0.6421086676698197,
          0.6486461271096081,
          0.6551802536295864,
          0.6617095900694906,
          0.6682326667300693,
          0.6747480018637125,
          0.6812541021769053,
          0.6877494633445456,
          0.6942325705355934,
          0.70070189895012,
          0.7071559143671561,
          0.7135930737034338,
          0.7200118255824414,
          0.726410610913697,
          0.7327878634818829,
          0.7391420105455189,
          0.7454714734448505,
          0.751774668218788,
          0.7580500062301841,
          0.7642958947996417,
          0.7705107378469668,
          0.7766929365403378,
          0.7828408899524735,
          0.7889529957237404,
          0.7950276507315339,
          0.8010632517657331,
          0.8070581962097809,
          0.813010882726904,
          0.8189197119511595,
          0.8247830871828632,
          0.8305994150878958,
          0.8363671064006498,
          0.8420845766298627,
          0.847750246767251,
          0.8533625439982422,
          0.8589199024144422,
          0.8644207637273875,
          0.8698635779831342,
          0.8752468042771266,
          0.8805689114690554,
          0.8858283788970102,
          0.8910236970906745,
          0.8961533684829442,
          0.9012159081195417,
          0.9062098443661564,
          0.911133719612628,
          0.9159860909736492,
          0.9207655309856639,
          0.9254706282992633,
          0.9300999883667409,
          0.9346522341243735,
          0.939126006668809,
          0.9435199659272231,
          0.9478327913206824,
          0.9520631824203417,
          0.9562098595959152,
          0.9602715646560326,
          0.9642470614800205,
          0.9681351366406385,
          0.9719346000172769,
          0.9756442853993207,
          0.9792630510791196,
          0.9827897804341557,
          0.986223382498053,
          0.9895627925199024,
          0.9928069725116662,
          0.9959549117830934,
          0.9990056274638177,
          1.0019581650123366,
          1.0048115987113104,
          1.0075650321491176,
          1.010217598686883,
          1.0127684619111108,
          1.0152168160712076,
          1.0175618865018254,
          1.0198029300295006,
          1.0219392353634489,
          1.0239701234702359,
          1.0258949479318489,
          1.027713095287129,
          1.0294239853561342,
          1.03102707154737,
          1.0325218411474781,
          1.0339078155932244,
          1.0351845507256612,
          1.0363516370262362,
          1.0374086998344907,
          1.0383553995475203,
          1.0391914318007982,
          1.039916527630183,
          1.0405304536152797,
          1.0410330120037554,
          1.041424040816579,
          1.041703413934309,
          1.0418710411639585
         ],
         "yaxis": "y"
        },
        {
         "legendgroup": "🙁",
         "marker": {
          "color": "rgb(227, 119, 194)"
         },
         "mode": "lines",
         "name": "🙁",
         "showlegend": true,
         "type": "scatter",
         "x": [
          12,
          12.002,
          12.004,
          12.006,
          12.008,
          12.01,
          12.012,
          12.014,
          12.016,
          12.018,
          12.02,
          12.022,
          12.024,
          12.026,
          12.028,
          12.03,
          12.032,
          12.034,
          12.036,
          12.038,
          12.04,
          12.042,
          12.044,
          12.046,
          12.048,
          12.05,
          12.052,
          12.054,
          12.056,
          12.058,
          12.06,
          12.062,
          12.064,
          12.066,
          12.068,
          12.07,
          12.072,
          12.074,
          12.076,
          12.078,
          12.08,
          12.082,
          12.084,
          12.086,
          12.088,
          12.09,
          12.092,
          12.094,
          12.096,
          12.098,
          12.1,
          12.102,
          12.104,
          12.106,
          12.108,
          12.11,
          12.112,
          12.114,
          12.116,
          12.118,
          12.12,
          12.122,
          12.124,
          12.126,
          12.128,
          12.13,
          12.132,
          12.134,
          12.136,
          12.138,
          12.14,
          12.142,
          12.144,
          12.146,
          12.148,
          12.15,
          12.152,
          12.154,
          12.156,
          12.158,
          12.16,
          12.162,
          12.164,
          12.166,
          12.168,
          12.17,
          12.172,
          12.174,
          12.176,
          12.178,
          12.18,
          12.182,
          12.184,
          12.186,
          12.188,
          12.19,
          12.192,
          12.194,
          12.196,
          12.198,
          12.2,
          12.202,
          12.204,
          12.206,
          12.208,
          12.21,
          12.212,
          12.214,
          12.216,
          12.218,
          12.22,
          12.222,
          12.224,
          12.226,
          12.228,
          12.23,
          12.232,
          12.234,
          12.236,
          12.238,
          12.24,
          12.242,
          12.244,
          12.246,
          12.248,
          12.25,
          12.252,
          12.254,
          12.256,
          12.258,
          12.26,
          12.262,
          12.264,
          12.266,
          12.268,
          12.27,
          12.272,
          12.274000000000001,
          12.276,
          12.278,
          12.28,
          12.282,
          12.284,
          12.286,
          12.288,
          12.29,
          12.292,
          12.294,
          12.296,
          12.298,
          12.3,
          12.302,
          12.304,
          12.306,
          12.308,
          12.31,
          12.312,
          12.314,
          12.316,
          12.318,
          12.32,
          12.322,
          12.324,
          12.326,
          12.328,
          12.33,
          12.332,
          12.334,
          12.336,
          12.338,
          12.34,
          12.342,
          12.344,
          12.346,
          12.348,
          12.35,
          12.352,
          12.354,
          12.356,
          12.358,
          12.36,
          12.362,
          12.364,
          12.366,
          12.368,
          12.37,
          12.372,
          12.374,
          12.376,
          12.378,
          12.38,
          12.382,
          12.384,
          12.386,
          12.388,
          12.39,
          12.392,
          12.394,
          12.396,
          12.398,
          12.4,
          12.402,
          12.404,
          12.406,
          12.408,
          12.41,
          12.412,
          12.414,
          12.416,
          12.418,
          12.42,
          12.422,
          12.424,
          12.426,
          12.428,
          12.43,
          12.432,
          12.434,
          12.436,
          12.438,
          12.44,
          12.442,
          12.444,
          12.446,
          12.448,
          12.45,
          12.452,
          12.454,
          12.456,
          12.458,
          12.46,
          12.462,
          12.464,
          12.466,
          12.468,
          12.47,
          12.472,
          12.474,
          12.475999999999999,
          12.478,
          12.48,
          12.482,
          12.484,
          12.486,
          12.488,
          12.49,
          12.492,
          12.494,
          12.496,
          12.498,
          12.5,
          12.502,
          12.504,
          12.506,
          12.508,
          12.51,
          12.512,
          12.514,
          12.516,
          12.518,
          12.52,
          12.522,
          12.524000000000001,
          12.526,
          12.528,
          12.53,
          12.532,
          12.534,
          12.536,
          12.538,
          12.54,
          12.542,
          12.544,
          12.546,
          12.548,
          12.55,
          12.552,
          12.554,
          12.556000000000001,
          12.558,
          12.56,
          12.562,
          12.564,
          12.566,
          12.568,
          12.57,
          12.572,
          12.574,
          12.576,
          12.578,
          12.58,
          12.582,
          12.584,
          12.586,
          12.588,
          12.59,
          12.592,
          12.594,
          12.596,
          12.598,
          12.6,
          12.602,
          12.604,
          12.606,
          12.608,
          12.61,
          12.612,
          12.614,
          12.616,
          12.618,
          12.62,
          12.622,
          12.624,
          12.626,
          12.628,
          12.63,
          12.632,
          12.634,
          12.636,
          12.638,
          12.64,
          12.642,
          12.644,
          12.646,
          12.648,
          12.65,
          12.652,
          12.654,
          12.656,
          12.658,
          12.66,
          12.662,
          12.664,
          12.666,
          12.668,
          12.67,
          12.672,
          12.674,
          12.676,
          12.678,
          12.68,
          12.682,
          12.684,
          12.686,
          12.688,
          12.69,
          12.692,
          12.693999999999999,
          12.696,
          12.698,
          12.7,
          12.702,
          12.704,
          12.706,
          12.708,
          12.71,
          12.712,
          12.714,
          12.716,
          12.718,
          12.72,
          12.722,
          12.724,
          12.725999999999999,
          12.728,
          12.73,
          12.732,
          12.734,
          12.736,
          12.738,
          12.74,
          12.742,
          12.744,
          12.746,
          12.748,
          12.75,
          12.752,
          12.754,
          12.756,
          12.758,
          12.76,
          12.762,
          12.764,
          12.766,
          12.768,
          12.77,
          12.772,
          12.774000000000001,
          12.776,
          12.778,
          12.78,
          12.782,
          12.784,
          12.786,
          12.788,
          12.79,
          12.792,
          12.794,
          12.796,
          12.798,
          12.8,
          12.802,
          12.804,
          12.806000000000001,
          12.808,
          12.81,
          12.812,
          12.814,
          12.816,
          12.818,
          12.82,
          12.822,
          12.824,
          12.826,
          12.828,
          12.83,
          12.832,
          12.834,
          12.836,
          12.838,
          12.84,
          12.842,
          12.844,
          12.846,
          12.848,
          12.85,
          12.852,
          12.854,
          12.856,
          12.858,
          12.86,
          12.862,
          12.864,
          12.866,
          12.868,
          12.87,
          12.872,
          12.874,
          12.876,
          12.878,
          12.88,
          12.882,
          12.884,
          12.886,
          12.888,
          12.89,
          12.892,
          12.894,
          12.896,
          12.898,
          12.9,
          12.902,
          12.904,
          12.906,
          12.908,
          12.91,
          12.912,
          12.914,
          12.916,
          12.918,
          12.92,
          12.922,
          12.924,
          12.926,
          12.928,
          12.93,
          12.932,
          12.934,
          12.936,
          12.938,
          12.94,
          12.942,
          12.943999999999999,
          12.946,
          12.948,
          12.95,
          12.952,
          12.954,
          12.956,
          12.958,
          12.96,
          12.962,
          12.964,
          12.966,
          12.968,
          12.97,
          12.972,
          12.974,
          12.975999999999999,
          12.978,
          12.98,
          12.982,
          12.984,
          12.986,
          12.988,
          12.99,
          12.992,
          12.994,
          12.996,
          12.998
         ],
         "xaxis": "x",
         "y": [
          0.9377790110727493,
          0.9377795345778399,
          0.9377341142481196,
          0.9376427717307683,
          0.9375055357896124,
          0.9373224423034675,
          0.9370935342627864,
          0.9368188617646078,
          0.9364984820058047,
          0.9361324592746482,
          0.9357208649406752,
          0.9352637774428731,
          0.9347612822761868,
          0.9342134719763436,
          0.9336204461030142,
          0.9329823112213067,
          0.9322991808816029,
          0.9315711755977487,
          0.9307984228236021,
          0.9299810569279408,
          0.9291192191677597,
          0.9282130576599373,
          0.9272627273513153,
          0.9262683899871677,
          0.9252302140780957,
          0.9241483748653547,
          0.9230230542846145,
          0.9218544409281771,
          0.9206427300056643,
          0.9193881233031791,
          0.9180908291409708,
          0.9167510623296018,
          0.9153690441246437,
          0.9139450021799116,
          0.9124791704992581,
          0.9109717893869302,
          0.9094231053965367,
          0.9078333712785949,
          0.9062028459267286,
          0.9045317943224959,
          0.9028204874788736,
          0.9010692023824429,
          0.8992782219342552,
          0.8974478348894277,
          0.8955783357954821,
          0.8936700249294341,
          0.8917232082336801,
          0.8897381972506779,
          0.8877153090564465,
          0.8856548661929322,
          0.8835571965992302,
          0.8814226335416906,
          0.8792515155429665,
          0.8770441863099727,
          0.8748009946608214,
          0.8725222944507406,
          0.8702084444969922,
          0.8678598085028458,
          0.8654767549805898,
          0.8630596571736281,
          0.8606088929777023,
          0.8581248448612192,
          0.8556078997847645,
          0.8530584491197811,
          0.8504768885664624,
          0.847863618070884,
          0.8452190417413944,
          0.8425435677642859,
          0.8398376083187997,
          0.8371015794914425,
          0.8343359011896957,
          0.8315409970551058,
          0.8287172943757809,
          0.8258652239983645,
          0.8229852202394671,
          0.8200777207965712,
          0.8171431666585176,
          0.8141820020154905,
          0.8111946741686283,
          0.8081816334392111,
          0.8051433330774855,
          0.8020802291711728,
          0.7989927805536419,
          0.7958814487117911,
          0.7927466976937187,
          0.7895889940160834,
          0.7864088065713359,
          0.7832066065347288,
          0.7799828672711695,
          0.7767380642419831,
          0.773472674911541,
          0.7701871786538178,
          0.7668820566589323,
          0.763557791839611,
          0.7602148687377253,
          0.7568537734307863,
          0.753474993438531,
          0.7500790176295944,
          0.7466663361282682,
          0.743237440221377,
          0.7397928222653505,
          0.736332975593416,
          0.7328583944230447,
          0.7293695737635919,
          0.725867009324177,
          0.7223511974218878,
          0.7188226348902125,
          0.7152818189878213,
          0.7117292473077117,
          0.7081654176866601,
          0.7045908281151156,
          0.7010059766474618,
          0.6974113613127038,
          0.6938074800256397,
          0.6901948304984631,
          0.6865739101528697,
          0.6829452160326765,
          0.6793092447169514,
          0.6756664922337247,
          0.6720174539742361,
          0.6683626246077682,
          0.6647024979971169,
          0.6610375671146469,
          0.6573683239589905,
          0.653695259472436,
          0.6500188634589494,
          0.646339624502906,
          0.6426580298885288,
          0.6389745655200271,
          0.6352897158425146,
          0.6316039637636213,
          0.6279177905759297,
          0.6242316758801502,
          0.6205460975090924,
          0.6168615314524769,
          0.6131784517825277,
          0.6094973305804156,
          0.6058186378635442,
          0.6021428415136922,
          0.5984704072060059,
          0.5948017983389099,
          0.5911374759648499,
          0.5874778987219892,
          0.5838235227667753,
          0.5801748017074243,
          0.5765321865383634,
          0.5728961255755695,
          0.5692670643928689,
          0.5656454457591862,
          0.56203170957673,
          0.5584262928201786,
          0.5548296294768031,
          0.5512421504875633,
          0.5476642836892225,
          0.5440964537573919,
          0.540539082150621,
          0.5369925870554411,
          0.5334573833324255,
          0.52993388246325,
          0.526422492498758,
          0.5229236180080183,
          0.5194376600284323,
          0.5159650160167965,
          0.5125060798014345,
          0.5090612415353084,
          0.5056308876501435,
          0.5022154008115983,
          0.49881515987543734,
          0.4954305398446835,
          0.49206191182785486,
          0.4887096429981495,
          0.48537409655369446,
          0.482055631678775,
          0.47875460350607174,
          0.47547136307993615,
          0.47220625732064,
          0.46895962898962446,
          0.46573181665579644,
          0.46252315466273725,
          0.4593339730969873,
          0.45616459775726587,
          0.45301535012467964,
          0.4498865473339363,
          0.44677850214550596,
          0.4436915229187483,
          0.4406259135860351,
          0.4375819736277794,
          0.43455999804848067,
          0.4315602773536489,
          0.42858309752770357,
          0.4256287400128131,
          0.4226974816886382,
          0.4197895948529911,
          0.4169053472034392,
          0.41404500181976617,
          0.411208817147373,
          0.4083970469815399,
          0.40560994045256576,
          0.4028477420118195,
          0.40011069141860195,
          0.3973990237278916,
          0.39471296927895305,
          0.3920527536847432,
          0.38941859782218924,
          0.38681071782326004,
          0.384229325066851,
          0.38167462617149206,
          0.37914682298882674,
          0.3766461125978834,
          0.37417268730012604,
          0.37172673461525313,
          0.3693084372777797,
          0.3669179732343411,
          0.3645555156417335,
          0.36222123286570174,
          0.35991528848042315,
          0.3576378412686957,
          0.35538904522284603,
          0.3531690495462995,
          0.3509779986558389,
          0.3488160321845296,
          0.34668328498528994,
          0.34457988713513227,
          0.3425059639400186,
          0.34046163594034484,
          0.338447018917063,
          0.33646222389837926,
          0.33450735716707797,
          0.3325825202684148,
          0.33068781001859376,
          0.3288233185138117,
          0.3269891331398628,
          0.3251853365822819,
          0.32341200683704774,
          0.3216692172217873,
          0.31995703638752815,
          0.3182755283309429,
          0.316624752407096,
          0.31500476334269795,
          0.313415611249825,
          0.31185734164012296,
          0.310329995439475,
          0.30883360900311857,
          0.3073682141312263,
          0.3059338380849115,
          0.3045305036026656,
          0.30315822891723065,
          0.30181702777287467,
          0.3005069094430704,
          0.2992278787485897,
          0.29797993607596956,
          0.29676307739637287,
          0.29557729428482094,
          0.29442257393978977,
          0.2932988992031802,
          0.29220624858062444,
          0.2911445962621555,
          0.29011391214320714,
          0.289114161845946,
          0.28814530674093985,
          0.28720730396914207,
          0.28630010646418125,
          0.28542366297497623,
          0.284577918088642,
          0.28376281225369293,
          0.28297828180354617,
          0.2822242589802979,
          0.2815006719587938,
          0.28080744487096543,
          0.28014449783043904,
          0.27951174695741954,
          0.2789091044038193,
          0.2783364783786615,
          0.27779377317372533,
          0.27728088918944127,
          0.2767977229610372,
          0.2763441671849202,
          0.2759201107452948,
          0.27552543874102114,
          0.2751600325126994,
          0.27482376966998273,
          0.27451652411911476,
          0.27423816609068946,
          0.2739885621676308,
          0.27376757531338697,
          0.27357506490033967,
          0.2734108867384259,
          0.27327489310396885,
          0.27316693276871645,
          0.27308685102908653,
          0.2730344897356153,
          0.2730096873226094,
          0.273012278837998,
          0.2730420959733858,
          0.27309896709430437,
          0.27318271727066046,
          0.27329316830738126,
          0.27343013877525585,
          0.2735934440419708,
          0.27378289630333913,
          0.27399830461472613,
          0.27423947492266515,
          0.2745062100966669,
          0.27479830996122384,
          0.2751155713280029,
          0.2754577880282338,
          0.27582475094528885,
          0.27621624804745337,
          0.27663206442088994,
          0.27707198230279717,
          0.2775357811147562,
          0.2780232374962751,
          0.27853412533852434,
          0.27906821581826635,
          0.2796252774319816,
          0.28020507603018463,
          0.28080737485193913,
          0.2814319345595711,
          0.2820785132735693,
          0.28274686660769477,
          0.28343674770427696,
          0.28414790726971506,
          0.2848800936101761,
          0.2856330526674908,
          0.28640652805525246,
          0.28720026109511565,
          0.28801399085329243,
          0.28884745417725827,
          0.2897003857326508,
          0.2905725180403797,
          0.29146358151393864,
          0.29237330449691423,
          0.29330141330070975,
          0.29424763224246747,
          0.2952116836831947,
          0.2961932880661063,
          0.2971921639551547,
          0.2982080280737827,
          0.29924059534387787,
          0.30028957892492497,
          0.3013546902533735,
          0.30243563908221466,
          0.3035321335207492,
          0.3046438800745761,
          0.305770583685781,
          0.3069119477733257,
          0.30806767427365256,
          0.30923746368147886,
          0.31042101509080927,
          0.31161802623613516,
          0.31282819353384916,
          0.31405121212385373,
          0.31528677591136806,
          0.3165345776089299,
          0.3177943087786111,
          0.31906565987440066,
          0.3203483202848056,
          0.32164197837563235,
          0.322946321532954,
          0.32426103620627833,
          0.3255858079518876,
          0.3269203214763677,
          0.3282642606803245,
          0.32961730870225797,
          0.33097914796264105,
          0.3323494602081427,
          0.3337279265560368,
          0.3351142275387759,
          0.3365080431487193,
          0.3379090528830276,
          0.33931693578871625,
          0.3407313705078472,
          0.34215203532288285,
          0.3435786082021751,
          0.34501076684559717,
          0.34644818873031347,
          0.34789055115666667,
          0.3493375312942054,
          0.35078880622782943,
          0.3522440530040374,
          0.353702948677307,
          0.3551651703565549,
          0.3566303952517159,
          0.35809830072040594,
          0.3595685643146749,
          0.3610408638278364,
          0.362514877341386,
          0.36399028327196686,
          0.36546676041841414,
          0.3669439880088553,
          0.3684216457478442,
          0.3698994138635553,
          0.37137697315499574,
          0.3728540050392556,
          0.374330191598774,
          0.3758052156286145,
          0.3772787606837541,
          0.37875051112635444,
          0.3802201521730291,
          0.3816873699420989,
          0.3831518515007982,
          0.3846132849124631,
          0.386071359283673,
          0.3875257648113211,
          0.3889761928296418,
          0.39042233585715724,
          0.39186388764353974,
          0.3933005432163966,
          0.3947319989279366,
          0.39615795250154356,
          0.39757810307822766,
          0.39899215126293847,
          0.40039979917076085,
          0.40180075047293706,
          0.4031947104427544,
          0.4045813860012518,
          0.4059604857627535,
          0.4073317200802128,
          0.4086948010903646,
          0.41004944275865307,
          0.41139536092396345,
          0.41273227334310236,
          0.41405989973505175,
          0.415377961824974,
          0.4166861833879447,
          0.41798429029242296,
          0.41927201054343777,
          0.4205490743254786,
          0.42181521404508976,
          0.4230701643731386,
          0.42431366228676654,
          0.42554544711100734,
          0.4267652605600475,
          0.42797284677813713,
          0.42916795238013455,
          0.43035032649166144,
          0.4315197207888785,
          0.43267588953785363,
          0.4338185896335222,
          0.43494758063822686,
          0.43606262481981595,
          0.4371634871893059,
          0.43824993553809155,
          0.4393217404746811,
          0.4403786754609701,
          0.4414205168480146,
          0.4424470439113192,
          0.44345803888561997,
          0.44445328699913955,
          0.44543257650732576,
          0.44639569872605306,
          0.44734244806426815,
          0.4482726220560933,
          0.44918602139234814,
          0.45008244995150815,
          0.45096171483007236,
          0.4518236263723325,
          0.4526679981995454,
          0.45349464723848965,
          0.4543033937493941,
          0.4550940613532447,
          0.45586647705844174,
          0.45662047128681577,
          0.45735587789898435,
          0.45807253421904015,
          0.4587702810585697,
          0.4594489627399879,
          0.4601084271191843,
          0.46074852560747515,
          0.461369113192844,
          0.46197004846047773,
          0.46255119361258057,
          0.4631124144874611,
          0.4636535805778933,
          0.46417456504872956,
          0.4646752447537763,
          0.4651555002519142,
          0.4656152158224649,
          0.4660542794797893,
          0.46647258298712735,
          0.4668700218696531,
          0.4672464954267603,
          0.46760190674356156,
          0.4679361627015993,
          0.46824917398876764,
          0.4685408551084358,
          0.4688111243877724,
          0.4690599039852688,
          0.4692871198974516,
          0.4694927019647921,
          0.4696765838767941,
          0.4698387031762774,
          0.4699790012628355,
          0.4700974233954766,
          0.47019391869444604,
          0.47026844014222446,
          0.47032094458369916,
          0.47035139272551274,
          0.4703597491345906,
          0.4703459822358328
         ],
         "yaxis": "y"
        },
        {
         "legendgroup": "🙂",
         "marker": {
          "color": "rgb(31, 119, 180)",
          "symbol": "line-ns-open"
         },
         "mode": "markers",
         "name": "🙂",
         "showlegend": false,
         "type": "scatter",
         "x": [
          11,
          11,
          11,
          19,
          13,
          13,
          13,
          13,
          13,
          13,
          13,
          13,
          13,
          13,
          13,
          13,
          13,
          13,
          13,
          13,
          13,
          13,
          13,
          13,
          13,
          13,
          13,
          13,
          13,
          13,
          13,
          13,
          13,
          13,
          13,
          13,
          13,
          13,
          13,
          13,
          13,
          13,
          13,
          13,
          13,
          13,
          13,
          13,
          13,
          13,
          13,
          13,
          13,
          13,
          13,
          13,
          13,
          13,
          13,
          13,
          13,
          13,
          13,
          13,
          13,
          13,
          13,
          13,
          13,
          13,
          13,
          13,
          13,
          13,
          13,
          13,
          13,
          13,
          13,
          13,
          13,
          13,
          13,
          13,
          13,
          13,
          13,
          13,
          13,
          13,
          13,
          13,
          13,
          13,
          13,
          13,
          13,
          13,
          13,
          13,
          13,
          13,
          13,
          13,
          13,
          13,
          13,
          13,
          13,
          13,
          13,
          13,
          13,
          13,
          13,
          13,
          13,
          13,
          13,
          13,
          13,
          13,
          13,
          13,
          13,
          13,
          13,
          13,
          13,
          13,
          13,
          13,
          13,
          13,
          13,
          13,
          13,
          13,
          13,
          13,
          13,
          13,
          13,
          13,
          13,
          13,
          13,
          13,
          13,
          13,
          13,
          13,
          13,
          13,
          13,
          13,
          13,
          13,
          13,
          13,
          13,
          13,
          13,
          13,
          13,
          13,
          13,
          13,
          13,
          13,
          13,
          13,
          13,
          13,
          13,
          13,
          13,
          13,
          13,
          13,
          13,
          13,
          13,
          13,
          13,
          13,
          13,
          13,
          13,
          13,
          13,
          13,
          13,
          13,
          13,
          13,
          13,
          13,
          13,
          13,
          13,
          13,
          13,
          13,
          13,
          13,
          13,
          13,
          13,
          13,
          13,
          13,
          13,
          13,
          13,
          13,
          13,
          13,
          13,
          13,
          13,
          13,
          13,
          13,
          13,
          13,
          13,
          13,
          13,
          13,
          13,
          13,
          13,
          13,
          13,
          13,
          13,
          13,
          13,
          13,
          13,
          13,
          13,
          13,
          13,
          13,
          13,
          13,
          13,
          13,
          13,
          13,
          13,
          13,
          13,
          13,
          13,
          13,
          13,
          13,
          13,
          13,
          13,
          13,
          13,
          13,
          13,
          13,
          13,
          13,
          13,
          13,
          13,
          13,
          13,
          13,
          13,
          13,
          13,
          13,
          13,
          13,
          13,
          13,
          13,
          13,
          13,
          13,
          13,
          13,
          13,
          13,
          13,
          13,
          13,
          13,
          13,
          13,
          13,
          13,
          13,
          13,
          13,
          13,
          13,
          13,
          13,
          13,
          13,
          13,
          13,
          13,
          13,
          13,
          12,
          12,
          12,
          12,
          12,
          12,
          12,
          12,
          12,
          12,
          12,
          12,
          12,
          12,
          12,
          12,
          12,
          12,
          12,
          12,
          12,
          12,
          12,
          12,
          12,
          12,
          12
         ],
         "xaxis": "x",
         "y": [
          "🙂",
          "🙂",
          "🙂",
          "🙂",
          "🙂",
          "🙂",
          "🙂",
          "🙂",
          "🙂",
          "🙂",
          "🙂",
          "🙂",
          "🙂",
          "🙂",
          "🙂",
          "🙂",
          "🙂",
          "🙂",
          "🙂",
          "🙂",
          "🙂",
          "🙂",
          "🙂",
          "🙂",
          "🙂",
          "🙂",
          "🙂",
          "🙂",
          "🙂",
          "🙂",
          "🙂",
          "🙂",
          "🙂",
          "🙂",
          "🙂",
          "🙂",
          "🙂",
          "🙂",
          "🙂",
          "🙂",
          "🙂",
          "🙂",
          "🙂",
          "🙂",
          "🙂",
          "🙂",
          "🙂",
          "🙂",
          "🙂",
          "🙂",
          "🙂",
          "🙂",
          "🙂",
          "🙂",
          "🙂",
          "🙂",
          "🙂",
          "🙂",
          "🙂",
          "🙂",
          "🙂",
          "🙂",
          "🙂",
          "🙂",
          "🙂",
          "🙂",
          "🙂",
          "🙂",
          "🙂",
          "🙂",
          "🙂",
          "🙂",
          "🙂",
          "🙂",
          "🙂",
          "🙂",
          "🙂",
          "🙂",
          "🙂",
          "🙂",
          "🙂",
          "🙂",
          "🙂",
          "🙂",
          "🙂",
          "🙂",
          "🙂",
          "🙂",
          "🙂",
          "🙂",
          "🙂",
          "🙂",
          "🙂",
          "🙂",
          "🙂",
          "🙂",
          "🙂",
          "🙂",
          "🙂",
          "🙂",
          "🙂",
          "🙂",
          "🙂",
          "🙂",
          "🙂",
          "🙂",
          "🙂",
          "🙂",
          "🙂",
          "🙂",
          "🙂",
          "🙂",
          "🙂",
          "🙂",
          "🙂",
          "🙂",
          "🙂",
          "🙂",
          "🙂",
          "🙂",
          "🙂",
          "🙂",
          "🙂",
          "🙂",
          "🙂",
          "🙂",
          "🙂",
          "🙂",
          "🙂",
          "🙂",
          "🙂",
          "🙂",
          "🙂",
          "🙂",
          "🙂",
          "🙂",
          "🙂",
          "🙂",
          "🙂",
          "🙂",
          "🙂",
          "🙂",
          "🙂",
          "🙂",
          "🙂",
          "🙂",
          "🙂",
          "🙂",
          "🙂",
          "🙂",
          "🙂",
          "🙂",
          "🙂",
          "🙂",
          "🙂",
          "🙂",
          "🙂",
          "🙂",
          "🙂",
          "🙂",
          "🙂",
          "🙂",
          "🙂",
          "🙂",
          "🙂",
          "🙂",
          "🙂",
          "🙂",
          "🙂",
          "🙂",
          "🙂",
          "🙂",
          "🙂",
          "🙂",
          "🙂",
          "🙂",
          "🙂",
          "🙂",
          "🙂",
          "🙂",
          "🙂",
          "🙂",
          "🙂",
          "🙂",
          "🙂",
          "🙂",
          "🙂",
          "🙂",
          "🙂",
          "🙂",
          "🙂",
          "🙂",
          "🙂",
          "🙂",
          "🙂",
          "🙂",
          "🙂",
          "🙂",
          "🙂",
          "🙂",
          "🙂",
          "🙂",
          "🙂",
          "🙂",
          "🙂",
          "🙂",
          "🙂",
          "🙂",
          "🙂",
          "🙂",
          "🙂",
          "🙂",
          "🙂",
          "🙂",
          "🙂",
          "🙂",
          "🙂",
          "🙂",
          "🙂",
          "🙂",
          "🙂",
          "🙂",
          "🙂",
          "🙂",
          "🙂",
          "🙂",
          "🙂",
          "🙂",
          "🙂",
          "🙂",
          "🙂",
          "🙂",
          "🙂",
          "🙂",
          "🙂",
          "🙂",
          "🙂",
          "🙂",
          "🙂",
          "🙂",
          "🙂",
          "🙂",
          "🙂",
          "🙂",
          "🙂",
          "🙂",
          "🙂",
          "🙂",
          "🙂",
          "🙂",
          "🙂",
          "🙂",
          "🙂",
          "🙂",
          "🙂",
          "🙂",
          "🙂",
          "🙂",
          "🙂",
          "🙂",
          "🙂",
          "🙂",
          "🙂",
          "🙂",
          "🙂",
          "🙂",
          "🙂",
          "🙂",
          "🙂",
          "🙂",
          "🙂",
          "🙂",
          "🙂",
          "🙂",
          "🙂",
          "🙂",
          "🙂",
          "🙂",
          "🙂",
          "🙂",
          "🙂",
          "🙂",
          "🙂",
          "🙂",
          "🙂",
          "🙂",
          "🙂",
          "🙂",
          "🙂",
          "🙂",
          "🙂",
          "🙂",
          "🙂",
          "🙂",
          "🙂",
          "🙂",
          "🙂",
          "🙂",
          "🙂",
          "🙂",
          "🙂",
          "🙂",
          "🙂",
          "🙂",
          "🙂",
          "🙂",
          "🙂",
          "🙂",
          "🙂",
          "🙂",
          "🙂",
          "🙂",
          "🙂",
          "🙂",
          "🙂",
          "🙂",
          "🙂",
          "🙂",
          "🙂",
          "🙂",
          "🙂",
          "🙂",
          "🙂",
          "🙂",
          "🙂",
          "🙂",
          "🙂",
          "🙂",
          "🙂",
          "🙂",
          "🙂",
          "🙂",
          "🙂",
          "🙂",
          "🙂",
          "🙂",
          "🙂",
          "🙂",
          "🙂",
          "🙂",
          "🙂"
         ],
         "yaxis": "y2"
        },
        {
         "legendgroup": "🙄",
         "marker": {
          "color": "rgb(255, 127, 14)",
          "symbol": "line-ns-open"
         },
         "mode": "markers",
         "name": "🙄",
         "showlegend": false,
         "type": "scatter",
         "x": [
          11,
          11,
          13,
          13,
          13,
          13,
          13,
          13,
          13,
          13,
          13,
          12,
          12,
          12,
          12,
          12,
          12,
          12,
          12,
          12,
          12,
          12,
          12,
          12,
          12,
          12,
          12,
          12,
          12
         ],
         "xaxis": "x",
         "y": [
          "🙄",
          "🙄",
          "🙄",
          "🙄",
          "🙄",
          "🙄",
          "🙄",
          "🙄",
          "🙄",
          "🙄",
          "🙄",
          "🙄",
          "🙄",
          "🙄",
          "🙄",
          "🙄",
          "🙄",
          "🙄",
          "🙄",
          "🙄",
          "🙄",
          "🙄",
          "🙄",
          "🙄",
          "🙄",
          "🙄",
          "🙄",
          "🙄",
          "🙄"
         ],
         "yaxis": "y2"
        },
        {
         "legendgroup": "👎",
         "marker": {
          "color": "rgb(44, 160, 44)",
          "symbol": "line-ns-open"
         },
         "mode": "markers",
         "name": "👎",
         "showlegend": false,
         "type": "scatter",
         "x": [
          11,
          11,
          13,
          13,
          13,
          13,
          12,
          12,
          12,
          12,
          12,
          12,
          12,
          12
         ],
         "xaxis": "x",
         "y": [
          "👎",
          "👎",
          "👎",
          "👎",
          "👎",
          "👎",
          "👎",
          "👎",
          "👎",
          "👎",
          "👎",
          "👎",
          "👎",
          "👎"
         ],
         "yaxis": "y2"
        },
        {
         "legendgroup": "👏",
         "marker": {
          "color": "rgb(214, 39, 40)",
          "symbol": "line-ns-open"
         },
         "mode": "markers",
         "name": "👏",
         "showlegend": false,
         "type": "scatter",
         "x": [
          11,
          11,
          18,
          14,
          13,
          13,
          13,
          13,
          13,
          13,
          13,
          13,
          13,
          13,
          13,
          13,
          13,
          13,
          13,
          13,
          13,
          13,
          13,
          13,
          13,
          13,
          13,
          13,
          13,
          13,
          13,
          13,
          13,
          13,
          13,
          13,
          13,
          13,
          13,
          13,
          13,
          13,
          13,
          13,
          13,
          13,
          13,
          13,
          13,
          13,
          13,
          13,
          13,
          13,
          13,
          13,
          13,
          13,
          13,
          13,
          13,
          13,
          13,
          13,
          12,
          12,
          12,
          12,
          12,
          12,
          12,
          12,
          12,
          12,
          12,
          12
         ],
         "xaxis": "x",
         "y": [
          "👏",
          "👏",
          "👏",
          "👏",
          "👏",
          "👏",
          "👏",
          "👏",
          "👏",
          "👏",
          "👏",
          "👏",
          "👏",
          "👏",
          "👏",
          "👏",
          "👏",
          "👏",
          "👏",
          "👏",
          "👏",
          "👏",
          "👏",
          "👏",
          "👏",
          "👏",
          "👏",
          "👏",
          "👏",
          "👏",
          "👏",
          "👏",
          "👏",
          "👏",
          "👏",
          "👏",
          "👏",
          "👏",
          "👏",
          "👏",
          "👏",
          "👏",
          "👏",
          "👏",
          "👏",
          "👏",
          "👏",
          "👏",
          "👏",
          "👏",
          "👏",
          "👏",
          "👏",
          "👏",
          "👏",
          "👏",
          "👏",
          "👏",
          "👏",
          "👏",
          "👏",
          "👏",
          "👏",
          "👏",
          "👏",
          "👏",
          "👏",
          "👏",
          "👏",
          "👏",
          "👏",
          "👏",
          "👏",
          "👏",
          "👏",
          "👏"
         ],
         "yaxis": "y2"
        },
        {
         "legendgroup": "😍",
         "marker": {
          "color": "rgb(148, 103, 189)",
          "symbol": "line-ns-open"
         },
         "mode": "markers",
         "name": "😍",
         "showlegend": false,
         "type": "scatter",
         "x": [
          14,
          12,
          12
         ],
         "xaxis": "x",
         "y": [
          "😍",
          "😍",
          "😍"
         ],
         "yaxis": "y2"
        },
        {
         "legendgroup": "👍",
         "marker": {
          "color": "rgb(140, 86, 75)",
          "symbol": "line-ns-open"
         },
         "mode": "markers",
         "name": "👍",
         "showlegend": false,
         "type": "scatter",
         "x": [
          13,
          13,
          13,
          13,
          13,
          13,
          13,
          13,
          13,
          13,
          13,
          13,
          13,
          13,
          13,
          13,
          13,
          13,
          13,
          13,
          13,
          13,
          13,
          13,
          13,
          13,
          13,
          13,
          13,
          13,
          13,
          13,
          13,
          13,
          13,
          13,
          13,
          13,
          13,
          13,
          13,
          13,
          13,
          13,
          13,
          13,
          13,
          13,
          13,
          13,
          13,
          13,
          13,
          13,
          13,
          13,
          13,
          13,
          13,
          13,
          12,
          12,
          12,
          12,
          12,
          12,
          12,
          12,
          12,
          12,
          12,
          12,
          12,
          12,
          12,
          12,
          12,
          12,
          12,
          12,
          12,
          12,
          12,
          12,
          12,
          12,
          12,
          12,
          12,
          12,
          12,
          12,
          12,
          12,
          12,
          12,
          12,
          12,
          12,
          12,
          12,
          12,
          12,
          12,
          12,
          12,
          12,
          12,
          12,
          12,
          12,
          12,
          12,
          12,
          12,
          12,
          12,
          12,
          12
         ],
         "xaxis": "x",
         "y": [
          "👍",
          "👍",
          "👍",
          "👍",
          "👍",
          "👍",
          "👍",
          "👍",
          "👍",
          "👍",
          "👍",
          "👍",
          "👍",
          "👍",
          "👍",
          "👍",
          "👍",
          "👍",
          "👍",
          "👍",
          "👍",
          "👍",
          "👍",
          "👍",
          "👍",
          "👍",
          "👍",
          "👍",
          "👍",
          "👍",
          "👍",
          "👍",
          "👍",
          "👍",
          "👍",
          "👍",
          "👍",
          "👍",
          "👍",
          "👍",
          "👍",
          "👍",
          "👍",
          "👍",
          "👍",
          "👍",
          "👍",
          "👍",
          "👍",
          "👍",
          "👍",
          "👍",
          "👍",
          "👍",
          "👍",
          "👍",
          "👍",
          "👍",
          "👍",
          "👍",
          "👍",
          "👍",
          "👍",
          "👍",
          "👍",
          "👍",
          "👍",
          "👍",
          "👍",
          "👍",
          "👍",
          "👍",
          "👍",
          "👍",
          "👍",
          "👍",
          "👍",
          "👍",
          "👍",
          "👍",
          "👍",
          "👍",
          "👍",
          "👍",
          "👍",
          "👍",
          "👍",
          "👍",
          "👍",
          "👍",
          "👍",
          "👍",
          "👍",
          "👍",
          "👍",
          "👍",
          "👍",
          "👍",
          "👍",
          "👍",
          "👍",
          "👍",
          "👍",
          "👍",
          "👍",
          "👍",
          "👍",
          "👍",
          "👍",
          "👍",
          "👍",
          "👍",
          "👍",
          "👍",
          "👍",
          "👍",
          "👍",
          "👍",
          "👍"
         ],
         "yaxis": "y2"
        },
        {
         "legendgroup": "🙁",
         "marker": {
          "color": "rgb(227, 119, 194)",
          "symbol": "line-ns-open"
         },
         "mode": "markers",
         "name": "🙁",
         "showlegend": false,
         "type": "scatter",
         "x": [
          13,
          13,
          13,
          13,
          13,
          12,
          12,
          12,
          12,
          12,
          12,
          12,
          12,
          12,
          12
         ],
         "xaxis": "x",
         "y": [
          "🙁",
          "🙁",
          "🙁",
          "🙁",
          "🙁",
          "🙁",
          "🙁",
          "🙁",
          "🙁",
          "🙁",
          "🙁",
          "🙁",
          "🙁",
          "🙁",
          "🙁"
         ],
         "yaxis": "y2"
        }
       ],
       "layout": {
        "barmode": "overlay",
        "hovermode": "closest",
        "legend": {
         "traceorder": "reversed"
        },
        "template": {
         "data": {
          "bar": [
           {
            "error_x": {
             "color": "#2a3f5f"
            },
            "error_y": {
             "color": "#2a3f5f"
            },
            "marker": {
             "line": {
              "color": "#E5ECF6",
              "width": 0.5
             },
             "pattern": {
              "fillmode": "overlay",
              "size": 10,
              "solidity": 0.2
             }
            },
            "type": "bar"
           }
          ],
          "barpolar": [
           {
            "marker": {
             "line": {
              "color": "#E5ECF6",
              "width": 0.5
             },
             "pattern": {
              "fillmode": "overlay",
              "size": 10,
              "solidity": 0.2
             }
            },
            "type": "barpolar"
           }
          ],
          "carpet": [
           {
            "aaxis": {
             "endlinecolor": "#2a3f5f",
             "gridcolor": "white",
             "linecolor": "white",
             "minorgridcolor": "white",
             "startlinecolor": "#2a3f5f"
            },
            "baxis": {
             "endlinecolor": "#2a3f5f",
             "gridcolor": "white",
             "linecolor": "white",
             "minorgridcolor": "white",
             "startlinecolor": "#2a3f5f"
            },
            "type": "carpet"
           }
          ],
          "choropleth": [
           {
            "colorbar": {
             "outlinewidth": 0,
             "ticks": ""
            },
            "type": "choropleth"
           }
          ],
          "contour": [
           {
            "colorbar": {
             "outlinewidth": 0,
             "ticks": ""
            },
            "colorscale": [
             [
              0,
              "#0d0887"
             ],
             [
              0.1111111111111111,
              "#46039f"
             ],
             [
              0.2222222222222222,
              "#7201a8"
             ],
             [
              0.3333333333333333,
              "#9c179e"
             ],
             [
              0.4444444444444444,
              "#bd3786"
             ],
             [
              0.5555555555555556,
              "#d8576b"
             ],
             [
              0.6666666666666666,
              "#ed7953"
             ],
             [
              0.7777777777777778,
              "#fb9f3a"
             ],
             [
              0.8888888888888888,
              "#fdca26"
             ],
             [
              1,
              "#f0f921"
             ]
            ],
            "type": "contour"
           }
          ],
          "contourcarpet": [
           {
            "colorbar": {
             "outlinewidth": 0,
             "ticks": ""
            },
            "type": "contourcarpet"
           }
          ],
          "heatmap": [
           {
            "colorbar": {
             "outlinewidth": 0,
             "ticks": ""
            },
            "colorscale": [
             [
              0,
              "#0d0887"
             ],
             [
              0.1111111111111111,
              "#46039f"
             ],
             [
              0.2222222222222222,
              "#7201a8"
             ],
             [
              0.3333333333333333,
              "#9c179e"
             ],
             [
              0.4444444444444444,
              "#bd3786"
             ],
             [
              0.5555555555555556,
              "#d8576b"
             ],
             [
              0.6666666666666666,
              "#ed7953"
             ],
             [
              0.7777777777777778,
              "#fb9f3a"
             ],
             [
              0.8888888888888888,
              "#fdca26"
             ],
             [
              1,
              "#f0f921"
             ]
            ],
            "type": "heatmap"
           }
          ],
          "heatmapgl": [
           {
            "colorbar": {
             "outlinewidth": 0,
             "ticks": ""
            },
            "colorscale": [
             [
              0,
              "#0d0887"
             ],
             [
              0.1111111111111111,
              "#46039f"
             ],
             [
              0.2222222222222222,
              "#7201a8"
             ],
             [
              0.3333333333333333,
              "#9c179e"
             ],
             [
              0.4444444444444444,
              "#bd3786"
             ],
             [
              0.5555555555555556,
              "#d8576b"
             ],
             [
              0.6666666666666666,
              "#ed7953"
             ],
             [
              0.7777777777777778,
              "#fb9f3a"
             ],
             [
              0.8888888888888888,
              "#fdca26"
             ],
             [
              1,
              "#f0f921"
             ]
            ],
            "type": "heatmapgl"
           }
          ],
          "histogram": [
           {
            "marker": {
             "pattern": {
              "fillmode": "overlay",
              "size": 10,
              "solidity": 0.2
             }
            },
            "type": "histogram"
           }
          ],
          "histogram2d": [
           {
            "colorbar": {
             "outlinewidth": 0,
             "ticks": ""
            },
            "colorscale": [
             [
              0,
              "#0d0887"
             ],
             [
              0.1111111111111111,
              "#46039f"
             ],
             [
              0.2222222222222222,
              "#7201a8"
             ],
             [
              0.3333333333333333,
              "#9c179e"
             ],
             [
              0.4444444444444444,
              "#bd3786"
             ],
             [
              0.5555555555555556,
              "#d8576b"
             ],
             [
              0.6666666666666666,
              "#ed7953"
             ],
             [
              0.7777777777777778,
              "#fb9f3a"
             ],
             [
              0.8888888888888888,
              "#fdca26"
             ],
             [
              1,
              "#f0f921"
             ]
            ],
            "type": "histogram2d"
           }
          ],
          "histogram2dcontour": [
           {
            "colorbar": {
             "outlinewidth": 0,
             "ticks": ""
            },
            "colorscale": [
             [
              0,
              "#0d0887"
             ],
             [
              0.1111111111111111,
              "#46039f"
             ],
             [
              0.2222222222222222,
              "#7201a8"
             ],
             [
              0.3333333333333333,
              "#9c179e"
             ],
             [
              0.4444444444444444,
              "#bd3786"
             ],
             [
              0.5555555555555556,
              "#d8576b"
             ],
             [
              0.6666666666666666,
              "#ed7953"
             ],
             [
              0.7777777777777778,
              "#fb9f3a"
             ],
             [
              0.8888888888888888,
              "#fdca26"
             ],
             [
              1,
              "#f0f921"
             ]
            ],
            "type": "histogram2dcontour"
           }
          ],
          "mesh3d": [
           {
            "colorbar": {
             "outlinewidth": 0,
             "ticks": ""
            },
            "type": "mesh3d"
           }
          ],
          "parcoords": [
           {
            "line": {
             "colorbar": {
              "outlinewidth": 0,
              "ticks": ""
             }
            },
            "type": "parcoords"
           }
          ],
          "pie": [
           {
            "automargin": true,
            "type": "pie"
           }
          ],
          "scatter": [
           {
            "fillpattern": {
             "fillmode": "overlay",
             "size": 10,
             "solidity": 0.2
            },
            "type": "scatter"
           }
          ],
          "scatter3d": [
           {
            "line": {
             "colorbar": {
              "outlinewidth": 0,
              "ticks": ""
             }
            },
            "marker": {
             "colorbar": {
              "outlinewidth": 0,
              "ticks": ""
             }
            },
            "type": "scatter3d"
           }
          ],
          "scattercarpet": [
           {
            "marker": {
             "colorbar": {
              "outlinewidth": 0,
              "ticks": ""
             }
            },
            "type": "scattercarpet"
           }
          ],
          "scattergeo": [
           {
            "marker": {
             "colorbar": {
              "outlinewidth": 0,
              "ticks": ""
             }
            },
            "type": "scattergeo"
           }
          ],
          "scattergl": [
           {
            "marker": {
             "colorbar": {
              "outlinewidth": 0,
              "ticks": ""
             }
            },
            "type": "scattergl"
           }
          ],
          "scattermapbox": [
           {
            "marker": {
             "colorbar": {
              "outlinewidth": 0,
              "ticks": ""
             }
            },
            "type": "scattermapbox"
           }
          ],
          "scatterpolar": [
           {
            "marker": {
             "colorbar": {
              "outlinewidth": 0,
              "ticks": ""
             }
            },
            "type": "scatterpolar"
           }
          ],
          "scatterpolargl": [
           {
            "marker": {
             "colorbar": {
              "outlinewidth": 0,
              "ticks": ""
             }
            },
            "type": "scatterpolargl"
           }
          ],
          "scatterternary": [
           {
            "marker": {
             "colorbar": {
              "outlinewidth": 0,
              "ticks": ""
             }
            },
            "type": "scatterternary"
           }
          ],
          "surface": [
           {
            "colorbar": {
             "outlinewidth": 0,
             "ticks": ""
            },
            "colorscale": [
             [
              0,
              "#0d0887"
             ],
             [
              0.1111111111111111,
              "#46039f"
             ],
             [
              0.2222222222222222,
              "#7201a8"
             ],
             [
              0.3333333333333333,
              "#9c179e"
             ],
             [
              0.4444444444444444,
              "#bd3786"
             ],
             [
              0.5555555555555556,
              "#d8576b"
             ],
             [
              0.6666666666666666,
              "#ed7953"
             ],
             [
              0.7777777777777778,
              "#fb9f3a"
             ],
             [
              0.8888888888888888,
              "#fdca26"
             ],
             [
              1,
              "#f0f921"
             ]
            ],
            "type": "surface"
           }
          ],
          "table": [
           {
            "cells": {
             "fill": {
              "color": "#EBF0F8"
             },
             "line": {
              "color": "white"
             }
            },
            "header": {
             "fill": {
              "color": "#C8D4E3"
             },
             "line": {
              "color": "white"
             }
            },
            "type": "table"
           }
          ]
         },
         "layout": {
          "annotationdefaults": {
           "arrowcolor": "#2a3f5f",
           "arrowhead": 0,
           "arrowwidth": 1
          },
          "autotypenumbers": "strict",
          "coloraxis": {
           "colorbar": {
            "outlinewidth": 0,
            "ticks": ""
           }
          },
          "colorscale": {
           "diverging": [
            [
             0,
             "#8e0152"
            ],
            [
             0.1,
             "#c51b7d"
            ],
            [
             0.2,
             "#de77ae"
            ],
            [
             0.3,
             "#f1b6da"
            ],
            [
             0.4,
             "#fde0ef"
            ],
            [
             0.5,
             "#f7f7f7"
            ],
            [
             0.6,
             "#e6f5d0"
            ],
            [
             0.7,
             "#b8e186"
            ],
            [
             0.8,
             "#7fbc41"
            ],
            [
             0.9,
             "#4d9221"
            ],
            [
             1,
             "#276419"
            ]
           ],
           "sequential": [
            [
             0,
             "#0d0887"
            ],
            [
             0.1111111111111111,
             "#46039f"
            ],
            [
             0.2222222222222222,
             "#7201a8"
            ],
            [
             0.3333333333333333,
             "#9c179e"
            ],
            [
             0.4444444444444444,
             "#bd3786"
            ],
            [
             0.5555555555555556,
             "#d8576b"
            ],
            [
             0.6666666666666666,
             "#ed7953"
            ],
            [
             0.7777777777777778,
             "#fb9f3a"
            ],
            [
             0.8888888888888888,
             "#fdca26"
            ],
            [
             1,
             "#f0f921"
            ]
           ],
           "sequentialminus": [
            [
             0,
             "#0d0887"
            ],
            [
             0.1111111111111111,
             "#46039f"
            ],
            [
             0.2222222222222222,
             "#7201a8"
            ],
            [
             0.3333333333333333,
             "#9c179e"
            ],
            [
             0.4444444444444444,
             "#bd3786"
            ],
            [
             0.5555555555555556,
             "#d8576b"
            ],
            [
             0.6666666666666666,
             "#ed7953"
            ],
            [
             0.7777777777777778,
             "#fb9f3a"
            ],
            [
             0.8888888888888888,
             "#fdca26"
            ],
            [
             1,
             "#f0f921"
            ]
           ]
          },
          "colorway": [
           "#636efa",
           "#EF553B",
           "#00cc96",
           "#ab63fa",
           "#FFA15A",
           "#19d3f3",
           "#FF6692",
           "#B6E880",
           "#FF97FF",
           "#FECB52"
          ],
          "font": {
           "color": "#2a3f5f"
          },
          "geo": {
           "bgcolor": "white",
           "lakecolor": "white",
           "landcolor": "#E5ECF6",
           "showlakes": true,
           "showland": true,
           "subunitcolor": "white"
          },
          "hoverlabel": {
           "align": "left"
          },
          "hovermode": "closest",
          "mapbox": {
           "style": "light"
          },
          "paper_bgcolor": "white",
          "plot_bgcolor": "#E5ECF6",
          "polar": {
           "angularaxis": {
            "gridcolor": "white",
            "linecolor": "white",
            "ticks": ""
           },
           "bgcolor": "#E5ECF6",
           "radialaxis": {
            "gridcolor": "white",
            "linecolor": "white",
            "ticks": ""
           }
          },
          "scene": {
           "xaxis": {
            "backgroundcolor": "#E5ECF6",
            "gridcolor": "white",
            "gridwidth": 2,
            "linecolor": "white",
            "showbackground": true,
            "ticks": "",
            "zerolinecolor": "white"
           },
           "yaxis": {
            "backgroundcolor": "#E5ECF6",
            "gridcolor": "white",
            "gridwidth": 2,
            "linecolor": "white",
            "showbackground": true,
            "ticks": "",
            "zerolinecolor": "white"
           },
           "zaxis": {
            "backgroundcolor": "#E5ECF6",
            "gridcolor": "white",
            "gridwidth": 2,
            "linecolor": "white",
            "showbackground": true,
            "ticks": "",
            "zerolinecolor": "white"
           }
          },
          "shapedefaults": {
           "line": {
            "color": "#2a3f5f"
           }
          },
          "ternary": {
           "aaxis": {
            "gridcolor": "white",
            "linecolor": "white",
            "ticks": ""
           },
           "baxis": {
            "gridcolor": "white",
            "linecolor": "white",
            "ticks": ""
           },
           "bgcolor": "#E5ECF6",
           "caxis": {
            "gridcolor": "white",
            "linecolor": "white",
            "ticks": ""
           }
          },
          "title": {
           "x": 0.05
          },
          "xaxis": {
           "automargin": true,
           "gridcolor": "white",
           "linecolor": "white",
           "ticks": "",
           "title": {
            "standoff": 15
           },
           "zerolinecolor": "white",
           "zerolinewidth": 2
          },
          "yaxis": {
           "automargin": true,
           "gridcolor": "white",
           "linecolor": "white",
           "ticks": "",
           "title": {
            "standoff": 15
           },
           "zerolinecolor": "white",
           "zerolinewidth": 2
          }
         }
        },
        "title": {
         "text": "Hourly Distribution for All Reactions"
        },
        "xaxis": {
         "anchor": "y2",
         "domain": [
          0,
          1
         ],
         "zeroline": false
        },
        "yaxis": {
         "anchor": "free",
         "domain": [
          0.35,
          1
         ],
         "position": 0
        },
        "yaxis2": {
         "anchor": "x",
         "domain": [
          0,
          0.25
         ],
         "dtick": 1,
         "showticklabels": false
        }
       }
      },
      "text/html": [
       "<div>                            <div id=\"0cf79c21-47f7-413d-ac6d-e25f88ce6c8a\" class=\"plotly-graph-div\" style=\"height:525px; width:100%;\"></div>            <script type=\"text/javascript\">                require([\"plotly\"], function(Plotly) {                    window.PLOTLYENV=window.PLOTLYENV || {};                                    if (document.getElementById(\"0cf79c21-47f7-413d-ac6d-e25f88ce6c8a\")) {                    Plotly.newPlot(                        \"0cf79c21-47f7-413d-ac6d-e25f88ce6c8a\",                        [{\"legendgroup\":\"\\ud83d\\ude42\",\"marker\":{\"color\":\"rgb(31, 119, 180)\"},\"mode\":\"lines\",\"name\":\"\\ud83d\\ude42\",\"showlegend\":true,\"x\":[11.0,11.016,11.032,11.048,11.064,11.08,11.096,11.112,11.128,11.144,11.16,11.176,11.192,11.208,11.224,11.24,11.256,11.272,11.288,11.304,11.32,11.336,11.352,11.368,11.384,11.4,11.416,11.432,11.448,11.464,11.48,11.496,11.512,11.528,11.544,11.56,11.576,11.592,11.608,11.624,11.64,11.656,11.672,11.688,11.704,11.72,11.736,11.752,11.768,11.784,11.8,11.816,11.832,11.848,11.864,11.88,11.896,11.912,11.928,11.943999999999999,11.96,11.975999999999999,11.992,12.008,12.024000000000001,12.04,12.056000000000001,12.072,12.088000000000001,12.104,12.120000000000001,12.136,12.152,12.168,12.184,12.2,12.216,12.232,12.248,12.264,12.28,12.296,12.312,12.328,12.344,12.36,12.376,12.392,12.408,12.424,12.44,12.456,12.472,12.488,12.504,12.52,12.536,12.552,12.568,12.584,12.6,12.616,12.632,12.648,12.664,12.68,12.696,12.712,12.728,12.744,12.76,12.776,12.792,12.808,12.824,12.84,12.856,12.872,12.888,12.904,12.92,12.936,12.952,12.968,12.984,13.0,13.016,13.032,13.048,13.064,13.08,13.096,13.112,13.128,13.144,13.16,13.176,13.192,13.208,13.224,13.24,13.256,13.272,13.288,13.304,13.32,13.336,13.352,13.368,13.384,13.4,13.416,13.432,13.448,13.464,13.48,13.496,13.512,13.528,13.544,13.56,13.576,13.592,13.608,13.624,13.64,13.656,13.672,13.688,13.704,13.72,13.736,13.751999999999999,13.768,13.783999999999999,13.8,13.815999999999999,13.832,13.847999999999999,13.864,13.879999999999999,13.896,13.911999999999999,13.928,13.943999999999999,13.96,13.975999999999999,13.992,14.008,14.024000000000001,14.04,14.056000000000001,14.072,14.088000000000001,14.104,14.120000000000001,14.136,14.152000000000001,14.168,14.184000000000001,14.2,14.216000000000001,14.232,14.248000000000001,14.264,14.28,14.296,14.312,14.328,14.344,14.36,14.376,14.392,14.408,14.424,14.44,14.456,14.472,14.488,14.504,14.52,14.536,14.552,14.568,14.584,14.6,14.616,14.632,14.648,14.664,14.68,14.696,14.712,14.728,14.744,14.76,14.776,14.792,14.808,14.824,14.84,14.856,14.872,14.888,14.904,14.92,14.936,14.952,14.968,14.984,15.0,15.016,15.032,15.048,15.064,15.08,15.096,15.112,15.128,15.144,15.16,15.176,15.192,15.208,15.224,15.24,15.256,15.272,15.288,15.304,15.32,15.336,15.352,15.368,15.384,15.4,15.416,15.432,15.448,15.464,15.48,15.496,15.512,15.527999999999999,15.544,15.559999999999999,15.576,15.591999999999999,15.608,15.623999999999999,15.64,15.655999999999999,15.672,15.687999999999999,15.704,15.719999999999999,15.736,15.751999999999999,15.768,15.783999999999999,15.8,15.815999999999999,15.832,15.847999999999999,15.864,15.879999999999999,15.896,15.911999999999999,15.928,15.943999999999999,15.96,15.975999999999999,15.992,16.008,16.024,16.04,16.056,16.072,16.088,16.104,16.12,16.136,16.152,16.168,16.184,16.2,16.216,16.232,16.248,16.264,16.28,16.296,16.312,16.328,16.344,16.36,16.376,16.392,16.408,16.424,16.44,16.456,16.472,16.488,16.503999999999998,16.52,16.536,16.552,16.567999999999998,16.584,16.6,16.616,16.631999999999998,16.648,16.664,16.68,16.695999999999998,16.712,16.728,16.744,16.759999999999998,16.776,16.792,16.808,16.823999999999998,16.84,16.856,16.872,16.887999999999998,16.904,16.92,16.936,16.951999999999998,16.968,16.984,17.0,17.016,17.032,17.048000000000002,17.064,17.08,17.096,17.112000000000002,17.128,17.144,17.16,17.176000000000002,17.192,17.208,17.224,17.240000000000002,17.256,17.272,17.288,17.304000000000002,17.32,17.336,17.352,17.368000000000002,17.384,17.4,17.416,17.432000000000002,17.448,17.464,17.48,17.496000000000002,17.512,17.528,17.544,17.56,17.576,17.592,17.608,17.624,17.64,17.656,17.672,17.688,17.704,17.72,17.736,17.752,17.768,17.784,17.8,17.816,17.832,17.848,17.864,17.88,17.896,17.912,17.928,17.944,17.96,17.976,17.992,18.008,18.024,18.04,18.056,18.072,18.088,18.104,18.12,18.136,18.152,18.168,18.184,18.2,18.216,18.232,18.248,18.264,18.28,18.296,18.312,18.328,18.344,18.36,18.376,18.392,18.408,18.424,18.44,18.456,18.472,18.488,18.503999999999998,18.52,18.536,18.552,18.567999999999998,18.584,18.6,18.616,18.631999999999998,18.648,18.664,18.68,18.695999999999998,18.712,18.728,18.744,18.759999999999998,18.776,18.792,18.808,18.823999999999998,18.84,18.856,18.872,18.887999999999998,18.904,18.92,18.936,18.951999999999998,18.968,18.984],\"xaxis\":\"x\",\"y\":[0.024339756271262714,0.02419038444413872,0.02374774661026314,0.023027942323580516,0.022056721064003165,0.020867953544851894,0.0195016728191804,0.018001843007957017,0.016414028510256355,0.014783134512976746,0.013151371724823628,0.0115565675161303,0.01003090631615186,0.008600139088135984,0.007283259805716077,0.00609261028096719,0.005034346543230196,0.004109182004398302,0.0033133152733232853,0.0026394528944345217,0.002077847762884156,0.0016172902368139874,0.0012460085680134109,0.0009524558786929321,0.0007259805569796145,0.0005573941379350546,0.0004394644824099412,0.00036737178163343844,0.0003391703055462746,0.0003562997165444636,0.0004241860270586771,0.0005529636456932953,0.0007583360982214035,0.0010625735850128342,0.0014956203725501383,0.0020962543634755297,0.002913206020295212,0.004006106125647337,0.005446094887405445,0.007315893209520907,0.00970911630936155,0.012728606799178577,0.016483585432915955,0.021085468542112386,0.02664228514235017,0.03325174371967923,0.04099314418203057,0.0499184945257712,0.06004335931618494,0.07133811860137838,0.08372042923311908,0.09704973362728199,0.11112463488700133,0.12568383973743227,0.14041115941841176,0.1549447629123679,0.16889051844341255,0.18183887107020374,0.19338432748807727,0.20314629824112906,0.21078982429058982,0.21604462260232374,0.21872094356629437,0.21872094363698188,0.21604462285521417,0.21078982486939193,0.20314629946586973,0.19338433001390773,0.18183887620102424,0.16889052873208477,0.15494478328880498,0.1404111992784941,0.1256839167565566,0.1111247818850228,0.09705001075334392,0.08372094528850631,0.07133906782457758,0.06004508393635455,0.049921589604268304,0.040998630777815084,0.03326135071000321,0.026658901079143052,0.021113855274271714,0.01653148802991561,0.012808453285262325,0.009840579947852427,0.0075296936413541465,0.005789545739754653,0.0045510775233406344,0.0037673594922614444,0.0034186189256462567,0.003517799317130312,0.004117080104621677,0.005315720054901664,0.0072694675609968635,0.010201600275729202,0.014415410385619498,0.020307639553861535,0.02838199516786815,0.03926146342291966,0.05369770477177713,0.07257541839804528,0.09690925457332998,0.12783070869720878,0.1665625252375893,0.21437854538081785,0.2725477025882569,0.3422620264615172,0.4245500318678364,0.5201786646529413,0.6295489036291438,0.7525919802710218,0.8886747303590179,1.0365235772321524,1.194176824029194,1.3589741191270166,1.527590066904935,1.696116022503423,1.8601903136386826,2.015172792482218,2.156355167165919,2.2791944940489217,2.3795540324141915,2.4539338127204955,2.4996730574942525,2.5151081472225174,2.499673057480943,2.453933812686251,2.379554032339791,2.2791944938938857,2.1563551668487726,2.0151727918422178,1.8601903123632988,1.6961160199931549,1.5275900620244782,1.3589741097546597,1.194176806250979,1.036523543921694,0.888674668710011,0.7525918675708296,0.6295487001235665,0.5201783016743021,0.4245493923702475,0.34226091357765565,0.2725457895931106,0.2143752972689229,0.16655707768807906,0.12782168416954587,0.09689448728122946,0.0725515496114994,0.05365959705697624,0.03920136700833378,0.02828838192095364,0.02016360086963435,0.014196496115352628,0.009872959013315528,0.006782137504052475,0.004601918653325341,0.0030843551175203316,0.0020419396508790733,0.0013352866914428478,0.00086250024856537,0.0005502968510911161,0.0003468070496036464,0.00021588968686770768,0.00013274829945367344,8.062674490584314e-05,4.837070055392475e-05,2.8664126936135514e-05,1.6778307510733238e-05,9.700869708268812e-06,5.540210727083959e-06,3.125323563990577e-06,1.7414731357963738e-06,9.584989968468826e-07,5.21098276050236e-07,2.7983414180167854e-07,1.4843450035563703e-07,7.777179088800132e-08,4.024968028530567e-08,2.0575758816325843e-08,1.0389684903697413e-08,5.182054580348503e-09,2.553022719530953e-09,1.2423972079999302e-09,5.971993745707488e-10,2.8355108411929733e-10,1.3298307478657178e-10,6.160479531537518e-11,2.8189395181050027e-11,1.274119279428776e-11,5.6883656743640195e-12,2.5085225950010993e-12,1.0927016973941322e-12,4.701520223867674e-13,1.998150011493247e-13,8.388242196364111e-14,3.4782990930112454e-14,1.4246755658177658e-14,5.763922312868356e-15,2.303421158643693e-15,9.09246578273064e-16,3.5452191723322153e-16,1.365392753364723e-16,5.1942779842584166e-17,1.9518474573953646e-17,7.244687363118822e-18,2.6561127984584046e-18,9.6189234975501e-19,3.4408006945826247e-19,1.2157538516750276e-19,4.2431157714882403e-20,1.462773888019335e-20,4.981069566497581e-21,1.6754100091374282e-21,5.566377993941735e-22,1.826742671273175e-22,5.921546489676592e-23,1.8960334860952478e-23,5.9966672867453994e-24,1.873384808849606e-24,5.780922209035463e-25,1.762058597334356e-25,5.30513767218596e-26,1.5777059408202032e-26,4.6345604744866486e-27,1.3447579995351052e-27,3.8541872447405607e-28,1.0911251684024254e-28,3.051191231571314e-29,8.427861153625131e-30,2.2994205428493233e-30,6.19687209423389e-31,1.6496041778966197e-31,4.3375056535608423e-32,1.1265577257608603e-32,2.890147029234274e-33,7.323851234621111e-34,1.8332098481571784e-34,4.532501323009037e-35,1.1069214104615783e-35,2.6702303416107735e-36,6.36258731765171e-37,1.497517391779292e-37,3.481473426709152e-38,7.994795968804163e-39,1.8134466157693847e-39,4.063078903609704e-40,8.992052369442178e-41,1.965692086220485e-41,4.244487327421004e-42,9.052907516535882e-43,1.9072341592186835e-43,3.96892634766739e-44,8.158215127514473e-45,1.656419586303176e-45,3.3219925295559232e-46,6.580820365597657e-47,1.2876994530966752e-47,2.488869219426044e-48,4.751631278754029e-49,8.960587369019566e-50,1.6691036824589137e-50,3.0710242248733305e-51,5.581311472820361e-52,1.0019415047028273e-52,1.776648712088705e-53,3.1118156016025796e-54,5.383679934640784e-55,9.200209183903045e-56,1.552992153848709e-56,2.5893688046068355e-57,4.264534693493287e-58,6.93749179736689e-59,1.1147729031630577e-59,1.7693893758040373e-60,2.7740450976443616e-61,4.295925184976077e-62,6.571325684550729e-63,9.928928082247457e-64,1.481851992310286e-64,2.184541915873984e-65,3.18103923901537e-66,4.57541783576079e-67,6.5004823838068056e-68,9.122492205621719e-69,1.2645456344508806e-69,1.7314446095786614e-70,2.3417244425122196e-71,3.12835525724674e-72,4.128092622089064e-73,5.380664217132329e-74,6.927482517638171e-75,8.809841130213861e-76,1.1066589620877211e-76,1.3731330631372859e-77,1.6829241162972028e-78,2.0373682491271776e-79,2.436282377997405e-80,2.8776555234541913e-81,3.3573999173913655e-82,3.8691933860640504e-83,4.404441929821322e-84,4.9523853532792325e-85,5.500359339367187e-86,6.034215079019703e-87,6.538883487403786e-88,6.999056551538568e-89,7.399945079839765e-90,7.728061704174354e-91,7.971972083509873e-92,8.12298024857722e-93,8.178141679911129e-94,8.391466812959592e-95,3.418444745857742e-95,2.579345546706434e-94,2.492997303607308e-93,2.3870797599754478e-92,2.2577601844775914e-91,2.1093172540617676e-90,1.9465209932327084e-89,1.7743094643119868e-88,1.5975436623481353e-87,1.420787719297205e-86,1.2481268987303334e-85,1.0830322314165687e-84,9.282759753078086e-84,7.858975412894853e-83,6.572155642345717e-82,5.428787471926503e-81,4.429461493991267e-80,3.5698676196378323e-79,2.8418842355528644e-78,2.2346717798832976e-77,1.7356981345588236e-76,1.3316427813190586e-75,1.009146857176362e-74,7.553949814555557e-74,5.5853051921892096e-73,4.0791794659705986e-72,2.9427394211682896e-71,2.0969298012280035e-70,1.4759412373421884e-69,1.0261416900049578e-68,7.0469094060433165e-68,4.780167717129943e-67,3.2028800265322437e-66,2.119782478887328e-65,1.3857823177339005e-64,8.948532573046393e-64,5.707707663885297e-63,3.5960416231066337e-62,2.2379005797952676e-61,1.375656352739771e-60,8.352802595507801e-60,5.009652109189398e-59,2.9678094141616096e-58,1.736670946658305e-57,1.0038114843881576e-56,5.73112487770553e-56,3.2320693700083904e-55,1.8004230557485105e-54,9.906529757658143e-54,5.38420542728686e-53,2.8905120545218208e-52,1.532784283469046e-51,8.028610385247043e-51,4.153869203537645e-50,2.1228452792245886e-49,1.0716104934051307e-48,5.343288988075793e-48,2.631682299198205e-47,1.2802988218279408e-46,6.1523682555441526e-46,2.920292747269651e-45,1.3691894604583914e-44,6.340942213613239e-44,2.900662054658783e-43,1.3106706140679056e-42,5.849827792804471e-42,2.578966441549245e-41,1.1230559440997316e-40,4.830701263805032e-40,2.0524475218231177e-39,8.613646263258938e-39,3.5707142272953966e-38,1.4620972009709217e-37,5.913580155345759e-37,2.3625326563294007e-36,9.323054933013817e-36,3.6340571798737373e-35,1.3991953721164092e-34,5.321303799665593e-34,1.99899099813996e-33,7.41748562209587e-33,2.7186648882661686e-32,9.842552359905827e-32,3.519758607749756e-31,1.2432862079810134e-30,4.337929030758423e-30,1.4950195078986782e-29,5.089374002645802e-29,1.7113347329634774e-28,5.6840599914011325e-28,1.864813615817887e-27,6.0431768027406686e-27,1.9344088021762192e-26,6.116237051920176e-26,1.9101762869921703e-25,5.892718294429623e-25,1.795605804497084e-24,5.404548416572368e-24,1.6067966343538345e-23,4.718625445223624e-23,1.3687470230605273e-22,3.921786618306544e-22,1.1099357079297349e-21,3.1028785475968138e-21,8.56810580147765e-21,2.336995923586724e-20,6.296282120629459e-20,1.6755735433091629e-19,4.404492752789458e-19,1.1436190878490983e-18,2.9330534783002155e-18,7.43039083433445e-18,1.8593297783446174e-17,4.595727631670227e-17,1.1220319654874934e-16,2.7058845794723015e-16,6.4456451983652755e-16,1.5166194270540856e-15,3.5248441851423503e-15,8.092008370971253e-15,1.8349566691496904e-14,4.1100621917057086e-14,9.093353284209658e-14,1.9872514617862848e-13,4.2897766060184493e-13,9.146809165138683e-13,1.9264495953895096e-12,4.007732929032044e-12,8.235557159777262e-12,1.671630509789848e-11,3.351511259257244e-11,6.637341553653472e-11,1.2983767833969548e-10,2.50876744800004e-10,4.788209688891529e-10,9.026907800054219e-10,1.680962180807204e-09,3.0919322478931697e-09,5.617655276762508e-09,1.0081688916098706e-08,1.7871647506722435e-08,3.129312809119178e-08,5.4123572615268664e-08,9.246492560043638e-08,1.5603451791588693e-07,2.6008627388983244e-07,4.2822032081830276e-07,6.964183447345862e-07,1.1187324180762855e-06,1.7751511325520986e-06,2.782258866339889e-06,4.3073764240094026e-06,6.586902099609913e-06,9.94953263716296e-06,1.4844898881694549e-05,2.1877862916297185e-05,3.184825488166296e-05,4.579514875920401e-05,6.504387377301398e-05,9.125284490629861e-05,0.00012645602260752303,0.0001730954743773435,0.00023403725681128077,0.0003125628621974928,0.0004123280134501352,0.0005372808957679977,0.0006915332169965016,0.0008791799664293905,0.0011040674631537625,0.0013695141689362856,0.0016779945215300537,0.0020308022584631176,0.002427715701841432,0.0028666924797098176,0.0033436243352313283,0.0038521832459709054,0.004383787450821575,0.00492770987749837,0.005471341999977843,0.006000613910849212,0.006500557393039195,0.006955984409189193,0.007352240302882396,0.007675980749480774,0.007915915524789045,0.008063461475733292],\"yaxis\":\"y\",\"type\":\"scatter\"},{\"legendgroup\":\"\\ud83d\\ude44\",\"marker\":{\"color\":\"rgb(255, 127, 14)\"},\"mode\":\"lines\",\"name\":\"\\ud83d\\ude44\",\"showlegend\":true,\"x\":[11.0,11.004,11.008,11.012,11.016,11.02,11.024,11.028,11.032,11.036,11.04,11.044,11.048,11.052,11.056,11.06,11.064,11.068,11.072,11.076,11.08,11.084,11.088,11.092,11.096,11.1,11.104,11.108,11.112,11.116,11.12,11.124,11.128,11.132,11.136,11.14,11.144,11.148,11.152,11.156,11.16,11.164,11.168,11.172,11.176,11.18,11.184,11.188,11.192,11.196,11.2,11.204,11.208,11.212,11.216,11.22,11.224,11.228,11.232,11.236,11.24,11.244,11.248,11.252,11.256,11.26,11.264,11.268,11.272,11.276,11.28,11.284,11.288,11.292,11.296,11.3,11.304,11.308,11.312,11.316,11.32,11.324,11.328,11.332,11.336,11.34,11.344,11.348,11.352,11.356,11.36,11.364,11.368,11.372,11.376,11.38,11.384,11.388,11.392,11.396,11.4,11.404,11.408,11.412,11.416,11.42,11.424,11.428,11.432,11.436,11.44,11.444,11.448,11.452,11.456,11.46,11.464,11.468,11.472,11.475999999999999,11.48,11.484,11.488,11.492,11.496,11.5,11.504,11.508,11.512,11.516,11.52,11.524000000000001,11.528,11.532,11.536,11.54,11.544,11.548,11.552,11.556000000000001,11.56,11.564,11.568,11.572,11.576,11.58,11.584,11.588,11.592,11.596,11.6,11.604,11.608,11.612,11.616,11.62,11.624,11.628,11.632,11.636,11.64,11.644,11.648,11.652,11.656,11.66,11.664,11.668,11.672,11.676,11.68,11.684,11.688,11.692,11.696,11.7,11.704,11.708,11.712,11.716,11.72,11.724,11.728,11.732,11.736,11.74,11.744,11.748,11.752,11.756,11.76,11.764,11.768,11.772,11.776,11.78,11.784,11.788,11.792,11.796,11.8,11.804,11.808,11.812,11.816,11.82,11.824,11.828,11.832,11.836,11.84,11.844,11.848,11.852,11.856,11.86,11.864,11.868,11.872,11.876,11.88,11.884,11.888,11.892,11.896,11.9,11.904,11.908,11.912,11.916,11.92,11.924,11.928,11.932,11.936,11.94,11.943999999999999,11.948,11.952,11.956,11.96,11.964,11.968,11.972,11.975999999999999,11.98,11.984,11.988,11.992,11.996,12.0,12.004,12.008,12.012,12.016,12.02,12.024000000000001,12.028,12.032,12.036,12.04,12.044,12.048,12.052,12.056000000000001,12.06,12.064,12.068,12.072,12.076,12.08,12.084,12.088000000000001,12.092,12.096,12.1,12.104,12.108,12.112,12.116,12.120000000000001,12.124,12.128,12.132,12.136,12.14,12.144,12.148,12.152,12.156,12.16,12.164,12.168,12.172,12.176,12.18,12.184,12.188,12.192,12.196,12.2,12.204,12.208,12.212,12.216,12.22,12.224,12.228,12.232,12.236,12.24,12.244,12.248,12.252,12.256,12.26,12.264,12.268,12.272,12.276,12.28,12.284,12.288,12.292,12.296,12.3,12.304,12.308,12.312,12.316,12.32,12.324,12.328,12.332,12.336,12.34,12.344,12.348,12.352,12.356,12.36,12.364,12.368,12.372,12.376,12.379999999999999,12.384,12.388,12.392,12.396,12.4,12.404,12.408,12.411999999999999,12.416,12.42,12.424,12.428,12.432,12.436,12.44,12.443999999999999,12.448,12.452,12.456,12.46,12.464,12.468,12.472,12.475999999999999,12.48,12.484,12.488,12.492,12.496,12.5,12.504,12.508,12.512,12.516,12.52,12.524000000000001,12.528,12.532,12.536,12.54,12.544,12.548,12.552,12.556000000000001,12.56,12.564,12.568,12.572,12.576,12.58,12.584,12.588000000000001,12.592,12.596,12.6,12.604,12.608,12.612,12.616,12.620000000000001,12.624,12.628,12.632,12.636,12.64,12.644,12.648,12.652,12.656,12.66,12.664,12.668,12.672,12.676,12.68,12.684,12.688,12.692,12.696,12.7,12.704,12.708,12.712,12.716,12.72,12.724,12.728,12.732,12.736,12.74,12.744,12.748,12.752,12.756,12.76,12.764,12.768,12.772,12.776,12.78,12.784,12.788,12.792,12.796,12.8,12.804,12.808,12.812,12.816,12.82,12.824,12.828,12.832,12.836,12.84,12.844,12.848,12.852,12.856,12.86,12.864,12.868,12.872,12.876,12.879999999999999,12.884,12.888,12.892,12.896,12.9,12.904,12.908,12.911999999999999,12.916,12.92,12.924,12.928,12.932,12.936,12.94,12.943999999999999,12.948,12.952,12.956,12.96,12.964,12.968,12.972,12.975999999999999,12.98,12.984,12.988,12.992,12.996],\"xaxis\":\"x\",\"y\":[0.09616023380702411,0.09627415878334732,0.09637604127416959,0.09646609504758921,0.09654454972101982,0.09661165087650339,0.09666766016756356,0.09671285541749963,0.09674753070902728,0.09677199646517538,0.09678657952135433,0.09679162318851249,0.0967874873073066,0.0967745482932059,0.09675319917246585,0.09672384960889666,0.09668692592136821,0.09664287109198284,0.0965921447648607,0.09653522323547796,0.09647259943049878,0.09640478287805239,0.09633229966839776,0.09625569240492393,0.09617552014543598,0.09609235833367502,0.09600679872102177,0.09591944927833447,0.09583093409786599,0.0957418932852151,0.09565298284125613,0.09556487453399493,0.09547825576029909,0.09539382939744433,0.09531231364442594,0.0952344418529709,0.0951609623481958,0.09509263823884949,0.09503024721707166,0.09497458134760897,0.09492644684641595,0.09488666384857468,0.09485606616545753,0.09483550103106436,0.09482582883745315,0.09482792285918706,0.09484266896672185,0.09487096532864481,0.09491372210268699,0.09497186111541953,0.09504631553055048,0.09513802950573054,0.09524795783777919,0.09537706559624441,0.09552632774520091,0.09569672875319925,0.09588926219127446,0.0961049303189238,0.09634474365796658,0.09660972055419634,0.09690088672674141,0.09721927480505078,0.09756592385342297,0.09794187888300386,0.09834819035117888,0.09878591364829038,0.09925610857162005,0.09975983878657642,0.10029817127503617,0.10087217577079907,0.10148292418211763,0.10213149000127483,0.1028189477011904,0.10354637211905453,0.10431483782698184,0.10512541848970694,0.10597918620934596,0.10687721085726633,0.10782055939311334,0.10881029517106725,0.1098474772334121,0.11093315959151695,0.11206839049434826,0.11325421168464495,0.11449165764291312,0.11578175481941506,0.11712552085433911,0.11852396378637348,0.11997808124990926,0.12148885966114516,0.12305727339335903,0.124684283941664,0.12637083907756672,0.1281178719936973,0.12992630043907186,0.13179702584531186,0.13373093244422748,0.13572888637725802,0.1377917347972231,0.13992030496291866,0.14211540332708567,0.14437781461834323,0.14670830091765794,0.1491076007299993,0.15157642805182095,0.15411547143507512,0.15672539304844707,0.15940682773657702,0.16216038207802005,0.16498663344277859,0.16788612905018577,0.17085938502804804,0.17390688547389246,0.17702908151926422,0.18022639039797936,0.18349919451932373,0.18684784054716774,0.19027263848603848,0.1937738607751537,0.19735174139150566,0.20100647496306862,0.20473821589322488,0.2085470774975645,0.21243313115415902,0.21639640546850444,0.2204368854542933,0.2245545117312121,0.22874917974096912,0.2330207389827693,0.23736899226945338,0.2417936950055657,0.24629455448855464,0.25087122923437144,0.25552332832873814,0.2602504108052964,0.26505198505191824,0.26992750824642303,0.27487638582292684,0.2798979709701038,0.28499156416253707,0.29015641272641535,0.2953917104407673,0.30069659717542385,0.30607015856688474,0.3115114257332408,0.31701937502927147,0.322592927842862,0.32823095043376727,0.3339322538158163,0.33969559368354707,0.34551967038429954,0.351403128936666,0.3573445590962511,0.3633424954695862,0.3693954176770705,0.37550175056566776,0.3816598644721392,0.38786807553749003,0.3941246460732612,0.4004277849802647,0.40677564822028506,0.4131663393412056,0.4195979100560262,0.4260683608760529,0.43257564179861124,0.43911765304947037,0.44569224588018685,0.45229722342040585,0.4589303415851924,0.46558931003731663,0.4722717932044222,0.47897541135085364,0.4856977417038812,0.4924363196340204,0.4991886398890445,0.5059521578811617,0.5127242910268456,0.5195024201386526,0.5262838908683658,0.5330660152006139,0.5398460729961597,0.5466213135838746,0.5533889574004448,0.5601461976766484,0.5668902021690936,0.5736181149361359,0.5803270581567406,0.5870141339907751,0.5936764264794131,0.6003110034840199,0.6069149186620044,0.6134852134779019,0.6200189192480137,0.6265130592167708,0.632964650663023,0.6393707070342655,0.6457282401068946,0.652034262170411,0.6582857882335592,0.6644798382501842,0.6706134393626972,0.6766836281608847,0.6826874529538122,0.6886219760525035,0.6944842760610623,0.7002714501738335,0.7059806164762479,0.7116089162468487,0.7171535162580978,0.7226116110734352,0.7279804253381594,0.7332572160615454,0.7384392748877396,0.7435239303528747,0.7485085501259112,0.7533905432306447,0.7581673622463799,0.7628365054847669,0.7673955191402896,0.7718419994119289,0.7761735945935552,0.7803880071305817,0.7844829956405196,0.7884563768950102,0.7923060277610274,0.7960298870989189,0.7996259576150768,0.8030923076669579,0.8064270730183489,0.8096284585427256,0.8126947398726873,0.8156242649934383,0.8184154557784081,0.8210668094651351,0.8235769000696207,0.8259443797374264,0.8281679800298698,0.8302465131437287,0.8321788730629825,0.8339640366411697,0.8356010646130215,0.8370891025341519,0.838427381647636,0.8396152196764237,0.8406520215406084,0.8415372799986801,0.8422705762119806,0.8428515802316744,0.8432800514076333,0.8435558387187654,0.8436788810243743,0.843649207236266,0.8434669364114056,0.8431322777650269,0.8426455306042029,0.8420070841819829,0.8412174174722864,0.8402770988658848,0.8391867857878328,0.8379472242368844,0.836559248247467,0.8350237792749007,0.8333418255046673,0.8315144810865821,0.8295429252948464,0.8274284216150445,0.8251723167592107,0.8227760396102076,0.8202411000967338,0.8175690880003359,0.8147616716959163,0.8118205968272568,0.8087476849192138,0.8055448319282542,0.8022140067330734,0.7987572495671622,0.7951766703951662,0.7914744472349979,0.7876528244276978,0.7837141108570819,0.779660678121287,0.7754949586583533,0.7712194438279987,0.7668366819518504,0.7623492763143571,0.7577598831266639,0.753071209455792,0.7482860111214055,0.7434070905625777,0.738437294676875,0.7333795126341874,0.7282366736676351,0.7230117448440079,0.717707728816097,0.7123276615593123,0.7068746100949865,0.7013516702027347,0.6957619641242275,0.6901086382607536,0.6843948608668429,0.6786238197423275,0.6727987199250602,0.6669227813865842,0.6609992367329225,0.6550313289127236,0.6490223089348718,0.6429754335976897,0.6368939632317557,0.6307811594584036,0.6246402829658394,0.6184745913047939,0.6122873367055857,0.6060817639184031,0.5998611080785505,0.5936285925983836,0.5873874270875139,0.5811408053029314,0.5748919031304994,0.5686438765993204,0.5623998599302992,0.5561629636202913,0.549936272563044,0.5437228442081488,0.5375257067590802,0.5313478574114394,0.5251922606323188,0.5190618464817865,0.5129595089772321,0.5068881045014598,0.5008504502551808,0.49484932275458465,0.48888745637452685,0.48296754193791097,0.47709222535165574,0.47126410628968696,0.46548573692320944,0.4597596206985978,0.4540882111630471,0.4484739108381684,0.442919070141545,0.43742598635638125,0.43199690264910645,0.4266340071349366,0.4213394319911903,0.4161152526182418,0.4109634868478363,0.4058860941984994,0.40088497517774335,0.39596197063065847,0.39111886113454064,0.386357366439087,0.3816791449516686,0.3770857932672039,0.372578845742068,0.3681597741114668,0.36382998714968967,0.35959083037260064,0.3554435857817334,0.3513894716493244,0.34742964234357276,0.34356518819346066,0.3397971353923892,0.33612644593990737,0.33255401762080405,0.32908068402078533,0.32570721457801566,0.32243431466974787,0.3192626257332596,0.3161927254203691,0.3132251277847359,0.31036028350119793,0.30759858011638563,0.30494034232985734,0.3023858323050128,0.2999352500090525,0.29758873358123494,0.29534635972874157,0.29320814414942326,0.2911740419807397,0.28924394827422156,0.28741769849476967,0.2856950690441663,0.2840757778081508,0.28255948472643794,0.2811457923850947,0.27983424663068013,0.2786243372055911,0.2775154984040636,0.27650710974830367,0.27559849668424,0.274788931296406,0.27407763304147525,0.27346376950000434,0.2729464571459388,0.27252476213346566,0.2721977011008148,0.27196424199061775,0.2718233048864591,0.2717737628652692,0.2718144428652152,0.2719441265687704,0.2721615513006505,0.2724654109403172,0.27285435684876463,0.2733269988093156,0.2738819059821553,0.2745176078723506,0.275232595311108,0.27602532145001984,0.2768942027680691,0.2778376200911571,0.2788539196239223,0.2799414139936308,0.28109838330590076,0.282323076212043,0.28361371098778604,0.28496847662315355,0.2863855339232606,0.2878630166197923,0.2893990324929071,0.2909916645033279,0.29263897193434835,0.29433899154347987,0.29608973872346744,0.2978892086723778,0.2997353775724483,0.3016262037773795,0.30355962900773875,0.3055335795541278,0.30754596748774615,0.30959469187795696,0.31167764001648096,0.31379268864777077,0.31593770520515374,0.31811054905227,0.3203090727293337,0.32253112320372973,0.32477454312442083,0.3270371720796248,0.3293168478572068,0.33161140770722747,0.3339186896059976,0.33623653352107913,0.33856278267653217,0.3408952848177986,0.3432318934754946,0.3455704692274332,0.34790888095815303,0.3502450071151963,0.35257673696139613,0.3549019718223757,0.3572186263284711,0.35952462965027066,0.3618179267269367,0.3640964794864553,0.3663582680569838,0.36860129196840236,0.37082357134320043,0.37302314807579934,0.37519808699941265,0.37734647703954394,0.3794664323531827,0.3815560934528001,0.3836136283142031,0.3856372334673299,0.3876251350690425,0.3895755899570055,0.3914868866837009,0.39335734652967524,0.3951853244950897,0.39696921026865484,0.3987074291730582,0.40039844308597417,0.4020407513357941,0.4036328915711757,0.4051734406035853,0.4066610152219718,0.40809427297876144,0.40947191294636703,0.41079267644342743,0.41205534773002156,0.4132587546711246,0.4144017693675884,0.41548330875397216,0.4165023351625612,0.41745785685296505,0.41834892850667943,0.4191746516860758,0.41993417525727683,0.4206266957764309,0.4212514578389388,0.4218077543912012,0.42229492700452237,0.42271236611081797,0.42305951119984164,0.42333585097765847,0.4235409234861637,0.4236743161834569,0.4237356659849605,0.4237246592651802],\"yaxis\":\"y\",\"type\":\"scatter\"},{\"legendgroup\":\"\\ud83d\\udc4e\",\"marker\":{\"color\":\"rgb(44, 160, 44)\"},\"mode\":\"lines\",\"name\":\"\\ud83d\\udc4e\",\"showlegend\":true,\"x\":[11.0,11.004,11.008,11.012,11.016,11.02,11.024,11.028,11.032,11.036,11.04,11.044,11.048,11.052,11.056,11.06,11.064,11.068,11.072,11.076,11.08,11.084,11.088,11.092,11.096,11.1,11.104,11.108,11.112,11.116,11.12,11.124,11.128,11.132,11.136,11.14,11.144,11.148,11.152,11.156,11.16,11.164,11.168,11.172,11.176,11.18,11.184,11.188,11.192,11.196,11.2,11.204,11.208,11.212,11.216,11.22,11.224,11.228,11.232,11.236,11.24,11.244,11.248,11.252,11.256,11.26,11.264,11.268,11.272,11.276,11.28,11.284,11.288,11.292,11.296,11.3,11.304,11.308,11.312,11.316,11.32,11.324,11.328,11.332,11.336,11.34,11.344,11.348,11.352,11.356,11.36,11.364,11.368,11.372,11.376,11.38,11.384,11.388,11.392,11.396,11.4,11.404,11.408,11.412,11.416,11.42,11.424,11.428,11.432,11.436,11.44,11.444,11.448,11.452,11.456,11.46,11.464,11.468,11.472,11.475999999999999,11.48,11.484,11.488,11.492,11.496,11.5,11.504,11.508,11.512,11.516,11.52,11.524000000000001,11.528,11.532,11.536,11.54,11.544,11.548,11.552,11.556000000000001,11.56,11.564,11.568,11.572,11.576,11.58,11.584,11.588,11.592,11.596,11.6,11.604,11.608,11.612,11.616,11.62,11.624,11.628,11.632,11.636,11.64,11.644,11.648,11.652,11.656,11.66,11.664,11.668,11.672,11.676,11.68,11.684,11.688,11.692,11.696,11.7,11.704,11.708,11.712,11.716,11.72,11.724,11.728,11.732,11.736,11.74,11.744,11.748,11.752,11.756,11.76,11.764,11.768,11.772,11.776,11.78,11.784,11.788,11.792,11.796,11.8,11.804,11.808,11.812,11.816,11.82,11.824,11.828,11.832,11.836,11.84,11.844,11.848,11.852,11.856,11.86,11.864,11.868,11.872,11.876,11.88,11.884,11.888,11.892,11.896,11.9,11.904,11.908,11.912,11.916,11.92,11.924,11.928,11.932,11.936,11.94,11.943999999999999,11.948,11.952,11.956,11.96,11.964,11.968,11.972,11.975999999999999,11.98,11.984,11.988,11.992,11.996,12.0,12.004,12.008,12.012,12.016,12.02,12.024000000000001,12.028,12.032,12.036,12.04,12.044,12.048,12.052,12.056000000000001,12.06,12.064,12.068,12.072,12.076,12.08,12.084,12.088000000000001,12.092,12.096,12.1,12.104,12.108,12.112,12.116,12.120000000000001,12.124,12.128,12.132,12.136,12.14,12.144,12.148,12.152,12.156,12.16,12.164,12.168,12.172,12.176,12.18,12.184,12.188,12.192,12.196,12.2,12.204,12.208,12.212,12.216,12.22,12.224,12.228,12.232,12.236,12.24,12.244,12.248,12.252,12.256,12.26,12.264,12.268,12.272,12.276,12.28,12.284,12.288,12.292,12.296,12.3,12.304,12.308,12.312,12.316,12.32,12.324,12.328,12.332,12.336,12.34,12.344,12.348,12.352,12.356,12.36,12.364,12.368,12.372,12.376,12.379999999999999,12.384,12.388,12.392,12.396,12.4,12.404,12.408,12.411999999999999,12.416,12.42,12.424,12.428,12.432,12.436,12.44,12.443999999999999,12.448,12.452,12.456,12.46,12.464,12.468,12.472,12.475999999999999,12.48,12.484,12.488,12.492,12.496,12.5,12.504,12.508,12.512,12.516,12.52,12.524000000000001,12.528,12.532,12.536,12.54,12.544,12.548,12.552,12.556000000000001,12.56,12.564,12.568,12.572,12.576,12.58,12.584,12.588000000000001,12.592,12.596,12.6,12.604,12.608,12.612,12.616,12.620000000000001,12.624,12.628,12.632,12.636,12.64,12.644,12.648,12.652,12.656,12.66,12.664,12.668,12.672,12.676,12.68,12.684,12.688,12.692,12.696,12.7,12.704,12.708,12.712,12.716,12.72,12.724,12.728,12.732,12.736,12.74,12.744,12.748,12.752,12.756,12.76,12.764,12.768,12.772,12.776,12.78,12.784,12.788,12.792,12.796,12.8,12.804,12.808,12.812,12.816,12.82,12.824,12.828,12.832,12.836,12.84,12.844,12.848,12.852,12.856,12.86,12.864,12.868,12.872,12.876,12.879999999999999,12.884,12.888,12.892,12.896,12.9,12.904,12.908,12.911999999999999,12.916,12.92,12.924,12.928,12.932,12.936,12.94,12.943999999999999,12.948,12.952,12.956,12.96,12.964,12.968,12.972,12.975999999999999,12.98,12.984,12.988,12.992,12.996],\"xaxis\":\"x\",\"y\":[0.16790156004844045,0.16848041008314382,0.16905708404301079,0.16963180612906217,0.1702048068041759,0.17077632273324175,0.17134659671866037,0.1719158776311857,0.17248442033608544,0.17305248561462505,0.17362034008085803,0.1741882560937282,0.1747565116644776,0.17532539035937225,0.17589518119774436,0.17646617854536306,0.17703868200315184,0.1776129962912616,0.17818943112852167,0.1787683011072948,0.17934992556375443,0.1799346284436217,0.18052273816338743,0.18111458746705972,0.18171051327847268,0.18231085654920154,0.18291596210212713,0.1835261784706994,0.18414185773395106,0.18476335534732174,0.18539102996934262,0.1860252432842518,0.18666635982059981,0.18731474676591992,0.18797077377752777,0.18863481278953073,0.18930723781612444,0.18998842475125757,0.19067875116474753,0.1913785960949403,0.19208833983799709,0.19280836373391474,0.1935390499493628,0.19428078125744677,0.19503394081450062,0.1957989119340122,0.19657607785778924,0.19736582152448529,0.19816852533559123,0.1989845709190218,0.19981433889040504,0.2006582086122109,0.20151655795083098,0.2023897630317575,0.2032781979929703,0.20418223473668545,0.20510224267958665,0.20603858850169218,0.2069916358939843,0.2079617453049563,0.20894927368621202,0.20995457423727848,0.2109779961497659,0.2120198843510398,0.21308057924754767,0.21416041646796796,0.21525972660632295,0.21637883496522903,0.2175180612994302,0.21867771955979143,0.2198581176379012,0.22105955711145292,0.22228233299057176,0.22352673346525256,0.22479303965407227,0.2260815253543509,0.22739245679392103,0.22872609238469105,0.23008268247815214,0.23146246912301524,0.23286568582514047,0.2342925573099354,0.23574329928738744,0.2372181182199081,0.2387172110931499,0.24024076518998458,0.241788957867791,0.24336195633924027,0.24495991745673498,0.24658298750068508,0.24823130197177182,0.24990498538738057,0.2516041510823551,0.253328901014258,0.25507932557327434,0.2568555033969421,0.25865750118985553,0.2604853735485128,0.2623391627914503,0.26421889879483035,0.266124598833623,0.26805626742855204,0.27001389619892757,0.2719974637215314,0.2740069353956857,0.27604226331465725,0.2781033861435209,0.2801902290036289,0.28230270336380453,0.28444070693841006,0.2866041235923862,0.28879282325340727,0.2910066618312545,0.293245481144537,0.2955091088548555,0.29779735840852656,0.3001100289859579,0.30244690545879666,0.3048077583549132,0.30719234383133476,0.3096004036552045,0.31203166519284414,0.31448584140701,0.3169626308623952,0.3194617177394524,0.3219827718566137,0.3245254487009354,0.3270893894672413,0.3296742211058051,0.3322795563786049,0.33490499392420325,0.33755011833126275,0.3402145002207284,0.3428976963367143,0.345599249646074,0.34831868944669037,0.3510555314844759,0.3538092780790745,0.3565794182582743,0.3593654279010904,0.3621667698895079,0.3649828942688738,0.3678132384168693,0.37065722722105365,0.3735142732649189,0.37638377702240317,0.3792651270608181,0.38215770025210655,0.38506086199237805,0.3879739664296261,0.3908963566995778,0.39382736516954603,0.39676631369022086,0.39971251385528217,0.4026652672687415,0.40562386581988474,0.4085875919657078,0.41155571902070814,0.4145275114539303,0.41750222519308694,0.4204791079356491,0.42345739946673316,0.42643633198365466,0.42941513042696494,0.4323930128178236,0.43536919060152063,0.43834286899700126,0.44131324735217436,0.4442795195048476,0.44724087414908215,0.4501964952067871,0.45314556220433133,0.4560872506539869,0.45902073243997327,0.4619451762089198,0.46485974776448763,0.46776361046595694,0.47065592563053643,0.4735358529391787,0.4764025508456489,0.4792551769886204,0.48209288860654176,0.48491484295505954,0.4877201977267037,0.49050811147262247,0.4932777440260865,0.4960282569275279,0.4987588138508297,0.5014685810306247,0.5041567276903204,0.5068224264706109,0.5094648538581772,0.5120831906143262,0.5146766222032892,0.5172443392199204,0.5197855378165036,0.5222994201284099,0.5247851946983184,0.5272420768987482,0.5296692893525968,0.5320660623514353,0.5344316342712716,0.5367652519855208,0.5390661712748948,0.5413336572339534,0.5435669846740306,0.5457654385222908,0.5479283142166168,0.5500549180960875,0.552144567786765,0.5541965925825458,0.5562103338207979,0.5581851452525407,0.5601203934069058,0.5620154579496314,0.5638697320353435,0.5656826226533735,0.567453550966873,0.5691819526449984,0.5708672781879149,0.572508993244407,0.574106578921859,0.5756595320883945,0.5771673656669547,0.5786296089211069,0.5800458077323731,0.5814155248688917,0.5827383402452011,0.5840138511729696,0.5852416726024803,0.5864214373547015,0.5875527963437621,0.5886354187896763,0.5896689924211522,0.5906532236683378,0.5915878378453554,0.5924725793224862,0.593307211687876,0.5940915178986333,0.5948253004212074,0.595508381360931,0.5961406025806266,0.5967218258081823,0.5972519327330063,0.5977308250912792,0.5981584247399364,0.5985346737193068,0.5988595343043578,0.5991329890444937,0.5993550407918639,0.5995257127181504,0.5996450483198076,0.5997131114117334,0.5997299861093669,0.5996957767992048,0.5996106080977467,0.599474624798882,0.5992879918097394,0.5990508940750288,0.5987635364899169,0.5984261438014762,0.5980389604987675,0.5976022506916135,0.5971162979781339,0.5965814053011197,0.5959978947933323,0.5953661076118166,0.5946864037613331,0.5939591619070135,0.593184779176355,0.5923636709506783,0.5914962706461739,0.59058302948468,0.5896244162543316,0.5886209170602292,0.5875730350652935,0.5864812902214607,0.5853462189913933,0.5841683740608873,0.582948324042149,0.5816866531681428,0.5803839609782,0.5790408619950842,0.5776579853937335,0.5762359746618808,0.5747754872527748,0.5732771942302267,0.5717417799062023,0.5701699414712034,0.5685623886176707,0.5669198431566467,0.5652430386279506,0.5635327199041147,0.5617896427883324,0.5600145736066837,0.5582082887948855,0.5563715744798503,0.5545052260563038,0.5526100477587482,0.5506868522290225,0.5487364600797614,0.5467596994540127,0.5447574055813026,0.5427304203304215,0.5406795917592276,0.5386057736617389,0.536509825112816,0.5343926100107007,0.5322549966177235,0.5300978570994509,0.5279220670625726,0.525728505091804,0.5235180522861099,0.5212915917945279,0.5190500083518865,0.5167941878146894,0.5145250166974804,0.5122433817099489,0.5099501692950801,0.5076462651686141,0.5053325538601147,0.5030099182559101,0.5006792391442048,0.4983413947626031,0.4959972603483578,0.4936477076915852,0.4912936046917286,0.48893581491752164,0.48657519717072917,0.4842126050539097,0.48184888654246816,0.47948488356122426,0.4771214315657781,0.4747593591288868,0.47239948753211114,0.4700426303629483,0.46768959311769887,0.4653411728102811,0.46299815758722646,0.46066132634904794,0.4583314483782245,0.4560092829739837,0.45369557909409663,0.4513910750038667,0.4490964979325216,0.446812563737176,0.44453997657455196,0.4422794285806372,0.4400315995584214,0.4377971566739118,0.4355767541605533,0.4333710330322105,0.4311806208048619,0.42900613122713604,0.42684816401982034,0.42470730462447864,0.42258412396127126,0.4204791781961179,0.41839300851729216,0.41632614092154413,0.41427908600985536,0.41225233879290324,0.4102463785063133,0.4082616684357814,0.4062986557521151,0.40435777135626955,0.40243942973442726,0.400544028823154,0.39867194988469057,0.39682355739239866,0.39499919892639057,0.3931992050793693,0.39142388937267514,0.3896735481825644,0.38794846067671085,0.3862488887609171,0.384575077036038,0.38292725276508155,0.3813056258504715,0.3797103888214387,0.37814171683148845,0.3765997676659281,0.37508468175937393,0.37359658222319947,0.37213557488285215,0.370701748324985,0.3692951739543028,0.3679159060600719,0.3665639818921871,0.365239421746705,0.36394222906077156,0.36267239051679506,0.36142987615581046,0.3602146394998758,0.3590266176834166,0.3578657315933721,0.35673188601802647,0.3556249698043936,0.3545448560240097,0.3534914021470002,0.3524644502242644,0.35146382707764406,0.3504893444978959,0.3495407994503372,0.3486179742879766,0.34772063697197436,0.34684854129927084,0.3460014271371819,0.3451790206648146,0.34438103462109854,0.34360716855926193,0.3428571091075586,0.3421305302360552,0.3414270935292941,0.3407464484646201,0.3400882326959936,0.33945207234306585,0.338837582285336,0.3382443664611668,0.33767201817146486,0.3371201203878085,0.3365882460648133,0.3360759584565309,0.3355828114366563,0.335108349822339,0.3346521097013725,0.3342136187625577,0.33379239662900784,0.33338795519418807,0.3329997989604686,0.33262742537996476,0.33227032519745614,0.33192798279515373,0.331599876539105,0.3312854791270095,0.3309842579372339,0.33069567537879785,0.33041918924212066,0.33015425305031,0.3299003164107717,0.3296568253669291,0.3294232227498344,0.3291989485294651,0.32898344016548176,0.32877613295724983,0.3285764603929085,0.32838385449727897,0.3281977461784159,0.32801756557258555,0.32784274238748184,0.327672706243473,0.32750688701268843,0.3273447151557462,0.32718562205593366,0.3270290403506514,0.3268744042599349,0.32672114991186973,0.3265687156647208,0.3264165424255995,0.3262640739654947,0.3261107572304962,0.3259560426490455,0.32579938443504897,0.3256402408866952,0.32547807468081613,0.32531235316264595,0.3251425486308237,0.32496813861749807,0.32478860616339233,0.3246034400876918,0.324412135252624,0.32421419282260056,0.3240091205178008,0.3237964328620684,0.32357565142502,0.32334630505824113,0.3231079301254674,0.3228600707266578,0.32260227891584736,0.3223341149126992,0.3220551473076614,0.3217649532606491,0.3214631186931675,0.32114923847381144,0.3208229165970632,0.3204837663553267,0.320131410504146,0.319765481420539,0.3193856212544134,0.31899148207300576,0.3185827259983129,0.31815902533747364,0.3177200627060789,0.3172655311443746,0.3167951342263452,0.31630858616165897,0.31580561189046097,0.3152859471710125,0.31474933866017263,0.31419554398672644],\"yaxis\":\"y\",\"type\":\"scatter\"},{\"legendgroup\":\"\\ud83d\\udc4f\",\"marker\":{\"color\":\"rgb(214, 39, 40)\"},\"mode\":\"lines\",\"name\":\"\\ud83d\\udc4f\",\"showlegend\":true,\"x\":[11.0,11.014,11.028,11.042,11.056,11.07,11.084,11.098,11.112,11.126,11.14,11.154,11.168,11.182,11.196,11.21,11.224,11.238,11.252,11.266,11.28,11.294,11.308,11.322,11.336,11.35,11.364,11.378,11.392,11.406,11.42,11.434,11.448,11.462,11.475999999999999,11.49,11.504,11.518,11.532,11.546,11.56,11.574,11.588,11.602,11.616,11.63,11.644,11.658,11.672,11.686,11.7,11.714,11.728,11.742,11.756,11.77,11.784,11.798,11.812,11.826,11.84,11.854,11.868,11.882,11.896,11.91,11.924,11.938,11.952,11.966,11.98,11.994,12.008,12.022,12.036,12.05,12.064,12.078,12.092,12.106,12.120000000000001,12.134,12.148,12.161999999999999,12.176,12.19,12.204,12.218,12.232,12.246,12.26,12.274000000000001,12.288,12.302,12.316,12.33,12.344,12.358,12.372,12.386,12.4,12.414,12.428,12.442,12.456,12.47,12.484,12.498,12.512,12.526,12.54,12.554,12.568,12.582,12.596,12.61,12.624,12.638,12.652,12.666,12.68,12.693999999999999,12.708,12.722,12.736,12.75,12.764,12.778,12.792,12.806000000000001,12.82,12.834,12.848,12.862,12.876,12.89,12.904,12.918,12.932,12.946,12.96,12.974,12.988,13.001999999999999,13.016,13.03,13.044,13.058,13.072,13.086,13.1,13.114,13.128,13.142,13.156,13.17,13.184000000000001,13.198,13.212,13.225999999999999,13.24,13.254,13.268,13.282,13.296,13.31,13.324,13.338000000000001,13.352,13.366,13.379999999999999,13.394,13.408,13.422,13.436,13.45,13.464,13.478,13.492,13.506,13.52,13.533999999999999,13.548,13.562,13.576,13.59,13.604,13.618,13.632,13.646,13.66,13.674,13.688,13.702,13.716000000000001,13.73,13.744,13.758,13.772,13.786,13.8,13.814,13.828,13.842,13.856,13.870000000000001,13.884,13.898,13.911999999999999,13.926,13.94,13.954,13.968,13.982,13.996,14.01,14.024000000000001,14.038,14.052,14.065999999999999,14.08,14.094,14.108,14.122,14.136,14.15,14.164,14.178,14.192,14.206,14.22,14.234,14.248000000000001,14.262,14.276,14.29,14.304,14.318,14.332,14.346,14.36,14.374,14.388,14.402000000000001,14.416,14.43,14.443999999999999,14.458,14.472,14.486,14.5,14.514,14.528,14.542,14.556000000000001,14.57,14.584,14.597999999999999,14.612,14.626,14.64,14.654,14.668,14.682,14.696,14.71,14.724,14.738,14.751999999999999,14.766,14.78,14.794,14.808,14.822,14.836,14.85,14.864,14.878,14.892,14.906,14.92,14.934000000000001,14.948,14.962,14.975999999999999,14.99,15.004,15.018,15.032,15.046,15.059999999999999,15.074,15.088000000000001,15.102,15.116,15.129999999999999,15.144,15.158000000000001,15.172,15.186,15.2,15.214,15.228,15.242,15.256,15.27,15.283999999999999,15.298,15.312000000000001,15.326,15.34,15.354,15.368,15.382,15.396,15.41,15.424,15.437999999999999,15.452,15.466000000000001,15.48,15.494,15.508,15.522,15.536,15.55,15.564,15.578,15.591999999999999,15.606,15.620000000000001,15.634,15.648,15.661999999999999,15.676,15.690000000000001,15.704,15.718,15.732,15.746,15.76,15.774000000000001,15.788,15.802,15.815999999999999,15.83,15.844000000000001,15.858,15.872,15.886,15.9,15.914,15.928,15.942,15.956,15.969999999999999,15.984,15.998000000000001,16.012,16.026,16.04,16.054000000000002,16.067999999999998,16.082,16.096,16.11,16.124,16.137999999999998,16.152,16.166,16.18,16.194,16.208,16.222,16.236,16.25,16.264,16.278,16.292,16.306,16.32,16.334,16.348,16.362000000000002,16.376,16.39,16.404,16.418,16.432000000000002,16.445999999999998,16.46,16.474,16.488,16.502,16.516,16.53,16.544,16.558,16.572,16.586,16.6,16.614,16.628,16.642,16.656,16.67,16.684,16.698,16.712,16.726,16.740000000000002,16.753999999999998,16.768,16.782,16.796,16.81,16.823999999999998,16.838,16.852,16.866,16.88,16.894,16.908,16.922,16.936,16.95,16.964,16.978,16.992,17.006,17.02,17.034,17.048000000000002,17.062,17.076,17.09,17.104,17.118000000000002,17.131999999999998,17.146,17.16,17.174,17.188,17.201999999999998,17.216,17.23,17.244,17.258,17.272,17.286,17.3,17.314,17.328,17.342,17.356,17.37,17.384,17.398,17.412,17.426000000000002,17.44,17.454,17.468,17.482,17.496000000000002,17.509999999999998,17.524,17.538,17.552,17.566,17.58,17.594,17.608,17.622,17.636,17.65,17.664,17.678,17.692,17.706,17.72,17.734,17.748,17.762,17.776,17.79,17.804000000000002,17.817999999999998,17.832,17.846,17.86,17.874,17.887999999999998,17.902,17.916,17.93,17.944,17.958,17.972,17.986],\"xaxis\":\"x\",\"y\":[0.0340280310629678,0.034235982955416785,0.034413461813484716,0.034564000463433185,0.03469168490097252,0.034801151469285134,0.03489757949749639,0.03498667928177775,0.03507467531833185,0.035168284724802164,0.03527469081420302,0.03540151181332792,0.03555676474585705,0.03574882452922034,0.03598637836388664,0.0362783755243752,0.03663397269318693,0.03706247501228655,0.03757327306197646,0.03817577601422549,0.03887934124688165,0.039693200746848296,0.04062638467419895,0.04168764250530355,0.0428853622210858,0.044227488056210726,0.04572143737583928,0.04737401729793478,0.04919134173026348,0.05117874954122717,0.05334072463156038,0.05568081871852819,0.058201577684372285,0.060904472375097066,0.06378983476292314,0.06685680040450895,0.07010325813611794,0.07352580794494618,0.07711972794180484,0.08087895133316436,0.08479605424951712,0.08886225523137475,0.09306742710376789,0.09740012188463024,0.10184760927226234,0.10639592914262083,0.11102995835928897,0.11573349205888915,0.12048933942370472,0.12527943379326353,0.13008495679952278,0.1348864760383019,0.13966409561524518,0.1443976187303397,0.14906672129353613,0.15365113539808964,0.15813084132038494,0.1624862665679533,0.16669849036347975,0.1707494518340731,0.1746221600739756,0.1783009041668283,0.18177146119193394,0.18502130019867702,0.18803978011488634,0.19081833955861532,0.19335067654839916,0.19563291615377304,0.19766376419480874,0.19944464518522498,0.20097982281665316,0.20227650140004005,0.2033449068118518,0.2041983456356284,0.20485324134125563,0.20532914650299117,0.20564873022068564,0.20583774007493844,0.20592493811442458,0.20594201054097708,0.20592345092412748,0.2059064169409915,0.20593056079930047,0.2060378336610266,0.2062722645418035,0.20667971431788146,0.20730760562863113,0.20820462961977373,0.20942043063186155,0.2110052701014033,0.2130096711097098,0.2154840451881907,0.21847830316934821,0.22204145206068118,0.22622118011421125,0.2310634324670221,0.2366119799370185,0.2429079837714307,0.2499895593610297,0.2578913421475982,0.2666440591619906,0.27627410983085,0.2868031598765663,0.29824775230170175,0.31061893959011083,0.3239219413656481,0.3381558318197419,0.35331326124426465,0.36938021598050114,0.3863358210121891,0.4041521892862008,0.4227943216333927,0.44222006088188637,0.46238010340304303,0.4832180709059719,0.5046706448006779,0.5266677648846348,0.5491328934773706,0.5719833454377276,0.5951306837563201,0.6184811796305869,0.6419363351118217,0.6653934655746816,0.6887463384131058,0.7118858635260651,0.7347008303367113,0.7570786853048594,0.7789063431596285,0.8000710244121981,0.8204611111217339,0.8399670123940064,0.858482030704629,0.8759032198668826,0.8921322253172468,0.9070760973761662,0.9206480682613711,0.9327682838884707,0.9433644818875875,0.9523726077916828,0.9597373620068359,0.9654126709477278,0.9693620766024438,0.9715590397663539,0.9719871532400384,0.9706402624042294,0.9675224917477266,0.9626481771129027,0.9560417046181654,0.9477372583979491,0.937778480448689,0.9262180469650623,0.9131171665763392,0.8985450068319096,0.882578056122617,0.865299428948085,0.8467981230388419,0.8271682373079144,0.8065081599339614,0.7849197360639534,0.7625074246679542,0.7393774539836115,0.71563698475879,0.6913932901441661,0.6667529606133898,0.6418211417071404,0.6167008117226884,0.5914921057157723,0.5662916913624128,0.5411922013602568,0.5162817261479273,0.49164336980328155,0.4673548710624105,0.44348829049606137,0.4201097640030018,0.39727932194312693,0.3750507724490582,0.35347164673275105,0.3325832035524555,0.3124204894309369,0.2930124507238993,0.2743820932302517,0.256546684715448,0.23951799548446293,0.2233025719909574,0.20790203839999083,0.19331342102936305,0.1795294906731208,0.1665391179542288,0.1543276370541418,0.14287721341779905,0.13216721132540696,0.12217455754900279,0.11287409766460246,0.10423894196150255,0.0962407982718734,0.08885028942903779,0.08203725344523341,0.07577102487363661,0.07002069617960369,0.0647553582883158,0.05994431979649945,0.05555730463192117,0.05156462821359819,0.04793735240690565,0.04464741978001712,0.04166776785134906,0.038972424172216025,0.03653658321554864,0.03433666614160153,0.032350364586573956,0.03055666967190584,0.02893588746262988,0.027469642114798406,0.02614086794680106,0.02493379164963403,0.023833905819011448,0.022827934949769275,0.021903794982297668,0.02105054743357113,0.02025834908349109,0.019518398122170037,0.018822877596887774,0.018164896929849177,0.01753843221061306,0.016938265900921835,0.016359926525343228,0.01579962885912654,0.015254215065375068,0.014721097177317101,0.014198201268269985,0.013683913601947538,0.013177029009053192,0.01267670169260964,0.01218239862412536,0.01169385565537269,0.011211036436153165,0.01073409419680373,0.010263336425236035,0.009799192441871949,0.009342183851815527,0.00889289783188617,0.008451963190624816,0.00802002912198828,0.0075977465580909145,0.007185752012969807,0.006784653797870167,0.006395020478924074,0.006017371440261701,0.005652169409500304,0.005299814798133974,0.004960641706544388,0.004634915442083123,0.004322831398875378,0.004024515149566897,0.0037400236020903844,0.003469347078559834,0.0032124121785007593,0.0029690852946729763,0.002739176656617157,0.0025224447846311266,0.002318601245024479,0.0021273156060845487,0.0019482205030794837,0.001780916729704424,0.0016249782825208242,0.0014799572940328214,0.001345388798985562,0.0012207952871559544,0.0011056910042562247,0.000999585970504686,0.0009019896938752261,0.000812414561963999,0.0007303789027701321,0.0006554097104458389,0.0005870450372171862,0.0005248360571989686,0.000468348811733434,0.0004171656491817757,0.0003708863748127081,0.0003291291285888958,0.0002915310102847349,0.00025774847251350876,0.00022745750294151632,0.00020035361726306533,0.00017615168445015087,0.00015458560541796744,0.00013540786560889388,0.0001183889811360828,0.00010331685708649786,8.999607540142436e-05,7.82471284680612e-05,6.790561320239235e-05,5.8821399012387135e-05,5.085778162895481e-05,4.389063340390647e-05,3.7807559319983855e-05,3.250706665474041e-05,2.7897755001631063e-05,2.3897532188756004e-05,2.043286055626402e-05,1.7438037062771968e-05,1.4854509792311144e-05,1.2630232627276465e-05,1.0719059138800136e-05,9.080176121675498e-06,7.677576662865625e-06,6.479572176339205e-06,5.4583424572002946e-06,4.589522499123018e-06,3.851824574865823e-06,3.2266938938411407e-06,2.697996017117636e-06,2.2517341225897173e-06,1.8757941654216248e-06,1.5597159655067456e-06,1.2944882692389715e-06,1.0723658723610768e-06,8.867069494868522e-07,7.318288099384913e-07,6.02880385109743e-07,4.957298463873363e-07,4.068658518949495e-07,3.333110225175998e-07,2.725463507516235e-07,2.2244534818512596e-07,1.8121683744451102e-07,1.473553911313922e-07,1.195985127640428e-07,9.688974239970608e-08,7.834695201410294e-08,6.323517258841106e-08,5.094336607829469e-08,4.096462100928552e-08,3.2879310448099076e-08,2.6340805706360946e-08,2.106338856593872e-08,1.6812049340530758e-08,1.339389800305993e-08,1.0650951227657586e-08,8.454089842658748e-09,6.69800919241978e-09,5.297009581377988e-09,4.18149563453003e-09,3.2950723519405246e-09,2.5921421427790594e-09,2.035921460739159e-09,1.596808073011464e-09,1.2510407056754562e-09,9.79602026926983e-10,7.673238450529799e-10,6.021601819023717e-10,4.745996896205288e-10,3.7719384802482583e-10,3.0418163756596386e-10,2.5119504102749145e-10,2.1503288745699707e-10,1.9349330605060852e-10,1.8525748935058663e-10,1.8981965092499618e-10,2.0746007416136508e-10,2.392600535829346e-10,2.871593934790237e-10,3.5405901499589483e-10,4.4397319704234397e-10,5.62238105259281e-10,7.15785617130484e-10,9.134941051699153e-10,1.166630875454561e-09,1.4894044648283995e-09,1.8996490754394966e-09,2.419668179231359e-09,3.077269879173884e-09,3.907033103664547e-09,4.951851285937203e-09,6.264809008053174e-09,7.911457353053302e-09,9.972565611252833e-09,1.2547440748496175e-08,1.5757921905431534e-08,1.9753175416394996e-08,2.4715436691070763e-08,3.086686908502352e-08,3.847773690385528e-08,4.7876120258325584e-08,5.9459433938727644e-08,7.370805113138013e-08,9.120137597643029e-08,1.1263675696748425e-07,1.388516862961474e-07,1.7084978868652692e-07,2.0983116723025137e-07,2.572277433347875e-07,3.1474430316223753e-07,3.844060437728742e-07,4.6861349837805616e-07,5.702058112658971e-07,6.925334285198257e-07,8.39541369816625e-07,1.0158643483263768e-06,1.2269351087289889e-06,1.4791074559787423e-06,1.7797955477225895e-06,2.137631118873334e-06,2.5626403950158945e-06,3.066442528944953e-06,3.6624714581067254e-06,4.366223126032877e-06,5.19553003356082e-06,6.170865080836261e-06,7.315676623536515e-06,8.656756590775248e-06,1.0224643391819694e-05,1.2054061167913672e-05,1.4184396717799357e-05,1.666021513473358e-05,1.9531814832576673e-05,2.2855822203084344e-05,2.6695825630276136e-05,3.112304798595903e-05,3.621705603917394e-05,4.2066504428709645e-05,4.876991097046219e-05,5.643645910053653e-05,6.518682219264507e-05,7.515400333897443e-05,8.64841829537621e-05,9.933756525807132e-05,0.0001138892133446608,0.00013032986111894708,0.0001488666889845176,0.0001697240487109463,0.00019314412151357169,0.00021938749201722544,0.0002487336195004608,0.0002814811866581161,0.0003179483051141869,0.0003584725561039424,0.0004034108441632743,0.00045313904135612103,0.0005080513995790123,0.0005685597088436443,0.0006350921801962352,0.0007080920331162103,0.0007880157688834896,0.0008753311135351964,0.000970514616671215,0.0010740488955244202,0.0011864195173895145,0.0013081115176977398,0.001439605555715942,0.0015813737150076554,0.0017338749613826521,0.0018975502770217667,0.0020728174957343986,0.0022600658708022284,0.0024596504134978127,0.0026718860470349272,0.002897041627296324,0.0031353338880721095,0.0033869213745995196,0.00365189843478587,0.003930289342488723,0.004222042631476178,0.00452702572207269,0.004845019924874026,0.005175715907176218,0.005518709707804108,0.005873499384741654,0.006239482377313956,0.0066159536605633704,0.007002104763910212,0.007397023719166004,0.007799695994515438,0.008209006461259667,0.008623742428995442,0.00904259777262546,0.009464178161284717,0.009887007385108367,0.010309534760957955,0.010730143582974786,0.011147160568399681,0.01155886623372334,0.011963506121190005,0.012359302781230295,0.012744468402821221,0.013117217971324894,0.013475782822294695,0.013818424450289867,0.014143448424128548,0.01444921825440308,0.01473416905565386,0.014996820844437514,0.0152357913157339,0.015449807943726286,0.01563771925895992,0.0157985051621782,0.015931286145647344,0.016035331305375346,0.01611006504211536,0.01615507236520205],\"yaxis\":\"y\",\"type\":\"scatter\"},{\"legendgroup\":\"\\ud83d\\ude0d\",\"marker\":{\"color\":\"rgb(148, 103, 189)\"},\"mode\":\"lines\",\"name\":\"\\ud83d\\ude0d\",\"showlegend\":true,\"x\":[12.0,12.004,12.008,12.012,12.016,12.02,12.024,12.028,12.032,12.036,12.04,12.044,12.048,12.052,12.056,12.06,12.064,12.068,12.072,12.076,12.08,12.084,12.088,12.092,12.096,12.1,12.104,12.108,12.112,12.116,12.12,12.124,12.128,12.132,12.136,12.14,12.144,12.148,12.152,12.156,12.16,12.164,12.168,12.172,12.176,12.18,12.184,12.188,12.192,12.196,12.2,12.204,12.208,12.212,12.216,12.22,12.224,12.228,12.232,12.236,12.24,12.244,12.248,12.252,12.256,12.26,12.264,12.268,12.272,12.276,12.28,12.284,12.288,12.292,12.296,12.3,12.304,12.308,12.312,12.316,12.32,12.324,12.328,12.332,12.336,12.34,12.344,12.348,12.352,12.356,12.36,12.364,12.368,12.372,12.376,12.38,12.384,12.388,12.392,12.396,12.4,12.404,12.408,12.412,12.416,12.42,12.424,12.428,12.432,12.436,12.44,12.444,12.448,12.452,12.456,12.46,12.464,12.468,12.472,12.475999999999999,12.48,12.484,12.488,12.492,12.496,12.5,12.504,12.508,12.512,12.516,12.52,12.524000000000001,12.528,12.532,12.536,12.54,12.544,12.548,12.552,12.556000000000001,12.56,12.564,12.568,12.572,12.576,12.58,12.584,12.588,12.592,12.596,12.6,12.604,12.608,12.612,12.616,12.62,12.624,12.628,12.632,12.636,12.64,12.644,12.648,12.652,12.656,12.66,12.664,12.668,12.672,12.676,12.68,12.684,12.688,12.692,12.696,12.7,12.704,12.708,12.712,12.716,12.72,12.724,12.728,12.732,12.736,12.74,12.744,12.748,12.752,12.756,12.76,12.764,12.768,12.772,12.776,12.78,12.784,12.788,12.792,12.796,12.8,12.804,12.808,12.812,12.816,12.82,12.824,12.828,12.832,12.836,12.84,12.844,12.848,12.852,12.856,12.86,12.864,12.868,12.872,12.876,12.88,12.884,12.888,12.892,12.896,12.9,12.904,12.908,12.912,12.916,12.92,12.924,12.928,12.932,12.936,12.94,12.943999999999999,12.948,12.952,12.956,12.96,12.964,12.968,12.972,12.975999999999999,12.98,12.984,12.988,12.992,12.996,13.0,13.004,13.008,13.012,13.016,13.02,13.024000000000001,13.028,13.032,13.036,13.04,13.044,13.048,13.052,13.056000000000001,13.06,13.064,13.068,13.072,13.076,13.08,13.084,13.088000000000001,13.092,13.096,13.1,13.104,13.108,13.112,13.116,13.120000000000001,13.124,13.128,13.132,13.136,13.14,13.144,13.148,13.152,13.156,13.16,13.164,13.168,13.172,13.176,13.18,13.184,13.188,13.192,13.196,13.2,13.204,13.208,13.212,13.216,13.22,13.224,13.228,13.232,13.236,13.24,13.244,13.248,13.252,13.256,13.26,13.264,13.268,13.272,13.276,13.28,13.284,13.288,13.292,13.296,13.3,13.304,13.308,13.312,13.316,13.32,13.324,13.328,13.332,13.336,13.34,13.344,13.348,13.352,13.356,13.36,13.364,13.368,13.372,13.376,13.379999999999999,13.384,13.388,13.392,13.396,13.4,13.404,13.408,13.411999999999999,13.416,13.42,13.424,13.428,13.432,13.436,13.44,13.443999999999999,13.448,13.452,13.456,13.46,13.464,13.468,13.472,13.475999999999999,13.48,13.484,13.488,13.492,13.496,13.5,13.504,13.508,13.512,13.516,13.52,13.524000000000001,13.528,13.532,13.536,13.54,13.544,13.548,13.552,13.556000000000001,13.56,13.564,13.568,13.572,13.576,13.58,13.584,13.588000000000001,13.592,13.596,13.6,13.604,13.608,13.612,13.616,13.620000000000001,13.624,13.628,13.632,13.636,13.64,13.644,13.648,13.652,13.656,13.66,13.664,13.668,13.672,13.676,13.68,13.684,13.688,13.692,13.696,13.7,13.704,13.708,13.712,13.716,13.72,13.724,13.728,13.732,13.736,13.74,13.744,13.748,13.752,13.756,13.76,13.764,13.768,13.772,13.776,13.78,13.784,13.788,13.792,13.796,13.8,13.804,13.808,13.812,13.816,13.82,13.824,13.828,13.832,13.836,13.84,13.844,13.848,13.852,13.856,13.86,13.864,13.868,13.872,13.876,13.879999999999999,13.884,13.888,13.892,13.896,13.9,13.904,13.908,13.911999999999999,13.916,13.92,13.924,13.928,13.932,13.936,13.94,13.943999999999999,13.948,13.952,13.956,13.96,13.964,13.968,13.972,13.975999999999999,13.98,13.984,13.988,13.992,13.996],\"xaxis\":\"x\",\"y\":[0.30091814743250345,0.30104621129210296,0.3011698884380094,0.3012891833095124,0.3014041006276382,0.30151464539462747,0.3016208228933819,0.3017226386868814,0.3018200986175704,0.3019132088067146,0.3020019756537262,0.3020864058354606,0.3021665063054818,0.3022422842932984,0.3023137473035694,0.30238090311528043,0.30244375978088917,0.30250232562544305,0.30255660924566496,0.3026066195090116,0.30265236555270014,0.3026938567827078,0.30273110287274074,0.3027641137631738,0.3027928996599622,0.3028174710335234,0.30283783861759056,0.3028540134080372,0.30286600666167335,0.30287382989501344,0.30287749488301535,0.3028770136577924,0.3028723985072961,0.30286366197397174,0.30285081685338633,0.30283387619282864,0.30281285328988194,0.3027877616909699,0.3027586151898748,0.30272542782622935,0.3026882138839816,0.30264698788983313,0.30260176461165145,0.3025525590568553,0.3024993864707751,0.3024422623349867,0.3023812023656196,0.30231622251164086,0.30224733895311195,0.30217456809942245,0.3020979265874979,0.30201743127998304,0.3019330992634017,0.3018449478462915,0.3017529945573149,0.3016572571433471,0.3015577535675401,0.30145450200736335,0.30134752085262184,0.30123682870345136,0.3011224443682913,0.3010043868618348,0.30088267540295777,0.30075732941262523,0.30062836851177716,0.3004958125191922,0.3003596814493308,0.30021999551015804,0.3000767751009459,0.2999300408100545,0.2997798134126945,0.29962611386867033,0.2994689633201024,0.29930838308913177,0.29914439467560566,0.2989770197547442,0.2988062801747897,0.29863219795463736,0.2984547952814486,0.2982740945082474,0.2980901181515,0.29790288888867666,0.2977124295557981,0.29751876314496606,0.2973219128018775,0.2971219018233232,0.29691875365467246,0.2967124918873415,0.2965031402562487,0.29629072263725476,0.29607526304458937,0.29585678562826434,0.2956353146714744,0.29541087458798304,0.2951834899194983,0.29495318533303455,0.29471998561826396,0.2944839156848546,0.2942450005597992,0.29400326538473176,0.2937587354132347,0.29351143600813523,0.2932613926387916,0.2930086308783705,0.2927531764011161,0.29249505497960804,0.2922342924820128,0.29197091486932736,0.29170494819261306,0.29143641859022473,0.29116535228503015,0.2908917755816248,0.2906157148635402,0.29033719659044455,0.29005624729533974,0.28977289358175234,0.28948716212091974,0.28919907964897135,0.28890867296410655,0.28861596892376795,0.2883209944418114,0.2880237764856744,0.2877243420735386,0.2874227182714926,0.2871189321906932,0.2868130109845213,0.2865049818457408,0.28619487200365457,0.2858827087212589,0.2855685192924004,0.28525233103893066,0.284934171307862,0.2846140674685254,0.2842920469097281,0.28396813703691326,0.28364236526932163,0.2833147590371563,0.282985345778749,0.28265415293772944,0.28232120796019916,0.2819865382919081,0.2816501713754357,0.28131213464737626,0.2809724555355294,0.28063116145609485,0.2802882798108751,0.27994383798448014,0.27959786334154174,0.27925038322393314,0.2789014249479952,0.2785510158017701,0.27819918304224334,0.2778459538925925,0.2774913555394457,0.27713541513014744,0.2767781597700336,0.2764196165197167,0.27605981239238064,0.2756987743510836,0.2753365293060738,0.27497310411211445,0.2746085255658206,0.27424282040300574,0.2738760152960421,0.27350813685123115,0.2731392116061877,0.2727692660272364,0.2723983265068197,0.2720264193609212,0.27165357082650204,0.2712798070589497,0.27090515412954247,0.27052963802292845,0.27015328463461885,0.2697761197684961,0.26939816913433823,0.2690194583453582,0.2686400129157606,0.26825985825831244,0.26787901968193223,0.26749752238929564,0.267115391474459,0.2667326519204979,0.2663493285971664,0.26596544625857255,0.26558102954087265,0.26519610295998475,0.2648106909093194,0.2644248176575309,0.26403850734628853,0.26365178398806477,0.26326467146394594,0.2628771935214623,0.26248937377243853,0.2621012356908637,0.2617128026107848,0.261324097724218,0.26093514407908497,0.26054596457716794,0.26015658197208746,0.2597670188673029,0.2593772977141354,0.2589874408098115,0.2585974702955315,0.25820740815456045,0.25781727621034156,0.2574270961246332,0.2570368893956705,0.2566466773563491,0.25625648117243477,0.25586632184079583,0.25547622018766,0.25508619686689643,0.2546962723583238,0.2543064669660393,0.25391680081677703,0.2535272938582899,0.2531379658577567,0.2527488364002147,0.25235992488701997,0.25197125053433056,0.2515828323716186,0.2511946892402074,0.2508068397918342,0.2504193024872408,0.2500320955947915,0.2496452371891148,0.24925874514977497,0.2488726371599702,0.24848693070525693,0.24810164307230165,0.2477167913476617,0.24733239241659108,0.24694846296187653,0.2465650194626995,0.24618207819352653,0.2457996552230276,0.24541776641302326,0.24503642741745862,0.2446556536814058,0.24427546044009588,0.2438958627179779,0.2435168753278062,0.2431385128697578,0.24276078973057652,0.2423837200827465,0.24200731788369578,0.24163159687502517,0.24125657058176891,0.2408822523116844,0.24050865515456732,0.24013579198159923,0.23976367544472305,0.23939231797604577,0.23902173178727343,0.23865192886917125,0.2382829209910556,0.2379147197003147,0.23754733632195613,0.2371807819581857,0.23681506748801495,0.23645020356689606,0.23608620062638785,0.23572306887384947,0.23536081829216265,0.23499945863948468,0.23463899944902855,0.23427945002887238,0.23392081946179805,0.23356311660515877,0.23320635009077473,0.23285052832485742,0.2324956594879638,0.2321417515349776,0.2317888121951196,0.2314368489719875,0.23108586914362197,0.23073587976260296,0.23038688765617443,0.23003889942639458,0.22969192145031725,0.22934595988020062,0.22900102064374184,0.2286571094443418,0.22831423176139728,0.2279723928506191,0.22763159774438008,0.22729185125208856,0.22695315796059007,0.22661552223459594,0.2262789482171401,0.2259434398300602,0.22560900077450824,0.22527563453148675,0.22494334436241145,0.22461213330970003,0.22428200419738875,0.22395295963177275,0.22362500200207486,0.22329813348113844,0.22297235602614648,0.22264767137936625,0.22232408106892043,0.22200158640958054,0.22168018850358837,0.2213598882415012,0.22104068630306126,0.22072258315808987,0.22040557906740685,0.22008967408377256,0.21977486805285543,0.21946116061422233,0.21914855120235233,0.21883703904767463,0.21852662317763002,0.21821730241775328,0.21790907539278062,0.21760194052777893,0.21729589604929725,0.2169909399865398,0.216687070172563,0.2163842842454912,0.21608257964975772,0.21578195363736305,0.21548240326915744,0.21518392541614237,0.21488651676079462,0.2145901737984076,0.21429489283845649,0.21400067000597994,0.21370750124298446,0.21341538230986615,0.21312430878685218,0.21283427607546138,0.21254527939998458,0.21225731380898066,0.21197037417679376,0.21168445520508677,0.21139955142439332,0.21111565719568615,0.21083276671196435,0.2105508739998555,0.21026997292123656,0.20999005717486982,0.20971112029805472,0.20943315566829704,0.20915615650499236,0.2088801158711256,0.2086050266749847,0.20833088167189057,0.20805767346594017,0.20778539451176425,0.20751403711629993,0.20724359344057525,0.2069740555015086,0.2067054151737212,0.20643766419136106,0.20617079414994072,0.20590479650818794,0.20563966258990596,0.20537538358584764,0.2051119505556008,0.20484935442948304,0.20458758601044963,0.20432663597601053,0.20406649488015766,0.20380715315530307,0.20354860111422607,0.20329082895202974,0.20303382674810677,0.20277758446811442,0.20252209196595716,0.20226733898577817,0.20201331516395865,0.2017600100311247,0.2015074130141613,0.2012555134382341,0.20100430052881654,0.20075376341372494,0.20050389112515948,0.20025467260174945,0.20000609669060598,0.19975815214937986,0.19951082764832268,0.19926411177235415,0.19901799302313405,0.1987724598211365,0.1985275005077301,0.19828310334726024,0.19803925652913446,0.19779594816991242,0.19755316631539616,0.19731089894272424,0.19706913396246756,0.19682785922072676,0.19658706250123137,0.1963467315274395,0.1961068539646389,0.19586741742204866,0.19562840945492116,0.19538981756664336,0.1951516292108385,0.1949138317934677,0.19467641267492924,0.19443935917215782,0.19420265856072227,0.19396629807692128,0.19373026491987688,0.1934945462536269,0.19325912920921295,0.19302400088676727,0.19278914835759628,0.19255455866625915,0.19232021883264466,0.19208611585404364,0.1918522367072164,0.19161856835045632,0.19138509772564932,0.19115181176032658,0.19091869736971434,0.19068574145877615,0.19045293092425022,0.19022025265668072,0.18998769354244338,0.18975524046576264,0.189522880310724,0.1892905999632786,0.18905838631324012,0.18882622625627427,0.18859410669588114,0.1883620145453683,0.18812993672981698,0.18789786018803845,0.1876657718745222,0.18743365876137524,0.18720150784025227,0.1869693061242752,0.1867370406499445,0.1865046984790398,0.1862722667005103,0.1860397324323548,0.18580708282349157,0.18557430505561656,0.18534138634505143,0.18510831394457972,0.18487507514527143,0.1846416572782963,0.1844080477167257,0.18417423387732051,0.1839402032223087,0.1837059432611496,0.18347144155228523,0.18323668570487875,0.18300166338054047,0.18276636229503945,0.18253077022000286,0.18229487498460056,0.18205866447721641,0.18182212664710518,0.18158524950603624,0.18134802112992104,0.1811104296604276,0.18087246330657983,0.18063411034634147,0.18039535912818572,0.18015619807264868,0.17991661567386819,0.17967660050110756,0.1794361412002616,0.17919522649534908,0.1789538451899876,0.17871198616885356,0.1784696383991246,0.1782267909319067,0.17798343290364338,0.1777395535375101,0.17749514214479,0.1772501881262335,0.17700468097340089,0.17675861026998763,0.17651196569313227,0.17626473701470624,0.17601691410258763,0.1757684869219161,0.1755194455363297,0.17526978010918537,0.17501948090475983,0.1747685382894331,0.1745169427328545,0.1742646848090885,0.1740117551977441,0.17375814468508527,0.17350384416512182,0.17324884464068285,0.1729931372244714,0.17273671314009936,0.17247956372310483,0.17222168042194969,0.1719630547989981,0.17170367853147692],\"yaxis\":\"y\",\"type\":\"scatter\"},{\"legendgroup\":\"\\ud83d\\udc4d\",\"marker\":{\"color\":\"rgb(140, 86, 75)\"},\"mode\":\"lines\",\"name\":\"\\ud83d\\udc4d\",\"showlegend\":true,\"x\":[12.0,12.002,12.004,12.006,12.008,12.01,12.012,12.014,12.016,12.018,12.02,12.022,12.024,12.026,12.028,12.03,12.032,12.034,12.036,12.038,12.04,12.042,12.044,12.046,12.048,12.05,12.052,12.054,12.056,12.058,12.06,12.062,12.064,12.066,12.068,12.07,12.072,12.074,12.076,12.078,12.08,12.082,12.084,12.086,12.088,12.09,12.092,12.094,12.096,12.098,12.1,12.102,12.104,12.106,12.108,12.11,12.112,12.114,12.116,12.118,12.12,12.122,12.124,12.126,12.128,12.13,12.132,12.134,12.136,12.138,12.14,12.142,12.144,12.146,12.148,12.15,12.152,12.154,12.156,12.158,12.16,12.162,12.164,12.166,12.168,12.17,12.172,12.174,12.176,12.178,12.18,12.182,12.184,12.186,12.188,12.19,12.192,12.194,12.196,12.198,12.2,12.202,12.204,12.206,12.208,12.21,12.212,12.214,12.216,12.218,12.22,12.222,12.224,12.226,12.228,12.23,12.232,12.234,12.236,12.238,12.24,12.242,12.244,12.246,12.248,12.25,12.252,12.254,12.256,12.258,12.26,12.262,12.264,12.266,12.268,12.27,12.272,12.274000000000001,12.276,12.278,12.28,12.282,12.284,12.286,12.288,12.29,12.292,12.294,12.296,12.298,12.3,12.302,12.304,12.306,12.308,12.31,12.312,12.314,12.316,12.318,12.32,12.322,12.324,12.326,12.328,12.33,12.332,12.334,12.336,12.338,12.34,12.342,12.344,12.346,12.348,12.35,12.352,12.354,12.356,12.358,12.36,12.362,12.364,12.366,12.368,12.37,12.372,12.374,12.376,12.378,12.38,12.382,12.384,12.386,12.388,12.39,12.392,12.394,12.396,12.398,12.4,12.402,12.404,12.406,12.408,12.41,12.412,12.414,12.416,12.418,12.42,12.422,12.424,12.426,12.428,12.43,12.432,12.434,12.436,12.438,12.44,12.442,12.444,12.446,12.448,12.45,12.452,12.454,12.456,12.458,12.46,12.462,12.464,12.466,12.468,12.47,12.472,12.474,12.475999999999999,12.478,12.48,12.482,12.484,12.486,12.488,12.49,12.492,12.494,12.496,12.498,12.5,12.502,12.504,12.506,12.508,12.51,12.512,12.514,12.516,12.518,12.52,12.522,12.524000000000001,12.526,12.528,12.53,12.532,12.534,12.536,12.538,12.54,12.542,12.544,12.546,12.548,12.55,12.552,12.554,12.556000000000001,12.558,12.56,12.562,12.564,12.566,12.568,12.57,12.572,12.574,12.576,12.578,12.58,12.582,12.584,12.586,12.588,12.59,12.592,12.594,12.596,12.598,12.6,12.602,12.604,12.606,12.608,12.61,12.612,12.614,12.616,12.618,12.62,12.622,12.624,12.626,12.628,12.63,12.632,12.634,12.636,12.638,12.64,12.642,12.644,12.646,12.648,12.65,12.652,12.654,12.656,12.658,12.66,12.662,12.664,12.666,12.668,12.67,12.672,12.674,12.676,12.678,12.68,12.682,12.684,12.686,12.688,12.69,12.692,12.693999999999999,12.696,12.698,12.7,12.702,12.704,12.706,12.708,12.71,12.712,12.714,12.716,12.718,12.72,12.722,12.724,12.725999999999999,12.728,12.73,12.732,12.734,12.736,12.738,12.74,12.742,12.744,12.746,12.748,12.75,12.752,12.754,12.756,12.758,12.76,12.762,12.764,12.766,12.768,12.77,12.772,12.774000000000001,12.776,12.778,12.78,12.782,12.784,12.786,12.788,12.79,12.792,12.794,12.796,12.798,12.8,12.802,12.804,12.806000000000001,12.808,12.81,12.812,12.814,12.816,12.818,12.82,12.822,12.824,12.826,12.828,12.83,12.832,12.834,12.836,12.838,12.84,12.842,12.844,12.846,12.848,12.85,12.852,12.854,12.856,12.858,12.86,12.862,12.864,12.866,12.868,12.87,12.872,12.874,12.876,12.878,12.88,12.882,12.884,12.886,12.888,12.89,12.892,12.894,12.896,12.898,12.9,12.902,12.904,12.906,12.908,12.91,12.912,12.914,12.916,12.918,12.92,12.922,12.924,12.926,12.928,12.93,12.932,12.934,12.936,12.938,12.94,12.942,12.943999999999999,12.946,12.948,12.95,12.952,12.954,12.956,12.958,12.96,12.962,12.964,12.966,12.968,12.97,12.972,12.974,12.975999999999999,12.978,12.98,12.982,12.984,12.986,12.988,12.99,12.992,12.994,12.996,12.998],\"xaxis\":\"x\",\"y\":[1.0245614718510958,1.0245065780092224,1.0243417475454026,1.024067033782215,1.0236825254173276,1.023188346476541,1.0225846562479153,1.0218716491970576,1.0210495548635767,1.020118637738862,1.0190791971252136,1.0179315669764588,1.0166761157201893,1.0153132460617085,1.0138433947698935,1.0122670324450989,1.0105846632692648,1.008796824738469,1.0069040873780726,1.0049070544406833,1.002806361587204,1.0006026765511382,0.9982966987864774,0.9958891590993519,0.9933808192637836,0.9907724716218339,0.9880649386683581,0.9852590726207748,0.9823557549741221,0.9793558960417001,0.976260434481728,0.9730703368102502,0.9697865969007543,0.9664102354707724,0.9629422995559507,0.9593838619718371,0.9557360207639155,0.9519998986461873,0.948176642428731,0.9442674224347047,0.9402734319071082,0.9361958864058563,0.9320360231954868,0.9277951006239799,0.9234743974931797,0.9190752124211453,0.9145988631970372,0.9100466861288472,0.9054200353845094,0.9007202823268559,0.8959488148428443,0.8911070366675097,0.8861963667032133,0.8812182383344741,0.8761740987390437,0.8710654081955793,0.8658936393883535,0.8606602767096446,0.8553668155600385,0.8500147616472963,0.8446056302841952,0.8391409456857297,0.8336222402662908,0.8280510539371274,0.8224289334046248,0.8167574314698876,0.8110381063299561,0.8052725208812292,0.7994622420254521,0.7936088399787339,0.7877138875840459,0.7817789596275655,0.7758056321593219,0.7697954818186284,0.7637500851645173,0.757671018011794,0.7515598547729729,0.7454181678064798,0.7392475267716098,0.7330494979904495,0.7268256438172686,0.7205775220156532,0.7143066851437745,0.7080146799480406,0.7017030467656306,0.6953733189360253,0.6890270222220006,0.6826656742403278,0.6762907839024028,0.669903850865257,0.663506364993044,0.6570998058293194,0.6506856420804791,0.6442653311103584,0.6378403184464738,0.6314120372979768,0.6249819080855099,0.6185513379833041,0.6121217204735725,0.6056944349133868,0.5992708461143307,0.5928523039348641,0.5864401428857909,0.580035681748768,0.5736402232080321,0.5672550534955582,0.5608814420495647,0.5545206411866043,0.5481738857872929,0.5418423929956335,0.5355273619321859,0.529229973420922,0.5229513897299493,0.516692754326106,0.5104551916433427,0.5042398068650321,0.4980476857201103,0.4918798942930542,0.4857374788477241,0.4796214656649299,0.473532860893757,0.4674726504166237,0.46144179972788496,0.45544125382604206,0.4494719371194036,0.4435347533451066,0.4376305855014724,0.43176029579346603,0.42592472559125966,0.4201246954017242,0.4143610048526939,0.4086344326899646,0.402945736786725,0.3972956541654176,0.391684901031769,0.38611417282090105,0.3805841442552329,0.37509546941415134,0.36964878181514377,0.36424469450620006,0.3588838001694177,0.35356667123540486,0.34829386000847756,0.3430658988022995,0.3378833000857665,0.33274655663900243,0.32765614171912627,0.3226125092356256,0.3176160939351032,0.3126673115950975,0.3077665592268413,0.3029142152866291,0.2981106398955368,0.29335617506737016,0.28865114494439265,0.28399585604077987,0.2793905974934115,0.27483564131975957,0.27033124268271036,0.26587764016191384,0.26147505603150795,0.2571236965439486,0.2528237522195828,0.24857539814186286,0.2443787942577733,0.24023408568331844,0.23614140301378989,0.2321008626384879,0.22811256705969685,0.22417660521566937,0.22029305280724792,0.21646197262801914,0.21268341489759648,0.2089574175978594,0.20528400681189637,0.20166319706531888,0.19809499166978226,0.194579383068412,0.1911163531828867,0.18770587376196618,0.18434790673117818,0.18104240454341886,0.17778931053029517,0.1745885592538739,0.1714400768586582,0.16834378142358478,0.16529958331372513,0.16230738553155566,0.15936708406753355,0.15647856824972042,0.1536417210923305,0.15085641964289162,0.14812253532785305,0.14543993429646862,0.14280847776265143,0.14022802234472687,0.13769842040275843,0.13521952037335788,0.13279116710173966,0.1304132021708274,0.1280854642272406,0.12580778930402037,0.12358001113983047,0.12140196149457237,0.11927347046113468,0.11719436677322102,0.11516447810899252,0.11318363139046725,0.11125165307843025,0.10936836946279221,0.10753360694817063,0.10574719233462994,0.10400895309336382,0.10231871763726792,0.10067631558618757,0.09908157802679846,0.09753433776691717,0.09603442958419742,0.0945816904690236,0.09317595986155941,0.09181707988278877,0.09050489555946581,0.0892392550428816,0.088020009821341,0.08684701492623659,0.08572012913167414,0.08463921514750923,0.0836041398057581,0.0826147742402706,0.08167099405959635,0.08077267951298817,0.07991971564943864,0.07911199246971534,0.07834940507131488,0.07763185378626827,0.07695924431176465,0.07633148783351161,0.07574850114179738,0.07521020674020822,0.07471653294694432,0.07426741398870333,0.07386279008709302,0.07350260753752506,0.0731868187805763,0.07291538246577435,0.0726882635077825,0.07250543313497167,0.07236686893034208,0.07227255486479514,0.07222248132272513,0.07221664511993296,0.07225504951384287,0.07233770420602502,0.07246462533701593,0.07263583547343973,0.07285136358743667,0.07311124502839618,0.07341552148701655,0.07376424095169491,0.07415745765726325,0.07459523202609424,0.07507763060159899,0.07560472597412708,0.0761765966993177,0.07679332720892168,0.07745500771412188,0.07816173410139918,0.07891360782098679,0.07971073576793973,0.08055323015588607,0.08144120838348982,0.08237479289370023,0.08335411102581944,0.0843792948604628,0.08545048105748404,0.08656781068690064,0.08773142905291041,0.08894148551108488,0.09019813327877514,0.09150152923884641,0.09285183373682145,0.09424921037147742,0.09569382577905955,0.09718584941112995,0.09872545330619484,0.10031281185521224,0.10194810156103762,0.10363150079199278,0.10536318952958469,0.1071433491105547,0.10897216196336025,0.11084981133917043,0.11277648103758328,0.11475235512712002,0.11677761766065327,0.11885245238595218,0.12097704245140378,0.12315157010712784,0.12537621640161326,0.12765116087399028,0.1299765812421796,0.1323526530869769,0.134779549532342,0.13725744092197256,0.1397864944923905,0.142366874042694,0.14499873960117968,0.14768224708896424,0.1504175479808818,0.15320478896374035,0.15604411159224169,0.15893565194268044,0.16187954026465584,0.16487590063101612,0.16792485058624507,0.17102650079343887,0.17418095468019282,0.17738830808354697,0.1806486488942377,0.18396205670044538,0.18732860243136357,0.1907483480006789,0.1942213459503549,0.19774763909480156,0.20132726016580013,0.20496023145837725,0.20864656447781502,0.2123862595881836,0.2161793056624974,0.2200256797348399,0.22392534665472116,0.22787825874383216,0.23188435545555253,0.23594356303745542,0.2400557941969737,0.2442209477706674,0.2484389083971762,0.2527095461942257,0.2570327164399685,0.261408259258826,0.26583599931220553,0.27031574549431275,0.27484729063329955,0.2794304111980979,0.2840648670110849,0.28875040096698995,0.29348673875820214,0.2982735886067393,0.30311064100327856,0.3079975684533075,0.3129340252308227,0.31791964713980886,0.3229540512836112,0.3280368358427043,0.3331675798608886,0.33834584304026727,0.34357116554525263,0.3488430678158534,0.3541610503903844,0.35952459373801304,0.364933158101186,0.37038618334833634,0.37588308883693544,0.3814232732872837,0.3870061146670993,0.3926309700871918,0.39829717570842915,0.40400404666023415,0.40975087697064533,0.4155369395083498,0.42136148593672823,0.4272237466801244,0.4331229309024761,0.43905822649860377,0.4450288000980792,0.4510337970821148,0.45707234161327864,0.46314353667850744,0.4692464641453005,0.47538018483131655,0.4815437385874224,0.4877361443944142,0.4939564004733254,0.5002034844095927,0.5064763532909674,0.5127739438593947,0.5190951726768505,0.5254389363051337,0.5318041114997453,0.5381895554178144,0.5445941058400824,0.5510165814070265,0.5574557818690162,0.5639104883505419,0.5703794636285358,0.5768614524246065,0.5833551817113294,0.5898593610323685,0.5963726828364122,0.6028938228249917,0.6094214403137708,0.6159541786075377,0.6224906653886265,0.629029513118558,0.6355693194530396,0.6421086676698197,0.6486461271096081,0.6551802536295864,0.6617095900694906,0.6682326667300693,0.6747480018637125,0.6812541021769053,0.6877494633445456,0.6942325705355934,0.70070189895012,0.7071559143671561,0.7135930737034338,0.7200118255824414,0.726410610913697,0.7327878634818829,0.7391420105455189,0.7454714734448505,0.751774668218788,0.7580500062301841,0.7642958947996417,0.7705107378469668,0.7766929365403378,0.7828408899524735,0.7889529957237404,0.7950276507315339,0.8010632517657331,0.8070581962097809,0.813010882726904,0.8189197119511595,0.8247830871828632,0.8305994150878958,0.8363671064006498,0.8420845766298627,0.847750246767251,0.8533625439982422,0.8589199024144422,0.8644207637273875,0.8698635779831342,0.8752468042771266,0.8805689114690554,0.8858283788970102,0.8910236970906745,0.8961533684829442,0.9012159081195417,0.9062098443661564,0.911133719612628,0.9159860909736492,0.9207655309856639,0.9254706282992633,0.9300999883667409,0.9346522341243735,0.939126006668809,0.9435199659272231,0.9478327913206824,0.9520631824203417,0.9562098595959152,0.9602715646560326,0.9642470614800205,0.9681351366406385,0.9719346000172769,0.9756442853993207,0.9792630510791196,0.9827897804341557,0.986223382498053,0.9895627925199024,0.9928069725116662,0.9959549117830934,0.9990056274638177,1.0019581650123366,1.0048115987113104,1.0075650321491176,1.010217598686883,1.0127684619111108,1.0152168160712076,1.0175618865018254,1.0198029300295006,1.0219392353634489,1.0239701234702359,1.0258949479318489,1.027713095287129,1.0294239853561342,1.03102707154737,1.0325218411474781,1.0339078155932244,1.0351845507256612,1.0363516370262362,1.0374086998344907,1.0383553995475203,1.0391914318007982,1.039916527630183,1.0405304536152797,1.0410330120037554,1.041424040816579,1.041703413934309,1.0418710411639585],\"yaxis\":\"y\",\"type\":\"scatter\"},{\"legendgroup\":\"\\ud83d\\ude41\",\"marker\":{\"color\":\"rgb(227, 119, 194)\"},\"mode\":\"lines\",\"name\":\"\\ud83d\\ude41\",\"showlegend\":true,\"x\":[12.0,12.002,12.004,12.006,12.008,12.01,12.012,12.014,12.016,12.018,12.02,12.022,12.024,12.026,12.028,12.03,12.032,12.034,12.036,12.038,12.04,12.042,12.044,12.046,12.048,12.05,12.052,12.054,12.056,12.058,12.06,12.062,12.064,12.066,12.068,12.07,12.072,12.074,12.076,12.078,12.08,12.082,12.084,12.086,12.088,12.09,12.092,12.094,12.096,12.098,12.1,12.102,12.104,12.106,12.108,12.11,12.112,12.114,12.116,12.118,12.12,12.122,12.124,12.126,12.128,12.13,12.132,12.134,12.136,12.138,12.14,12.142,12.144,12.146,12.148,12.15,12.152,12.154,12.156,12.158,12.16,12.162,12.164,12.166,12.168,12.17,12.172,12.174,12.176,12.178,12.18,12.182,12.184,12.186,12.188,12.19,12.192,12.194,12.196,12.198,12.2,12.202,12.204,12.206,12.208,12.21,12.212,12.214,12.216,12.218,12.22,12.222,12.224,12.226,12.228,12.23,12.232,12.234,12.236,12.238,12.24,12.242,12.244,12.246,12.248,12.25,12.252,12.254,12.256,12.258,12.26,12.262,12.264,12.266,12.268,12.27,12.272,12.274000000000001,12.276,12.278,12.28,12.282,12.284,12.286,12.288,12.29,12.292,12.294,12.296,12.298,12.3,12.302,12.304,12.306,12.308,12.31,12.312,12.314,12.316,12.318,12.32,12.322,12.324,12.326,12.328,12.33,12.332,12.334,12.336,12.338,12.34,12.342,12.344,12.346,12.348,12.35,12.352,12.354,12.356,12.358,12.36,12.362,12.364,12.366,12.368,12.37,12.372,12.374,12.376,12.378,12.38,12.382,12.384,12.386,12.388,12.39,12.392,12.394,12.396,12.398,12.4,12.402,12.404,12.406,12.408,12.41,12.412,12.414,12.416,12.418,12.42,12.422,12.424,12.426,12.428,12.43,12.432,12.434,12.436,12.438,12.44,12.442,12.444,12.446,12.448,12.45,12.452,12.454,12.456,12.458,12.46,12.462,12.464,12.466,12.468,12.47,12.472,12.474,12.475999999999999,12.478,12.48,12.482,12.484,12.486,12.488,12.49,12.492,12.494,12.496,12.498,12.5,12.502,12.504,12.506,12.508,12.51,12.512,12.514,12.516,12.518,12.52,12.522,12.524000000000001,12.526,12.528,12.53,12.532,12.534,12.536,12.538,12.54,12.542,12.544,12.546,12.548,12.55,12.552,12.554,12.556000000000001,12.558,12.56,12.562,12.564,12.566,12.568,12.57,12.572,12.574,12.576,12.578,12.58,12.582,12.584,12.586,12.588,12.59,12.592,12.594,12.596,12.598,12.6,12.602,12.604,12.606,12.608,12.61,12.612,12.614,12.616,12.618,12.62,12.622,12.624,12.626,12.628,12.63,12.632,12.634,12.636,12.638,12.64,12.642,12.644,12.646,12.648,12.65,12.652,12.654,12.656,12.658,12.66,12.662,12.664,12.666,12.668,12.67,12.672,12.674,12.676,12.678,12.68,12.682,12.684,12.686,12.688,12.69,12.692,12.693999999999999,12.696,12.698,12.7,12.702,12.704,12.706,12.708,12.71,12.712,12.714,12.716,12.718,12.72,12.722,12.724,12.725999999999999,12.728,12.73,12.732,12.734,12.736,12.738,12.74,12.742,12.744,12.746,12.748,12.75,12.752,12.754,12.756,12.758,12.76,12.762,12.764,12.766,12.768,12.77,12.772,12.774000000000001,12.776,12.778,12.78,12.782,12.784,12.786,12.788,12.79,12.792,12.794,12.796,12.798,12.8,12.802,12.804,12.806000000000001,12.808,12.81,12.812,12.814,12.816,12.818,12.82,12.822,12.824,12.826,12.828,12.83,12.832,12.834,12.836,12.838,12.84,12.842,12.844,12.846,12.848,12.85,12.852,12.854,12.856,12.858,12.86,12.862,12.864,12.866,12.868,12.87,12.872,12.874,12.876,12.878,12.88,12.882,12.884,12.886,12.888,12.89,12.892,12.894,12.896,12.898,12.9,12.902,12.904,12.906,12.908,12.91,12.912,12.914,12.916,12.918,12.92,12.922,12.924,12.926,12.928,12.93,12.932,12.934,12.936,12.938,12.94,12.942,12.943999999999999,12.946,12.948,12.95,12.952,12.954,12.956,12.958,12.96,12.962,12.964,12.966,12.968,12.97,12.972,12.974,12.975999999999999,12.978,12.98,12.982,12.984,12.986,12.988,12.99,12.992,12.994,12.996,12.998],\"xaxis\":\"x\",\"y\":[0.9377790110727493,0.9377795345778399,0.9377341142481196,0.9376427717307683,0.9375055357896124,0.9373224423034675,0.9370935342627864,0.9368188617646078,0.9364984820058047,0.9361324592746482,0.9357208649406752,0.9352637774428731,0.9347612822761868,0.9342134719763436,0.9336204461030142,0.9329823112213067,0.9322991808816029,0.9315711755977487,0.9307984228236021,0.9299810569279408,0.9291192191677597,0.9282130576599373,0.9272627273513153,0.9262683899871677,0.9252302140780957,0.9241483748653547,0.9230230542846145,0.9218544409281771,0.9206427300056643,0.9193881233031791,0.9180908291409708,0.9167510623296018,0.9153690441246437,0.9139450021799116,0.9124791704992581,0.9109717893869302,0.9094231053965367,0.9078333712785949,0.9062028459267286,0.9045317943224959,0.9028204874788736,0.9010692023824429,0.8992782219342552,0.8974478348894277,0.8955783357954821,0.8936700249294341,0.8917232082336801,0.8897381972506779,0.8877153090564465,0.8856548661929322,0.8835571965992302,0.8814226335416906,0.8792515155429665,0.8770441863099727,0.8748009946608214,0.8725222944507406,0.8702084444969922,0.8678598085028458,0.8654767549805898,0.8630596571736281,0.8606088929777023,0.8581248448612192,0.8556078997847645,0.8530584491197811,0.8504768885664624,0.847863618070884,0.8452190417413944,0.8425435677642859,0.8398376083187997,0.8371015794914425,0.8343359011896957,0.8315409970551058,0.8287172943757809,0.8258652239983645,0.8229852202394671,0.8200777207965712,0.8171431666585176,0.8141820020154905,0.8111946741686283,0.8081816334392111,0.8051433330774855,0.8020802291711728,0.7989927805536419,0.7958814487117911,0.7927466976937187,0.7895889940160834,0.7864088065713359,0.7832066065347288,0.7799828672711695,0.7767380642419831,0.773472674911541,0.7701871786538178,0.7668820566589323,0.763557791839611,0.7602148687377253,0.7568537734307863,0.753474993438531,0.7500790176295944,0.7466663361282682,0.743237440221377,0.7397928222653505,0.736332975593416,0.7328583944230447,0.7293695737635919,0.725867009324177,0.7223511974218878,0.7188226348902125,0.7152818189878213,0.7117292473077117,0.7081654176866601,0.7045908281151156,0.7010059766474618,0.6974113613127038,0.6938074800256397,0.6901948304984631,0.6865739101528697,0.6829452160326765,0.6793092447169514,0.6756664922337247,0.6720174539742361,0.6683626246077682,0.6647024979971169,0.6610375671146469,0.6573683239589905,0.653695259472436,0.6500188634589494,0.646339624502906,0.6426580298885288,0.6389745655200271,0.6352897158425146,0.6316039637636213,0.6279177905759297,0.6242316758801502,0.6205460975090924,0.6168615314524769,0.6131784517825277,0.6094973305804156,0.6058186378635442,0.6021428415136922,0.5984704072060059,0.5948017983389099,0.5911374759648499,0.5874778987219892,0.5838235227667753,0.5801748017074243,0.5765321865383634,0.5728961255755695,0.5692670643928689,0.5656454457591862,0.56203170957673,0.5584262928201786,0.5548296294768031,0.5512421504875633,0.5476642836892225,0.5440964537573919,0.540539082150621,0.5369925870554411,0.5334573833324255,0.52993388246325,0.526422492498758,0.5229236180080183,0.5194376600284323,0.5159650160167965,0.5125060798014345,0.5090612415353084,0.5056308876501435,0.5022154008115983,0.49881515987543734,0.4954305398446835,0.49206191182785486,0.4887096429981495,0.48537409655369446,0.482055631678775,0.47875460350607174,0.47547136307993615,0.47220625732064,0.46895962898962446,0.46573181665579644,0.46252315466273725,0.4593339730969873,0.45616459775726587,0.45301535012467964,0.4498865473339363,0.44677850214550596,0.4436915229187483,0.4406259135860351,0.4375819736277794,0.43455999804848067,0.4315602773536489,0.42858309752770357,0.4256287400128131,0.4226974816886382,0.4197895948529911,0.4169053472034392,0.41404500181976617,0.411208817147373,0.4083970469815399,0.40560994045256576,0.4028477420118195,0.40011069141860195,0.3973990237278916,0.39471296927895305,0.3920527536847432,0.38941859782218924,0.38681071782326004,0.384229325066851,0.38167462617149206,0.37914682298882674,0.3766461125978834,0.37417268730012604,0.37172673461525313,0.3693084372777797,0.3669179732343411,0.3645555156417335,0.36222123286570174,0.35991528848042315,0.3576378412686957,0.35538904522284603,0.3531690495462995,0.3509779986558389,0.3488160321845296,0.34668328498528994,0.34457988713513227,0.3425059639400186,0.34046163594034484,0.338447018917063,0.33646222389837926,0.33450735716707797,0.3325825202684148,0.33068781001859376,0.3288233185138117,0.3269891331398628,0.3251853365822819,0.32341200683704774,0.3216692172217873,0.31995703638752815,0.3182755283309429,0.316624752407096,0.31500476334269795,0.313415611249825,0.31185734164012296,0.310329995439475,0.30883360900311857,0.3073682141312263,0.3059338380849115,0.3045305036026656,0.30315822891723065,0.30181702777287467,0.3005069094430704,0.2992278787485897,0.29797993607596956,0.29676307739637287,0.29557729428482094,0.29442257393978977,0.2932988992031802,0.29220624858062444,0.2911445962621555,0.29011391214320714,0.289114161845946,0.28814530674093985,0.28720730396914207,0.28630010646418125,0.28542366297497623,0.284577918088642,0.28376281225369293,0.28297828180354617,0.2822242589802979,0.2815006719587938,0.28080744487096543,0.28014449783043904,0.27951174695741954,0.2789091044038193,0.2783364783786615,0.27779377317372533,0.27728088918944127,0.2767977229610372,0.2763441671849202,0.2759201107452948,0.27552543874102114,0.2751600325126994,0.27482376966998273,0.27451652411911476,0.27423816609068946,0.2739885621676308,0.27376757531338697,0.27357506490033967,0.2734108867384259,0.27327489310396885,0.27316693276871645,0.27308685102908653,0.2730344897356153,0.2730096873226094,0.273012278837998,0.2730420959733858,0.27309896709430437,0.27318271727066046,0.27329316830738126,0.27343013877525585,0.2735934440419708,0.27378289630333913,0.27399830461472613,0.27423947492266515,0.2745062100966669,0.27479830996122384,0.2751155713280029,0.2754577880282338,0.27582475094528885,0.27621624804745337,0.27663206442088994,0.27707198230279717,0.2775357811147562,0.2780232374962751,0.27853412533852434,0.27906821581826635,0.2796252774319816,0.28020507603018463,0.28080737485193913,0.2814319345595711,0.2820785132735693,0.28274686660769477,0.28343674770427696,0.28414790726971506,0.2848800936101761,0.2856330526674908,0.28640652805525246,0.28720026109511565,0.28801399085329243,0.28884745417725827,0.2897003857326508,0.2905725180403797,0.29146358151393864,0.29237330449691423,0.29330141330070975,0.29424763224246747,0.2952116836831947,0.2961932880661063,0.2971921639551547,0.2982080280737827,0.29924059534387787,0.30028957892492497,0.3013546902533735,0.30243563908221466,0.3035321335207492,0.3046438800745761,0.305770583685781,0.3069119477733257,0.30806767427365256,0.30923746368147886,0.31042101509080927,0.31161802623613516,0.31282819353384916,0.31405121212385373,0.31528677591136806,0.3165345776089299,0.3177943087786111,0.31906565987440066,0.3203483202848056,0.32164197837563235,0.322946321532954,0.32426103620627833,0.3255858079518876,0.3269203214763677,0.3282642606803245,0.32961730870225797,0.33097914796264105,0.3323494602081427,0.3337279265560368,0.3351142275387759,0.3365080431487193,0.3379090528830276,0.33931693578871625,0.3407313705078472,0.34215203532288285,0.3435786082021751,0.34501076684559717,0.34644818873031347,0.34789055115666667,0.3493375312942054,0.35078880622782943,0.3522440530040374,0.353702948677307,0.3551651703565549,0.3566303952517159,0.35809830072040594,0.3595685643146749,0.3610408638278364,0.362514877341386,0.36399028327196686,0.36546676041841414,0.3669439880088553,0.3684216457478442,0.3698994138635553,0.37137697315499574,0.3728540050392556,0.374330191598774,0.3758052156286145,0.3772787606837541,0.37875051112635444,0.3802201521730291,0.3816873699420989,0.3831518515007982,0.3846132849124631,0.386071359283673,0.3875257648113211,0.3889761928296418,0.39042233585715724,0.39186388764353974,0.3933005432163966,0.3947319989279366,0.39615795250154356,0.39757810307822766,0.39899215126293847,0.40039979917076085,0.40180075047293706,0.4031947104427544,0.4045813860012518,0.4059604857627535,0.4073317200802128,0.4086948010903646,0.41004944275865307,0.41139536092396345,0.41273227334310236,0.41405989973505175,0.415377961824974,0.4166861833879447,0.41798429029242296,0.41927201054343777,0.4205490743254786,0.42181521404508976,0.4230701643731386,0.42431366228676654,0.42554544711100734,0.4267652605600475,0.42797284677813713,0.42916795238013455,0.43035032649166144,0.4315197207888785,0.43267588953785363,0.4338185896335222,0.43494758063822686,0.43606262481981595,0.4371634871893059,0.43824993553809155,0.4393217404746811,0.4403786754609701,0.4414205168480146,0.4424470439113192,0.44345803888561997,0.44445328699913955,0.44543257650732576,0.44639569872605306,0.44734244806426815,0.4482726220560933,0.44918602139234814,0.45008244995150815,0.45096171483007236,0.4518236263723325,0.4526679981995454,0.45349464723848965,0.4543033937493941,0.4550940613532447,0.45586647705844174,0.45662047128681577,0.45735587789898435,0.45807253421904015,0.4587702810585697,0.4594489627399879,0.4601084271191843,0.46074852560747515,0.461369113192844,0.46197004846047773,0.46255119361258057,0.4631124144874611,0.4636535805778933,0.46417456504872956,0.4646752447537763,0.4651555002519142,0.4656152158224649,0.4660542794797893,0.46647258298712735,0.4668700218696531,0.4672464954267603,0.46760190674356156,0.4679361627015993,0.46824917398876764,0.4685408551084358,0.4688111243877724,0.4690599039852688,0.4692871198974516,0.4694927019647921,0.4696765838767941,0.4698387031762774,0.4699790012628355,0.4700974233954766,0.47019391869444604,0.47026844014222446,0.47032094458369916,0.47035139272551274,0.4703597491345906,0.4703459822358328],\"yaxis\":\"y\",\"type\":\"scatter\"},{\"legendgroup\":\"\\ud83d\\ude42\",\"marker\":{\"color\":\"rgb(31, 119, 180)\",\"symbol\":\"line-ns-open\"},\"mode\":\"markers\",\"name\":\"\\ud83d\\ude42\",\"showlegend\":false,\"x\":[11,11,11,19,13,13,13,13,13,13,13,13,13,13,13,13,13,13,13,13,13,13,13,13,13,13,13,13,13,13,13,13,13,13,13,13,13,13,13,13,13,13,13,13,13,13,13,13,13,13,13,13,13,13,13,13,13,13,13,13,13,13,13,13,13,13,13,13,13,13,13,13,13,13,13,13,13,13,13,13,13,13,13,13,13,13,13,13,13,13,13,13,13,13,13,13,13,13,13,13,13,13,13,13,13,13,13,13,13,13,13,13,13,13,13,13,13,13,13,13,13,13,13,13,13,13,13,13,13,13,13,13,13,13,13,13,13,13,13,13,13,13,13,13,13,13,13,13,13,13,13,13,13,13,13,13,13,13,13,13,13,13,13,13,13,13,13,13,13,13,13,13,13,13,13,13,13,13,13,13,13,13,13,13,13,13,13,13,13,13,13,13,13,13,13,13,13,13,13,13,13,13,13,13,13,13,13,13,13,13,13,13,13,13,13,13,13,13,13,13,13,13,13,13,13,13,13,13,13,13,13,13,13,13,13,13,13,13,13,13,13,13,13,13,13,13,13,13,13,13,13,13,13,13,13,13,13,13,13,13,13,13,13,13,13,13,13,13,13,13,13,13,13,13,13,13,13,13,13,13,13,13,13,13,13,13,13,13,13,13,13,13,13,13,13,13,13,13,13,13,13,13,13,13,13,13,13,13,13,13,13,13,13,13,12,12,12,12,12,12,12,12,12,12,12,12,12,12,12,12,12,12,12,12,12,12,12,12,12,12,12],\"xaxis\":\"x\",\"y\":[\"\\ud83d\\ude42\",\"\\ud83d\\ude42\",\"\\ud83d\\ude42\",\"\\ud83d\\ude42\",\"\\ud83d\\ude42\",\"\\ud83d\\ude42\",\"\\ud83d\\ude42\",\"\\ud83d\\ude42\",\"\\ud83d\\ude42\",\"\\ud83d\\ude42\",\"\\ud83d\\ude42\",\"\\ud83d\\ude42\",\"\\ud83d\\ude42\",\"\\ud83d\\ude42\",\"\\ud83d\\ude42\",\"\\ud83d\\ude42\",\"\\ud83d\\ude42\",\"\\ud83d\\ude42\",\"\\ud83d\\ude42\",\"\\ud83d\\ude42\",\"\\ud83d\\ude42\",\"\\ud83d\\ude42\",\"\\ud83d\\ude42\",\"\\ud83d\\ude42\",\"\\ud83d\\ude42\",\"\\ud83d\\ude42\",\"\\ud83d\\ude42\",\"\\ud83d\\ude42\",\"\\ud83d\\ude42\",\"\\ud83d\\ude42\",\"\\ud83d\\ude42\",\"\\ud83d\\ude42\",\"\\ud83d\\ude42\",\"\\ud83d\\ude42\",\"\\ud83d\\ude42\",\"\\ud83d\\ude42\",\"\\ud83d\\ude42\",\"\\ud83d\\ude42\",\"\\ud83d\\ude42\",\"\\ud83d\\ude42\",\"\\ud83d\\ude42\",\"\\ud83d\\ude42\",\"\\ud83d\\ude42\",\"\\ud83d\\ude42\",\"\\ud83d\\ude42\",\"\\ud83d\\ude42\",\"\\ud83d\\ude42\",\"\\ud83d\\ude42\",\"\\ud83d\\ude42\",\"\\ud83d\\ude42\",\"\\ud83d\\ude42\",\"\\ud83d\\ude42\",\"\\ud83d\\ude42\",\"\\ud83d\\ude42\",\"\\ud83d\\ude42\",\"\\ud83d\\ude42\",\"\\ud83d\\ude42\",\"\\ud83d\\ude42\",\"\\ud83d\\ude42\",\"\\ud83d\\ude42\",\"\\ud83d\\ude42\",\"\\ud83d\\ude42\",\"\\ud83d\\ude42\",\"\\ud83d\\ude42\",\"\\ud83d\\ude42\",\"\\ud83d\\ude42\",\"\\ud83d\\ude42\",\"\\ud83d\\ude42\",\"\\ud83d\\ude42\",\"\\ud83d\\ude42\",\"\\ud83d\\ude42\",\"\\ud83d\\ude42\",\"\\ud83d\\ude42\",\"\\ud83d\\ude42\",\"\\ud83d\\ude42\",\"\\ud83d\\ude42\",\"\\ud83d\\ude42\",\"\\ud83d\\ude42\",\"\\ud83d\\ude42\",\"\\ud83d\\ude42\",\"\\ud83d\\ude42\",\"\\ud83d\\ude42\",\"\\ud83d\\ude42\",\"\\ud83d\\ude42\",\"\\ud83d\\ude42\",\"\\ud83d\\ude42\",\"\\ud83d\\ude42\",\"\\ud83d\\ude42\",\"\\ud83d\\ude42\",\"\\ud83d\\ude42\",\"\\ud83d\\ude42\",\"\\ud83d\\ude42\",\"\\ud83d\\ude42\",\"\\ud83d\\ude42\",\"\\ud83d\\ude42\",\"\\ud83d\\ude42\",\"\\ud83d\\ude42\",\"\\ud83d\\ude42\",\"\\ud83d\\ude42\",\"\\ud83d\\ude42\",\"\\ud83d\\ude42\",\"\\ud83d\\ude42\",\"\\ud83d\\ude42\",\"\\ud83d\\ude42\",\"\\ud83d\\ude42\",\"\\ud83d\\ude42\",\"\\ud83d\\ude42\",\"\\ud83d\\ude42\",\"\\ud83d\\ude42\",\"\\ud83d\\ude42\",\"\\ud83d\\ude42\",\"\\ud83d\\ude42\",\"\\ud83d\\ude42\",\"\\ud83d\\ude42\",\"\\ud83d\\ude42\",\"\\ud83d\\ude42\",\"\\ud83d\\ude42\",\"\\ud83d\\ude42\",\"\\ud83d\\ude42\",\"\\ud83d\\ude42\",\"\\ud83d\\ude42\",\"\\ud83d\\ude42\",\"\\ud83d\\ude42\",\"\\ud83d\\ude42\",\"\\ud83d\\ude42\",\"\\ud83d\\ude42\",\"\\ud83d\\ude42\",\"\\ud83d\\ude42\",\"\\ud83d\\ude42\",\"\\ud83d\\ude42\",\"\\ud83d\\ude42\",\"\\ud83d\\ude42\",\"\\ud83d\\ude42\",\"\\ud83d\\ude42\",\"\\ud83d\\ude42\",\"\\ud83d\\ude42\",\"\\ud83d\\ude42\",\"\\ud83d\\ude42\",\"\\ud83d\\ude42\",\"\\ud83d\\ude42\",\"\\ud83d\\ude42\",\"\\ud83d\\ude42\",\"\\ud83d\\ude42\",\"\\ud83d\\ude42\",\"\\ud83d\\ude42\",\"\\ud83d\\ude42\",\"\\ud83d\\ude42\",\"\\ud83d\\ude42\",\"\\ud83d\\ude42\",\"\\ud83d\\ude42\",\"\\ud83d\\ude42\",\"\\ud83d\\ude42\",\"\\ud83d\\ude42\",\"\\ud83d\\ude42\",\"\\ud83d\\ude42\",\"\\ud83d\\ude42\",\"\\ud83d\\ude42\",\"\\ud83d\\ude42\",\"\\ud83d\\ude42\",\"\\ud83d\\ude42\",\"\\ud83d\\ude42\",\"\\ud83d\\ude42\",\"\\ud83d\\ude42\",\"\\ud83d\\ude42\",\"\\ud83d\\ude42\",\"\\ud83d\\ude42\",\"\\ud83d\\ude42\",\"\\ud83d\\ude42\",\"\\ud83d\\ude42\",\"\\ud83d\\ude42\",\"\\ud83d\\ude42\",\"\\ud83d\\ude42\",\"\\ud83d\\ude42\",\"\\ud83d\\ude42\",\"\\ud83d\\ude42\",\"\\ud83d\\ude42\",\"\\ud83d\\ude42\",\"\\ud83d\\ude42\",\"\\ud83d\\ude42\",\"\\ud83d\\ude42\",\"\\ud83d\\ude42\",\"\\ud83d\\ude42\",\"\\ud83d\\ude42\",\"\\ud83d\\ude42\",\"\\ud83d\\ude42\",\"\\ud83d\\ude42\",\"\\ud83d\\ude42\",\"\\ud83d\\ude42\",\"\\ud83d\\ude42\",\"\\ud83d\\ude42\",\"\\ud83d\\ude42\",\"\\ud83d\\ude42\",\"\\ud83d\\ude42\",\"\\ud83d\\ude42\",\"\\ud83d\\ude42\",\"\\ud83d\\ude42\",\"\\ud83d\\ude42\",\"\\ud83d\\ude42\",\"\\ud83d\\ude42\",\"\\ud83d\\ude42\",\"\\ud83d\\ude42\",\"\\ud83d\\ude42\",\"\\ud83d\\ude42\",\"\\ud83d\\ude42\",\"\\ud83d\\ude42\",\"\\ud83d\\ude42\",\"\\ud83d\\ude42\",\"\\ud83d\\ude42\",\"\\ud83d\\ude42\",\"\\ud83d\\ude42\",\"\\ud83d\\ude42\",\"\\ud83d\\ude42\",\"\\ud83d\\ude42\",\"\\ud83d\\ude42\",\"\\ud83d\\ude42\",\"\\ud83d\\ude42\",\"\\ud83d\\ude42\",\"\\ud83d\\ude42\",\"\\ud83d\\ude42\",\"\\ud83d\\ude42\",\"\\ud83d\\ude42\",\"\\ud83d\\ude42\",\"\\ud83d\\ude42\",\"\\ud83d\\ude42\",\"\\ud83d\\ude42\",\"\\ud83d\\ude42\",\"\\ud83d\\ude42\",\"\\ud83d\\ude42\",\"\\ud83d\\ude42\",\"\\ud83d\\ude42\",\"\\ud83d\\ude42\",\"\\ud83d\\ude42\",\"\\ud83d\\ude42\",\"\\ud83d\\ude42\",\"\\ud83d\\ude42\",\"\\ud83d\\ude42\",\"\\ud83d\\ude42\",\"\\ud83d\\ude42\",\"\\ud83d\\ude42\",\"\\ud83d\\ude42\",\"\\ud83d\\ude42\",\"\\ud83d\\ude42\",\"\\ud83d\\ude42\",\"\\ud83d\\ude42\",\"\\ud83d\\ude42\",\"\\ud83d\\ude42\",\"\\ud83d\\ude42\",\"\\ud83d\\ude42\",\"\\ud83d\\ude42\",\"\\ud83d\\ude42\",\"\\ud83d\\ude42\",\"\\ud83d\\ude42\",\"\\ud83d\\ude42\",\"\\ud83d\\ude42\",\"\\ud83d\\ude42\",\"\\ud83d\\ude42\",\"\\ud83d\\ude42\",\"\\ud83d\\ude42\",\"\\ud83d\\ude42\",\"\\ud83d\\ude42\",\"\\ud83d\\ude42\",\"\\ud83d\\ude42\",\"\\ud83d\\ude42\",\"\\ud83d\\ude42\",\"\\ud83d\\ude42\",\"\\ud83d\\ude42\",\"\\ud83d\\ude42\",\"\\ud83d\\ude42\",\"\\ud83d\\ude42\",\"\\ud83d\\ude42\",\"\\ud83d\\ude42\",\"\\ud83d\\ude42\",\"\\ud83d\\ude42\",\"\\ud83d\\ude42\",\"\\ud83d\\ude42\",\"\\ud83d\\ude42\",\"\\ud83d\\ude42\",\"\\ud83d\\ude42\",\"\\ud83d\\ude42\",\"\\ud83d\\ude42\",\"\\ud83d\\ude42\",\"\\ud83d\\ude42\",\"\\ud83d\\ude42\",\"\\ud83d\\ude42\",\"\\ud83d\\ude42\",\"\\ud83d\\ude42\",\"\\ud83d\\ude42\",\"\\ud83d\\ude42\",\"\\ud83d\\ude42\",\"\\ud83d\\ude42\",\"\\ud83d\\ude42\",\"\\ud83d\\ude42\",\"\\ud83d\\ude42\",\"\\ud83d\\ude42\",\"\\ud83d\\ude42\",\"\\ud83d\\ude42\",\"\\ud83d\\ude42\",\"\\ud83d\\ude42\",\"\\ud83d\\ude42\",\"\\ud83d\\ude42\",\"\\ud83d\\ude42\",\"\\ud83d\\ude42\",\"\\ud83d\\ude42\",\"\\ud83d\\ude42\",\"\\ud83d\\ude42\",\"\\ud83d\\ude42\",\"\\ud83d\\ude42\",\"\\ud83d\\ude42\",\"\\ud83d\\ude42\",\"\\ud83d\\ude42\",\"\\ud83d\\ude42\",\"\\ud83d\\ude42\",\"\\ud83d\\ude42\",\"\\ud83d\\ude42\",\"\\ud83d\\ude42\",\"\\ud83d\\ude42\",\"\\ud83d\\ude42\",\"\\ud83d\\ude42\",\"\\ud83d\\ude42\",\"\\ud83d\\ude42\",\"\\ud83d\\ude42\",\"\\ud83d\\ude42\",\"\\ud83d\\ude42\",\"\\ud83d\\ude42\",\"\\ud83d\\ude42\",\"\\ud83d\\ude42\",\"\\ud83d\\ude42\",\"\\ud83d\\ude42\",\"\\ud83d\\ude42\",\"\\ud83d\\ude42\",\"\\ud83d\\ude42\",\"\\ud83d\\ude42\",\"\\ud83d\\ude42\",\"\\ud83d\\ude42\",\"\\ud83d\\ude42\",\"\\ud83d\\ude42\",\"\\ud83d\\ude42\",\"\\ud83d\\ude42\",\"\\ud83d\\ude42\",\"\\ud83d\\ude42\",\"\\ud83d\\ude42\"],\"yaxis\":\"y2\",\"type\":\"scatter\"},{\"legendgroup\":\"\\ud83d\\ude44\",\"marker\":{\"color\":\"rgb(255, 127, 14)\",\"symbol\":\"line-ns-open\"},\"mode\":\"markers\",\"name\":\"\\ud83d\\ude44\",\"showlegend\":false,\"x\":[11,11,13,13,13,13,13,13,13,13,13,12,12,12,12,12,12,12,12,12,12,12,12,12,12,12,12,12,12],\"xaxis\":\"x\",\"y\":[\"\\ud83d\\ude44\",\"\\ud83d\\ude44\",\"\\ud83d\\ude44\",\"\\ud83d\\ude44\",\"\\ud83d\\ude44\",\"\\ud83d\\ude44\",\"\\ud83d\\ude44\",\"\\ud83d\\ude44\",\"\\ud83d\\ude44\",\"\\ud83d\\ude44\",\"\\ud83d\\ude44\",\"\\ud83d\\ude44\",\"\\ud83d\\ude44\",\"\\ud83d\\ude44\",\"\\ud83d\\ude44\",\"\\ud83d\\ude44\",\"\\ud83d\\ude44\",\"\\ud83d\\ude44\",\"\\ud83d\\ude44\",\"\\ud83d\\ude44\",\"\\ud83d\\ude44\",\"\\ud83d\\ude44\",\"\\ud83d\\ude44\",\"\\ud83d\\ude44\",\"\\ud83d\\ude44\",\"\\ud83d\\ude44\",\"\\ud83d\\ude44\",\"\\ud83d\\ude44\",\"\\ud83d\\ude44\"],\"yaxis\":\"y2\",\"type\":\"scatter\"},{\"legendgroup\":\"\\ud83d\\udc4e\",\"marker\":{\"color\":\"rgb(44, 160, 44)\",\"symbol\":\"line-ns-open\"},\"mode\":\"markers\",\"name\":\"\\ud83d\\udc4e\",\"showlegend\":false,\"x\":[11,11,13,13,13,13,12,12,12,12,12,12,12,12],\"xaxis\":\"x\",\"y\":[\"\\ud83d\\udc4e\",\"\\ud83d\\udc4e\",\"\\ud83d\\udc4e\",\"\\ud83d\\udc4e\",\"\\ud83d\\udc4e\",\"\\ud83d\\udc4e\",\"\\ud83d\\udc4e\",\"\\ud83d\\udc4e\",\"\\ud83d\\udc4e\",\"\\ud83d\\udc4e\",\"\\ud83d\\udc4e\",\"\\ud83d\\udc4e\",\"\\ud83d\\udc4e\",\"\\ud83d\\udc4e\"],\"yaxis\":\"y2\",\"type\":\"scatter\"},{\"legendgroup\":\"\\ud83d\\udc4f\",\"marker\":{\"color\":\"rgb(214, 39, 40)\",\"symbol\":\"line-ns-open\"},\"mode\":\"markers\",\"name\":\"\\ud83d\\udc4f\",\"showlegend\":false,\"x\":[11,11,18,14,13,13,13,13,13,13,13,13,13,13,13,13,13,13,13,13,13,13,13,13,13,13,13,13,13,13,13,13,13,13,13,13,13,13,13,13,13,13,13,13,13,13,13,13,13,13,13,13,13,13,13,13,13,13,13,13,13,13,13,13,12,12,12,12,12,12,12,12,12,12,12,12],\"xaxis\":\"x\",\"y\":[\"\\ud83d\\udc4f\",\"\\ud83d\\udc4f\",\"\\ud83d\\udc4f\",\"\\ud83d\\udc4f\",\"\\ud83d\\udc4f\",\"\\ud83d\\udc4f\",\"\\ud83d\\udc4f\",\"\\ud83d\\udc4f\",\"\\ud83d\\udc4f\",\"\\ud83d\\udc4f\",\"\\ud83d\\udc4f\",\"\\ud83d\\udc4f\",\"\\ud83d\\udc4f\",\"\\ud83d\\udc4f\",\"\\ud83d\\udc4f\",\"\\ud83d\\udc4f\",\"\\ud83d\\udc4f\",\"\\ud83d\\udc4f\",\"\\ud83d\\udc4f\",\"\\ud83d\\udc4f\",\"\\ud83d\\udc4f\",\"\\ud83d\\udc4f\",\"\\ud83d\\udc4f\",\"\\ud83d\\udc4f\",\"\\ud83d\\udc4f\",\"\\ud83d\\udc4f\",\"\\ud83d\\udc4f\",\"\\ud83d\\udc4f\",\"\\ud83d\\udc4f\",\"\\ud83d\\udc4f\",\"\\ud83d\\udc4f\",\"\\ud83d\\udc4f\",\"\\ud83d\\udc4f\",\"\\ud83d\\udc4f\",\"\\ud83d\\udc4f\",\"\\ud83d\\udc4f\",\"\\ud83d\\udc4f\",\"\\ud83d\\udc4f\",\"\\ud83d\\udc4f\",\"\\ud83d\\udc4f\",\"\\ud83d\\udc4f\",\"\\ud83d\\udc4f\",\"\\ud83d\\udc4f\",\"\\ud83d\\udc4f\",\"\\ud83d\\udc4f\",\"\\ud83d\\udc4f\",\"\\ud83d\\udc4f\",\"\\ud83d\\udc4f\",\"\\ud83d\\udc4f\",\"\\ud83d\\udc4f\",\"\\ud83d\\udc4f\",\"\\ud83d\\udc4f\",\"\\ud83d\\udc4f\",\"\\ud83d\\udc4f\",\"\\ud83d\\udc4f\",\"\\ud83d\\udc4f\",\"\\ud83d\\udc4f\",\"\\ud83d\\udc4f\",\"\\ud83d\\udc4f\",\"\\ud83d\\udc4f\",\"\\ud83d\\udc4f\",\"\\ud83d\\udc4f\",\"\\ud83d\\udc4f\",\"\\ud83d\\udc4f\",\"\\ud83d\\udc4f\",\"\\ud83d\\udc4f\",\"\\ud83d\\udc4f\",\"\\ud83d\\udc4f\",\"\\ud83d\\udc4f\",\"\\ud83d\\udc4f\",\"\\ud83d\\udc4f\",\"\\ud83d\\udc4f\",\"\\ud83d\\udc4f\",\"\\ud83d\\udc4f\",\"\\ud83d\\udc4f\",\"\\ud83d\\udc4f\"],\"yaxis\":\"y2\",\"type\":\"scatter\"},{\"legendgroup\":\"\\ud83d\\ude0d\",\"marker\":{\"color\":\"rgb(148, 103, 189)\",\"symbol\":\"line-ns-open\"},\"mode\":\"markers\",\"name\":\"\\ud83d\\ude0d\",\"showlegend\":false,\"x\":[14,12,12],\"xaxis\":\"x\",\"y\":[\"\\ud83d\\ude0d\",\"\\ud83d\\ude0d\",\"\\ud83d\\ude0d\"],\"yaxis\":\"y2\",\"type\":\"scatter\"},{\"legendgroup\":\"\\ud83d\\udc4d\",\"marker\":{\"color\":\"rgb(140, 86, 75)\",\"symbol\":\"line-ns-open\"},\"mode\":\"markers\",\"name\":\"\\ud83d\\udc4d\",\"showlegend\":false,\"x\":[13,13,13,13,13,13,13,13,13,13,13,13,13,13,13,13,13,13,13,13,13,13,13,13,13,13,13,13,13,13,13,13,13,13,13,13,13,13,13,13,13,13,13,13,13,13,13,13,13,13,13,13,13,13,13,13,13,13,13,13,12,12,12,12,12,12,12,12,12,12,12,12,12,12,12,12,12,12,12,12,12,12,12,12,12,12,12,12,12,12,12,12,12,12,12,12,12,12,12,12,12,12,12,12,12,12,12,12,12,12,12,12,12,12,12,12,12,12,12],\"xaxis\":\"x\",\"y\":[\"\\ud83d\\udc4d\",\"\\ud83d\\udc4d\",\"\\ud83d\\udc4d\",\"\\ud83d\\udc4d\",\"\\ud83d\\udc4d\",\"\\ud83d\\udc4d\",\"\\ud83d\\udc4d\",\"\\ud83d\\udc4d\",\"\\ud83d\\udc4d\",\"\\ud83d\\udc4d\",\"\\ud83d\\udc4d\",\"\\ud83d\\udc4d\",\"\\ud83d\\udc4d\",\"\\ud83d\\udc4d\",\"\\ud83d\\udc4d\",\"\\ud83d\\udc4d\",\"\\ud83d\\udc4d\",\"\\ud83d\\udc4d\",\"\\ud83d\\udc4d\",\"\\ud83d\\udc4d\",\"\\ud83d\\udc4d\",\"\\ud83d\\udc4d\",\"\\ud83d\\udc4d\",\"\\ud83d\\udc4d\",\"\\ud83d\\udc4d\",\"\\ud83d\\udc4d\",\"\\ud83d\\udc4d\",\"\\ud83d\\udc4d\",\"\\ud83d\\udc4d\",\"\\ud83d\\udc4d\",\"\\ud83d\\udc4d\",\"\\ud83d\\udc4d\",\"\\ud83d\\udc4d\",\"\\ud83d\\udc4d\",\"\\ud83d\\udc4d\",\"\\ud83d\\udc4d\",\"\\ud83d\\udc4d\",\"\\ud83d\\udc4d\",\"\\ud83d\\udc4d\",\"\\ud83d\\udc4d\",\"\\ud83d\\udc4d\",\"\\ud83d\\udc4d\",\"\\ud83d\\udc4d\",\"\\ud83d\\udc4d\",\"\\ud83d\\udc4d\",\"\\ud83d\\udc4d\",\"\\ud83d\\udc4d\",\"\\ud83d\\udc4d\",\"\\ud83d\\udc4d\",\"\\ud83d\\udc4d\",\"\\ud83d\\udc4d\",\"\\ud83d\\udc4d\",\"\\ud83d\\udc4d\",\"\\ud83d\\udc4d\",\"\\ud83d\\udc4d\",\"\\ud83d\\udc4d\",\"\\ud83d\\udc4d\",\"\\ud83d\\udc4d\",\"\\ud83d\\udc4d\",\"\\ud83d\\udc4d\",\"\\ud83d\\udc4d\",\"\\ud83d\\udc4d\",\"\\ud83d\\udc4d\",\"\\ud83d\\udc4d\",\"\\ud83d\\udc4d\",\"\\ud83d\\udc4d\",\"\\ud83d\\udc4d\",\"\\ud83d\\udc4d\",\"\\ud83d\\udc4d\",\"\\ud83d\\udc4d\",\"\\ud83d\\udc4d\",\"\\ud83d\\udc4d\",\"\\ud83d\\udc4d\",\"\\ud83d\\udc4d\",\"\\ud83d\\udc4d\",\"\\ud83d\\udc4d\",\"\\ud83d\\udc4d\",\"\\ud83d\\udc4d\",\"\\ud83d\\udc4d\",\"\\ud83d\\udc4d\",\"\\ud83d\\udc4d\",\"\\ud83d\\udc4d\",\"\\ud83d\\udc4d\",\"\\ud83d\\udc4d\",\"\\ud83d\\udc4d\",\"\\ud83d\\udc4d\",\"\\ud83d\\udc4d\",\"\\ud83d\\udc4d\",\"\\ud83d\\udc4d\",\"\\ud83d\\udc4d\",\"\\ud83d\\udc4d\",\"\\ud83d\\udc4d\",\"\\ud83d\\udc4d\",\"\\ud83d\\udc4d\",\"\\ud83d\\udc4d\",\"\\ud83d\\udc4d\",\"\\ud83d\\udc4d\",\"\\ud83d\\udc4d\",\"\\ud83d\\udc4d\",\"\\ud83d\\udc4d\",\"\\ud83d\\udc4d\",\"\\ud83d\\udc4d\",\"\\ud83d\\udc4d\",\"\\ud83d\\udc4d\",\"\\ud83d\\udc4d\",\"\\ud83d\\udc4d\",\"\\ud83d\\udc4d\",\"\\ud83d\\udc4d\",\"\\ud83d\\udc4d\",\"\\ud83d\\udc4d\",\"\\ud83d\\udc4d\",\"\\ud83d\\udc4d\",\"\\ud83d\\udc4d\",\"\\ud83d\\udc4d\",\"\\ud83d\\udc4d\",\"\\ud83d\\udc4d\",\"\\ud83d\\udc4d\",\"\\ud83d\\udc4d\",\"\\ud83d\\udc4d\"],\"yaxis\":\"y2\",\"type\":\"scatter\"},{\"legendgroup\":\"\\ud83d\\ude41\",\"marker\":{\"color\":\"rgb(227, 119, 194)\",\"symbol\":\"line-ns-open\"},\"mode\":\"markers\",\"name\":\"\\ud83d\\ude41\",\"showlegend\":false,\"x\":[13,13,13,13,13,12,12,12,12,12,12,12,12,12,12],\"xaxis\":\"x\",\"y\":[\"\\ud83d\\ude41\",\"\\ud83d\\ude41\",\"\\ud83d\\ude41\",\"\\ud83d\\ude41\",\"\\ud83d\\ude41\",\"\\ud83d\\ude41\",\"\\ud83d\\ude41\",\"\\ud83d\\ude41\",\"\\ud83d\\ude41\",\"\\ud83d\\ude41\",\"\\ud83d\\ude41\",\"\\ud83d\\ude41\",\"\\ud83d\\ude41\",\"\\ud83d\\ude41\",\"\\ud83d\\ude41\"],\"yaxis\":\"y2\",\"type\":\"scatter\"}],                        {\"barmode\":\"overlay\",\"hovermode\":\"closest\",\"legend\":{\"traceorder\":\"reversed\"},\"xaxis\":{\"anchor\":\"y2\",\"domain\":[0.0,1.0],\"zeroline\":false},\"yaxis\":{\"anchor\":\"free\",\"domain\":[0.35,1],\"position\":0.0},\"yaxis2\":{\"anchor\":\"x\",\"domain\":[0,0.25],\"dtick\":1,\"showticklabels\":false},\"template\":{\"data\":{\"histogram2dcontour\":[{\"type\":\"histogram2dcontour\",\"colorbar\":{\"outlinewidth\":0,\"ticks\":\"\"},\"colorscale\":[[0.0,\"#0d0887\"],[0.1111111111111111,\"#46039f\"],[0.2222222222222222,\"#7201a8\"],[0.3333333333333333,\"#9c179e\"],[0.4444444444444444,\"#bd3786\"],[0.5555555555555556,\"#d8576b\"],[0.6666666666666666,\"#ed7953\"],[0.7777777777777778,\"#fb9f3a\"],[0.8888888888888888,\"#fdca26\"],[1.0,\"#f0f921\"]]}],\"choropleth\":[{\"type\":\"choropleth\",\"colorbar\":{\"outlinewidth\":0,\"ticks\":\"\"}}],\"histogram2d\":[{\"type\":\"histogram2d\",\"colorbar\":{\"outlinewidth\":0,\"ticks\":\"\"},\"colorscale\":[[0.0,\"#0d0887\"],[0.1111111111111111,\"#46039f\"],[0.2222222222222222,\"#7201a8\"],[0.3333333333333333,\"#9c179e\"],[0.4444444444444444,\"#bd3786\"],[0.5555555555555556,\"#d8576b\"],[0.6666666666666666,\"#ed7953\"],[0.7777777777777778,\"#fb9f3a\"],[0.8888888888888888,\"#fdca26\"],[1.0,\"#f0f921\"]]}],\"heatmap\":[{\"type\":\"heatmap\",\"colorbar\":{\"outlinewidth\":0,\"ticks\":\"\"},\"colorscale\":[[0.0,\"#0d0887\"],[0.1111111111111111,\"#46039f\"],[0.2222222222222222,\"#7201a8\"],[0.3333333333333333,\"#9c179e\"],[0.4444444444444444,\"#bd3786\"],[0.5555555555555556,\"#d8576b\"],[0.6666666666666666,\"#ed7953\"],[0.7777777777777778,\"#fb9f3a\"],[0.8888888888888888,\"#fdca26\"],[1.0,\"#f0f921\"]]}],\"heatmapgl\":[{\"type\":\"heatmapgl\",\"colorbar\":{\"outlinewidth\":0,\"ticks\":\"\"},\"colorscale\":[[0.0,\"#0d0887\"],[0.1111111111111111,\"#46039f\"],[0.2222222222222222,\"#7201a8\"],[0.3333333333333333,\"#9c179e\"],[0.4444444444444444,\"#bd3786\"],[0.5555555555555556,\"#d8576b\"],[0.6666666666666666,\"#ed7953\"],[0.7777777777777778,\"#fb9f3a\"],[0.8888888888888888,\"#fdca26\"],[1.0,\"#f0f921\"]]}],\"contourcarpet\":[{\"type\":\"contourcarpet\",\"colorbar\":{\"outlinewidth\":0,\"ticks\":\"\"}}],\"contour\":[{\"type\":\"contour\",\"colorbar\":{\"outlinewidth\":0,\"ticks\":\"\"},\"colorscale\":[[0.0,\"#0d0887\"],[0.1111111111111111,\"#46039f\"],[0.2222222222222222,\"#7201a8\"],[0.3333333333333333,\"#9c179e\"],[0.4444444444444444,\"#bd3786\"],[0.5555555555555556,\"#d8576b\"],[0.6666666666666666,\"#ed7953\"],[0.7777777777777778,\"#fb9f3a\"],[0.8888888888888888,\"#fdca26\"],[1.0,\"#f0f921\"]]}],\"surface\":[{\"type\":\"surface\",\"colorbar\":{\"outlinewidth\":0,\"ticks\":\"\"},\"colorscale\":[[0.0,\"#0d0887\"],[0.1111111111111111,\"#46039f\"],[0.2222222222222222,\"#7201a8\"],[0.3333333333333333,\"#9c179e\"],[0.4444444444444444,\"#bd3786\"],[0.5555555555555556,\"#d8576b\"],[0.6666666666666666,\"#ed7953\"],[0.7777777777777778,\"#fb9f3a\"],[0.8888888888888888,\"#fdca26\"],[1.0,\"#f0f921\"]]}],\"mesh3d\":[{\"type\":\"mesh3d\",\"colorbar\":{\"outlinewidth\":0,\"ticks\":\"\"}}],\"scatter\":[{\"fillpattern\":{\"fillmode\":\"overlay\",\"size\":10,\"solidity\":0.2},\"type\":\"scatter\"}],\"parcoords\":[{\"type\":\"parcoords\",\"line\":{\"colorbar\":{\"outlinewidth\":0,\"ticks\":\"\"}}}],\"scatterpolargl\":[{\"type\":\"scatterpolargl\",\"marker\":{\"colorbar\":{\"outlinewidth\":0,\"ticks\":\"\"}}}],\"bar\":[{\"error_x\":{\"color\":\"#2a3f5f\"},\"error_y\":{\"color\":\"#2a3f5f\"},\"marker\":{\"line\":{\"color\":\"#E5ECF6\",\"width\":0.5},\"pattern\":{\"fillmode\":\"overlay\",\"size\":10,\"solidity\":0.2}},\"type\":\"bar\"}],\"scattergeo\":[{\"type\":\"scattergeo\",\"marker\":{\"colorbar\":{\"outlinewidth\":0,\"ticks\":\"\"}}}],\"scatterpolar\":[{\"type\":\"scatterpolar\",\"marker\":{\"colorbar\":{\"outlinewidth\":0,\"ticks\":\"\"}}}],\"histogram\":[{\"marker\":{\"pattern\":{\"fillmode\":\"overlay\",\"size\":10,\"solidity\":0.2}},\"type\":\"histogram\"}],\"scattergl\":[{\"type\":\"scattergl\",\"marker\":{\"colorbar\":{\"outlinewidth\":0,\"ticks\":\"\"}}}],\"scatter3d\":[{\"type\":\"scatter3d\",\"line\":{\"colorbar\":{\"outlinewidth\":0,\"ticks\":\"\"}},\"marker\":{\"colorbar\":{\"outlinewidth\":0,\"ticks\":\"\"}}}],\"scattermapbox\":[{\"type\":\"scattermapbox\",\"marker\":{\"colorbar\":{\"outlinewidth\":0,\"ticks\":\"\"}}}],\"scatterternary\":[{\"type\":\"scatterternary\",\"marker\":{\"colorbar\":{\"outlinewidth\":0,\"ticks\":\"\"}}}],\"scattercarpet\":[{\"type\":\"scattercarpet\",\"marker\":{\"colorbar\":{\"outlinewidth\":0,\"ticks\":\"\"}}}],\"carpet\":[{\"aaxis\":{\"endlinecolor\":\"#2a3f5f\",\"gridcolor\":\"white\",\"linecolor\":\"white\",\"minorgridcolor\":\"white\",\"startlinecolor\":\"#2a3f5f\"},\"baxis\":{\"endlinecolor\":\"#2a3f5f\",\"gridcolor\":\"white\",\"linecolor\":\"white\",\"minorgridcolor\":\"white\",\"startlinecolor\":\"#2a3f5f\"},\"type\":\"carpet\"}],\"table\":[{\"cells\":{\"fill\":{\"color\":\"#EBF0F8\"},\"line\":{\"color\":\"white\"}},\"header\":{\"fill\":{\"color\":\"#C8D4E3\"},\"line\":{\"color\":\"white\"}},\"type\":\"table\"}],\"barpolar\":[{\"marker\":{\"line\":{\"color\":\"#E5ECF6\",\"width\":0.5},\"pattern\":{\"fillmode\":\"overlay\",\"size\":10,\"solidity\":0.2}},\"type\":\"barpolar\"}],\"pie\":[{\"automargin\":true,\"type\":\"pie\"}]},\"layout\":{\"autotypenumbers\":\"strict\",\"colorway\":[\"#636efa\",\"#EF553B\",\"#00cc96\",\"#ab63fa\",\"#FFA15A\",\"#19d3f3\",\"#FF6692\",\"#B6E880\",\"#FF97FF\",\"#FECB52\"],\"font\":{\"color\":\"#2a3f5f\"},\"hovermode\":\"closest\",\"hoverlabel\":{\"align\":\"left\"},\"paper_bgcolor\":\"white\",\"plot_bgcolor\":\"#E5ECF6\",\"polar\":{\"bgcolor\":\"#E5ECF6\",\"angularaxis\":{\"gridcolor\":\"white\",\"linecolor\":\"white\",\"ticks\":\"\"},\"radialaxis\":{\"gridcolor\":\"white\",\"linecolor\":\"white\",\"ticks\":\"\"}},\"ternary\":{\"bgcolor\":\"#E5ECF6\",\"aaxis\":{\"gridcolor\":\"white\",\"linecolor\":\"white\",\"ticks\":\"\"},\"baxis\":{\"gridcolor\":\"white\",\"linecolor\":\"white\",\"ticks\":\"\"},\"caxis\":{\"gridcolor\":\"white\",\"linecolor\":\"white\",\"ticks\":\"\"}},\"coloraxis\":{\"colorbar\":{\"outlinewidth\":0,\"ticks\":\"\"}},\"colorscale\":{\"sequential\":[[0.0,\"#0d0887\"],[0.1111111111111111,\"#46039f\"],[0.2222222222222222,\"#7201a8\"],[0.3333333333333333,\"#9c179e\"],[0.4444444444444444,\"#bd3786\"],[0.5555555555555556,\"#d8576b\"],[0.6666666666666666,\"#ed7953\"],[0.7777777777777778,\"#fb9f3a\"],[0.8888888888888888,\"#fdca26\"],[1.0,\"#f0f921\"]],\"sequentialminus\":[[0.0,\"#0d0887\"],[0.1111111111111111,\"#46039f\"],[0.2222222222222222,\"#7201a8\"],[0.3333333333333333,\"#9c179e\"],[0.4444444444444444,\"#bd3786\"],[0.5555555555555556,\"#d8576b\"],[0.6666666666666666,\"#ed7953\"],[0.7777777777777778,\"#fb9f3a\"],[0.8888888888888888,\"#fdca26\"],[1.0,\"#f0f921\"]],\"diverging\":[[0,\"#8e0152\"],[0.1,\"#c51b7d\"],[0.2,\"#de77ae\"],[0.3,\"#f1b6da\"],[0.4,\"#fde0ef\"],[0.5,\"#f7f7f7\"],[0.6,\"#e6f5d0\"],[0.7,\"#b8e186\"],[0.8,\"#7fbc41\"],[0.9,\"#4d9221\"],[1,\"#276419\"]]},\"xaxis\":{\"gridcolor\":\"white\",\"linecolor\":\"white\",\"ticks\":\"\",\"title\":{\"standoff\":15},\"zerolinecolor\":\"white\",\"automargin\":true,\"zerolinewidth\":2},\"yaxis\":{\"gridcolor\":\"white\",\"linecolor\":\"white\",\"ticks\":\"\",\"title\":{\"standoff\":15},\"zerolinecolor\":\"white\",\"automargin\":true,\"zerolinewidth\":2},\"scene\":{\"xaxis\":{\"backgroundcolor\":\"#E5ECF6\",\"gridcolor\":\"white\",\"linecolor\":\"white\",\"showbackground\":true,\"ticks\":\"\",\"zerolinecolor\":\"white\",\"gridwidth\":2},\"yaxis\":{\"backgroundcolor\":\"#E5ECF6\",\"gridcolor\":\"white\",\"linecolor\":\"white\",\"showbackground\":true,\"ticks\":\"\",\"zerolinecolor\":\"white\",\"gridwidth\":2},\"zaxis\":{\"backgroundcolor\":\"#E5ECF6\",\"gridcolor\":\"white\",\"linecolor\":\"white\",\"showbackground\":true,\"ticks\":\"\",\"zerolinecolor\":\"white\",\"gridwidth\":2}},\"shapedefaults\":{\"line\":{\"color\":\"#2a3f5f\"}},\"annotationdefaults\":{\"arrowcolor\":\"#2a3f5f\",\"arrowhead\":0,\"arrowwidth\":1},\"geo\":{\"bgcolor\":\"white\",\"landcolor\":\"#E5ECF6\",\"subunitcolor\":\"white\",\"showland\":true,\"showlakes\":true,\"lakecolor\":\"white\"},\"title\":{\"x\":0.05},\"mapbox\":{\"style\":\"light\"}}},\"title\":{\"text\":\"Hourly Distribution for All Reactions\"}},                        {\"responsive\": true}                    ).then(function(){\n",
       "                            \n",
       "var gd = document.getElementById('0cf79c21-47f7-413d-ac6d-e25f88ce6c8a');\n",
       "var x = new MutationObserver(function (mutations, observer) {{\n",
       "        var display = window.getComputedStyle(gd).display;\n",
       "        if (!display || display === 'none') {{\n",
       "            console.log([gd, 'removed!']);\n",
       "            Plotly.purge(gd);\n",
       "            observer.disconnect();\n",
       "        }}\n",
       "}});\n",
       "\n",
       "// Listen for the removal of the full notebook cells\n",
       "var notebookContainer = gd.closest('#notebook-container');\n",
       "if (notebookContainer) {{\n",
       "    x.observe(notebookContainer, {childList: true});\n",
       "}}\n",
       "\n",
       "// Listen for the clearing of the current output cell\n",
       "var outputEl = gd.closest('.output');\n",
       "if (outputEl) {{\n",
       "    x.observe(outputEl, {childList: true});\n",
       "}}\n",
       "\n",
       "                        })                };                });            </script>        </div>"
      ]
     },
     "metadata": {},
     "output_type": "display_data"
    }
   ],
   "source": [
    "# Convert the index to datetime (if it's not already)\n",
    "data.index = pd.to_datetime(data.index)\n",
    "\n",
    "# Create an 'hour' column\n",
    "data['hour'] = data.index.hour\n",
    "\n",
    "hist_data = []\n",
    "group_labels = []\n",
    "# Get all unique reactions\n",
    "unique_reactions = data['reaction'].unique()\n",
    "\n",
    "# Loop through all unique reactions\n",
    "for reaction in unique_reactions:\n",
    "    # get the hours where the reaction occurred\n",
    "    reaction_hours = data[data['reaction'] == reaction].hour\n",
    "\n",
    "    # Only add to plot if there are at least two unique values\n",
    "    if len(reaction_hours.unique()) > 1:\n",
    "        hist_data.append(reaction_hours)\n",
    "        group_labels.append(reaction)\n",
    "\n",
    "# Create distplot with curve_type set to 'normal'\n",
    "fig = ff.create_distplot(hist_data, group_labels, bin_size=.2, curve_type='kde', show_hist=False,)\n",
    "fig.update_layout(title_text='Hourly Distribution for All Reactions')\n",
    "fig.show()"
   ]
  }
 ],
 "metadata": {
  "kernelspec": {
   "display_name": "Python 3.9.6 64-bit",
   "language": "python",
   "name": "python3"
  },
  "language_info": {
   "codemirror_mode": {
    "name": "ipython",
    "version": 3
   },
   "file_extension": ".py",
   "mimetype": "text/x-python",
   "name": "python",
   "nbconvert_exporter": "python",
   "pygments_lexer": "ipython3",
   "version": "3.9.6"
  },
  "vscode": {
   "interpreter": {
    "hash": "31f2aee4e71d21fbe5cf8b01ff0e069b9275f58929596ceb00d14d90e3e16cd6"
   }
  }
 },
 "nbformat": 4,
 "nbformat_minor": 5
}
