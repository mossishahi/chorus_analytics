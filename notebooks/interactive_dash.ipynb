{
 "cells": [
  {
   "cell_type": "code",
   "execution_count": 1,
   "metadata": {},
   "outputs": [],
   "source": [
    "import numpy\n",
    "import pandas as pd\n",
    "import plotly.figure_factory as ff\n",
    "import plotly.express as px"
   ]
  },
  {
   "cell_type": "code",
   "execution_count": 2,
   "metadata": {},
   "outputs": [
    {
     "name": "stderr",
     "output_type": "stream",
     "text": [
      "/Users/mostafa.shahhosseini/Library/Python/3.9/lib/python/site-packages/urllib3/__init__.py:34: NotOpenSSLWarning: urllib3 v2.0 only supports OpenSSL 1.1.1+, currently the 'ssl' module is compiled with 'LibreSSL 2.8.3'. See: https://github.com/urllib3/urllib3/issues/3020\n",
      "  warnings.warn(\n"
     ]
    }
   ],
   "source": [
    "import dash"
   ]
  },
  {
   "cell_type": "code",
   "execution_count": 3,
   "metadata": {},
   "outputs": [],
   "source": [
    "data1 = pd.read_csv(\"../data/logs_05-23_19-11-48.csv\")\n",
    "data2 = pd.read_csv(\"../data/logs_05-23_19-12-15.csv\")\n",
    "data3 = pd.read_csv(\"../data/logs_05-23_19-12-35.csv\")\n",
    "data4 = pd.read_csv(\"../data/logs_05-23_19-13-23.csv\")"
   ]
  },
  {
   "cell_type": "code",
   "execution_count": 4,
   "metadata": {},
   "outputs": [],
   "source": [
    "df = data2"
   ]
  },
  {
   "cell_type": "code",
   "execution_count": 5,
   "metadata": {},
   "outputs": [
    {
     "name": "stderr",
     "output_type": "stream",
     "text": [
      "/var/folders/g3/fv349bz92qn_mgn345hxy0k5wdvccj/T/ipykernel_30310/583630590.py:2: UserWarning: \n",
      "The dash_core_components package is deprecated. Please replace\n",
      "`import dash_core_components as dcc` with `from dash import dcc`\n",
      "  import dash_core_components as dcc\n",
      "/var/folders/g3/fv349bz92qn_mgn345hxy0k5wdvccj/T/ipykernel_30310/583630590.py:3: UserWarning: \n",
      "The dash_html_components package is deprecated. Please replace\n",
      "`import dash_html_components as html` with `from dash import html`\n",
      "  import dash_html_components as html\n"
     ]
    },
    {
     "data": {
      "text/html": [
       "\n",
       "        <iframe\n",
       "            width=\"100%\"\n",
       "            height=\"650\"\n",
       "            src=\"http://127.0.0.1:8050/\"\n",
       "            frameborder=\"0\"\n",
       "            allowfullscreen\n",
       "            \n",
       "        ></iframe>\n",
       "        "
      ],
      "text/plain": [
       "<IPython.lib.display.IFrame at 0x132f3ca00>"
      ]
     },
     "metadata": {},
     "output_type": "display_data"
    }
   ],
   "source": [
    "import dash\n",
    "import dash_core_components as dcc\n",
    "import dash_html_components as html\n",
    "from dash.dependencies import Input, Output\n",
    "import plotly.graph_objects as go\n",
    "import plotly.figure_factory as ff\n",
    "\n",
    "\n",
    "# Assuming the dataframe df is already defined\n",
    "labels = df['reaction'].unique()\n",
    "counts = df['reaction'].value_counts().values.tolist()\n",
    "df['time_label'] = pd.to_datetime(df.timestamp, unit = 'ms')\n",
    "df['timestamp'] = pd.to_datetime(df.timestamp, unit = 'ms')\n",
    "df.set_index('time_label', inplace=True)\n",
    "\n",
    "# Initialize the Dash app\n",
    "app = dash.Dash(__name__)\n",
    "\n",
    "# Define the app layout\n",
    "app.layout = html.Div([\n",
    "    dcc.Dropdown(\n",
    "        id='plot-type-dropdown',\n",
    "        options=[{'label': 'Pie Chart', 'value': 'pie'},\n",
    "                 {'label': 'Bar Plot', 'value': 'bar'},\n",
    "                 {'label': 'Hourly Distribution of Interaction', 'value': 'hourly_dist'},\n",
    "                 {'label': 'Change of Number of Reactions', 'value': 'reactions_along_time'},\n",
    "                 {'label': 'Score Box Plot', 'value': 'total_score_box'},\n",
    "                 {'label': 'Correlation of Press times and Reaction', 'value': 'press_action_correlation'},\n",
    "                 {'label': \"User's belief Change\", 'value': 'user_change'},\n",
    "                 {'label': \"Reaction's Frequency Change\", 'value': 'reaction_frequency_change'},\n",
    "                 ],\n",
    "        value='pie'\n",
    "    ),\n",
    "    dcc.Graph(id='displayed-plot'),\n",
    "])\n",
    "\n",
    "# Define the callback to update the displayed-plot\n",
    "@app.callback(\n",
    "    Output('displayed-plot', 'figure'),\n",
    "    [Input('plot-type-dropdown', 'value')]\n",
    ")\n",
    "def update_graph(plot_type):\n",
    "    emoji_mapping = {\n",
    "            '🙁': 1,\n",
    "            '👎': 2,\n",
    "            '🙄': 3,\n",
    "            '🙂': 4,\n",
    "            '😆': 5,\n",
    "            '👍': 6,\n",
    "            '👏': 7,\n",
    "            '😍': 8,\n",
    "        }\n",
    "    if plot_type == 'pie':\n",
    "        fig = go.Figure(data=[go.Pie(labels=labels, values=counts)])\n",
    "        fig.update_layout(title_text='Pie Chart of Reactions')\n",
    "        return fig\n",
    "\n",
    "    elif plot_type == 'bar':\n",
    "        user_reaction_counts = df['userId'].value_counts()\n",
    "        fig = go.Figure(data=[go.Bar(y=user_reaction_counts.values,\n",
    "                                      hovertext=user_reaction_counts.index.astype(str))])\n",
    "        fig.update_layout(title_text='Bar Plot of User Reactions', yaxis_title=\"Reaction Counts\")\n",
    "        return fig\n",
    "    elif plot_type==\"hourly_dist\":\n",
    "        df.index = pd.to_datetime(df.index)\n",
    "        # Create an 'hour' column\n",
    "        df['hour'] = df.index.hour\n",
    "        hist_data = []\n",
    "        group_labels = []\n",
    "        # Get all unique reactions\n",
    "        unique_reactions = df['reaction'].unique()\n",
    "        # Loop through all unique reactions\n",
    "        for reaction in unique_reactions:\n",
    "            # get the hours where the reaction occurred\n",
    "            reaction_hours = df[df['reaction'] == reaction].hour\n",
    "            # Only add to plot if there are at least two unique values\n",
    "            if len(reaction_hours.unique()) > 1:\n",
    "                hist_data.append(reaction_hours)\n",
    "                group_labels.append(reaction)\n",
    "\n",
    "        # Create distplot with curve_type set to 'normal'\n",
    "        fig = ff.create_distplot(hist_data, group_labels, bin_size=.2, curve_type='kde', show_hist=False,)\n",
    "        fig.update_layout(title_text='Hourly Distribution for All Reactions')\n",
    "        return fig\n",
    "    elif plot_type==\"reactions_along_time\":\n",
    "        data_count = df.groupby(df['timestamp'].dt.date).count()\n",
    "        fig = go.Figure()\n",
    "        fig.add_trace(go.Scatter(x=data_count.index, y=data_count['reaction'], mode='lines'))\n",
    "\n",
    "        fig.update_layout(title_text='Number of Reactions Over Time (daily)',\n",
    "                        xaxis_title='Date',\n",
    "                        yaxis_title='Number of Reactions')\n",
    "        return fig\n",
    "    elif plot_type == \"total_score_box\":\n",
    "        df['reaction_value'] = df['reaction'].map(emoji_mapping).fillna(0)\n",
    "        fig = go.Figure()\n",
    "        fig.add_trace(go.Box(x=df['reaction_value'], name='Reactions', orientation='h'))\n",
    "        fig.update_layout(\n",
    "            title='Distribution of Reactions',\n",
    "            xaxis=dict(title='Reaction Value')\n",
    "        )\n",
    "        return fig\n",
    "    elif plot_type == \"press_action_correlation\":\n",
    "        df['reaction_numeric'] = df['reaction'].map(emoji_mapping)\n",
    "        # Calculate the average number of presses per reaction for each user\n",
    "        average_presses = df.groupby(['userId', 'reaction_numeric']).size().groupby('userId').mean().reset_index(name='average_presses')\n",
    "        # Merge this information back into the dataframe\n",
    "        df_ = pd.merge(df, average_presses, how='left', on='userId')\n",
    "        # Create hexbin plot\n",
    "        fig = go.Figure(go.Histogram2d(\n",
    "            x=df_['reaction_numeric'],\n",
    "            y=df_['average_presses'],\n",
    "            autobinx=False,\n",
    "            xbins=dict(start=0, end=8, size=1),  # Adjust size to change the resolution of the hexbins\n",
    "            autobiny=False,\n",
    "            ybins=dict(start=0, end=df_['average_presses'].max(), size=df_['average_presses'].max()/20),  # Adjust size to change the resolution of the hexbins\n",
    "            colorscale='Viridis'\n",
    "        ))\n",
    "        fig.update_layout(\n",
    "            title='Hexbin Plot of Average Button Presses vs Reaction Numeric Value',\n",
    "            xaxis_title='Reaction Numeric Value',\n",
    "            yaxis_title='Average Button Presses',\n",
    "            autosize=False,\n",
    "            width=600,\n",
    "            height=600,\n",
    "        )\n",
    "        return fig\n",
    "    elif plot_type==\"user_change\":\n",
    "        user_id = 'ASWaWCYrTh3RpzUfABFP'\n",
    "        user_data = df[df['userId'] == user_id]\n",
    "        # Apply the mapping function to the reaction column\n",
    "        user_data['reaction_value'] = user_data['reaction'].map(emoji_mapping).fillna(0)\n",
    "        # Plot the change in reaction over time using Plotly\n",
    "        fig = px.line(user_data, x='timestamp', y='reaction_value', title=f'Reaction Change Over Time for User ID: {user_id}')\n",
    "        fig.update_xaxes(title_text='Timestamp')\n",
    "        fig.update_yaxes(title_text='Reaction Value')\n",
    "        return fig\n",
    "    elif plot_type==\"reaction_frequency_change\":\n",
    "        weekly_counts = df.resample('W').reaction.value_counts()\n",
    "        # unstack the hierarchical index produced by value_counts\n",
    "        weekly_counts = weekly_counts.unstack(level=-1, fill_value=0)\n",
    "        fig = go.Figure()\n",
    "        # Loop through each unique reaction\n",
    "        for reaction in weekly_counts.columns:\n",
    "            fig.add_trace(go.Scatter(x=weekly_counts.index, \n",
    "                                    y=weekly_counts[reaction], \n",
    "                                    mode='lines', \n",
    "                                    name=reaction))\n",
    "        fig.update_layout(title='Reaction frequency over time',\n",
    "                        xaxis_title='Time',\n",
    "                        yaxis_title='Frequency')\n",
    "\n",
    "        return fig\n",
    "if __name__ == '__main__':\n",
    "    app.run_server(debug=True)\n"
   ]
  },
  {
   "cell_type": "code",
   "execution_count": null,
   "metadata": {},
   "outputs": [],
   "source": []
  }
 ],
 "metadata": {
  "kernelspec": {
   "display_name": "Python 3.9.6 64-bit",
   "language": "python",
   "name": "python3"
  },
  "language_info": {
   "codemirror_mode": {
    "name": "ipython",
    "version": 3
   },
   "file_extension": ".py",
   "mimetype": "text/x-python",
   "name": "python",
   "nbconvert_exporter": "python",
   "pygments_lexer": "ipython3",
   "version": "3.9.6"
  },
  "orig_nbformat": 4,
  "vscode": {
   "interpreter": {
    "hash": "31f2aee4e71d21fbe5cf8b01ff0e069b9275f58929596ceb00d14d90e3e16cd6"
   }
  }
 },
 "nbformat": 4,
 "nbformat_minor": 2
}
